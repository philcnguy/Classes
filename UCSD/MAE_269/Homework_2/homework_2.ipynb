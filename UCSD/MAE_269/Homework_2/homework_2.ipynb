{
 "cells": [
  {
   "cell_type": "code",
   "execution_count": 1,
   "id": "a5cbe8dd-024a-417f-be6a-f5559d5cfc35",
   "metadata": {
    "jupyter": {
     "source_hidden": true
    },
    "tags": []
   },
   "outputs": [],
   "source": [
    "import numpy as np\n",
    "from scipy.integrate import solve_ivp\n",
    "\n",
    "import matplotlib as mpl\n",
    "mpl.use('Qt5Agg')\n",
    "\n",
    "import matplotlib.pyplot as plt\n",
    "plt.ion()\n",
    "\n",
    "\n",
    "import warnings\n",
    "warnings.filterwarnings('ignore')\n",
    "\n",
    "import sympy as sp\n",
    "from sympy import *"
   ]
  },
  {
   "cell_type": "code",
   "execution_count": 2,
   "id": "d2999374-1f3c-42b6-ba77-dc8d8d510ee8",
   "metadata": {},
   "outputs": [],
   "source": [
    "%qtconsole"
   ]
  },
  {
   "cell_type": "markdown",
   "id": "9a6a35b8-9203-4839-ba90-6110dd31050e",
   "metadata": {},
   "source": [
    "# Question 3a"
   ]
  },
  {
   "cell_type": "code",
   "execution_count": 3,
   "id": "10f5b1da-2cc9-4423-9115-4b4b3f421eda",
   "metadata": {},
   "outputs": [],
   "source": [
    "def cross_matrix(vec):\n",
    "    return np.array([[0, -vec[2,0], vec[1,0]],\n",
    "                     [vec[2,0], 0, -vec[0,0]],\n",
    "                     [-vec[1,0], vec[0,0], 0]])"
   ]
  },
  {
   "cell_type": "code",
   "execution_count": 4,
   "id": "8c54c1c1-cb72-4c7b-97f9-1b57f85db16c",
   "metadata": {},
   "outputs": [],
   "source": [
    "def uncross_matrix(mat):\n",
    "    return np.array([[mat[2,1]], [mat[0,2]], [mat[1,0]]])"
   ]
  },
  {
   "cell_type": "code",
   "execution_count": 5,
   "id": "71bcfc63-ea9b-46f0-8ab0-d35ccfcdfdcb",
   "metadata": {},
   "outputs": [],
   "source": [
    "def omega_dot(t, omega, I_B):\n",
    "    return - np.linalg.inv(I_B) @ (cross_matrix(omega) @ I_B @ omega)"
   ]
  },
  {
   "cell_type": "code",
   "execution_count": 6,
   "id": "c306ed3b-5502-40d8-8cb6-0a515e36cba0",
   "metadata": {},
   "outputs": [],
   "source": [
    "dt = 0.001\n",
    "time = np.linspace(0,10,int(10/dt))\n",
    "\n",
    "omega_1 = np.array([[0.9],[0.1],[0]])\n",
    "omega_2 = np.array([[0.1],[0.9],[0]])\n",
    "\n",
    "I = np.array([[10, 0, 0],\n",
    "              [0, 5, 0],\n",
    "              [0, 0, 1]])"
   ]
  },
  {
   "cell_type": "code",
   "execution_count": 8,
   "id": "a56cce58-4988-4303-a7aa-a93d3a421dde",
   "metadata": {},
   "outputs": [
    {
     "ename": "SyntaxError",
     "evalue": "invalid syntax (2726115424.py, line 2)",
     "output_type": "error",
     "traceback": [
      "\u001b[1;36m  File \u001b[1;32m\"C:\\Users\\Phillip\\AppData\\Local\\Temp\\ipykernel_29348\\2726115424.py\"\u001b[1;36m, line \u001b[1;32m2\u001b[0m\n\u001b[1;33m    [0,10], [omega_1, ?],\u001b[0m\n\u001b[1;37m                      ^\u001b[0m\n\u001b[1;31mSyntaxError\u001b[0m\u001b[1;31m:\u001b[0m invalid syntax\n"
     ]
    }
   ],
   "source": [
    "sol = solve_ivp(lambda t, y: omega_dot(t, y, I), \n",
    "                [0,10], [omega_1, ?], \n",
    "                t_eval = time, \n",
    "                rtol=1e-8, atol = 1e-8)\n",
    "plt.figure(1)\n",
    "plt.clf()\n",
    "plt.plot(sol.t, sol.y[0,:])\n",
    "plt.ylabel('omega_dot')\n",
    "plt.xlabel('time')\n",
    "plt.gcf()"
   ]
  }
 ],
 "metadata": {
  "kernelspec": {
   "display_name": "Python 3 (ipykernel)",
   "language": "python",
   "name": "python3"
  },
  "language_info": {
   "codemirror_mode": {
    "name": "ipython",
    "version": 3
   },
   "file_extension": ".py",
   "mimetype": "text/x-python",
   "name": "python",
   "nbconvert_exporter": "python",
   "pygments_lexer": "ipython3",
   "version": "3.9.13"
  }
 },
 "nbformat": 4,
 "nbformat_minor": 5
}
