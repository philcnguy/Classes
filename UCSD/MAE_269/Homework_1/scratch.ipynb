{
 "cells": [
  {
   "cell_type": "code",
   "execution_count": 10,
   "id": "fe97b506-0508-4c50-9e41-eca7e487cb27",
   "metadata": {
    "tags": []
   },
   "outputs": [],
   "source": [
    "import numpy as np\n",
    "import sympy as sp"
   ]
  },
  {
   "cell_type": "code",
   "execution_count": 11,
   "id": "1d251433-1a96-4e5a-8a6b-573bf08137b0",
   "metadata": {
    "tags": []
   },
   "outputs": [],
   "source": [
    "%qtconsole"
   ]
  },
  {
   "cell_type": "code",
   "execution_count": 28,
   "id": "a8f0ed94-2857-4f83-9ca3-159e6e7f74f7",
   "metadata": {
    "tags": []
   },
   "outputs": [],
   "source": [
    "def rotation_matrix():\n",
    "    v1 = np.random.rand(3);\n",
    "    v2 = np.random.rand(3);\n",
    "    v3 = np.random.rand(3);\n",
    "    \n",
    "    v1_hat = v1 / np.linalg.norm(v1);\n",
    "    v2_hat = v2 / np.linalg.norm(v2);\n",
    "    v3_hat = v3 / np.linalg.norm(v3);\n",
    "    \n",
    "    matrix = np.vstack((v1_hat, v2_hat, v3_hat));\n",
    "    \n",
    "    return matrix.T"
   ]
  },
  {
   "cell_type": "code",
   "execution_count": 30,
   "id": "855493e5-c45d-4487-a475-2865e8caf4aa",
   "metadata": {
    "tags": []
   },
   "outputs": [],
   "source": [
    "test = rotation_matrix()"
   ]
  },
  {
   "cell_type": "code",
   "execution_count": 31,
   "id": "bf56321d-3548-4538-92f0-c42c7134a737",
   "metadata": {
    "tags": []
   },
   "outputs": [
    {
     "data": {
      "text/plain": [
       "array([[0.35690828, 0.6125436 , 0.70527074],\n",
       "       [0.49864692, 0.8170938 , 0.28932504],\n",
       "       [0.77162781, 0.63601245, 0.00887038]])"
      ]
     },
     "execution_count": 31,
     "metadata": {},
     "output_type": "execute_result"
    }
   ],
   "source": [
    "test"
   ]
  },
  {
   "cell_type": "code",
   "execution_count": 33,
   "id": "cad89d82-06ae-4058-9432-ffbeb705a24b",
   "metadata": {
    "tags": []
   },
   "outputs": [
    {
     "data": {
      "text/plain": [
       "0.999969815994463"
      ]
     },
     "execution_count": 33,
     "metadata": {},
     "output_type": "execute_result"
    }
   ],
   "source": [
    "np.sqrt(0.3569 ** 2 + .6125**2+ .70527**2)"
   ]
  },
  {
   "cell_type": "code",
   "execution_count": 34,
   "id": "ed575a44-2414-454a-9bc4-7506301e357e",
   "metadata": {
    "tags": []
   },
   "outputs": [
    {
     "data": {
      "text/plain": [
       "array([[0.35690828, 0.49864692, 0.77162781],\n",
       "       [0.6125436 , 0.8170938 , 0.63601245],\n",
       "       [0.70527074, 0.28932504, 0.00887038]])"
      ]
     },
     "execution_count": 34,
     "metadata": {},
     "output_type": "execute_result"
    }
   ],
   "source": [
    "test.T"
   ]
  },
  {
   "cell_type": "code",
   "execution_count": 35,
   "id": "de678c92-621a-471f-972a-191e09f4ad6c",
   "metadata": {
    "tags": []
   },
   "outputs": [],
   "source": [
    "# translates axes but does not rotate\n",
    "def plot_trans_matrix(T):\n",
    "    fig = plt.figure()\n",
    "    ax = fig.add_subplot(projection='3d', adjustable='box')\n",
    "    ax.plot([0, T[0,3]], [0, T[1,3]], [0, T[2,3]], color = 'black')\n",
    "    \n",
    "    ax.plot([T[0,3], T[0,3] + 1], [T[1,3], T[1,3] + 0], [T[2,3], T[2,3] + 0], 'r')\n",
    "    ax.plot([T[0,3], T[0,3] + 0], [T[1,3], T[1,3] + 1], [T[2,3], T[2,3] + 0], 'g')\n",
    "    ax.plot([T[0,3], T[0,3] + 0], [T[1,3], T[1,3] + 0], [T[2,3], T[2,3] + 1], 'b')"
   ]
  },
  {
   "cell_type": "code",
   "execution_count": null,
   "id": "9e7d0cd8-3dc2-4f9c-a559-68c7e0b2af2b",
   "metadata": {},
   "outputs": [],
   "source": []
  }
 ],
 "metadata": {
  "kernelspec": {
   "display_name": "Python 3 (ipykernel)",
   "language": "python",
   "name": "python3"
  },
  "language_info": {
   "codemirror_mode": {
    "name": "ipython",
    "version": 3
   },
   "file_extension": ".py",
   "mimetype": "text/x-python",
   "name": "python",
   "nbconvert_exporter": "python",
   "pygments_lexer": "ipython3",
   "version": "3.11.5"
  }
 },
 "nbformat": 4,
 "nbformat_minor": 5
}
