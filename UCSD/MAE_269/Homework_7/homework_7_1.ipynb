{
 "cells": [
  {
   "cell_type": "markdown",
   "id": "cdd22666-8da9-403e-8e70-9a2881ea9b39",
   "metadata": {},
   "source": [
    "# Question 1"
   ]
  },
  {
   "cell_type": "code",
   "execution_count": 1,
   "id": "1e5c630a-4901-4d2a-bed1-c3cc324ed06b",
   "metadata": {
    "tags": []
   },
   "outputs": [],
   "source": [
    "# symbolic computation tools\n",
    "import sympy as sp\n",
    "from sympy import symbols, pprint\n",
    "from sympy import sin, cos, asin, acos, pi, lambdify\n",
    "from sympy import Matrix, simplify, Function, diff, Derivative, nsimplify\n",
    "\n",
    "from scipy.integrate import solve_ivp\n",
    "\n",
    "import numpy as np\n",
    "\n",
    "from IPython import display # for the animation\n",
    "import matplotlib as mpl\n",
    "mpl.use('Qt5Agg')\n",
    "\n",
    "import matplotlib.pyplot as plt\n",
    "plt.ion()\n",
    "\n",
    "\n",
    "# styling for plots\n",
    "mpl.rcParams['axes.titlesize'] = 24\n",
    "mpl.rcParams['axes.labelsize'] = 20\n",
    "mpl.rcParams['lines.linewidth'] = 3\n",
    "mpl.rcParams['lines.markersize'] = 10\n",
    "mpl.rcParams['xtick.labelsize'] = 16\n",
    "mpl.rcParams['ytick.labelsize'] = 16\n",
    "    \n"
   ]
  },
  {
   "cell_type": "markdown",
   "id": "4ef58d33-759a-4679-b649-d93df35015cb",
   "metadata": {},
   "source": [
    "## Question 1.1"
   ]
  },
  {
   "cell_type": "code",
   "execution_count": 13,
   "id": "1be6c159-7524-48b8-b010-f67ecc03f763",
   "metadata": {
    "tags": []
   },
   "outputs": [],
   "source": [
    "# We wrap in parentheses here so we can write it on multiple lines. Similar\n",
    "# with the triple quotes on the string. Usually we don't need to use these things.\n",
    "(t, \n",
    " theta_1, \n",
    " theta_2, \n",
    " theta_3, \n",
    " l_1, \n",
    " l_2, \n",
    " l_3, \n",
    " m_1,\n",
    " m_2,\n",
    " m_3,\n",
    " g) = symbols(\"\"\"t, \n",
    "                         theta_1 \n",
    "                         theta_2 \n",
    "                         theta_3 \n",
    "                         l_1 \n",
    "                         l_2 \n",
    "                         l_3\n",
    "                         m_1\n",
    "                         m_2\n",
    "                         m_3\n",
    "                         g\"\"\" , real = True)\n",
    "\n",
    "\n",
    "theta_1 = Function('theta_1', real=True)(t)\n",
    "theta_2 = Function('theta_2', real=True)(t)\n",
    "theta_3 = Function('theta_3', real=True)(t)"
   ]
  },
  {
   "cell_type": "code",
   "execution_count": 3,
   "id": "8d76b433-2941-4d50-9c7c-7a1f70584f28",
   "metadata": {
    "tags": []
   },
   "outputs": [],
   "source": [
    "def T(theta, x, y):\n",
    "    \"\"\"\n",
    "    Function to return an arbitrary transformation matrix \n",
    "    This is for sympy symbolic calculation\n",
    "    \"\"\"\n",
    "    return Matrix([[cos(theta), -sin(theta), x], \n",
    "                   [sin(theta), cos(theta), y],\n",
    "                   [0, 0, 1]])\n",
    "\n",
    "def sym_to_np(T):\n",
    "    return np.array(T).astype(np.float64)"
   ]
  },
  {
   "cell_type": "code",
   "execution_count": 5,
   "id": "c8128cf9-f2bb-41b0-a4ae-ecb61be4f561",
   "metadata": {
    "tags": []
   },
   "outputs": [],
   "source": [
    "T_01 = T(theta_1, 0, 0)\n",
    "T_12 = T(theta_2, l_1, 0)\n",
    "T_23 = T(theta_3, l_2, 0)\n"
   ]
  },
  {
   "cell_type": "code",
   "execution_count": 6,
   "id": "25432192-e6e9-42a8-892c-d3f08012024f",
   "metadata": {
    "tags": []
   },
   "outputs": [
    {
     "data": {
      "text/latex": [
       "$\\displaystyle \\left[\\begin{matrix}l_{1} \\cos{\\left(\\theta_{1}{\\left(t \\right)} \\right)}\\\\l_{1} \\sin{\\left(\\theta_{1}{\\left(t \\right)} \\right)}\\end{matrix}\\right]$"
      ],
      "text/plain": [
       "Matrix([\n",
       "[l_1*cos(theta_1(t))],\n",
       "[l_1*sin(theta_1(t))]])"
      ]
     },
     "execution_count": 6,
     "metadata": {},
     "output_type": "execute_result"
    }
   ],
   "source": [
    "FK1 = (T_01 * Matrix([[l_1], [0], [1]]))[:-1,0]\n",
    "FK1"
   ]
  },
  {
   "cell_type": "code",
   "execution_count": 7,
   "id": "dd4db37a-5920-4f8e-b670-c88067852edd",
   "metadata": {
    "tags": []
   },
   "outputs": [
    {
     "data": {
      "text/latex": [
       "$\\displaystyle \\left[\\begin{matrix}l_{1} \\cos{\\left(\\theta_{1}{\\left(t \\right)} \\right)} + l_{2} \\cos{\\left(\\theta_{1}{\\left(t \\right)} + \\theta_{2}{\\left(t \\right)} \\right)}\\\\l_{1} \\sin{\\left(\\theta_{1}{\\left(t \\right)} \\right)} + l_{2} \\sin{\\left(\\theta_{1}{\\left(t \\right)} + \\theta_{2}{\\left(t \\right)} \\right)}\\end{matrix}\\right]$"
      ],
      "text/plain": [
       "Matrix([\n",
       "[l_1*cos(theta_1(t)) + l_2*cos(theta_1(t) + theta_2(t))],\n",
       "[l_1*sin(theta_1(t)) + l_2*sin(theta_1(t) + theta_2(t))]])"
      ]
     },
     "execution_count": 7,
     "metadata": {},
     "output_type": "execute_result"
    }
   ],
   "source": [
    "FK2 = simplify((T_01 * T_12 * Matrix([[l_2], [0], [1]]))[:-1,0])\n",
    "FK2"
   ]
  },
  {
   "cell_type": "code",
   "execution_count": 11,
   "id": "e6f7460f-3977-4b86-a339-c3de65ed5350",
   "metadata": {
    "tags": []
   },
   "outputs": [
    {
     "data": {
      "text/latex": [
       "$\\displaystyle \\left[\\begin{matrix}l_{1} \\cos{\\left(\\theta_{1}{\\left(t \\right)} \\right)} + l_{2} \\cos{\\left(\\theta_{1}{\\left(t \\right)} + \\theta_{2}{\\left(t \\right)} \\right)} + l_{3} \\cos{\\left(\\theta_{1}{\\left(t \\right)} + \\theta_{2}{\\left(t \\right)} + \\theta_{3}{\\left(t \\right)} \\right)}\\\\l_{1} \\sin{\\left(\\theta_{1}{\\left(t \\right)} \\right)} + l_{2} \\sin{\\left(\\theta_{1}{\\left(t \\right)} + \\theta_{2}{\\left(t \\right)} \\right)} + l_{3} \\sin{\\left(\\theta_{1}{\\left(t \\right)} + \\theta_{2}{\\left(t \\right)} + \\theta_{3}{\\left(t \\right)} \\right)}\\end{matrix}\\right]$"
      ],
      "text/plain": [
       "Matrix([\n",
       "[l_1*cos(theta_1(t)) + l_2*cos(theta_1(t) + theta_2(t)) + l_3*cos(theta_1(t) + theta_2(t) + theta_3(t))],\n",
       "[l_1*sin(theta_1(t)) + l_2*sin(theta_1(t) + theta_2(t)) + l_3*sin(theta_1(t) + theta_2(t) + theta_3(t))]])"
      ]
     },
     "execution_count": 11,
     "metadata": {},
     "output_type": "execute_result"
    }
   ],
   "source": [
    "FK3 = simplify((T_01 * T_12 * T_23 * Matrix([[l_3], [0], [1]]))[:-1,0])\n",
    "FK3"
   ]
  },
  {
   "cell_type": "code",
   "execution_count": 8,
   "id": "d0b80867-37ca-481c-aec0-e3d48be051fc",
   "metadata": {
    "tags": []
   },
   "outputs": [
    {
     "data": {
      "text/latex": [
       "$\\displaystyle 0.5 m_{1} \\left(l_{1}^{2} \\sin^{2}{\\left(\\theta_{1}{\\left(t \\right)} \\right)} \\left(\\frac{d}{d t} \\theta_{1}{\\left(t \\right)}\\right)^{2} + l_{1}^{2} \\cos^{2}{\\left(\\theta_{1}{\\left(t \\right)} \\right)} \\left(\\frac{d}{d t} \\theta_{1}{\\left(t \\right)}\\right)^{2}\\right)$"
      ],
      "text/plain": [
       "0.5*m_1*(l_1**2*sin(theta_1(t))**2*Derivative(theta_1(t), t)**2 + l_1**2*cos(theta_1(t))**2*Derivative(theta_1(t), t)**2)"
      ]
     },
     "execution_count": 8,
     "metadata": {},
     "output_type": "execute_result"
    }
   ],
   "source": [
    "v1 = diff(FK1,t)\n",
    "KE1 = (1/2)*m_1*(v1.T * v1)[0]\n",
    "KE1"
   ]
  },
  {
   "cell_type": "code",
   "execution_count": 9,
   "id": "48a3104d-9a55-4206-94fd-ba200c6bcaf7",
   "metadata": {
    "tags": []
   },
   "outputs": [
    {
     "data": {
      "text/latex": [
       "$\\displaystyle 0.5 m_{2} \\left(\\left(- l_{1} \\sin{\\left(\\theta_{1}{\\left(t \\right)} \\right)} \\frac{d}{d t} \\theta_{1}{\\left(t \\right)} - l_{2} \\left(\\frac{d}{d t} \\theta_{1}{\\left(t \\right)} + \\frac{d}{d t} \\theta_{2}{\\left(t \\right)}\\right) \\sin{\\left(\\theta_{1}{\\left(t \\right)} + \\theta_{2}{\\left(t \\right)} \\right)}\\right)^{2} + \\left(l_{1} \\cos{\\left(\\theta_{1}{\\left(t \\right)} \\right)} \\frac{d}{d t} \\theta_{1}{\\left(t \\right)} + l_{2} \\left(\\frac{d}{d t} \\theta_{1}{\\left(t \\right)} + \\frac{d}{d t} \\theta_{2}{\\left(t \\right)}\\right) \\cos{\\left(\\theta_{1}{\\left(t \\right)} + \\theta_{2}{\\left(t \\right)} \\right)}\\right)^{2}\\right)$"
      ],
      "text/plain": [
       "0.5*m_2*((-l_1*sin(theta_1(t))*Derivative(theta_1(t), t) - l_2*(Derivative(theta_1(t), t) + Derivative(theta_2(t), t))*sin(theta_1(t) + theta_2(t)))**2 + (l_1*cos(theta_1(t))*Derivative(theta_1(t), t) + l_2*(Derivative(theta_1(t), t) + Derivative(theta_2(t), t))*cos(theta_1(t) + theta_2(t)))**2)"
      ]
     },
     "execution_count": 9,
     "metadata": {},
     "output_type": "execute_result"
    }
   ],
   "source": [
    "v2 = diff(FK2,t)\n",
    "KE2 = (1/2)*m_2*(v2.T * v2)[0]\n",
    "KE2"
   ]
  },
  {
   "cell_type": "code",
   "execution_count": 14,
   "id": "d2c81ffc-0553-4b0d-83ab-5750e54ec1d2",
   "metadata": {
    "tags": []
   },
   "outputs": [
    {
     "data": {
      "text/latex": [
       "$\\displaystyle 0.5 m_{3} \\left(\\left(- l_{1} \\sin{\\left(\\theta_{1}{\\left(t \\right)} \\right)} \\frac{d}{d t} \\theta_{1}{\\left(t \\right)} - l_{2} \\left(\\frac{d}{d t} \\theta_{1}{\\left(t \\right)} + \\frac{d}{d t} \\theta_{2}{\\left(t \\right)}\\right) \\sin{\\left(\\theta_{1}{\\left(t \\right)} + \\theta_{2}{\\left(t \\right)} \\right)} - l_{3} \\left(\\frac{d}{d t} \\theta_{1}{\\left(t \\right)} + \\frac{d}{d t} \\theta_{2}{\\left(t \\right)} + \\frac{d}{d t} \\theta_{3}{\\left(t \\right)}\\right) \\sin{\\left(\\theta_{1}{\\left(t \\right)} + \\theta_{2}{\\left(t \\right)} + \\theta_{3}{\\left(t \\right)} \\right)}\\right)^{2} + \\left(l_{1} \\cos{\\left(\\theta_{1}{\\left(t \\right)} \\right)} \\frac{d}{d t} \\theta_{1}{\\left(t \\right)} + l_{2} \\left(\\frac{d}{d t} \\theta_{1}{\\left(t \\right)} + \\frac{d}{d t} \\theta_{2}{\\left(t \\right)}\\right) \\cos{\\left(\\theta_{1}{\\left(t \\right)} + \\theta_{2}{\\left(t \\right)} \\right)} + l_{3} \\left(\\frac{d}{d t} \\theta_{1}{\\left(t \\right)} + \\frac{d}{d t} \\theta_{2}{\\left(t \\right)} + \\frac{d}{d t} \\theta_{3}{\\left(t \\right)}\\right) \\cos{\\left(\\theta_{1}{\\left(t \\right)} + \\theta_{2}{\\left(t \\right)} + \\theta_{3}{\\left(t \\right)} \\right)}\\right)^{2}\\right)$"
      ],
      "text/plain": [
       "0.5*m_3*((-l_1*sin(theta_1(t))*Derivative(theta_1(t), t) - l_2*(Derivative(theta_1(t), t) + Derivative(theta_2(t), t))*sin(theta_1(t) + theta_2(t)) - l_3*(Derivative(theta_1(t), t) + Derivative(theta_2(t), t) + Derivative(theta_3(t), t))*sin(theta_1(t) + theta_2(t) + theta_3(t)))**2 + (l_1*cos(theta_1(t))*Derivative(theta_1(t), t) + l_2*(Derivative(theta_1(t), t) + Derivative(theta_2(t), t))*cos(theta_1(t) + theta_2(t)) + l_3*(Derivative(theta_1(t), t) + Derivative(theta_2(t), t) + Derivative(theta_3(t), t))*cos(theta_1(t) + theta_2(t) + theta_3(t)))**2)"
      ]
     },
     "execution_count": 14,
     "metadata": {},
     "output_type": "execute_result"
    }
   ],
   "source": [
    "v3 = diff(FK3,t)\n",
    "KE3 = (1/2)*m_3*(v3.T * v3)[0]\n",
    "KE3"
   ]
  },
  {
   "cell_type": "code",
   "execution_count": 18,
   "id": "c96f7589-b6d2-4162-b7f0-fb598874c708",
   "metadata": {
    "tags": []
   },
   "outputs": [
    {
     "data": {
      "text/latex": [
       "$\\displaystyle - g l_{1} m_{1} \\sin{\\left(\\theta_{1}{\\left(t \\right)} \\right)} - g m_{2} \\left(l_{1} \\sin{\\left(\\theta_{1}{\\left(t \\right)} \\right)} + l_{2} \\sin{\\left(\\theta_{1}{\\left(t \\right)} + \\theta_{2}{\\left(t \\right)} \\right)}\\right) - g m_{3} \\left(l_{1} \\sin{\\left(\\theta_{1}{\\left(t \\right)} \\right)} + l_{2} \\sin{\\left(\\theta_{1}{\\left(t \\right)} + \\theta_{2}{\\left(t \\right)} \\right)} + l_{3} \\sin{\\left(\\theta_{1}{\\left(t \\right)} + \\theta_{2}{\\left(t \\right)} + \\theta_{3}{\\left(t \\right)} \\right)}\\right) + 0.5 l_{1}^{2} m_{1} \\left(\\frac{d}{d t} \\theta_{1}{\\left(t \\right)}\\right)^{2} + 0.5 m_{2} \\left(l_{1}^{2} \\left(\\frac{d}{d t} \\theta_{1}{\\left(t \\right)}\\right)^{2} + 2 l_{1} l_{2} \\cos{\\left(\\theta_{2}{\\left(t \\right)} \\right)} \\left(\\frac{d}{d t} \\theta_{1}{\\left(t \\right)}\\right)^{2} + 2 l_{1} l_{2} \\cos{\\left(\\theta_{2}{\\left(t \\right)} \\right)} \\frac{d}{d t} \\theta_{1}{\\left(t \\right)} \\frac{d}{d t} \\theta_{2}{\\left(t \\right)} + l_{2}^{2} \\left(\\frac{d}{d t} \\theta_{1}{\\left(t \\right)}\\right)^{2} + 2 l_{2}^{2} \\frac{d}{d t} \\theta_{1}{\\left(t \\right)} \\frac{d}{d t} \\theta_{2}{\\left(t \\right)} + l_{2}^{2} \\left(\\frac{d}{d t} \\theta_{2}{\\left(t \\right)}\\right)^{2}\\right) + 0.5 m_{3} \\left(\\left(l_{1} \\sin{\\left(\\theta_{1}{\\left(t \\right)} \\right)} \\frac{d}{d t} \\theta_{1}{\\left(t \\right)} + l_{2} \\left(\\frac{d}{d t} \\theta_{1}{\\left(t \\right)} + \\frac{d}{d t} \\theta_{2}{\\left(t \\right)}\\right) \\sin{\\left(\\theta_{1}{\\left(t \\right)} + \\theta_{2}{\\left(t \\right)} \\right)} + l_{3} \\left(\\frac{d}{d t} \\theta_{1}{\\left(t \\right)} + \\frac{d}{d t} \\theta_{2}{\\left(t \\right)} + \\frac{d}{d t} \\theta_{3}{\\left(t \\right)}\\right) \\sin{\\left(\\theta_{1}{\\left(t \\right)} + \\theta_{2}{\\left(t \\right)} + \\theta_{3}{\\left(t \\right)} \\right)}\\right)^{2} + \\left(l_{1} \\cos{\\left(\\theta_{1}{\\left(t \\right)} \\right)} \\frac{d}{d t} \\theta_{1}{\\left(t \\right)} + l_{2} \\left(\\frac{d}{d t} \\theta_{1}{\\left(t \\right)} + \\frac{d}{d t} \\theta_{2}{\\left(t \\right)}\\right) \\cos{\\left(\\theta_{1}{\\left(t \\right)} + \\theta_{2}{\\left(t \\right)} \\right)} + l_{3} \\left(\\frac{d}{d t} \\theta_{1}{\\left(t \\right)} + \\frac{d}{d t} \\theta_{2}{\\left(t \\right)} + \\frac{d}{d t} \\theta_{3}{\\left(t \\right)}\\right) \\cos{\\left(\\theta_{1}{\\left(t \\right)} + \\theta_{2}{\\left(t \\right)} + \\theta_{3}{\\left(t \\right)} \\right)}\\right)^{2}\\right)$"
      ],
      "text/plain": [
       "-g*l_1*m_1*sin(theta_1(t)) - g*m_2*(l_1*sin(theta_1(t)) + l_2*sin(theta_1(t) + theta_2(t))) - g*m_3*(l_1*sin(theta_1(t)) + l_2*sin(theta_1(t) + theta_2(t)) + l_3*sin(theta_1(t) + theta_2(t) + theta_3(t))) + 0.5*l_1**2*m_1*Derivative(theta_1(t), t)**2 + 0.5*m_2*(l_1**2*Derivative(theta_1(t), t)**2 + 2*l_1*l_2*cos(theta_2(t))*Derivative(theta_1(t), t)**2 + 2*l_1*l_2*cos(theta_2(t))*Derivative(theta_1(t), t)*Derivative(theta_2(t), t) + l_2**2*Derivative(theta_1(t), t)**2 + 2*l_2**2*Derivative(theta_1(t), t)*Derivative(theta_2(t), t) + l_2**2*Derivative(theta_2(t), t)**2) + 0.5*m_3*((l_1*sin(theta_1(t))*Derivative(theta_1(t), t) + l_2*(Derivative(theta_1(t), t) + Derivative(theta_2(t), t))*sin(theta_1(t) + theta_2(t)) + l_3*(Derivative(theta_1(t), t) + Derivative(theta_2(t), t) + Derivative(theta_3(t), t))*sin(theta_1(t) + theta_2(t) + theta_3(t)))**2 + (l_1*cos(theta_1(t))*Derivative(theta_1(t), t) + l_2*(Derivative(theta_1(t), t) + Derivative(theta_2(t), t))*cos(theta_1(t) + theta_2(t)) + l_3*(Derivative(theta_1(t), t) + Derivative(theta_2(t), t) + Derivative(theta_3(t), t))*cos(theta_1(t) + theta_2(t) + theta_3(t)))**2)"
      ]
     },
     "execution_count": 18,
     "metadata": {},
     "output_type": "execute_result"
    }
   ],
   "source": [
    "T = KE1 + KE2 + KE3\n",
    "V = m_1*g*FK1[1] + m_2*g*FK2[1] + m_3*g*FK3[1]\n",
    "\n",
    "L = T - V\n",
    "L = simplify(L)\n",
    "L"
   ]
  },
  {
   "cell_type": "code",
   "execution_count": 19,
   "id": "5a66506c-ba0e-4d22-a9de-f5a176ddb652",
   "metadata": {
    "tags": []
   },
   "outputs": [
    {
     "data": {
      "text/latex": [
       "$\\displaystyle g l_{1} m_{1} \\cos{\\left(\\theta_{1}{\\left(t \\right)} \\right)} + g m_{2} \\left(l_{1} \\cos{\\left(\\theta_{1}{\\left(t \\right)} \\right)} + l_{2} \\cos{\\left(\\theta_{1}{\\left(t \\right)} + \\theta_{2}{\\left(t \\right)} \\right)}\\right) + g m_{3} \\left(l_{1} \\cos{\\left(\\theta_{1}{\\left(t \\right)} \\right)} + l_{2} \\cos{\\left(\\theta_{1}{\\left(t \\right)} + \\theta_{2}{\\left(t \\right)} \\right)} + l_{3} \\cos{\\left(\\theta_{1}{\\left(t \\right)} + \\theta_{2}{\\left(t \\right)} + \\theta_{3}{\\left(t \\right)} \\right)}\\right) + l_{1}^{2} m_{1} \\frac{d^{2}}{d t^{2}} \\theta_{1}{\\left(t \\right)} + \\frac{m_{2} \\cdot \\left(2 l_{1}^{2} \\frac{d^{2}}{d t^{2}} \\theta_{1}{\\left(t \\right)} - 4 l_{1} l_{2} \\sin{\\left(\\theta_{2}{\\left(t \\right)} \\right)} \\frac{d}{d t} \\theta_{1}{\\left(t \\right)} \\frac{d}{d t} \\theta_{2}{\\left(t \\right)} - 2 l_{1} l_{2} \\sin{\\left(\\theta_{2}{\\left(t \\right)} \\right)} \\left(\\frac{d}{d t} \\theta_{2}{\\left(t \\right)}\\right)^{2} + 4 l_{1} l_{2} \\cos{\\left(\\theta_{2}{\\left(t \\right)} \\right)} \\frac{d^{2}}{d t^{2}} \\theta_{1}{\\left(t \\right)} + 2 l_{1} l_{2} \\cos{\\left(\\theta_{2}{\\left(t \\right)} \\right)} \\frac{d^{2}}{d t^{2}} \\theta_{2}{\\left(t \\right)} + 2 l_{2}^{2} \\frac{d^{2}}{d t^{2}} \\theta_{1}{\\left(t \\right)} + 2 l_{2}^{2} \\frac{d^{2}}{d t^{2}} \\theta_{2}{\\left(t \\right)}\\right)}{2} - \\frac{m_{3} \\left(\\left(- 2 l_{1} \\sin{\\left(\\theta_{1}{\\left(t \\right)} \\right)} \\frac{d}{d t} \\theta_{1}{\\left(t \\right)} - 2 l_{2} \\left(\\frac{d}{d t} \\theta_{1}{\\left(t \\right)} + \\frac{d}{d t} \\theta_{2}{\\left(t \\right)}\\right) \\sin{\\left(\\theta_{1}{\\left(t \\right)} + \\theta_{2}{\\left(t \\right)} \\right)} - 2 l_{3} \\left(\\frac{d}{d t} \\theta_{1}{\\left(t \\right)} + \\frac{d}{d t} \\theta_{2}{\\left(t \\right)} + \\frac{d}{d t} \\theta_{3}{\\left(t \\right)}\\right) \\sin{\\left(\\theta_{1}{\\left(t \\right)} + \\theta_{2}{\\left(t \\right)} + \\theta_{3}{\\left(t \\right)} \\right)}\\right) \\left(l_{1} \\cos{\\left(\\theta_{1}{\\left(t \\right)} \\right)} \\frac{d}{d t} \\theta_{1}{\\left(t \\right)} + l_{2} \\left(\\frac{d}{d t} \\theta_{1}{\\left(t \\right)} + \\frac{d}{d t} \\theta_{2}{\\left(t \\right)}\\right) \\cos{\\left(\\theta_{1}{\\left(t \\right)} + \\theta_{2}{\\left(t \\right)} \\right)} + l_{3} \\left(\\frac{d}{d t} \\theta_{1}{\\left(t \\right)} + \\frac{d}{d t} \\theta_{2}{\\left(t \\right)} + \\frac{d}{d t} \\theta_{3}{\\left(t \\right)}\\right) \\cos{\\left(\\theta_{1}{\\left(t \\right)} + \\theta_{2}{\\left(t \\right)} + \\theta_{3}{\\left(t \\right)} \\right)}\\right) + \\left(l_{1} \\sin{\\left(\\theta_{1}{\\left(t \\right)} \\right)} \\frac{d}{d t} \\theta_{1}{\\left(t \\right)} + l_{2} \\left(\\frac{d}{d t} \\theta_{1}{\\left(t \\right)} + \\frac{d}{d t} \\theta_{2}{\\left(t \\right)}\\right) \\sin{\\left(\\theta_{1}{\\left(t \\right)} + \\theta_{2}{\\left(t \\right)} \\right)} + l_{3} \\left(\\frac{d}{d t} \\theta_{1}{\\left(t \\right)} + \\frac{d}{d t} \\theta_{2}{\\left(t \\right)} + \\frac{d}{d t} \\theta_{3}{\\left(t \\right)}\\right) \\sin{\\left(\\theta_{1}{\\left(t \\right)} + \\theta_{2}{\\left(t \\right)} + \\theta_{3}{\\left(t \\right)} \\right)}\\right) \\left(2 l_{1} \\cos{\\left(\\theta_{1}{\\left(t \\right)} \\right)} \\frac{d}{d t} \\theta_{1}{\\left(t \\right)} + 2 l_{2} \\left(\\frac{d}{d t} \\theta_{1}{\\left(t \\right)} + \\frac{d}{d t} \\theta_{2}{\\left(t \\right)}\\right) \\cos{\\left(\\theta_{1}{\\left(t \\right)} + \\theta_{2}{\\left(t \\right)} \\right)} + 2 l_{3} \\left(\\frac{d}{d t} \\theta_{1}{\\left(t \\right)} + \\frac{d}{d t} \\theta_{2}{\\left(t \\right)} + \\frac{d}{d t} \\theta_{3}{\\left(t \\right)}\\right) \\cos{\\left(\\theta_{1}{\\left(t \\right)} + \\theta_{2}{\\left(t \\right)} + \\theta_{3}{\\left(t \\right)} \\right)}\\right)\\right)}{2} + \\frac{m_{3} \\left(\\left(2 l_{1} \\sin{\\left(\\theta_{1}{\\left(t \\right)} \\right)} + 2 l_{2} \\sin{\\left(\\theta_{1}{\\left(t \\right)} + \\theta_{2}{\\left(t \\right)} \\right)} + 2 l_{3} \\sin{\\left(\\theta_{1}{\\left(t \\right)} + \\theta_{2}{\\left(t \\right)} + \\theta_{3}{\\left(t \\right)} \\right)}\\right) \\left(l_{1} \\sin{\\left(\\theta_{1}{\\left(t \\right)} \\right)} \\frac{d^{2}}{d t^{2}} \\theta_{1}{\\left(t \\right)} + l_{1} \\cos{\\left(\\theta_{1}{\\left(t \\right)} \\right)} \\left(\\frac{d}{d t} \\theta_{1}{\\left(t \\right)}\\right)^{2} + l_{2} \\left(\\frac{d}{d t} \\theta_{1}{\\left(t \\right)} + \\frac{d}{d t} \\theta_{2}{\\left(t \\right)}\\right)^{2} \\cos{\\left(\\theta_{1}{\\left(t \\right)} + \\theta_{2}{\\left(t \\right)} \\right)} + l_{2} \\left(\\frac{d^{2}}{d t^{2}} \\theta_{1}{\\left(t \\right)} + \\frac{d^{2}}{d t^{2}} \\theta_{2}{\\left(t \\right)}\\right) \\sin{\\left(\\theta_{1}{\\left(t \\right)} + \\theta_{2}{\\left(t \\right)} \\right)} + l_{3} \\left(\\frac{d}{d t} \\theta_{1}{\\left(t \\right)} + \\frac{d}{d t} \\theta_{2}{\\left(t \\right)} + \\frac{d}{d t} \\theta_{3}{\\left(t \\right)}\\right)^{2} \\cos{\\left(\\theta_{1}{\\left(t \\right)} + \\theta_{2}{\\left(t \\right)} + \\theta_{3}{\\left(t \\right)} \\right)} + l_{3} \\left(\\frac{d^{2}}{d t^{2}} \\theta_{1}{\\left(t \\right)} + \\frac{d^{2}}{d t^{2}} \\theta_{2}{\\left(t \\right)} + \\frac{d^{2}}{d t^{2}} \\theta_{3}{\\left(t \\right)}\\right) \\sin{\\left(\\theta_{1}{\\left(t \\right)} + \\theta_{2}{\\left(t \\right)} + \\theta_{3}{\\left(t \\right)} \\right)}\\right) + \\left(2 l_{1} \\cos{\\left(\\theta_{1}{\\left(t \\right)} \\right)} + 2 l_{2} \\cos{\\left(\\theta_{1}{\\left(t \\right)} + \\theta_{2}{\\left(t \\right)} \\right)} + 2 l_{3} \\cos{\\left(\\theta_{1}{\\left(t \\right)} + \\theta_{2}{\\left(t \\right)} + \\theta_{3}{\\left(t \\right)} \\right)}\\right) \\left(- l_{1} \\sin{\\left(\\theta_{1}{\\left(t \\right)} \\right)} \\left(\\frac{d}{d t} \\theta_{1}{\\left(t \\right)}\\right)^{2} + l_{1} \\cos{\\left(\\theta_{1}{\\left(t \\right)} \\right)} \\frac{d^{2}}{d t^{2}} \\theta_{1}{\\left(t \\right)} - l_{2} \\left(\\frac{d}{d t} \\theta_{1}{\\left(t \\right)} + \\frac{d}{d t} \\theta_{2}{\\left(t \\right)}\\right)^{2} \\sin{\\left(\\theta_{1}{\\left(t \\right)} + \\theta_{2}{\\left(t \\right)} \\right)} + l_{2} \\left(\\frac{d^{2}}{d t^{2}} \\theta_{1}{\\left(t \\right)} + \\frac{d^{2}}{d t^{2}} \\theta_{2}{\\left(t \\right)}\\right) \\cos{\\left(\\theta_{1}{\\left(t \\right)} + \\theta_{2}{\\left(t \\right)} \\right)} - l_{3} \\left(\\frac{d}{d t} \\theta_{1}{\\left(t \\right)} + \\frac{d}{d t} \\theta_{2}{\\left(t \\right)} + \\frac{d}{d t} \\theta_{3}{\\left(t \\right)}\\right)^{2} \\sin{\\left(\\theta_{1}{\\left(t \\right)} + \\theta_{2}{\\left(t \\right)} + \\theta_{3}{\\left(t \\right)} \\right)} + l_{3} \\left(\\frac{d^{2}}{d t^{2}} \\theta_{1}{\\left(t \\right)} + \\frac{d^{2}}{d t^{2}} \\theta_{2}{\\left(t \\right)} + \\frac{d^{2}}{d t^{2}} \\theta_{3}{\\left(t \\right)}\\right) \\cos{\\left(\\theta_{1}{\\left(t \\right)} + \\theta_{2}{\\left(t \\right)} + \\theta_{3}{\\left(t \\right)} \\right)}\\right) + \\left(- 2 l_{1} \\sin{\\left(\\theta_{1}{\\left(t \\right)} \\right)} \\frac{d}{d t} \\theta_{1}{\\left(t \\right)} - 2 l_{2} \\left(\\frac{d}{d t} \\theta_{1}{\\left(t \\right)} + \\frac{d}{d t} \\theta_{2}{\\left(t \\right)}\\right) \\sin{\\left(\\theta_{1}{\\left(t \\right)} + \\theta_{2}{\\left(t \\right)} \\right)} - 2 l_{3} \\left(\\frac{d}{d t} \\theta_{1}{\\left(t \\right)} + \\frac{d}{d t} \\theta_{2}{\\left(t \\right)} + \\frac{d}{d t} \\theta_{3}{\\left(t \\right)}\\right) \\sin{\\left(\\theta_{1}{\\left(t \\right)} + \\theta_{2}{\\left(t \\right)} + \\theta_{3}{\\left(t \\right)} \\right)}\\right) \\left(l_{1} \\cos{\\left(\\theta_{1}{\\left(t \\right)} \\right)} \\frac{d}{d t} \\theta_{1}{\\left(t \\right)} + l_{2} \\left(\\frac{d}{d t} \\theta_{1}{\\left(t \\right)} + \\frac{d}{d t} \\theta_{2}{\\left(t \\right)}\\right) \\cos{\\left(\\theta_{1}{\\left(t \\right)} + \\theta_{2}{\\left(t \\right)} \\right)} + l_{3} \\left(\\frac{d}{d t} \\theta_{1}{\\left(t \\right)} + \\frac{d}{d t} \\theta_{2}{\\left(t \\right)} + \\frac{d}{d t} \\theta_{3}{\\left(t \\right)}\\right) \\cos{\\left(\\theta_{1}{\\left(t \\right)} + \\theta_{2}{\\left(t \\right)} + \\theta_{3}{\\left(t \\right)} \\right)}\\right) + \\left(l_{1} \\sin{\\left(\\theta_{1}{\\left(t \\right)} \\right)} \\frac{d}{d t} \\theta_{1}{\\left(t \\right)} + l_{2} \\left(\\frac{d}{d t} \\theta_{1}{\\left(t \\right)} + \\frac{d}{d t} \\theta_{2}{\\left(t \\right)}\\right) \\sin{\\left(\\theta_{1}{\\left(t \\right)} + \\theta_{2}{\\left(t \\right)} \\right)} + l_{3} \\left(\\frac{d}{d t} \\theta_{1}{\\left(t \\right)} + \\frac{d}{d t} \\theta_{2}{\\left(t \\right)} + \\frac{d}{d t} \\theta_{3}{\\left(t \\right)}\\right) \\sin{\\left(\\theta_{1}{\\left(t \\right)} + \\theta_{2}{\\left(t \\right)} + \\theta_{3}{\\left(t \\right)} \\right)}\\right) \\left(2 l_{1} \\cos{\\left(\\theta_{1}{\\left(t \\right)} \\right)} \\frac{d}{d t} \\theta_{1}{\\left(t \\right)} + 2 l_{2} \\left(\\frac{d}{d t} \\theta_{1}{\\left(t \\right)} + \\frac{d}{d t} \\theta_{2}{\\left(t \\right)}\\right) \\cos{\\left(\\theta_{1}{\\left(t \\right)} + \\theta_{2}{\\left(t \\right)} \\right)} + 2 l_{3} \\left(\\frac{d}{d t} \\theta_{1}{\\left(t \\right)} + \\frac{d}{d t} \\theta_{2}{\\left(t \\right)} + \\frac{d}{d t} \\theta_{3}{\\left(t \\right)}\\right) \\cos{\\left(\\theta_{1}{\\left(t \\right)} + \\theta_{2}{\\left(t \\right)} + \\theta_{3}{\\left(t \\right)} \\right)}\\right)\\right)}{2}$"
      ],
      "text/plain": [
       "g*l_1*m_1*cos(theta_1(t)) + g*m_2*(l_1*cos(theta_1(t)) + l_2*cos(theta_1(t) + theta_2(t))) + g*m_3*(l_1*cos(theta_1(t)) + l_2*cos(theta_1(t) + theta_2(t)) + l_3*cos(theta_1(t) + theta_2(t) + theta_3(t))) + l_1**2*m_1*Derivative(theta_1(t), (t, 2)) + m_2*(2*l_1**2*Derivative(theta_1(t), (t, 2)) - 4*l_1*l_2*sin(theta_2(t))*Derivative(theta_1(t), t)*Derivative(theta_2(t), t) - 2*l_1*l_2*sin(theta_2(t))*Derivative(theta_2(t), t)**2 + 4*l_1*l_2*cos(theta_2(t))*Derivative(theta_1(t), (t, 2)) + 2*l_1*l_2*cos(theta_2(t))*Derivative(theta_2(t), (t, 2)) + 2*l_2**2*Derivative(theta_1(t), (t, 2)) + 2*l_2**2*Derivative(theta_2(t), (t, 2)))/2 - m_3*((-2*l_1*sin(theta_1(t))*Derivative(theta_1(t), t) - 2*l_2*(Derivative(theta_1(t), t) + Derivative(theta_2(t), t))*sin(theta_1(t) + theta_2(t)) - 2*l_3*(Derivative(theta_1(t), t) + Derivative(theta_2(t), t) + Derivative(theta_3(t), t))*sin(theta_1(t) + theta_2(t) + theta_3(t)))*(l_1*cos(theta_1(t))*Derivative(theta_1(t), t) + l_2*(Derivative(theta_1(t), t) + Derivative(theta_2(t), t))*cos(theta_1(t) + theta_2(t)) + l_3*(Derivative(theta_1(t), t) + Derivative(theta_2(t), t) + Derivative(theta_3(t), t))*cos(theta_1(t) + theta_2(t) + theta_3(t))) + (l_1*sin(theta_1(t))*Derivative(theta_1(t), t) + l_2*(Derivative(theta_1(t), t) + Derivative(theta_2(t), t))*sin(theta_1(t) + theta_2(t)) + l_3*(Derivative(theta_1(t), t) + Derivative(theta_2(t), t) + Derivative(theta_3(t), t))*sin(theta_1(t) + theta_2(t) + theta_3(t)))*(2*l_1*cos(theta_1(t))*Derivative(theta_1(t), t) + 2*l_2*(Derivative(theta_1(t), t) + Derivative(theta_2(t), t))*cos(theta_1(t) + theta_2(t)) + 2*l_3*(Derivative(theta_1(t), t) + Derivative(theta_2(t), t) + Derivative(theta_3(t), t))*cos(theta_1(t) + theta_2(t) + theta_3(t))))/2 + m_3*((2*l_1*sin(theta_1(t)) + 2*l_2*sin(theta_1(t) + theta_2(t)) + 2*l_3*sin(theta_1(t) + theta_2(t) + theta_3(t)))*(l_1*sin(theta_1(t))*Derivative(theta_1(t), (t, 2)) + l_1*cos(theta_1(t))*Derivative(theta_1(t), t)**2 + l_2*(Derivative(theta_1(t), t) + Derivative(theta_2(t), t))**2*cos(theta_1(t) + theta_2(t)) + l_2*(Derivative(theta_1(t), (t, 2)) + Derivative(theta_2(t), (t, 2)))*sin(theta_1(t) + theta_2(t)) + l_3*(Derivative(theta_1(t), t) + Derivative(theta_2(t), t) + Derivative(theta_3(t), t))**2*cos(theta_1(t) + theta_2(t) + theta_3(t)) + l_3*(Derivative(theta_1(t), (t, 2)) + Derivative(theta_2(t), (t, 2)) + Derivative(theta_3(t), (t, 2)))*sin(theta_1(t) + theta_2(t) + theta_3(t))) + (2*l_1*cos(theta_1(t)) + 2*l_2*cos(theta_1(t) + theta_2(t)) + 2*l_3*cos(theta_1(t) + theta_2(t) + theta_3(t)))*(-l_1*sin(theta_1(t))*Derivative(theta_1(t), t)**2 + l_1*cos(theta_1(t))*Derivative(theta_1(t), (t, 2)) - l_2*(Derivative(theta_1(t), t) + Derivative(theta_2(t), t))**2*sin(theta_1(t) + theta_2(t)) + l_2*(Derivative(theta_1(t), (t, 2)) + Derivative(theta_2(t), (t, 2)))*cos(theta_1(t) + theta_2(t)) - l_3*(Derivative(theta_1(t), t) + Derivative(theta_2(t), t) + Derivative(theta_3(t), t))**2*sin(theta_1(t) + theta_2(t) + theta_3(t)) + l_3*(Derivative(theta_1(t), (t, 2)) + Derivative(theta_2(t), (t, 2)) + Derivative(theta_3(t), (t, 2)))*cos(theta_1(t) + theta_2(t) + theta_3(t))) + (-2*l_1*sin(theta_1(t))*Derivative(theta_1(t), t) - 2*l_2*(Derivative(theta_1(t), t) + Derivative(theta_2(t), t))*sin(theta_1(t) + theta_2(t)) - 2*l_3*(Derivative(theta_1(t), t) + Derivative(theta_2(t), t) + Derivative(theta_3(t), t))*sin(theta_1(t) + theta_2(t) + theta_3(t)))*(l_1*cos(theta_1(t))*Derivative(theta_1(t), t) + l_2*(Derivative(theta_1(t), t) + Derivative(theta_2(t), t))*cos(theta_1(t) + theta_2(t)) + l_3*(Derivative(theta_1(t), t) + Derivative(theta_2(t), t) + Derivative(theta_3(t), t))*cos(theta_1(t) + theta_2(t) + theta_3(t))) + (l_1*sin(theta_1(t))*Derivative(theta_1(t), t) + l_2*(Derivative(theta_1(t), t) + Derivative(theta_2(t), t))*sin(theta_1(t) + theta_2(t)) + l_3*(Derivative(theta_1(t), t) + Derivative(theta_2(t), t) + Derivative(theta_3(t), t))*sin(theta_1(t) + theta_2(t) + theta_3(t)))*(2*l_1*cos(theta_1(t))*Derivative(theta_1(t), t) + 2*l_2*(Derivative(theta_1(t), t) + Derivative(theta_2(t), t))*cos(theta_1(t) + theta_2(t)) + 2*l_3*(Derivative(theta_1(t), t) + Derivative(theta_2(t), t) + Derivative(theta_3(t), t))*cos(theta_1(t) + theta_2(t) + theta_3(t))))/2"
      ]
     },
     "execution_count": 19,
     "metadata": {},
     "output_type": "execute_result"
    }
   ],
   "source": [
    "EOM_theta_1 = diff(diff(L, Derivative(theta_1, t)), t) - diff(L, theta_1)\n",
    "EOM_theta_1 = nsimplify(EOM_theta_1)\n",
    "EOM_theta_1"
   ]
  },
  {
   "cell_type": "code",
   "execution_count": 20,
   "id": "8604de9f-da88-402d-9fb3-95b1c717fcb4",
   "metadata": {
    "tags": []
   },
   "outputs": [
    {
     "data": {
      "text/latex": [
       "$\\displaystyle g l_{2} m_{2} \\cos{\\left(\\theta_{1}{\\left(t \\right)} + \\theta_{2}{\\left(t \\right)} \\right)} + g m_{3} \\left(l_{2} \\cos{\\left(\\theta_{1}{\\left(t \\right)} + \\theta_{2}{\\left(t \\right)} \\right)} + l_{3} \\cos{\\left(\\theta_{1}{\\left(t \\right)} + \\theta_{2}{\\left(t \\right)} + \\theta_{3}{\\left(t \\right)} \\right)}\\right) - \\frac{m_{2} \\left(- 2 l_{1} l_{2} \\sin{\\left(\\theta_{2}{\\left(t \\right)} \\right)} \\left(\\frac{d}{d t} \\theta_{1}{\\left(t \\right)}\\right)^{2} - 2 l_{1} l_{2} \\sin{\\left(\\theta_{2}{\\left(t \\right)} \\right)} \\frac{d}{d t} \\theta_{1}{\\left(t \\right)} \\frac{d}{d t} \\theta_{2}{\\left(t \\right)}\\right)}{2} + \\frac{m_{2} \\left(- 2 l_{1} l_{2} \\sin{\\left(\\theta_{2}{\\left(t \\right)} \\right)} \\frac{d}{d t} \\theta_{1}{\\left(t \\right)} \\frac{d}{d t} \\theta_{2}{\\left(t \\right)} + 2 l_{1} l_{2} \\cos{\\left(\\theta_{2}{\\left(t \\right)} \\right)} \\frac{d^{2}}{d t^{2}} \\theta_{1}{\\left(t \\right)} + 2 l_{2}^{2} \\frac{d^{2}}{d t^{2}} \\theta_{1}{\\left(t \\right)} + 2 l_{2}^{2} \\frac{d^{2}}{d t^{2}} \\theta_{2}{\\left(t \\right)}\\right)}{2} - \\frac{m_{3} \\left(\\left(- 2 l_{2} \\left(\\frac{d}{d t} \\theta_{1}{\\left(t \\right)} + \\frac{d}{d t} \\theta_{2}{\\left(t \\right)}\\right) \\sin{\\left(\\theta_{1}{\\left(t \\right)} + \\theta_{2}{\\left(t \\right)} \\right)} - 2 l_{3} \\left(\\frac{d}{d t} \\theta_{1}{\\left(t \\right)} + \\frac{d}{d t} \\theta_{2}{\\left(t \\right)} + \\frac{d}{d t} \\theta_{3}{\\left(t \\right)}\\right) \\sin{\\left(\\theta_{1}{\\left(t \\right)} + \\theta_{2}{\\left(t \\right)} + \\theta_{3}{\\left(t \\right)} \\right)}\\right) \\left(l_{1} \\cos{\\left(\\theta_{1}{\\left(t \\right)} \\right)} \\frac{d}{d t} \\theta_{1}{\\left(t \\right)} + l_{2} \\left(\\frac{d}{d t} \\theta_{1}{\\left(t \\right)} + \\frac{d}{d t} \\theta_{2}{\\left(t \\right)}\\right) \\cos{\\left(\\theta_{1}{\\left(t \\right)} + \\theta_{2}{\\left(t \\right)} \\right)} + l_{3} \\left(\\frac{d}{d t} \\theta_{1}{\\left(t \\right)} + \\frac{d}{d t} \\theta_{2}{\\left(t \\right)} + \\frac{d}{d t} \\theta_{3}{\\left(t \\right)}\\right) \\cos{\\left(\\theta_{1}{\\left(t \\right)} + \\theta_{2}{\\left(t \\right)} + \\theta_{3}{\\left(t \\right)} \\right)}\\right) + \\left(2 l_{2} \\left(\\frac{d}{d t} \\theta_{1}{\\left(t \\right)} + \\frac{d}{d t} \\theta_{2}{\\left(t \\right)}\\right) \\cos{\\left(\\theta_{1}{\\left(t \\right)} + \\theta_{2}{\\left(t \\right)} \\right)} + 2 l_{3} \\left(\\frac{d}{d t} \\theta_{1}{\\left(t \\right)} + \\frac{d}{d t} \\theta_{2}{\\left(t \\right)} + \\frac{d}{d t} \\theta_{3}{\\left(t \\right)}\\right) \\cos{\\left(\\theta_{1}{\\left(t \\right)} + \\theta_{2}{\\left(t \\right)} + \\theta_{3}{\\left(t \\right)} \\right)}\\right) \\left(l_{1} \\sin{\\left(\\theta_{1}{\\left(t \\right)} \\right)} \\frac{d}{d t} \\theta_{1}{\\left(t \\right)} + l_{2} \\left(\\frac{d}{d t} \\theta_{1}{\\left(t \\right)} + \\frac{d}{d t} \\theta_{2}{\\left(t \\right)}\\right) \\sin{\\left(\\theta_{1}{\\left(t \\right)} + \\theta_{2}{\\left(t \\right)} \\right)} + l_{3} \\left(\\frac{d}{d t} \\theta_{1}{\\left(t \\right)} + \\frac{d}{d t} \\theta_{2}{\\left(t \\right)} + \\frac{d}{d t} \\theta_{3}{\\left(t \\right)}\\right) \\sin{\\left(\\theta_{1}{\\left(t \\right)} + \\theta_{2}{\\left(t \\right)} + \\theta_{3}{\\left(t \\right)} \\right)}\\right)\\right)}{2} + \\frac{m_{3} \\left(\\left(2 l_{2} \\sin{\\left(\\theta_{1}{\\left(t \\right)} + \\theta_{2}{\\left(t \\right)} \\right)} + 2 l_{3} \\sin{\\left(\\theta_{1}{\\left(t \\right)} + \\theta_{2}{\\left(t \\right)} + \\theta_{3}{\\left(t \\right)} \\right)}\\right) \\left(l_{1} \\sin{\\left(\\theta_{1}{\\left(t \\right)} \\right)} \\frac{d^{2}}{d t^{2}} \\theta_{1}{\\left(t \\right)} + l_{1} \\cos{\\left(\\theta_{1}{\\left(t \\right)} \\right)} \\left(\\frac{d}{d t} \\theta_{1}{\\left(t \\right)}\\right)^{2} + l_{2} \\left(\\frac{d}{d t} \\theta_{1}{\\left(t \\right)} + \\frac{d}{d t} \\theta_{2}{\\left(t \\right)}\\right)^{2} \\cos{\\left(\\theta_{1}{\\left(t \\right)} + \\theta_{2}{\\left(t \\right)} \\right)} + l_{2} \\left(\\frac{d^{2}}{d t^{2}} \\theta_{1}{\\left(t \\right)} + \\frac{d^{2}}{d t^{2}} \\theta_{2}{\\left(t \\right)}\\right) \\sin{\\left(\\theta_{1}{\\left(t \\right)} + \\theta_{2}{\\left(t \\right)} \\right)} + l_{3} \\left(\\frac{d}{d t} \\theta_{1}{\\left(t \\right)} + \\frac{d}{d t} \\theta_{2}{\\left(t \\right)} + \\frac{d}{d t} \\theta_{3}{\\left(t \\right)}\\right)^{2} \\cos{\\left(\\theta_{1}{\\left(t \\right)} + \\theta_{2}{\\left(t \\right)} + \\theta_{3}{\\left(t \\right)} \\right)} + l_{3} \\left(\\frac{d^{2}}{d t^{2}} \\theta_{1}{\\left(t \\right)} + \\frac{d^{2}}{d t^{2}} \\theta_{2}{\\left(t \\right)} + \\frac{d^{2}}{d t^{2}} \\theta_{3}{\\left(t \\right)}\\right) \\sin{\\left(\\theta_{1}{\\left(t \\right)} + \\theta_{2}{\\left(t \\right)} + \\theta_{3}{\\left(t \\right)} \\right)}\\right) + \\left(2 l_{2} \\cos{\\left(\\theta_{1}{\\left(t \\right)} + \\theta_{2}{\\left(t \\right)} \\right)} + 2 l_{3} \\cos{\\left(\\theta_{1}{\\left(t \\right)} + \\theta_{2}{\\left(t \\right)} + \\theta_{3}{\\left(t \\right)} \\right)}\\right) \\left(- l_{1} \\sin{\\left(\\theta_{1}{\\left(t \\right)} \\right)} \\left(\\frac{d}{d t} \\theta_{1}{\\left(t \\right)}\\right)^{2} + l_{1} \\cos{\\left(\\theta_{1}{\\left(t \\right)} \\right)} \\frac{d^{2}}{d t^{2}} \\theta_{1}{\\left(t \\right)} - l_{2} \\left(\\frac{d}{d t} \\theta_{1}{\\left(t \\right)} + \\frac{d}{d t} \\theta_{2}{\\left(t \\right)}\\right)^{2} \\sin{\\left(\\theta_{1}{\\left(t \\right)} + \\theta_{2}{\\left(t \\right)} \\right)} + l_{2} \\left(\\frac{d^{2}}{d t^{2}} \\theta_{1}{\\left(t \\right)} + \\frac{d^{2}}{d t^{2}} \\theta_{2}{\\left(t \\right)}\\right) \\cos{\\left(\\theta_{1}{\\left(t \\right)} + \\theta_{2}{\\left(t \\right)} \\right)} - l_{3} \\left(\\frac{d}{d t} \\theta_{1}{\\left(t \\right)} + \\frac{d}{d t} \\theta_{2}{\\left(t \\right)} + \\frac{d}{d t} \\theta_{3}{\\left(t \\right)}\\right)^{2} \\sin{\\left(\\theta_{1}{\\left(t \\right)} + \\theta_{2}{\\left(t \\right)} + \\theta_{3}{\\left(t \\right)} \\right)} + l_{3} \\left(\\frac{d^{2}}{d t^{2}} \\theta_{1}{\\left(t \\right)} + \\frac{d^{2}}{d t^{2}} \\theta_{2}{\\left(t \\right)} + \\frac{d^{2}}{d t^{2}} \\theta_{3}{\\left(t \\right)}\\right) \\cos{\\left(\\theta_{1}{\\left(t \\right)} + \\theta_{2}{\\left(t \\right)} + \\theta_{3}{\\left(t \\right)} \\right)}\\right) + \\left(- 2 l_{2} \\left(\\frac{d}{d t} \\theta_{1}{\\left(t \\right)} + \\frac{d}{d t} \\theta_{2}{\\left(t \\right)}\\right) \\sin{\\left(\\theta_{1}{\\left(t \\right)} + \\theta_{2}{\\left(t \\right)} \\right)} - 2 l_{3} \\left(\\frac{d}{d t} \\theta_{1}{\\left(t \\right)} + \\frac{d}{d t} \\theta_{2}{\\left(t \\right)} + \\frac{d}{d t} \\theta_{3}{\\left(t \\right)}\\right) \\sin{\\left(\\theta_{1}{\\left(t \\right)} + \\theta_{2}{\\left(t \\right)} + \\theta_{3}{\\left(t \\right)} \\right)}\\right) \\left(l_{1} \\cos{\\left(\\theta_{1}{\\left(t \\right)} \\right)} \\frac{d}{d t} \\theta_{1}{\\left(t \\right)} + l_{2} \\left(\\frac{d}{d t} \\theta_{1}{\\left(t \\right)} + \\frac{d}{d t} \\theta_{2}{\\left(t \\right)}\\right) \\cos{\\left(\\theta_{1}{\\left(t \\right)} + \\theta_{2}{\\left(t \\right)} \\right)} + l_{3} \\left(\\frac{d}{d t} \\theta_{1}{\\left(t \\right)} + \\frac{d}{d t} \\theta_{2}{\\left(t \\right)} + \\frac{d}{d t} \\theta_{3}{\\left(t \\right)}\\right) \\cos{\\left(\\theta_{1}{\\left(t \\right)} + \\theta_{2}{\\left(t \\right)} + \\theta_{3}{\\left(t \\right)} \\right)}\\right) + \\left(2 l_{2} \\left(\\frac{d}{d t} \\theta_{1}{\\left(t \\right)} + \\frac{d}{d t} \\theta_{2}{\\left(t \\right)}\\right) \\cos{\\left(\\theta_{1}{\\left(t \\right)} + \\theta_{2}{\\left(t \\right)} \\right)} + 2 l_{3} \\left(\\frac{d}{d t} \\theta_{1}{\\left(t \\right)} + \\frac{d}{d t} \\theta_{2}{\\left(t \\right)} + \\frac{d}{d t} \\theta_{3}{\\left(t \\right)}\\right) \\cos{\\left(\\theta_{1}{\\left(t \\right)} + \\theta_{2}{\\left(t \\right)} + \\theta_{3}{\\left(t \\right)} \\right)}\\right) \\left(l_{1} \\sin{\\left(\\theta_{1}{\\left(t \\right)} \\right)} \\frac{d}{d t} \\theta_{1}{\\left(t \\right)} + l_{2} \\left(\\frac{d}{d t} \\theta_{1}{\\left(t \\right)} + \\frac{d}{d t} \\theta_{2}{\\left(t \\right)}\\right) \\sin{\\left(\\theta_{1}{\\left(t \\right)} + \\theta_{2}{\\left(t \\right)} \\right)} + l_{3} \\left(\\frac{d}{d t} \\theta_{1}{\\left(t \\right)} + \\frac{d}{d t} \\theta_{2}{\\left(t \\right)} + \\frac{d}{d t} \\theta_{3}{\\left(t \\right)}\\right) \\sin{\\left(\\theta_{1}{\\left(t \\right)} + \\theta_{2}{\\left(t \\right)} + \\theta_{3}{\\left(t \\right)} \\right)}\\right)\\right)}{2}$"
      ],
      "text/plain": [
       "g*l_2*m_2*cos(theta_1(t) + theta_2(t)) + g*m_3*(l_2*cos(theta_1(t) + theta_2(t)) + l_3*cos(theta_1(t) + theta_2(t) + theta_3(t))) - m_2*(-2*l_1*l_2*sin(theta_2(t))*Derivative(theta_1(t), t)**2 - 2*l_1*l_2*sin(theta_2(t))*Derivative(theta_1(t), t)*Derivative(theta_2(t), t))/2 + m_2*(-2*l_1*l_2*sin(theta_2(t))*Derivative(theta_1(t), t)*Derivative(theta_2(t), t) + 2*l_1*l_2*cos(theta_2(t))*Derivative(theta_1(t), (t, 2)) + 2*l_2**2*Derivative(theta_1(t), (t, 2)) + 2*l_2**2*Derivative(theta_2(t), (t, 2)))/2 - m_3*((-2*l_2*(Derivative(theta_1(t), t) + Derivative(theta_2(t), t))*sin(theta_1(t) + theta_2(t)) - 2*l_3*(Derivative(theta_1(t), t) + Derivative(theta_2(t), t) + Derivative(theta_3(t), t))*sin(theta_1(t) + theta_2(t) + theta_3(t)))*(l_1*cos(theta_1(t))*Derivative(theta_1(t), t) + l_2*(Derivative(theta_1(t), t) + Derivative(theta_2(t), t))*cos(theta_1(t) + theta_2(t)) + l_3*(Derivative(theta_1(t), t) + Derivative(theta_2(t), t) + Derivative(theta_3(t), t))*cos(theta_1(t) + theta_2(t) + theta_3(t))) + (2*l_2*(Derivative(theta_1(t), t) + Derivative(theta_2(t), t))*cos(theta_1(t) + theta_2(t)) + 2*l_3*(Derivative(theta_1(t), t) + Derivative(theta_2(t), t) + Derivative(theta_3(t), t))*cos(theta_1(t) + theta_2(t) + theta_3(t)))*(l_1*sin(theta_1(t))*Derivative(theta_1(t), t) + l_2*(Derivative(theta_1(t), t) + Derivative(theta_2(t), t))*sin(theta_1(t) + theta_2(t)) + l_3*(Derivative(theta_1(t), t) + Derivative(theta_2(t), t) + Derivative(theta_3(t), t))*sin(theta_1(t) + theta_2(t) + theta_3(t))))/2 + m_3*((2*l_2*sin(theta_1(t) + theta_2(t)) + 2*l_3*sin(theta_1(t) + theta_2(t) + theta_3(t)))*(l_1*sin(theta_1(t))*Derivative(theta_1(t), (t, 2)) + l_1*cos(theta_1(t))*Derivative(theta_1(t), t)**2 + l_2*(Derivative(theta_1(t), t) + Derivative(theta_2(t), t))**2*cos(theta_1(t) + theta_2(t)) + l_2*(Derivative(theta_1(t), (t, 2)) + Derivative(theta_2(t), (t, 2)))*sin(theta_1(t) + theta_2(t)) + l_3*(Derivative(theta_1(t), t) + Derivative(theta_2(t), t) + Derivative(theta_3(t), t))**2*cos(theta_1(t) + theta_2(t) + theta_3(t)) + l_3*(Derivative(theta_1(t), (t, 2)) + Derivative(theta_2(t), (t, 2)) + Derivative(theta_3(t), (t, 2)))*sin(theta_1(t) + theta_2(t) + theta_3(t))) + (2*l_2*cos(theta_1(t) + theta_2(t)) + 2*l_3*cos(theta_1(t) + theta_2(t) + theta_3(t)))*(-l_1*sin(theta_1(t))*Derivative(theta_1(t), t)**2 + l_1*cos(theta_1(t))*Derivative(theta_1(t), (t, 2)) - l_2*(Derivative(theta_1(t), t) + Derivative(theta_2(t), t))**2*sin(theta_1(t) + theta_2(t)) + l_2*(Derivative(theta_1(t), (t, 2)) + Derivative(theta_2(t), (t, 2)))*cos(theta_1(t) + theta_2(t)) - l_3*(Derivative(theta_1(t), t) + Derivative(theta_2(t), t) + Derivative(theta_3(t), t))**2*sin(theta_1(t) + theta_2(t) + theta_3(t)) + l_3*(Derivative(theta_1(t), (t, 2)) + Derivative(theta_2(t), (t, 2)) + Derivative(theta_3(t), (t, 2)))*cos(theta_1(t) + theta_2(t) + theta_3(t))) + (-2*l_2*(Derivative(theta_1(t), t) + Derivative(theta_2(t), t))*sin(theta_1(t) + theta_2(t)) - 2*l_3*(Derivative(theta_1(t), t) + Derivative(theta_2(t), t) + Derivative(theta_3(t), t))*sin(theta_1(t) + theta_2(t) + theta_3(t)))*(l_1*cos(theta_1(t))*Derivative(theta_1(t), t) + l_2*(Derivative(theta_1(t), t) + Derivative(theta_2(t), t))*cos(theta_1(t) + theta_2(t)) + l_3*(Derivative(theta_1(t), t) + Derivative(theta_2(t), t) + Derivative(theta_3(t), t))*cos(theta_1(t) + theta_2(t) + theta_3(t))) + (2*l_2*(Derivative(theta_1(t), t) + Derivative(theta_2(t), t))*cos(theta_1(t) + theta_2(t)) + 2*l_3*(Derivative(theta_1(t), t) + Derivative(theta_2(t), t) + Derivative(theta_3(t), t))*cos(theta_1(t) + theta_2(t) + theta_3(t)))*(l_1*sin(theta_1(t))*Derivative(theta_1(t), t) + l_2*(Derivative(theta_1(t), t) + Derivative(theta_2(t), t))*sin(theta_1(t) + theta_2(t)) + l_3*(Derivative(theta_1(t), t) + Derivative(theta_2(t), t) + Derivative(theta_3(t), t))*sin(theta_1(t) + theta_2(t) + theta_3(t))))/2"
      ]
     },
     "execution_count": 20,
     "metadata": {},
     "output_type": "execute_result"
    }
   ],
   "source": [
    "EOM_theta_2 = diff(diff(L, Derivative(theta_2, t)), t) - diff(L, theta_2)\n",
    "EOM_theta_2 = nsimplify(EOM_theta_2)\n",
    "EOM_theta_2"
   ]
  },
  {
   "cell_type": "code",
   "execution_count": 21,
   "id": "4408e039-8707-483d-a544-3bf9401c2b1a",
   "metadata": {
    "tags": []
   },
   "outputs": [
    {
     "data": {
      "text/latex": [
       "$\\displaystyle g l_{3} m_{3} \\cos{\\left(\\theta_{1}{\\left(t \\right)} + \\theta_{2}{\\left(t \\right)} + \\theta_{3}{\\left(t \\right)} \\right)} - \\frac{m_{3} \\cdot \\left(2 l_{3} \\left(l_{1} \\sin{\\left(\\theta_{1}{\\left(t \\right)} \\right)} \\frac{d}{d t} \\theta_{1}{\\left(t \\right)} + l_{2} \\left(\\frac{d}{d t} \\theta_{1}{\\left(t \\right)} + \\frac{d}{d t} \\theta_{2}{\\left(t \\right)}\\right) \\sin{\\left(\\theta_{1}{\\left(t \\right)} + \\theta_{2}{\\left(t \\right)} \\right)} + l_{3} \\left(\\frac{d}{d t} \\theta_{1}{\\left(t \\right)} + \\frac{d}{d t} \\theta_{2}{\\left(t \\right)} + \\frac{d}{d t} \\theta_{3}{\\left(t \\right)}\\right) \\sin{\\left(\\theta_{1}{\\left(t \\right)} + \\theta_{2}{\\left(t \\right)} + \\theta_{3}{\\left(t \\right)} \\right)}\\right) \\left(\\frac{d}{d t} \\theta_{1}{\\left(t \\right)} + \\frac{d}{d t} \\theta_{2}{\\left(t \\right)} + \\frac{d}{d t} \\theta_{3}{\\left(t \\right)}\\right) \\cos{\\left(\\theta_{1}{\\left(t \\right)} + \\theta_{2}{\\left(t \\right)} + \\theta_{3}{\\left(t \\right)} \\right)} - 2 l_{3} \\left(l_{1} \\cos{\\left(\\theta_{1}{\\left(t \\right)} \\right)} \\frac{d}{d t} \\theta_{1}{\\left(t \\right)} + l_{2} \\left(\\frac{d}{d t} \\theta_{1}{\\left(t \\right)} + \\frac{d}{d t} \\theta_{2}{\\left(t \\right)}\\right) \\cos{\\left(\\theta_{1}{\\left(t \\right)} + \\theta_{2}{\\left(t \\right)} \\right)} + l_{3} \\left(\\frac{d}{d t} \\theta_{1}{\\left(t \\right)} + \\frac{d}{d t} \\theta_{2}{\\left(t \\right)} + \\frac{d}{d t} \\theta_{3}{\\left(t \\right)}\\right) \\cos{\\left(\\theta_{1}{\\left(t \\right)} + \\theta_{2}{\\left(t \\right)} + \\theta_{3}{\\left(t \\right)} \\right)}\\right) \\left(\\frac{d}{d t} \\theta_{1}{\\left(t \\right)} + \\frac{d}{d t} \\theta_{2}{\\left(t \\right)} + \\frac{d}{d t} \\theta_{3}{\\left(t \\right)}\\right) \\sin{\\left(\\theta_{1}{\\left(t \\right)} + \\theta_{2}{\\left(t \\right)} + \\theta_{3}{\\left(t \\right)} \\right)}\\right)}{2} + \\frac{m_{3} \\cdot \\left(2 l_{3} \\left(l_{1} \\sin{\\left(\\theta_{1}{\\left(t \\right)} \\right)} \\frac{d}{d t} \\theta_{1}{\\left(t \\right)} + l_{2} \\left(\\frac{d}{d t} \\theta_{1}{\\left(t \\right)} + \\frac{d}{d t} \\theta_{2}{\\left(t \\right)}\\right) \\sin{\\left(\\theta_{1}{\\left(t \\right)} + \\theta_{2}{\\left(t \\right)} \\right)} + l_{3} \\left(\\frac{d}{d t} \\theta_{1}{\\left(t \\right)} + \\frac{d}{d t} \\theta_{2}{\\left(t \\right)} + \\frac{d}{d t} \\theta_{3}{\\left(t \\right)}\\right) \\sin{\\left(\\theta_{1}{\\left(t \\right)} + \\theta_{2}{\\left(t \\right)} + \\theta_{3}{\\left(t \\right)} \\right)}\\right) \\left(\\frac{d}{d t} \\theta_{1}{\\left(t \\right)} + \\frac{d}{d t} \\theta_{2}{\\left(t \\right)} + \\frac{d}{d t} \\theta_{3}{\\left(t \\right)}\\right) \\cos{\\left(\\theta_{1}{\\left(t \\right)} + \\theta_{2}{\\left(t \\right)} + \\theta_{3}{\\left(t \\right)} \\right)} - 2 l_{3} \\left(l_{1} \\cos{\\left(\\theta_{1}{\\left(t \\right)} \\right)} \\frac{d}{d t} \\theta_{1}{\\left(t \\right)} + l_{2} \\left(\\frac{d}{d t} \\theta_{1}{\\left(t \\right)} + \\frac{d}{d t} \\theta_{2}{\\left(t \\right)}\\right) \\cos{\\left(\\theta_{1}{\\left(t \\right)} + \\theta_{2}{\\left(t \\right)} \\right)} + l_{3} \\left(\\frac{d}{d t} \\theta_{1}{\\left(t \\right)} + \\frac{d}{d t} \\theta_{2}{\\left(t \\right)} + \\frac{d}{d t} \\theta_{3}{\\left(t \\right)}\\right) \\cos{\\left(\\theta_{1}{\\left(t \\right)} + \\theta_{2}{\\left(t \\right)} + \\theta_{3}{\\left(t \\right)} \\right)}\\right) \\left(\\frac{d}{d t} \\theta_{1}{\\left(t \\right)} + \\frac{d}{d t} \\theta_{2}{\\left(t \\right)} + \\frac{d}{d t} \\theta_{3}{\\left(t \\right)}\\right) \\sin{\\left(\\theta_{1}{\\left(t \\right)} + \\theta_{2}{\\left(t \\right)} + \\theta_{3}{\\left(t \\right)} \\right)} + 2 l_{3} \\left(- l_{1} \\sin{\\left(\\theta_{1}{\\left(t \\right)} \\right)} \\left(\\frac{d}{d t} \\theta_{1}{\\left(t \\right)}\\right)^{2} + l_{1} \\cos{\\left(\\theta_{1}{\\left(t \\right)} \\right)} \\frac{d^{2}}{d t^{2}} \\theta_{1}{\\left(t \\right)} - l_{2} \\left(\\frac{d}{d t} \\theta_{1}{\\left(t \\right)} + \\frac{d}{d t} \\theta_{2}{\\left(t \\right)}\\right)^{2} \\sin{\\left(\\theta_{1}{\\left(t \\right)} + \\theta_{2}{\\left(t \\right)} \\right)} + l_{2} \\left(\\frac{d^{2}}{d t^{2}} \\theta_{1}{\\left(t \\right)} + \\frac{d^{2}}{d t^{2}} \\theta_{2}{\\left(t \\right)}\\right) \\cos{\\left(\\theta_{1}{\\left(t \\right)} + \\theta_{2}{\\left(t \\right)} \\right)} - l_{3} \\left(\\frac{d}{d t} \\theta_{1}{\\left(t \\right)} + \\frac{d}{d t} \\theta_{2}{\\left(t \\right)} + \\frac{d}{d t} \\theta_{3}{\\left(t \\right)}\\right)^{2} \\sin{\\left(\\theta_{1}{\\left(t \\right)} + \\theta_{2}{\\left(t \\right)} + \\theta_{3}{\\left(t \\right)} \\right)} + l_{3} \\left(\\frac{d^{2}}{d t^{2}} \\theta_{1}{\\left(t \\right)} + \\frac{d^{2}}{d t^{2}} \\theta_{2}{\\left(t \\right)} + \\frac{d^{2}}{d t^{2}} \\theta_{3}{\\left(t \\right)}\\right) \\cos{\\left(\\theta_{1}{\\left(t \\right)} + \\theta_{2}{\\left(t \\right)} + \\theta_{3}{\\left(t \\right)} \\right)}\\right) \\cos{\\left(\\theta_{1}{\\left(t \\right)} + \\theta_{2}{\\left(t \\right)} + \\theta_{3}{\\left(t \\right)} \\right)} + 2 l_{3} \\left(l_{1} \\sin{\\left(\\theta_{1}{\\left(t \\right)} \\right)} \\frac{d^{2}}{d t^{2}} \\theta_{1}{\\left(t \\right)} + l_{1} \\cos{\\left(\\theta_{1}{\\left(t \\right)} \\right)} \\left(\\frac{d}{d t} \\theta_{1}{\\left(t \\right)}\\right)^{2} + l_{2} \\left(\\frac{d}{d t} \\theta_{1}{\\left(t \\right)} + \\frac{d}{d t} \\theta_{2}{\\left(t \\right)}\\right)^{2} \\cos{\\left(\\theta_{1}{\\left(t \\right)} + \\theta_{2}{\\left(t \\right)} \\right)} + l_{2} \\left(\\frac{d^{2}}{d t^{2}} \\theta_{1}{\\left(t \\right)} + \\frac{d^{2}}{d t^{2}} \\theta_{2}{\\left(t \\right)}\\right) \\sin{\\left(\\theta_{1}{\\left(t \\right)} + \\theta_{2}{\\left(t \\right)} \\right)} + l_{3} \\left(\\frac{d}{d t} \\theta_{1}{\\left(t \\right)} + \\frac{d}{d t} \\theta_{2}{\\left(t \\right)} + \\frac{d}{d t} \\theta_{3}{\\left(t \\right)}\\right)^{2} \\cos{\\left(\\theta_{1}{\\left(t \\right)} + \\theta_{2}{\\left(t \\right)} + \\theta_{3}{\\left(t \\right)} \\right)} + l_{3} \\left(\\frac{d^{2}}{d t^{2}} \\theta_{1}{\\left(t \\right)} + \\frac{d^{2}}{d t^{2}} \\theta_{2}{\\left(t \\right)} + \\frac{d^{2}}{d t^{2}} \\theta_{3}{\\left(t \\right)}\\right) \\sin{\\left(\\theta_{1}{\\left(t \\right)} + \\theta_{2}{\\left(t \\right)} + \\theta_{3}{\\left(t \\right)} \\right)}\\right) \\sin{\\left(\\theta_{1}{\\left(t \\right)} + \\theta_{2}{\\left(t \\right)} + \\theta_{3}{\\left(t \\right)} \\right)}\\right)}{2}$"
      ],
      "text/plain": [
       "g*l_3*m_3*cos(theta_1(t) + theta_2(t) + theta_3(t)) - m_3*(2*l_3*(l_1*sin(theta_1(t))*Derivative(theta_1(t), t) + l_2*(Derivative(theta_1(t), t) + Derivative(theta_2(t), t))*sin(theta_1(t) + theta_2(t)) + l_3*(Derivative(theta_1(t), t) + Derivative(theta_2(t), t) + Derivative(theta_3(t), t))*sin(theta_1(t) + theta_2(t) + theta_3(t)))*(Derivative(theta_1(t), t) + Derivative(theta_2(t), t) + Derivative(theta_3(t), t))*cos(theta_1(t) + theta_2(t) + theta_3(t)) - 2*l_3*(l_1*cos(theta_1(t))*Derivative(theta_1(t), t) + l_2*(Derivative(theta_1(t), t) + Derivative(theta_2(t), t))*cos(theta_1(t) + theta_2(t)) + l_3*(Derivative(theta_1(t), t) + Derivative(theta_2(t), t) + Derivative(theta_3(t), t))*cos(theta_1(t) + theta_2(t) + theta_3(t)))*(Derivative(theta_1(t), t) + Derivative(theta_2(t), t) + Derivative(theta_3(t), t))*sin(theta_1(t) + theta_2(t) + theta_3(t)))/2 + m_3*(2*l_3*(l_1*sin(theta_1(t))*Derivative(theta_1(t), t) + l_2*(Derivative(theta_1(t), t) + Derivative(theta_2(t), t))*sin(theta_1(t) + theta_2(t)) + l_3*(Derivative(theta_1(t), t) + Derivative(theta_2(t), t) + Derivative(theta_3(t), t))*sin(theta_1(t) + theta_2(t) + theta_3(t)))*(Derivative(theta_1(t), t) + Derivative(theta_2(t), t) + Derivative(theta_3(t), t))*cos(theta_1(t) + theta_2(t) + theta_3(t)) - 2*l_3*(l_1*cos(theta_1(t))*Derivative(theta_1(t), t) + l_2*(Derivative(theta_1(t), t) + Derivative(theta_2(t), t))*cos(theta_1(t) + theta_2(t)) + l_3*(Derivative(theta_1(t), t) + Derivative(theta_2(t), t) + Derivative(theta_3(t), t))*cos(theta_1(t) + theta_2(t) + theta_3(t)))*(Derivative(theta_1(t), t) + Derivative(theta_2(t), t) + Derivative(theta_3(t), t))*sin(theta_1(t) + theta_2(t) + theta_3(t)) + 2*l_3*(-l_1*sin(theta_1(t))*Derivative(theta_1(t), t)**2 + l_1*cos(theta_1(t))*Derivative(theta_1(t), (t, 2)) - l_2*(Derivative(theta_1(t), t) + Derivative(theta_2(t), t))**2*sin(theta_1(t) + theta_2(t)) + l_2*(Derivative(theta_1(t), (t, 2)) + Derivative(theta_2(t), (t, 2)))*cos(theta_1(t) + theta_2(t)) - l_3*(Derivative(theta_1(t), t) + Derivative(theta_2(t), t) + Derivative(theta_3(t), t))**2*sin(theta_1(t) + theta_2(t) + theta_3(t)) + l_3*(Derivative(theta_1(t), (t, 2)) + Derivative(theta_2(t), (t, 2)) + Derivative(theta_3(t), (t, 2)))*cos(theta_1(t) + theta_2(t) + theta_3(t)))*cos(theta_1(t) + theta_2(t) + theta_3(t)) + 2*l_3*(l_1*sin(theta_1(t))*Derivative(theta_1(t), (t, 2)) + l_1*cos(theta_1(t))*Derivative(theta_1(t), t)**2 + l_2*(Derivative(theta_1(t), t) + Derivative(theta_2(t), t))**2*cos(theta_1(t) + theta_2(t)) + l_2*(Derivative(theta_1(t), (t, 2)) + Derivative(theta_2(t), (t, 2)))*sin(theta_1(t) + theta_2(t)) + l_3*(Derivative(theta_1(t), t) + Derivative(theta_2(t), t) + Derivative(theta_3(t), t))**2*cos(theta_1(t) + theta_2(t) + theta_3(t)) + l_3*(Derivative(theta_1(t), (t, 2)) + Derivative(theta_2(t), (t, 2)) + Derivative(theta_3(t), (t, 2)))*sin(theta_1(t) + theta_2(t) + theta_3(t)))*sin(theta_1(t) + theta_2(t) + theta_3(t)))/2"
      ]
     },
     "execution_count": 21,
     "metadata": {},
     "output_type": "execute_result"
    }
   ],
   "source": [
    "EOM_theta_3 = diff(diff(L, Derivative(theta_3, t)), t) - diff(L, theta_3)\n",
    "EOM_theta_3 = nsimplify(EOM_theta_3)\n",
    "EOM_theta_3"
   ]
  },
  {
   "cell_type": "code",
   "execution_count": 23,
   "id": "d1e69272-5748-4ce2-9201-0fb6a354a01a",
   "metadata": {
    "tags": []
   },
   "outputs": [],
   "source": [
    "mass = sp.symarray('',(3,3))\n",
    "\n",
    "mass[0,0] = EOM_theta_1.expand().coeff(Derivative(theta_1,t,t))\n",
    "\n",
    "mass[0,1] = EOM_theta_1.expand().coeff(Derivative(theta_2,t,t))\n",
    "mass[1,0] = mass[0,1]\n",
    "\n",
    "mass[0,2] = EOM_theta_1.expand().coeff(Derivative(theta_3,t,t))\n",
    "mass[2,0] = mass[0,2]\n",
    "\n",
    "mass[1,1] = EOM_theta_2.expand().coeff(Derivative(theta_2,t,t))\n",
    "\n",
    "mass[1,2] = EOM_theta_2.expand().coeff(Derivative(theta_3,t,t))\n",
    "mass[2,1] = mass[1,2]\n",
    "\n",
    "mass[2,2] = EOM_theta_3.expand().coeff(Derivative(theta_3,t,t))\n",
    "\n",
    "mass = Matrix(mass)"
   ]
  },
  {
   "cell_type": "code",
   "execution_count": 25,
   "id": "f43dc5a7-283d-4edc-926f-d327a1c3da23",
   "metadata": {
    "tags": []
   },
   "outputs": [
    {
     "data": {
      "text/latex": [
       "$\\displaystyle \\left[\\begin{matrix}l_{1}^{2} m_{1} + l_{1}^{2} m_{2} + l_{1}^{2} m_{3} + 2 l_{1} l_{2} m_{2} \\cos{\\left(\\theta_{2}{\\left(t \\right)} \\right)} + 2 l_{1} l_{2} m_{3} \\cos{\\left(\\theta_{2}{\\left(t \\right)} \\right)} + 2 l_{1} l_{3} m_{3} \\cos{\\left(\\theta_{2}{\\left(t \\right)} + \\theta_{3}{\\left(t \\right)} \\right)} + l_{2}^{2} m_{2} + l_{2}^{2} m_{3} + 2 l_{2} l_{3} m_{3} \\cos{\\left(\\theta_{3}{\\left(t \\right)} \\right)} + l_{3}^{2} m_{3} & l_{1} l_{2} m_{2} \\cos{\\left(\\theta_{2}{\\left(t \\right)} \\right)} + l_{1} l_{2} m_{3} \\cos{\\left(\\theta_{2}{\\left(t \\right)} \\right)} + l_{1} l_{3} m_{3} \\cos{\\left(\\theta_{2}{\\left(t \\right)} + \\theta_{3}{\\left(t \\right)} \\right)} + l_{2}^{2} m_{2} + l_{2}^{2} m_{3} + 2 l_{2} l_{3} m_{3} \\cos{\\left(\\theta_{3}{\\left(t \\right)} \\right)} + l_{3}^{2} m_{3} & l_{3} m_{3} \\left(l_{1} \\cos{\\left(\\theta_{2}{\\left(t \\right)} + \\theta_{3}{\\left(t \\right)} \\right)} + l_{2} \\cos{\\left(\\theta_{3}{\\left(t \\right)} \\right)} + l_{3}\\right)\\\\l_{1} l_{2} m_{2} \\cos{\\left(\\theta_{2}{\\left(t \\right)} \\right)} + l_{1} l_{2} m_{3} \\cos{\\left(\\theta_{2}{\\left(t \\right)} \\right)} + l_{1} l_{3} m_{3} \\cos{\\left(\\theta_{2}{\\left(t \\right)} + \\theta_{3}{\\left(t \\right)} \\right)} + l_{2}^{2} m_{2} + l_{2}^{2} m_{3} + 2 l_{2} l_{3} m_{3} \\cos{\\left(\\theta_{3}{\\left(t \\right)} \\right)} + l_{3}^{2} m_{3} & l_{2}^{2} m_{2} + l_{2}^{2} m_{3} + 2 l_{2} l_{3} m_{3} \\cos{\\left(\\theta_{3}{\\left(t \\right)} \\right)} + l_{3}^{2} m_{3} & l_{3} m_{3} \\left(l_{2} \\cos{\\left(\\theta_{3}{\\left(t \\right)} \\right)} + l_{3}\\right)\\\\l_{3} m_{3} \\left(l_{1} \\cos{\\left(\\theta_{2}{\\left(t \\right)} + \\theta_{3}{\\left(t \\right)} \\right)} + l_{2} \\cos{\\left(\\theta_{3}{\\left(t \\right)} \\right)} + l_{3}\\right) & l_{3} m_{3} \\left(l_{2} \\cos{\\left(\\theta_{3}{\\left(t \\right)} \\right)} + l_{3}\\right) & l_{3}^{2} m_{3}\\end{matrix}\\right]$"
      ],
      "text/plain": [
       "Matrix([\n",
       "[l_1**2*m_1 + l_1**2*m_2 + l_1**2*m_3 + 2*l_1*l_2*m_2*cos(theta_2(t)) + 2*l_1*l_2*m_3*cos(theta_2(t)) + 2*l_1*l_3*m_3*cos(theta_2(t) + theta_3(t)) + l_2**2*m_2 + l_2**2*m_3 + 2*l_2*l_3*m_3*cos(theta_3(t)) + l_3**2*m_3, l_1*l_2*m_2*cos(theta_2(t)) + l_1*l_2*m_3*cos(theta_2(t)) + l_1*l_3*m_3*cos(theta_2(t) + theta_3(t)) + l_2**2*m_2 + l_2**2*m_3 + 2*l_2*l_3*m_3*cos(theta_3(t)) + l_3**2*m_3, l_3*m_3*(l_1*cos(theta_2(t) + theta_3(t)) + l_2*cos(theta_3(t)) + l_3)],\n",
       "[                                             l_1*l_2*m_2*cos(theta_2(t)) + l_1*l_2*m_3*cos(theta_2(t)) + l_1*l_3*m_3*cos(theta_2(t) + theta_3(t)) + l_2**2*m_2 + l_2**2*m_3 + 2*l_2*l_3*m_3*cos(theta_3(t)) + l_3**2*m_3,                                                                                                        l_2**2*m_2 + l_2**2*m_3 + 2*l_2*l_3*m_3*cos(theta_3(t)) + l_3**2*m_3,                                    l_3*m_3*(l_2*cos(theta_3(t)) + l_3)],\n",
       "[                                                                                                                                                  l_3*m_3*(l_1*cos(theta_2(t) + theta_3(t)) + l_2*cos(theta_3(t)) + l_3),                                                                                                                                         l_3*m_3*(l_2*cos(theta_3(t)) + l_3),                                                             l_3**2*m_3]])"
      ]
     },
     "execution_count": 25,
     "metadata": {},
     "output_type": "execute_result"
    }
   ],
   "source": [
    "mass = simplify(mass)\n",
    "mass"
   ]
  },
  {
   "cell_type": "markdown",
   "id": "857f1972-7633-4cb5-a9fa-e0d2d82198c5",
   "metadata": {},
   "source": [
    "The mass matrix generated from Euler-Lagrange compared to the one from the previous homework is the same!"
   ]
  },
  {
   "cell_type": "markdown",
   "id": "e566ce63-3d84-4714-8a7c-288942f4e940",
   "metadata": {},
   "source": [
    "## Question 1.2"
   ]
  },
  {
   "cell_type": "code",
   "execution_count": 33,
   "id": "33ec9c4c-917f-4773-a2a4-78a6d7b12f69",
   "metadata": {
    "tags": []
   },
   "outputs": [],
   "source": [
    "accel_state_vector = Matrix([[Derivative(theta_1, t, t)], [Derivative(theta_2, t, t)], [Derivative(theta_3, t, t)]])\n",
    "\n",
    "EOM1_leftover = simplify(EOM_theta_1.expand() - (mass[0,:]*accel_state_vector)[0])\n",
    "EOM2_leftover = simplify(EOM_theta_2.expand() - (mass[1,:]*accel_state_vector)[0])\n",
    "EOM3_leftover = simplify(EOM_theta_3.expand() - (mass[2,:]*accel_state_vector)[0])"
   ]
  },
  {
   "cell_type": "code",
   "execution_count": 35,
   "id": "dd9d91d4-fafa-4cc0-a91d-6b8769c1b75d",
   "metadata": {
    "tags": []
   },
   "outputs": [
    {
     "data": {
      "text/latex": [
       "$\\displaystyle g l_{1} m_{1} \\cos{\\left(\\theta_{1}{\\left(t \\right)} \\right)} + g l_{1} m_{2} \\cos{\\left(\\theta_{1}{\\left(t \\right)} \\right)} + g l_{1} m_{3} \\cos{\\left(\\theta_{1}{\\left(t \\right)} \\right)} + g l_{2} m_{2} \\cos{\\left(\\theta_{1}{\\left(t \\right)} + \\theta_{2}{\\left(t \\right)} \\right)} + g l_{2} m_{3} \\cos{\\left(\\theta_{1}{\\left(t \\right)} + \\theta_{2}{\\left(t \\right)} \\right)} + g l_{3} m_{3} \\cos{\\left(\\theta_{1}{\\left(t \\right)} + \\theta_{2}{\\left(t \\right)} + \\theta_{3}{\\left(t \\right)} \\right)} - 2 l_{1} l_{2} m_{2} \\sin{\\left(\\theta_{2}{\\left(t \\right)} \\right)} \\frac{d}{d t} \\theta_{1}{\\left(t \\right)} \\frac{d}{d t} \\theta_{2}{\\left(t \\right)} - l_{1} l_{2} m_{2} \\sin{\\left(\\theta_{2}{\\left(t \\right)} \\right)} \\left(\\frac{d}{d t} \\theta_{2}{\\left(t \\right)}\\right)^{2} - 2 l_{1} l_{2} m_{3} \\sin{\\left(\\theta_{2}{\\left(t \\right)} \\right)} \\frac{d}{d t} \\theta_{1}{\\left(t \\right)} \\frac{d}{d t} \\theta_{2}{\\left(t \\right)} - l_{1} l_{2} m_{3} \\sin{\\left(\\theta_{2}{\\left(t \\right)} \\right)} \\left(\\frac{d}{d t} \\theta_{2}{\\left(t \\right)}\\right)^{2} - 2 l_{1} l_{3} m_{3} \\sin{\\left(\\theta_{2}{\\left(t \\right)} + \\theta_{3}{\\left(t \\right)} \\right)} \\frac{d}{d t} \\theta_{1}{\\left(t \\right)} \\frac{d}{d t} \\theta_{2}{\\left(t \\right)} - 2 l_{1} l_{3} m_{3} \\sin{\\left(\\theta_{2}{\\left(t \\right)} + \\theta_{3}{\\left(t \\right)} \\right)} \\frac{d}{d t} \\theta_{1}{\\left(t \\right)} \\frac{d}{d t} \\theta_{3}{\\left(t \\right)} - l_{1} l_{3} m_{3} \\sin{\\left(\\theta_{2}{\\left(t \\right)} + \\theta_{3}{\\left(t \\right)} \\right)} \\left(\\frac{d}{d t} \\theta_{2}{\\left(t \\right)}\\right)^{2} - 2 l_{1} l_{3} m_{3} \\sin{\\left(\\theta_{2}{\\left(t \\right)} + \\theta_{3}{\\left(t \\right)} \\right)} \\frac{d}{d t} \\theta_{2}{\\left(t \\right)} \\frac{d}{d t} \\theta_{3}{\\left(t \\right)} - l_{1} l_{3} m_{3} \\sin{\\left(\\theta_{2}{\\left(t \\right)} + \\theta_{3}{\\left(t \\right)} \\right)} \\left(\\frac{d}{d t} \\theta_{3}{\\left(t \\right)}\\right)^{2} - 2 l_{2} l_{3} m_{3} \\sin{\\left(\\theta_{3}{\\left(t \\right)} \\right)} \\frac{d}{d t} \\theta_{1}{\\left(t \\right)} \\frac{d}{d t} \\theta_{3}{\\left(t \\right)} - 2 l_{2} l_{3} m_{3} \\sin{\\left(\\theta_{3}{\\left(t \\right)} \\right)} \\frac{d}{d t} \\theta_{2}{\\left(t \\right)} \\frac{d}{d t} \\theta_{3}{\\left(t \\right)} - l_{2} l_{3} m_{3} \\sin{\\left(\\theta_{3}{\\left(t \\right)} \\right)} \\left(\\frac{d}{d t} \\theta_{3}{\\left(t \\right)}\\right)^{2}$"
      ],
      "text/plain": [
       "g*l_1*m_1*cos(theta_1(t)) + g*l_1*m_2*cos(theta_1(t)) + g*l_1*m_3*cos(theta_1(t)) + g*l_2*m_2*cos(theta_1(t) + theta_2(t)) + g*l_2*m_3*cos(theta_1(t) + theta_2(t)) + g*l_3*m_3*cos(theta_1(t) + theta_2(t) + theta_3(t)) - 2*l_1*l_2*m_2*sin(theta_2(t))*Derivative(theta_1(t), t)*Derivative(theta_2(t), t) - l_1*l_2*m_2*sin(theta_2(t))*Derivative(theta_2(t), t)**2 - 2*l_1*l_2*m_3*sin(theta_2(t))*Derivative(theta_1(t), t)*Derivative(theta_2(t), t) - l_1*l_2*m_3*sin(theta_2(t))*Derivative(theta_2(t), t)**2 - 2*l_1*l_3*m_3*sin(theta_2(t) + theta_3(t))*Derivative(theta_1(t), t)*Derivative(theta_2(t), t) - 2*l_1*l_3*m_3*sin(theta_2(t) + theta_3(t))*Derivative(theta_1(t), t)*Derivative(theta_3(t), t) - l_1*l_3*m_3*sin(theta_2(t) + theta_3(t))*Derivative(theta_2(t), t)**2 - 2*l_1*l_3*m_3*sin(theta_2(t) + theta_3(t))*Derivative(theta_2(t), t)*Derivative(theta_3(t), t) - l_1*l_3*m_3*sin(theta_2(t) + theta_3(t))*Derivative(theta_3(t), t)**2 - 2*l_2*l_3*m_3*sin(theta_3(t))*Derivative(theta_1(t), t)*Derivative(theta_3(t), t) - 2*l_2*l_3*m_3*sin(theta_3(t))*Derivative(theta_2(t), t)*Derivative(theta_3(t), t) - l_2*l_3*m_3*sin(theta_3(t))*Derivative(theta_3(t), t)**2"
      ]
     },
     "execution_count": 35,
     "metadata": {},
     "output_type": "execute_result"
    }
   ],
   "source": [
    "EOM1_leftover"
   ]
  },
  {
   "cell_type": "code",
   "execution_count": 36,
   "id": "433dd7d0-5add-46b9-aacc-be4c783e7bb0",
   "metadata": {
    "tags": []
   },
   "outputs": [
    {
     "data": {
      "text/latex": [
       "$\\displaystyle g l_{2} m_{2} \\cos{\\left(\\theta_{1}{\\left(t \\right)} + \\theta_{2}{\\left(t \\right)} \\right)} + g l_{2} m_{3} \\cos{\\left(\\theta_{1}{\\left(t \\right)} + \\theta_{2}{\\left(t \\right)} \\right)} + g l_{3} m_{3} \\cos{\\left(\\theta_{1}{\\left(t \\right)} + \\theta_{2}{\\left(t \\right)} + \\theta_{3}{\\left(t \\right)} \\right)} + l_{1} l_{2} m_{2} \\sin{\\left(\\theta_{2}{\\left(t \\right)} \\right)} \\left(\\frac{d}{d t} \\theta_{1}{\\left(t \\right)}\\right)^{2} + l_{1} l_{2} m_{3} \\sin{\\left(\\theta_{2}{\\left(t \\right)} \\right)} \\left(\\frac{d}{d t} \\theta_{1}{\\left(t \\right)}\\right)^{2} + l_{1} l_{3} m_{3} \\sin{\\left(\\theta_{2}{\\left(t \\right)} + \\theta_{3}{\\left(t \\right)} \\right)} \\left(\\frac{d}{d t} \\theta_{1}{\\left(t \\right)}\\right)^{2} - 2 l_{2} l_{3} m_{3} \\sin{\\left(\\theta_{3}{\\left(t \\right)} \\right)} \\frac{d}{d t} \\theta_{1}{\\left(t \\right)} \\frac{d}{d t} \\theta_{3}{\\left(t \\right)} - 2 l_{2} l_{3} m_{3} \\sin{\\left(\\theta_{3}{\\left(t \\right)} \\right)} \\frac{d}{d t} \\theta_{2}{\\left(t \\right)} \\frac{d}{d t} \\theta_{3}{\\left(t \\right)} - l_{2} l_{3} m_{3} \\sin{\\left(\\theta_{3}{\\left(t \\right)} \\right)} \\left(\\frac{d}{d t} \\theta_{3}{\\left(t \\right)}\\right)^{2}$"
      ],
      "text/plain": [
       "g*l_2*m_2*cos(theta_1(t) + theta_2(t)) + g*l_2*m_3*cos(theta_1(t) + theta_2(t)) + g*l_3*m_3*cos(theta_1(t) + theta_2(t) + theta_3(t)) + l_1*l_2*m_2*sin(theta_2(t))*Derivative(theta_1(t), t)**2 + l_1*l_2*m_3*sin(theta_2(t))*Derivative(theta_1(t), t)**2 + l_1*l_3*m_3*sin(theta_2(t) + theta_3(t))*Derivative(theta_1(t), t)**2 - 2*l_2*l_3*m_3*sin(theta_3(t))*Derivative(theta_1(t), t)*Derivative(theta_3(t), t) - 2*l_2*l_3*m_3*sin(theta_3(t))*Derivative(theta_2(t), t)*Derivative(theta_3(t), t) - l_2*l_3*m_3*sin(theta_3(t))*Derivative(theta_3(t), t)**2"
      ]
     },
     "execution_count": 36,
     "metadata": {},
     "output_type": "execute_result"
    }
   ],
   "source": [
    "EOM2_leftover"
   ]
  },
  {
   "cell_type": "code",
   "execution_count": 37,
   "id": "a3f90910-6462-4c48-bb64-36ba3d0fe3d8",
   "metadata": {
    "tags": []
   },
   "outputs": [
    {
     "data": {
      "text/latex": [
       "$\\displaystyle l_{3} m_{3} \\left(g \\cos{\\left(\\theta_{1}{\\left(t \\right)} + \\theta_{2}{\\left(t \\right)} + \\theta_{3}{\\left(t \\right)} \\right)} + l_{1} \\sin{\\left(\\theta_{2}{\\left(t \\right)} + \\theta_{3}{\\left(t \\right)} \\right)} \\left(\\frac{d}{d t} \\theta_{1}{\\left(t \\right)}\\right)^{2} + l_{2} \\sin{\\left(\\theta_{3}{\\left(t \\right)} \\right)} \\left(\\frac{d}{d t} \\theta_{1}{\\left(t \\right)}\\right)^{2} + 2 l_{2} \\sin{\\left(\\theta_{3}{\\left(t \\right)} \\right)} \\frac{d}{d t} \\theta_{1}{\\left(t \\right)} \\frac{d}{d t} \\theta_{2}{\\left(t \\right)} + l_{2} \\sin{\\left(\\theta_{3}{\\left(t \\right)} \\right)} \\left(\\frac{d}{d t} \\theta_{2}{\\left(t \\right)}\\right)^{2}\\right)$"
      ],
      "text/plain": [
       "l_3*m_3*(g*cos(theta_1(t) + theta_2(t) + theta_3(t)) + l_1*sin(theta_2(t) + theta_3(t))*Derivative(theta_1(t), t)**2 + l_2*sin(theta_3(t))*Derivative(theta_1(t), t)**2 + 2*l_2*sin(theta_3(t))*Derivative(theta_1(t), t)*Derivative(theta_2(t), t) + l_2*sin(theta_3(t))*Derivative(theta_2(t), t)**2)"
      ]
     },
     "execution_count": 37,
     "metadata": {},
     "output_type": "execute_result"
    }
   ],
   "source": [
    "EOM3_leftover"
   ]
  },
  {
   "cell_type": "code",
   "execution_count": 39,
   "id": "ff9cee97-04e5-4c5a-a473-853bc5ff06a9",
   "metadata": {
    "tags": []
   },
   "outputs": [
    {
     "data": {
      "text/latex": [
       "$\\displaystyle g l_{1} m_{1} \\cos{\\left(\\theta_{1}{\\left(t \\right)} \\right)} + g l_{1} m_{2} \\cos{\\left(\\theta_{1}{\\left(t \\right)} \\right)} + g l_{1} m_{3} \\cos{\\left(\\theta_{1}{\\left(t \\right)} \\right)} + g l_{2} m_{2} \\cos{\\left(\\theta_{1}{\\left(t \\right)} + \\theta_{2}{\\left(t \\right)} \\right)} + g l_{2} m_{3} \\cos{\\left(\\theta_{1}{\\left(t \\right)} + \\theta_{2}{\\left(t \\right)} \\right)} + g l_{3} m_{3} \\cos{\\left(\\theta_{1}{\\left(t \\right)} + \\theta_{2}{\\left(t \\right)} + \\theta_{3}{\\left(t \\right)} \\right)}$"
      ],
      "text/plain": [
       "g*l_1*m_1*cos(theta_1(t)) + g*l_1*m_2*cos(theta_1(t)) + g*l_1*m_3*cos(theta_1(t)) + g*l_2*m_2*cos(theta_1(t) + theta_2(t)) + g*l_2*m_3*cos(theta_1(t) + theta_2(t)) + g*l_3*m_3*cos(theta_1(t) + theta_2(t) + theta_3(t))"
      ]
     },
     "execution_count": 39,
     "metadata": {},
     "output_type": "execute_result"
    }
   ],
   "source": [
    "G_1 = EOM1_leftover.subs([(Derivative(theta_1, t), 0), (Derivative(theta_2, t), 0), (Derivative(theta_3, t), 0)])\n",
    "G_1"
   ]
  },
  {
   "cell_type": "code",
   "execution_count": 40,
   "id": "18c78830-c159-438a-b7f4-10667b9629c6",
   "metadata": {
    "tags": []
   },
   "outputs": [
    {
     "data": {
      "text/latex": [
       "$\\displaystyle g l_{2} m_{2} \\cos{\\left(\\theta_{1}{\\left(t \\right)} + \\theta_{2}{\\left(t \\right)} \\right)} + g l_{2} m_{3} \\cos{\\left(\\theta_{1}{\\left(t \\right)} + \\theta_{2}{\\left(t \\right)} \\right)} + g l_{3} m_{3} \\cos{\\left(\\theta_{1}{\\left(t \\right)} + \\theta_{2}{\\left(t \\right)} + \\theta_{3}{\\left(t \\right)} \\right)}$"
      ],
      "text/plain": [
       "g*l_2*m_2*cos(theta_1(t) + theta_2(t)) + g*l_2*m_3*cos(theta_1(t) + theta_2(t)) + g*l_3*m_3*cos(theta_1(t) + theta_2(t) + theta_3(t))"
      ]
     },
     "execution_count": 40,
     "metadata": {},
     "output_type": "execute_result"
    }
   ],
   "source": [
    "G_2 = EOM2_leftover.subs([(Derivative(theta_1, t), 0), (Derivative(theta_2, t), 0), (Derivative(theta_3, t), 0)])\n",
    "G_2"
   ]
  },
  {
   "cell_type": "code",
   "execution_count": 42,
   "id": "5d238a3c-8be1-4ced-b4df-4d8813e5cc5d",
   "metadata": {
    "tags": []
   },
   "outputs": [
    {
     "data": {
      "text/latex": [
       "$\\displaystyle g l_{3} m_{3} \\cos{\\left(\\theta_{1}{\\left(t \\right)} + \\theta_{2}{\\left(t \\right)} + \\theta_{3}{\\left(t \\right)} \\right)}$"
      ],
      "text/plain": [
       "g*l_3*m_3*cos(theta_1(t) + theta_2(t) + theta_3(t))"
      ]
     },
     "execution_count": 42,
     "metadata": {},
     "output_type": "execute_result"
    }
   ],
   "source": [
    "G_3 = EOM3_leftover.subs([(Derivative(theta_1, t), 0), (Derivative(theta_2, t), 0), (Derivative(theta_3, t), 0)])\n",
    "G_3"
   ]
  },
  {
   "cell_type": "code",
   "execution_count": 46,
   "id": "924cd464-23fb-44c8-a74a-3847664950c5",
   "metadata": {
    "tags": []
   },
   "outputs": [
    {
     "data": {
      "text/latex": [
       "$\\displaystyle - 2 l_{1} l_{2} m_{2} \\sin{\\left(\\theta_{2}{\\left(t \\right)} \\right)} \\frac{d}{d t} \\theta_{1}{\\left(t \\right)} \\frac{d}{d t} \\theta_{2}{\\left(t \\right)} - l_{1} l_{2} m_{2} \\sin{\\left(\\theta_{2}{\\left(t \\right)} \\right)} \\left(\\frac{d}{d t} \\theta_{2}{\\left(t \\right)}\\right)^{2} - 2 l_{1} l_{2} m_{3} \\sin{\\left(\\theta_{2}{\\left(t \\right)} \\right)} \\frac{d}{d t} \\theta_{1}{\\left(t \\right)} \\frac{d}{d t} \\theta_{2}{\\left(t \\right)} - l_{1} l_{2} m_{3} \\sin{\\left(\\theta_{2}{\\left(t \\right)} \\right)} \\left(\\frac{d}{d t} \\theta_{2}{\\left(t \\right)}\\right)^{2} - 2 l_{1} l_{3} m_{3} \\sin{\\left(\\theta_{2}{\\left(t \\right)} + \\theta_{3}{\\left(t \\right)} \\right)} \\frac{d}{d t} \\theta_{1}{\\left(t \\right)} \\frac{d}{d t} \\theta_{2}{\\left(t \\right)} - 2 l_{1} l_{3} m_{3} \\sin{\\left(\\theta_{2}{\\left(t \\right)} + \\theta_{3}{\\left(t \\right)} \\right)} \\frac{d}{d t} \\theta_{1}{\\left(t \\right)} \\frac{d}{d t} \\theta_{3}{\\left(t \\right)} - l_{1} l_{3} m_{3} \\sin{\\left(\\theta_{2}{\\left(t \\right)} + \\theta_{3}{\\left(t \\right)} \\right)} \\left(\\frac{d}{d t} \\theta_{2}{\\left(t \\right)}\\right)^{2} - 2 l_{1} l_{3} m_{3} \\sin{\\left(\\theta_{2}{\\left(t \\right)} + \\theta_{3}{\\left(t \\right)} \\right)} \\frac{d}{d t} \\theta_{2}{\\left(t \\right)} \\frac{d}{d t} \\theta_{3}{\\left(t \\right)} - l_{1} l_{3} m_{3} \\sin{\\left(\\theta_{2}{\\left(t \\right)} + \\theta_{3}{\\left(t \\right)} \\right)} \\left(\\frac{d}{d t} \\theta_{3}{\\left(t \\right)}\\right)^{2} - 2 l_{2} l_{3} m_{3} \\sin{\\left(\\theta_{3}{\\left(t \\right)} \\right)} \\frac{d}{d t} \\theta_{1}{\\left(t \\right)} \\frac{d}{d t} \\theta_{3}{\\left(t \\right)} - 2 l_{2} l_{3} m_{3} \\sin{\\left(\\theta_{3}{\\left(t \\right)} \\right)} \\frac{d}{d t} \\theta_{2}{\\left(t \\right)} \\frac{d}{d t} \\theta_{3}{\\left(t \\right)} - l_{2} l_{3} m_{3} \\sin{\\left(\\theta_{3}{\\left(t \\right)} \\right)} \\left(\\frac{d}{d t} \\theta_{3}{\\left(t \\right)}\\right)^{2}$"
      ],
      "text/plain": [
       "-2*l_1*l_2*m_2*sin(theta_2(t))*Derivative(theta_1(t), t)*Derivative(theta_2(t), t) - l_1*l_2*m_2*sin(theta_2(t))*Derivative(theta_2(t), t)**2 - 2*l_1*l_2*m_3*sin(theta_2(t))*Derivative(theta_1(t), t)*Derivative(theta_2(t), t) - l_1*l_2*m_3*sin(theta_2(t))*Derivative(theta_2(t), t)**2 - 2*l_1*l_3*m_3*sin(theta_2(t) + theta_3(t))*Derivative(theta_1(t), t)*Derivative(theta_2(t), t) - 2*l_1*l_3*m_3*sin(theta_2(t) + theta_3(t))*Derivative(theta_1(t), t)*Derivative(theta_3(t), t) - l_1*l_3*m_3*sin(theta_2(t) + theta_3(t))*Derivative(theta_2(t), t)**2 - 2*l_1*l_3*m_3*sin(theta_2(t) + theta_3(t))*Derivative(theta_2(t), t)*Derivative(theta_3(t), t) - l_1*l_3*m_3*sin(theta_2(t) + theta_3(t))*Derivative(theta_3(t), t)**2 - 2*l_2*l_3*m_3*sin(theta_3(t))*Derivative(theta_1(t), t)*Derivative(theta_3(t), t) - 2*l_2*l_3*m_3*sin(theta_3(t))*Derivative(theta_2(t), t)*Derivative(theta_3(t), t) - l_2*l_3*m_3*sin(theta_3(t))*Derivative(theta_3(t), t)**2"
      ]
     },
     "execution_count": 46,
     "metadata": {},
     "output_type": "execute_result"
    }
   ],
   "source": [
    "C_1 = EOM1_leftover - G_1\n",
    "C_1"
   ]
  },
  {
   "cell_type": "code",
   "execution_count": 44,
   "id": "092c71d3-745d-4fd0-b123-c37fadfe3b3e",
   "metadata": {
    "tags": []
   },
   "outputs": [
    {
     "data": {
      "text/latex": [
       "$\\displaystyle l_{1} l_{2} m_{2} \\sin{\\left(\\theta_{2}{\\left(t \\right)} \\right)} \\left(\\frac{d}{d t} \\theta_{1}{\\left(t \\right)}\\right)^{2} + l_{1} l_{2} m_{3} \\sin{\\left(\\theta_{2}{\\left(t \\right)} \\right)} \\left(\\frac{d}{d t} \\theta_{1}{\\left(t \\right)}\\right)^{2} + l_{1} l_{3} m_{3} \\sin{\\left(\\theta_{2}{\\left(t \\right)} + \\theta_{3}{\\left(t \\right)} \\right)} \\left(\\frac{d}{d t} \\theta_{1}{\\left(t \\right)}\\right)^{2} - 2 l_{2} l_{3} m_{3} \\sin{\\left(\\theta_{3}{\\left(t \\right)} \\right)} \\frac{d}{d t} \\theta_{1}{\\left(t \\right)} \\frac{d}{d t} \\theta_{3}{\\left(t \\right)} - 2 l_{2} l_{3} m_{3} \\sin{\\left(\\theta_{3}{\\left(t \\right)} \\right)} \\frac{d}{d t} \\theta_{2}{\\left(t \\right)} \\frac{d}{d t} \\theta_{3}{\\left(t \\right)} - l_{2} l_{3} m_{3} \\sin{\\left(\\theta_{3}{\\left(t \\right)} \\right)} \\left(\\frac{d}{d t} \\theta_{3}{\\left(t \\right)}\\right)^{2}$"
      ],
      "text/plain": [
       "l_1*l_2*m_2*sin(theta_2(t))*Derivative(theta_1(t), t)**2 + l_1*l_2*m_3*sin(theta_2(t))*Derivative(theta_1(t), t)**2 + l_1*l_3*m_3*sin(theta_2(t) + theta_3(t))*Derivative(theta_1(t), t)**2 - 2*l_2*l_3*m_3*sin(theta_3(t))*Derivative(theta_1(t), t)*Derivative(theta_3(t), t) - 2*l_2*l_3*m_3*sin(theta_3(t))*Derivative(theta_2(t), t)*Derivative(theta_3(t), t) - l_2*l_3*m_3*sin(theta_3(t))*Derivative(theta_3(t), t)**2"
      ]
     },
     "execution_count": 44,
     "metadata": {},
     "output_type": "execute_result"
    }
   ],
   "source": [
    "C_2 = simplify(EOM2_leftover - G_2)\n",
    "C_2"
   ]
  },
  {
   "cell_type": "code",
   "execution_count": 47,
   "id": "40e150da-7f2e-4e6e-a1d7-3190aaef6712",
   "metadata": {
    "tags": []
   },
   "outputs": [
    {
     "data": {
      "text/latex": [
       "$\\displaystyle l_{3} m_{3} \\left(l_{1} \\sin{\\left(\\theta_{2}{\\left(t \\right)} + \\theta_{3}{\\left(t \\right)} \\right)} \\left(\\frac{d}{d t} \\theta_{1}{\\left(t \\right)}\\right)^{2} + l_{2} \\sin{\\left(\\theta_{3}{\\left(t \\right)} \\right)} \\left(\\frac{d}{d t} \\theta_{1}{\\left(t \\right)}\\right)^{2} + 2 l_{2} \\sin{\\left(\\theta_{3}{\\left(t \\right)} \\right)} \\frac{d}{d t} \\theta_{1}{\\left(t \\right)} \\frac{d}{d t} \\theta_{2}{\\left(t \\right)} + l_{2} \\sin{\\left(\\theta_{3}{\\left(t \\right)} \\right)} \\left(\\frac{d}{d t} \\theta_{2}{\\left(t \\right)}\\right)^{2}\\right)$"
      ],
      "text/plain": [
       "l_3*m_3*(l_1*sin(theta_2(t) + theta_3(t))*Derivative(theta_1(t), t)**2 + l_2*sin(theta_3(t))*Derivative(theta_1(t), t)**2 + 2*l_2*sin(theta_3(t))*Derivative(theta_1(t), t)*Derivative(theta_2(t), t) + l_2*sin(theta_3(t))*Derivative(theta_2(t), t)**2)"
      ]
     },
     "execution_count": 47,
     "metadata": {},
     "output_type": "execute_result"
    }
   ],
   "source": [
    "C_3 = simplify(EOM3_leftover - G_3)\n",
    "C_3"
   ]
  },
  {
   "cell_type": "code",
   "execution_count": null,
   "id": "5910b528-f220-40e1-a87a-4c2c792697cc",
   "metadata": {
    "tags": []
   },
   "outputs": [],
   "source": [
    "simplify(Matrix([[EOM_theta_1], [EOM_theta_2], [EOM_theta_3]]) - (mass*accel_state_vector + Matrix([[C_1], [C_2], [C_3]]) + Matrix([[G_1], [G_2], [G_3]])))"
   ]
  }
 ],
 "metadata": {
  "kernelspec": {
   "display_name": "Python 3 (ipykernel)",
   "language": "python",
   "name": "python3"
  },
  "language_info": {
   "codemirror_mode": {
    "name": "ipython",
    "version": 3
   },
   "file_extension": ".py",
   "mimetype": "text/x-python",
   "name": "python",
   "nbconvert_exporter": "python",
   "pygments_lexer": "ipython3",
   "version": "3.11.5"
  }
 },
 "nbformat": 4,
 "nbformat_minor": 5
}
