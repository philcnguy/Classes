{
 "cells": [
  {
   "cell_type": "raw",
   "id": "1132cca5-154a-4ae1-9a65-0c794c9772c7",
   "metadata": {},
   "source": [
    "theta_dot_n+1 is a function of theta_dot_n\n",
    "for the return map, theta_dot_n+1 = theta_dot_n, so plug in theta_dot_star for both and solve for it"
   ]
  }
 ],
 "metadata": {
  "kernelspec": {
   "display_name": "Python 3 (ipykernel)",
   "language": "python",
   "name": "python3"
  },
  "language_info": {
   "codemirror_mode": {
    "name": "ipython",
    "version": 3
   },
   "file_extension": ".py",
   "mimetype": "text/x-python",
   "name": "python",
   "nbconvert_exporter": "python",
   "pygments_lexer": "ipython3",
   "version": "3.11.5"
  }
 },
 "nbformat": 4,
 "nbformat_minor": 5
}
