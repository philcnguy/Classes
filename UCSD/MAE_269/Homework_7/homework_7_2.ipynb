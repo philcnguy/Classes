{
 "cells": [
  {
   "cell_type": "raw",
   "id": "1132cca5-154a-4ae1-9a65-0c794c9772c7",
   "metadata": {},
   "source": [
    "theta_dot_n+1 is a function of theta_dot_n\n",
    "for the return map, theta_dot_n+1 = theta_dot_n, so plug in theta_dot_star for both and solve for it"
   ]
  },
  {
   "cell_type": "markdown",
   "id": "6b001c8e-c14f-4c17-8c90-8aac05a8c362",
   "metadata": {},
   "source": [
    "# Question 2"
   ]
  },
  {
   "cell_type": "markdown",
   "id": "db2e5ea1-0112-4249-9f10-1cc04663ee77",
   "metadata": {},
   "source": [
    "## Question 2.1"
   ]
  },
  {
   "cell_type": "code",
   "execution_count": null,
   "id": "2f718116-9c41-4ca0-b619-f28a5f968be2",
   "metadata": {},
   "outputs": [],
   "source": []
  }
 ],
 "metadata": {
  "kernelspec": {
   "display_name": "Python 3 (ipykernel)",
   "language": "python",
   "name": "python3"
  },
  "language_info": {
   "codemirror_mode": {
    "name": "ipython",
    "version": 3
   },
   "file_extension": ".py",
   "mimetype": "text/x-python",
   "name": "python",
   "nbconvert_exporter": "python",
   "pygments_lexer": "ipython3",
   "version": "3.9.18"
  }
 },
 "nbformat": 4,
 "nbformat_minor": 5
}
