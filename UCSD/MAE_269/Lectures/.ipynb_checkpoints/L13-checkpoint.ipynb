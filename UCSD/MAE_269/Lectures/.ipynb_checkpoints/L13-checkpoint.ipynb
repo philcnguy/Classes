{
 "cells": [
  {
   "cell_type": "markdown",
   "id": "745900f9-c533-4297-9577-bdfe9aa8e0ae",
   "metadata": {},
   "source": [
    "# Lecture 13"
   ]
  },
  {
   "cell_type": "code",
   "execution_count": 1,
   "id": "76f349da-3dd5-48e9-96f2-736e043f980e",
   "metadata": {
    "tags": []
   },
   "outputs": [],
   "source": [
    "# symbolic computation tools\n",
    "import sympy as sp\n",
    "from sympy import symbols, pprint\n",
    "from sympy import sin, cos, asin, acos, pi\n",
    "from sympy import Matrix, simplify, Function, diff, Derivative, nsimplify\n",
    "\n",
    "import numpy as np\n",
    "\n",
    "# from IPython import display # for the animation\n",
    "import matplotlib as mpl\n",
    "mpl.use('Qt5Agg')\n",
    "\n",
    "import matplotlib.pyplot as plt\n",
    "plt.ion()\n",
    "\n",
    "\n",
    "# styling for plots\n",
    "mpl.rcParams['axes.titlesize'] = 24\n",
    "mpl.rcParams['axes.labelsize'] = 20\n",
    "mpl.rcParams['lines.linewidth'] = 3\n",
    "mpl.rcParams['lines.markersize'] = 10\n",
    "mpl.rcParams['xtick.labelsize'] = 16\n",
    "mpl.rcParams['ytick.labelsize'] = 16\n",
    "    \n"
   ]
  },
  {
   "cell_type": "markdown",
   "id": "89cc4d06-fc3e-4d18-b0cf-8aeb57d00186",
   "metadata": {},
   "source": [
    "Define our symbolic variables that define our robot configuration"
   ]
  },
  {
   "cell_type": "code",
   "execution_count": 2,
   "id": "c1b1a731-a962-49a6-9457-876795184187",
   "metadata": {
    "tags": []
   },
   "outputs": [],
   "source": [
    "# We wrap in parentheses here so we can write it on multiple lines. Similar\n",
    "# with the triple quotes on the string. Usually we don't need to use these things.\n",
    "(t, \n",
    " theta_1, \n",
    " theta_2, \n",
    " theta_3, \n",
    " l_1, \n",
    " l_2, \n",
    " l_3, \n",
    " s) = symbols(\"\"\"t, \n",
    "                 theta_1 \n",
    "                 theta_2 \n",
    "                 theta_3 \n",
    "                 l_1 \n",
    "                 l_2 \n",
    "                 l_3\n",
    "                 s\"\"\" , real = True)\n",
    "\n",
    "\n",
    "theta_1 = Function('theta_1', real=True)(t)\n",
    "theta_2 = Function('theta_2', real=True)(t)\n",
    "theta_3 = Function('theta_3', real=True)(t)"
   ]
  },
  {
   "cell_type": "markdown",
   "id": "d5ff9b4a-b6a6-482f-aac6-6d87bad21e00",
   "metadata": {},
   "source": [
    "Let's define our homogeneous transformation matrix that applies a rotation and a translation to vectors and matrices"
   ]
  },
  {
   "cell_type": "code",
   "execution_count": 3,
   "id": "43a8f543-e52a-457c-a2d8-8c95669f6ea2",
   "metadata": {
    "tags": []
   },
   "outputs": [],
   "source": [
    "def T(theta, x, y):\n",
    "    \"\"\"\n",
    "    Function to return an arbitrary transformation matrix \n",
    "    This is for sympy symbolic calculation\n",
    "    \"\"\"\n",
    "    return Matrix([[cos(theta), -sin(theta), x], \n",
    "                   [sin(theta), cos(theta), y],\n",
    "                   [0, 0, 1]])\n",
    "\n",
    "def sym_to_np(T):\n",
    "    return np.array(T).astype(np.float64)"
   ]
  },
  {
   "cell_type": "code",
   "execution_count": 4,
   "id": "ad3da228-dc4a-4fec-89d5-33958782c37f",
   "metadata": {
    "tags": []
   },
   "outputs": [],
   "source": [
    "def draw_robot(ordered_list_of_transformations):\n",
    "    \"\"\"\n",
    "    Draw the configuration of the three-link jumper.\n",
    "    \"\"\"\n",
    "    ax_lw = 3\n",
    "    link_lw = 1\n",
    "\n",
    "    # homogeneous unit vectors \n",
    "    x = np.array([[1, 0, 1]]).T \n",
    "    y = np.array([[0, 1, 1]]).T\n",
    "    origin = np.array([[0, 0, 1]]).T\n",
    "\n",
    "    prev_origin = np.array([[0, 0, 1]]).T    \n",
    "    current_transformation = np.eye(3)\n",
    "\n",
    "    plt.clf()\n",
    "    ax = plt.gca()  # get current axis\n",
    "\n",
    "    # now we plot\n",
    "    plt.plot([prev_origin[0][0]], [prev_origin[1][0]], '-ko',linewidth=link_lw)\n",
    "    plt.plot([prev_origin[0][0], x[0][0]], [prev_origin[1][0], x[1][0]], '-ro', linewidth=ax_lw)\n",
    "    plt.plot([prev_origin[0][0], y[0][0]], [prev_origin[1][0], y[1][0]], '-go', linewidth=ax_lw)\n",
    "\n",
    "\n",
    "    # loop the transforms in order of T_01, T_12, ... , T_N-1N\n",
    "    for k, transform in enumerate(ordered_list_of_transformations):\n",
    "\n",
    "        # update the transformation\n",
    "        current_transformation = current_transformation @ transform\n",
    "        new_origin = current_transformation @ origin\n",
    "        new_x = current_transformation @ x\n",
    "        new_y = current_transformation @ y\n",
    "\n",
    "        # now we plot\n",
    "        plt.plot([prev_origin[0][0], new_origin[0][0]], \n",
    "                 [prev_origin[1][0], new_origin[1][0]], \n",
    "                 '-ko',linewidth=link_lw)\n",
    "        \n",
    "        plt.plot([new_origin[0][0], new_x[0][0]], [new_origin[1][0], new_x[1][0]], '-r', linewidth=ax_lw)\n",
    "        plt.plot([new_origin[0][0], new_y[0][0]], [new_origin[1][0], new_y[1][0]], '-g', linewidth=ax_lw)\n",
    "\n",
    "\n",
    "#         ax.annotate('{'+str(k+1)+'}', xy=new_origin[0:2][0], xytext=new_origin[0:2][0])\n",
    "\n",
    "        # lastly update the current_origin to the new_origin\n",
    "        prev_origin = new_origin\n",
    "\n",
    "    # lastly set the axes to be equal and appropriate\n",
    "    ax.set_aspect('equal')\n",
    "    ax.set_xlabel('x')\n",
    "    ax.set_ylabel('y')    "
   ]
  },
  {
   "cell_type": "code",
   "execution_count": 5,
   "id": "9cfe5080-5efc-4d48-a9f3-48677cc6d20b",
   "metadata": {
    "tags": []
   },
   "outputs": [],
   "source": [
    "T_01 = T(theta_1, 0, 0)\n",
    "T_12 = T(theta_2, l_1, 0)\n",
    "T_23 = T(theta_3, l_2, 0)\n"
   ]
  },
  {
   "cell_type": "code",
   "execution_count": null,
   "id": "456bed32-eff1-430a-a23f-7e1b549e6975",
   "metadata": {
    "tags": []
   },
   "outputs": [],
   "source": [
    "theta1 = 0 * np.pi/180 \n",
    "theta2 = 0 * np.pi/180\n",
    "theta3 = 0 * np.pi/180\n",
    "link1 = 5\n",
    "link2 = 8\n",
    "link3 = 3\n",
    "\n",
    "# T_01_real = T_np(theta0, 0, 0)\n",
    "# T_12_real = T_np(theta1, link1, 0)\n",
    "# T_23_real = T_np(theta2, link2, 0)\n",
    "# T_34_real = T_np(0, link3, 0)\n",
    "\n",
    "# # 'subs' substitutes in the numeric value for the variable, evalf evaluates the expression \n",
    "T_01_real = sym_to_np(T_01.subs([(theta_1, theta1)]))\n",
    "T_12_real = sym_to_np(T_12.subs([(theta_2, theta2), (l_1, link1)]))\n",
    "T_23_real = sym_to_np(T_23.subs([(theta_3, theta3), (l_2, link2)]))\n",
    "T_34_real = sym_to_np(T(0, link3, 0))\n",
    "\n",
    "plt.figure(figsize = (8,8))\n",
    "draw_robot([T_01_real, T_12_real, T_23_real, T_34_real])\n",
    "\n",
    "# sc = 25\n",
    "# plt.axis([-sc,sc, -sc, sc])\n"
   ]
  },
  {
   "cell_type": "code",
   "execution_count": 8,
   "id": "10fb9aa5-5a20-4381-9390-a3236fcefc73",
   "metadata": {
    "tags": []
   },
   "outputs": [
    {
     "data": {
      "text/latex": [
       "$\\displaystyle \\left[\\begin{matrix}s \\cos{\\left(\\theta_{1}{\\left(t \\right)} \\right)}\\\\s \\sin{\\left(\\theta_{1}{\\left(t \\right)} \\right)}\\end{matrix}\\right]$"
      ],
      "text/plain": [
       "Matrix([\n",
       "[s*cos(theta_1(t))],\n",
       "[s*sin(theta_1(t))]])"
      ]
     },
     "execution_count": 8,
     "metadata": {},
     "output_type": "execute_result"
    }
   ],
   "source": [
    "FK1 = (T_01 * Matrix([[s], [0], [1]]))[:-1,0]\n",
    "FK1"
   ]
  },
  {
   "cell_type": "code",
   "execution_count": 9,
   "id": "a06ec96a-3cbd-4d8b-8ee5-1379a5bbc88d",
   "metadata": {
    "tags": []
   },
   "outputs": [
    {
     "data": {
      "text/latex": [
       "$\\displaystyle \\left[\\begin{matrix}l_{1} \\cos{\\left(\\theta_{1}{\\left(t \\right)} \\right)} + s \\cos{\\left(\\theta_{1}{\\left(t \\right)} + \\theta_{2}{\\left(t \\right)} \\right)}\\\\l_{1} \\sin{\\left(\\theta_{1}{\\left(t \\right)} \\right)} + s \\sin{\\left(\\theta_{1}{\\left(t \\right)} + \\theta_{2}{\\left(t \\right)} \\right)}\\end{matrix}\\right]$"
      ],
      "text/plain": [
       "Matrix([\n",
       "[l_1*cos(theta_1(t)) + s*cos(theta_1(t) + theta_2(t))],\n",
       "[l_1*sin(theta_1(t)) + s*sin(theta_1(t) + theta_2(t))]])"
      ]
     },
     "execution_count": 9,
     "metadata": {},
     "output_type": "execute_result"
    }
   ],
   "source": [
    "FK2 = simplify((T_01 * T_12 * Matrix([[s], [0], [1]]))[:-1,0])\n",
    "FK2"
   ]
  },
  {
   "cell_type": "code",
   "execution_count": 10,
   "id": "9ed11aa3-100c-4028-ad2f-9f88855832ed",
   "metadata": {
    "tags": []
   },
   "outputs": [
    {
     "data": {
      "text/latex": [
       "$\\displaystyle \\left[\\begin{matrix}l_{1} \\cos{\\left(\\theta_{1}{\\left(t \\right)} \\right)} + l_{2} \\cos{\\left(\\theta_{1}{\\left(t \\right)} + \\theta_{2}{\\left(t \\right)} \\right)} + s \\cos{\\left(\\theta_{1}{\\left(t \\right)} + \\theta_{2}{\\left(t \\right)} + \\theta_{3}{\\left(t \\right)} \\right)}\\\\l_{1} \\sin{\\left(\\theta_{1}{\\left(t \\right)} \\right)} + l_{2} \\sin{\\left(\\theta_{1}{\\left(t \\right)} + \\theta_{2}{\\left(t \\right)} \\right)} + s \\sin{\\left(\\theta_{1}{\\left(t \\right)} + \\theta_{2}{\\left(t \\right)} + \\theta_{3}{\\left(t \\right)} \\right)}\\end{matrix}\\right]$"
      ],
      "text/plain": [
       "Matrix([\n",
       "[l_1*cos(theta_1(t)) + l_2*cos(theta_1(t) + theta_2(t)) + s*cos(theta_1(t) + theta_2(t) + theta_3(t))],\n",
       "[l_1*sin(theta_1(t)) + l_2*sin(theta_1(t) + theta_2(t)) + s*sin(theta_1(t) + theta_2(t) + theta_3(t))]])"
      ]
     },
     "execution_count": 10,
     "metadata": {},
     "output_type": "execute_result"
    }
   ],
   "source": [
    "FK3 = simplify((T_01 * T_12 * T_23 * Matrix([[s], [0], [1]]))[:-1,0])\n",
    "FK3"
   ]
  },
  {
   "cell_type": "code",
   "execution_count": 11,
   "id": "e67627e8-ad86-41b0-96ca-363cf7cabe28",
   "metadata": {
    "tags": []
   },
   "outputs": [
    {
     "data": {
      "text/latex": [
       "$\\displaystyle \\left[\\begin{matrix}- s \\sin{\\left(\\theta_{1}{\\left(t \\right)} \\right)} & 0 & 0\\\\s \\cos{\\left(\\theta_{1}{\\left(t \\right)} \\right)} & 0 & 0\\end{matrix}\\right]$"
      ],
      "text/plain": [
       "Matrix([\n",
       "[-s*sin(theta_1(t)), 0, 0],\n",
       "[ s*cos(theta_1(t)), 0, 0]])"
      ]
     },
     "execution_count": 11,
     "metadata": {},
     "output_type": "execute_result"
    }
   ],
   "source": [
    "J1 = FK1.jacobian([theta_1, theta_2, theta_3])\n",
    "J1"
   ]
  },
  {
   "cell_type": "code",
   "execution_count": 12,
   "id": "9a231f52-bb4b-43eb-880d-000c1e3bff1c",
   "metadata": {
    "tags": []
   },
   "outputs": [
    {
     "data": {
      "text/latex": [
       "$\\displaystyle \\left[\\begin{matrix}- l_{1} \\sin{\\left(\\theta_{1}{\\left(t \\right)} \\right)} - s \\sin{\\left(\\theta_{1}{\\left(t \\right)} + \\theta_{2}{\\left(t \\right)} \\right)} & - s \\sin{\\left(\\theta_{1}{\\left(t \\right)} + \\theta_{2}{\\left(t \\right)} \\right)} & 0\\\\l_{1} \\cos{\\left(\\theta_{1}{\\left(t \\right)} \\right)} + s \\cos{\\left(\\theta_{1}{\\left(t \\right)} + \\theta_{2}{\\left(t \\right)} \\right)} & s \\cos{\\left(\\theta_{1}{\\left(t \\right)} + \\theta_{2}{\\left(t \\right)} \\right)} & 0\\end{matrix}\\right]$"
      ],
      "text/plain": [
       "Matrix([\n",
       "[-l_1*sin(theta_1(t)) - s*sin(theta_1(t) + theta_2(t)), -s*sin(theta_1(t) + theta_2(t)), 0],\n",
       "[ l_1*cos(theta_1(t)) + s*cos(theta_1(t) + theta_2(t)),  s*cos(theta_1(t) + theta_2(t)), 0]])"
      ]
     },
     "execution_count": 12,
     "metadata": {},
     "output_type": "execute_result"
    }
   ],
   "source": [
    "J2 = simplify(FK2.jacobian([theta_1, theta_2, theta_3]))\n",
    "J2"
   ]
  },
  {
   "cell_type": "code",
   "execution_count": 13,
   "id": "fa7d7a44-82ef-42f1-8f77-35aba95f038a",
   "metadata": {
    "tags": []
   },
   "outputs": [
    {
     "data": {
      "text/latex": [
       "$\\displaystyle \\left[\\begin{matrix}- l_{1} \\sin{\\left(\\theta_{1}{\\left(t \\right)} \\right)} - l_{2} \\sin{\\left(\\theta_{1}{\\left(t \\right)} + \\theta_{2}{\\left(t \\right)} \\right)} - s \\sin{\\left(\\theta_{1}{\\left(t \\right)} + \\theta_{2}{\\left(t \\right)} + \\theta_{3}{\\left(t \\right)} \\right)} & - l_{2} \\sin{\\left(\\theta_{1}{\\left(t \\right)} + \\theta_{2}{\\left(t \\right)} \\right)} - s \\sin{\\left(\\theta_{1}{\\left(t \\right)} + \\theta_{2}{\\left(t \\right)} + \\theta_{3}{\\left(t \\right)} \\right)} & - s \\sin{\\left(\\theta_{1}{\\left(t \\right)} + \\theta_{2}{\\left(t \\right)} + \\theta_{3}{\\left(t \\right)} \\right)}\\\\l_{1} \\cos{\\left(\\theta_{1}{\\left(t \\right)} \\right)} + l_{2} \\cos{\\left(\\theta_{1}{\\left(t \\right)} + \\theta_{2}{\\left(t \\right)} \\right)} + s \\cos{\\left(\\theta_{1}{\\left(t \\right)} + \\theta_{2}{\\left(t \\right)} + \\theta_{3}{\\left(t \\right)} \\right)} & l_{2} \\cos{\\left(\\theta_{1}{\\left(t \\right)} + \\theta_{2}{\\left(t \\right)} \\right)} + s \\cos{\\left(\\theta_{1}{\\left(t \\right)} + \\theta_{2}{\\left(t \\right)} + \\theta_{3}{\\left(t \\right)} \\right)} & s \\cos{\\left(\\theta_{1}{\\left(t \\right)} + \\theta_{2}{\\left(t \\right)} + \\theta_{3}{\\left(t \\right)} \\right)}\\end{matrix}\\right]$"
      ],
      "text/plain": [
       "Matrix([\n",
       "[-l_1*sin(theta_1(t)) - l_2*sin(theta_1(t) + theta_2(t)) - s*sin(theta_1(t) + theta_2(t) + theta_3(t)), -l_2*sin(theta_1(t) + theta_2(t)) - s*sin(theta_1(t) + theta_2(t) + theta_3(t)), -s*sin(theta_1(t) + theta_2(t) + theta_3(t))],\n",
       "[ l_1*cos(theta_1(t)) + l_2*cos(theta_1(t) + theta_2(t)) + s*cos(theta_1(t) + theta_2(t) + theta_3(t)),  l_2*cos(theta_1(t) + theta_2(t)) + s*cos(theta_1(t) + theta_2(t) + theta_3(t)),  s*cos(theta_1(t) + theta_2(t) + theta_3(t))]])"
      ]
     },
     "execution_count": 13,
     "metadata": {},
     "output_type": "execute_result"
    }
   ],
   "source": [
    "J3 = simplify(FK3.jacobian([theta_1, theta_2, theta_3]))\n",
    "J3"
   ]
  },
  {
   "cell_type": "markdown",
   "id": "5a7b637e-968a-4554-9cd7-a5e6f69e6760",
   "metadata": {},
   "source": [
    "## Make an animation of link velocity field"
   ]
  },
  {
   "cell_type": "code",
   "execution_count": 38,
   "id": "739087c9-b804-4e3c-abae-97a0e0b91a75",
   "metadata": {
    "tags": []
   },
   "outputs": [],
   "source": [
    "# final joint vals to arrive at\n",
    "theta1 = 90 * np.pi/180 \n",
    "theta2 = 0 * np.pi/180\n",
    "theta3 = 0 * np.pi/180\n",
    "\n",
    "theta1_time = np.linspace(0, theta1, 50)\n",
    "theta2_time = np.linspace(0, theta2, 50)\n",
    "theta3_time = np.linspace(0, theta3, 50)\n",
    "\n",
    "dtheta1_time = np.gradient(np.linspace(0, theta1, 50))\n",
    "dtheta2_time = np.gradient(np.linspace(0, theta2, 50))\n",
    "dtheta3_time = np.gradient(np.linspace(0, theta3, 50))\n",
    "\n",
    "fig = plt.figure(1,figsize = (8,8))\n",
    "\n",
    "for theta1_current, theta2_current, theta3_current, v1, v2, v3 in zip(theta1_time, theta2_time, theta3_time, dtheta1_time, dtheta2_time, dtheta3_time):\n",
    "    # make t matrices\n",
    "    T_01_real = sym_to_np(T_01.subs([(theta_1, theta1_current)]))\n",
    "    T_12_real = sym_to_np(T_12.subs([(theta_2, theta2_current), (l_1, link1)]))\n",
    "    T_23_real = sym_to_np(T_23.subs([(theta_3, theta3_current), (l_2, link2)]))\n",
    "    T_34_real = sym_to_np(T(0, link3, 0))\n",
    "    \n",
    "    draw_robot([T_01_real, T_12_real, T_23_real, T_34_real])\n",
    "\n",
    "    \n",
    "    for ss in np.linspace(0.1, 1, 10):\n",
    "        \n",
    "        vel1 = J1.subs([(s, ss*link1), \n",
    "                       (l_1, link1), \n",
    "                       (l_2, link2), \n",
    "                       (l_3, link3), \n",
    "                       (theta_1, theta1_current),\n",
    "                       (theta_2, theta2_current),\n",
    "                       (theta_3, theta3_current)])*Matrix([[v1], [v2], [v3]])\n",
    "        pos1 = FK1.subs([(s, ss*link1), \n",
    "                       (l_1, link1), \n",
    "                       (l_2, link2), \n",
    "                       (l_3, link3), \n",
    "                       (theta_1, theta1_current),\n",
    "                       (theta_2, theta2_current),\n",
    "                       (theta_3, theta3_current)])\n",
    "        \n",
    "        # print(pos1)\n",
    "        plt.quiver(float(pos1[0]), float(pos1[1]), float(vel1[0]), float(vel1[1]))\n",
    "        \n",
    "        vel2 = J2.subs([(s, ss*link2), \n",
    "                       (l_1, link1), \n",
    "                       (l_2, link2), \n",
    "                       (l_3, link3), \n",
    "                       (theta_1, theta1_current),\n",
    "                       (theta_2, theta2_current),\n",
    "                       (theta_3, theta3_current)])*Matrix([[v1], [v2], [v3]])\n",
    "        pos2 = FK2.subs([(s, ss*link2), \n",
    "                       (l_1, link1), \n",
    "                       (l_2, link2), \n",
    "                       (l_3, link3), \n",
    "                       (theta_1, theta1_current),\n",
    "                       (theta_2, theta2_current),\n",
    "                       (theta_3, theta3_current)])\n",
    "        \n",
    "        # print(pos1)\n",
    "        plt.quiver(float(pos2[0]), float(pos2[1]), float(vel2[0]), float(vel2[1]))\n",
    "        \n",
    "        vel3 = J3.subs([(s, ss*link3), \n",
    "               (l_1, link1), \n",
    "               (l_2, link2), \n",
    "               (l_3, link3), \n",
    "               (theta_1, theta1_current),\n",
    "               (theta_2, theta2_current),\n",
    "               (theta_3, theta3_current)])*Matrix([[v1], [v2], [v3]])\n",
    "        pos3 = FK3.subs([(s, ss*link3), \n",
    "                       (l_1, link1), \n",
    "                       (l_2, link2), \n",
    "                       (l_3, link3), \n",
    "                       (theta_1, theta1_current),\n",
    "                       (theta_2, theta2_current),\n",
    "                       (theta_3, theta3_current)])\n",
    "        \n",
    "        # print(pos1)\n",
    "        plt.quiver(float(pos3[0]), float(pos3[1]), float(vel3[0]), float(vel3[1]))\n",
    "    \n",
    "    sc = 25\n",
    "    plt.axis([-5,20, -5, 20])\n",
    "    plt.draw()\n",
    "    plt.pause(0.01)\n",
    "\n"
   ]
  },
  {
   "cell_type": "code",
   "execution_count": null,
   "id": "cfe13eaa-9807-4fc1-8dcc-49622709472a",
   "metadata": {},
   "outputs": [],
   "source": []
  }
 ],
 "metadata": {
  "kernelspec": {
   "display_name": "Python 3 (ipykernel)",
   "language": "python",
   "name": "python3"
  },
  "language_info": {
   "codemirror_mode": {
    "name": "ipython",
    "version": 3
   },
   "file_extension": ".py",
   "mimetype": "text/x-python",
   "name": "python",
   "nbconvert_exporter": "python",
   "pygments_lexer": "ipython3",
   "version": "3.8.15"
  }
 },
 "nbformat": 4,
 "nbformat_minor": 5
}
