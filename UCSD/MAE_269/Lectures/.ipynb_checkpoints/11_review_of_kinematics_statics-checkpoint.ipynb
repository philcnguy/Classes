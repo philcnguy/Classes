{
 "cells": [
  {
   "cell_type": "markdown",
   "metadata": {},
   "source": [
    "# Review of robot kinematics and statics"
   ]
  },
  {
   "cell_type": "markdown",
   "metadata": {},
   "source": [
    "## A planar three-link robot  \n",
    "\n",
    "Let's define some coordinate systems\n",
    "\n",
    "![](jumper_definitions.png)"
   ]
  },
  {
   "cell_type": "markdown",
   "metadata": {},
   "source": [
    "First our imports"
   ]
  },
  {
   "cell_type": "code",
   "execution_count": 17,
   "metadata": {},
   "outputs": [],
   "source": [
    "# symbolic computation tools\n",
    "import sympy\n",
    "from sympy import symbols, pprint\n",
    "from sympy import sin, cos, asin, acos, pi\n",
    "from sympy import Matrix\n",
    "\n",
    "import numpy as np\n",
    "\n",
    "from IPython import display # for the animation\n",
    "import matplotlib as mpl\n",
    "mpl.use('Qt5Agg')\n",
    "\n",
    "import matplotlib.pyplot as plt\n",
    "plt.ion()\n",
    "\n",
    "\n",
    "# styling for plots\n",
    "mpl.rcParams['axes.titlesize'] = 24\n",
    "mpl.rcParams['axes.labelsize'] = 20\n",
    "mpl.rcParams['lines.linewidth'] = 3\n",
    "mpl.rcParams['lines.markersize'] = 10\n",
    "mpl.rcParams['xtick.labelsize'] = 16\n",
    "mpl.rcParams['ytick.labelsize'] = 16\n",
    "    \n"
   ]
  },
  {
   "cell_type": "markdown",
   "metadata": {},
   "source": [
    "Define our symbolic variables that define our robot configuration"
   ]
  },
  {
   "cell_type": "code",
   "execution_count": 18,
   "metadata": {},
   "outputs": [],
   "source": [
    "# We wrap in parentheses here so we can write it on multiple lines. Similar\n",
    "# with the triple quotes on the string. Usually we don't need to use these things.\n",
    "(theta0_sym, \n",
    " theta1_sym, \n",
    " theta2_sym, \n",
    " link1_sym, \n",
    " link2_sym, \n",
    " link3_sym) = symbols(\"\"\"theta0_sym \n",
    "                         theta1_sym \n",
    "                         theta2_sym \n",
    "                         link1_sym \n",
    "                         link2_sym \n",
    "                         link3_sym \"\"\" , real = True)"
   ]
  },
  {
   "cell_type": "markdown",
   "metadata": {},
   "source": [
    "Let's define our homogeneous transformation matrix that applies a rotation and a translation to vectors and matrices"
   ]
  },
  {
   "cell_type": "code",
   "execution_count": 3,
   "metadata": {},
   "outputs": [],
   "source": [
    "def T(theta, x, y):\n",
    "    \"\"\"\n",
    "    Function to return an arbitrary transformation matrix \n",
    "    This is for sympy symbolic calculation\n",
    "    \"\"\"\n",
    "    return Matrix([[cos(theta), -sin(theta), x], \n",
    "                   [sin(theta), cos(theta), y],\n",
    "                   [0, 0, 1]])\n",
    "\n",
    "def sym_to_np(T):\n",
    "    return np.array(T).astype(np.float64)"
   ]
  },
  {
   "cell_type": "markdown",
   "metadata": {},
   "source": [
    "Define my transformation matrices for the links"
   ]
  },
  {
   "cell_type": "code",
   "execution_count": 4,
   "metadata": {},
   "outputs": [
    {
     "name": "stdout",
     "output_type": "stream",
     "text": [
      "⎡cos(θ_0_sym)  -sin(θ_0_sym)  0⎤\n",
      "⎢                              ⎥\n",
      "⎢sin(θ_0_sym)  cos(θ_0_sym)   0⎥\n",
      "⎢                              ⎥\n",
      "⎣     0              0        1⎦\n",
      "⎡cos(θ_1_sym)  -sin(θ_1_sym)  link_1_sym⎤\n",
      "⎢                                       ⎥\n",
      "⎢sin(θ_1_sym)  cos(θ_1_sym)       0     ⎥\n",
      "⎢                                       ⎥\n",
      "⎣     0              0            1     ⎦\n",
      "⎡cos(θ_2_sym)  -sin(θ_2_sym)  link_2_sym⎤\n",
      "⎢                                       ⎥\n",
      "⎢sin(θ_2_sym)  cos(θ_2_sym)       0     ⎥\n",
      "⎢                                       ⎥\n",
      "⎣     0              0            1     ⎦\n"
     ]
    }
   ],
   "source": [
    "T_01 = T(theta0_sym, 0, 0)\n",
    "T_12 = T(theta1_sym, link1_sym, 0)\n",
    "T_23 = T(theta2_sym, link2_sym, 0)\n",
    "\n",
    "pprint(T_01)\n",
    "pprint(T_12)\n",
    "pprint(T_23)\n"
   ]
  },
  {
   "cell_type": "markdown",
   "metadata": {},
   "source": [
    "Define the point of the COM (x,y)"
   ]
  },
  {
   "cell_type": "code",
   "execution_count": 5,
   "metadata": {},
   "outputs": [
    {
     "data": {
      "text/latex": [
       "$\\displaystyle \\left[\\begin{matrix}\\left(- \\sin{\\left(\\theta_{0 sym} \\right)} \\sin{\\left(\\theta_{1 sym} \\right)} + \\cos{\\left(\\theta_{0 sym} \\right)} \\cos{\\left(\\theta_{1 sym} \\right)}\\right) \\cos{\\left(\\theta_{2 sym} \\right)} + \\left(- \\sin{\\left(\\theta_{0 sym} \\right)} \\cos{\\left(\\theta_{1 sym} \\right)} - \\sin{\\left(\\theta_{1 sym} \\right)} \\cos{\\left(\\theta_{0 sym} \\right)}\\right) \\sin{\\left(\\theta_{2 sym} \\right)} & - \\left(- \\sin{\\left(\\theta_{0 sym} \\right)} \\sin{\\left(\\theta_{1 sym} \\right)} + \\cos{\\left(\\theta_{0 sym} \\right)} \\cos{\\left(\\theta_{1 sym} \\right)}\\right) \\sin{\\left(\\theta_{2 sym} \\right)} + \\left(- \\sin{\\left(\\theta_{0 sym} \\right)} \\cos{\\left(\\theta_{1 sym} \\right)} - \\sin{\\left(\\theta_{1 sym} \\right)} \\cos{\\left(\\theta_{0 sym} \\right)}\\right) \\cos{\\left(\\theta_{2 sym} \\right)} & link_{1 sym} \\cos{\\left(\\theta_{0 sym} \\right)} + link_{2 sym} \\left(- \\sin{\\left(\\theta_{0 sym} \\right)} \\sin{\\left(\\theta_{1 sym} \\right)} + \\cos{\\left(\\theta_{0 sym} \\right)} \\cos{\\left(\\theta_{1 sym} \\right)}\\right)\\\\\\left(- \\sin{\\left(\\theta_{0 sym} \\right)} \\sin{\\left(\\theta_{1 sym} \\right)} + \\cos{\\left(\\theta_{0 sym} \\right)} \\cos{\\left(\\theta_{1 sym} \\right)}\\right) \\sin{\\left(\\theta_{2 sym} \\right)} + \\left(\\sin{\\left(\\theta_{0 sym} \\right)} \\cos{\\left(\\theta_{1 sym} \\right)} + \\sin{\\left(\\theta_{1 sym} \\right)} \\cos{\\left(\\theta_{0 sym} \\right)}\\right) \\cos{\\left(\\theta_{2 sym} \\right)} & \\left(- \\sin{\\left(\\theta_{0 sym} \\right)} \\sin{\\left(\\theta_{1 sym} \\right)} + \\cos{\\left(\\theta_{0 sym} \\right)} \\cos{\\left(\\theta_{1 sym} \\right)}\\right) \\cos{\\left(\\theta_{2 sym} \\right)} - \\left(\\sin{\\left(\\theta_{0 sym} \\right)} \\cos{\\left(\\theta_{1 sym} \\right)} + \\sin{\\left(\\theta_{1 sym} \\right)} \\cos{\\left(\\theta_{0 sym} \\right)}\\right) \\sin{\\left(\\theta_{2 sym} \\right)} & link_{1 sym} \\sin{\\left(\\theta_{0 sym} \\right)} + link_{2 sym} \\left(\\sin{\\left(\\theta_{0 sym} \\right)} \\cos{\\left(\\theta_{1 sym} \\right)} + \\sin{\\left(\\theta_{1 sym} \\right)} \\cos{\\left(\\theta_{0 sym} \\right)}\\right)\\\\0 & 0 & 1\\end{matrix}\\right]$"
      ],
      "text/plain": [
       "Matrix([\n",
       "[(-sin(theta0_sym)*sin(theta1_sym) + cos(theta0_sym)*cos(theta1_sym))*cos(theta2_sym) + (-sin(theta0_sym)*cos(theta1_sym) - sin(theta1_sym)*cos(theta0_sym))*sin(theta2_sym), -(-sin(theta0_sym)*sin(theta1_sym) + cos(theta0_sym)*cos(theta1_sym))*sin(theta2_sym) + (-sin(theta0_sym)*cos(theta1_sym) - sin(theta1_sym)*cos(theta0_sym))*cos(theta2_sym), link1_sym*cos(theta0_sym) + link2_sym*(-sin(theta0_sym)*sin(theta1_sym) + cos(theta0_sym)*cos(theta1_sym))],\n",
       "[ (-sin(theta0_sym)*sin(theta1_sym) + cos(theta0_sym)*cos(theta1_sym))*sin(theta2_sym) + (sin(theta0_sym)*cos(theta1_sym) + sin(theta1_sym)*cos(theta0_sym))*cos(theta2_sym),   (-sin(theta0_sym)*sin(theta1_sym) + cos(theta0_sym)*cos(theta1_sym))*cos(theta2_sym) - (sin(theta0_sym)*cos(theta1_sym) + sin(theta1_sym)*cos(theta0_sym))*sin(theta2_sym),  link1_sym*sin(theta0_sym) + link2_sym*(sin(theta0_sym)*cos(theta1_sym) + sin(theta1_sym)*cos(theta0_sym))],\n",
       "[                                                                                                                                                                          0,                                                                                                                                                                            0,                                                                                                          1]])"
      ]
     },
     "execution_count": 5,
     "metadata": {},
     "output_type": "execute_result"
    }
   ],
   "source": [
    "T_01*T_12*T_23"
   ]
  },
  {
   "cell_type": "markdown",
   "metadata": {},
   "source": [
    "Whoof, that is not very \"fun\" looking. What if we try to simplify"
   ]
  },
  {
   "cell_type": "code",
   "execution_count": 6,
   "metadata": {},
   "outputs": [
    {
     "data": {
      "text/latex": [
       "$\\displaystyle \\left[\\begin{matrix}\\cos{\\left(\\theta_{0 sym} + \\theta_{1 sym} + \\theta_{2 sym} \\right)} & - \\sin{\\left(\\theta_{0 sym} + \\theta_{1 sym} + \\theta_{2 sym} \\right)} & link_{1 sym} \\cos{\\left(\\theta_{0 sym} \\right)} + link_{2 sym} \\cos{\\left(\\theta_{0 sym} + \\theta_{1 sym} \\right)}\\\\\\sin{\\left(\\theta_{0 sym} + \\theta_{1 sym} + \\theta_{2 sym} \\right)} & \\cos{\\left(\\theta_{0 sym} + \\theta_{1 sym} + \\theta_{2 sym} \\right)} & link_{1 sym} \\sin{\\left(\\theta_{0 sym} \\right)} + link_{2 sym} \\sin{\\left(\\theta_{0 sym} + \\theta_{1 sym} \\right)}\\\\0 & 0 & 1\\end{matrix}\\right]$"
      ],
      "text/plain": [
       "Matrix([\n",
       "[cos(theta0_sym + theta1_sym + theta2_sym), -sin(theta0_sym + theta1_sym + theta2_sym), link1_sym*cos(theta0_sym) + link2_sym*cos(theta0_sym + theta1_sym)],\n",
       "[sin(theta0_sym + theta1_sym + theta2_sym),  cos(theta0_sym + theta1_sym + theta2_sym), link1_sym*sin(theta0_sym) + link2_sym*sin(theta0_sym + theta1_sym)],\n",
       "[                                        0,                                          0,                                                                  1]])"
      ]
     },
     "execution_count": 6,
     "metadata": {},
     "output_type": "execute_result"
    }
   ],
   "source": [
    "sympy.simplify(T_01*T_12*T_23)"
   ]
  },
  {
   "cell_type": "markdown",
   "metadata": {},
   "source": [
    "This makes much more sense, in fact it is exactly what we would have arrived at if we would have just written down the point (x,y) as a vector addition of the links. __But, what is critical to recognize is that by using the transformation matrices we can construct the point (x,y) in any frame we want by chaining together the appropriate matrices__\n",
    "\n",
    "Let's draw our robot in different configurations"
   ]
  },
  {
   "cell_type": "code",
   "execution_count": 7,
   "metadata": {},
   "outputs": [],
   "source": [
    "def draw_robot(ordered_list_of_transformations):\n",
    "    \"\"\"\n",
    "    Draw the configuration of the three-link jumper.\n",
    "    \"\"\"\n",
    "    ax_lw = 3\n",
    "    link_lw = 1\n",
    "\n",
    "    # homogeneous unit vectors \n",
    "    x = np.array([[1, 0, 1]]).T \n",
    "    y = np.array([[0, 1, 1]]).T\n",
    "    origin = np.array([[0, 0, 1]]).T\n",
    "\n",
    "    prev_origin = np.array([[0, 0, 1]]).T    \n",
    "    current_transformation = np.eye(3)\n",
    "\n",
    "    plt.clf()\n",
    "    ax = plt.gca()  # get current axis\n",
    "\n",
    "    # now we plot\n",
    "    plt.plot([prev_origin[0][0]], [prev_origin[1][0]], '-ko',linewidth=link_lw)\n",
    "    plt.plot([prev_origin[0][0], x[0][0]], [prev_origin[1][0], x[1][0]], '-ro', linewidth=ax_lw)\n",
    "    plt.plot([prev_origin[0][0], y[0][0]], [prev_origin[1][0], y[1][0]], '-go', linewidth=ax_lw)\n",
    "\n",
    "\n",
    "    # loop the transforms in order of T_01, T_12, ... , T_N-1N\n",
    "    for k, transform in enumerate(ordered_list_of_transformations):\n",
    "\n",
    "        # update the transformation\n",
    "        current_transformation = current_transformation @ transform\n",
    "        new_origin = current_transformation @ origin\n",
    "        new_x = current_transformation @ x\n",
    "        new_y = current_transformation @ y\n",
    "\n",
    "        # now we plot\n",
    "        plt.plot([prev_origin[0][0], new_origin[0][0]], \n",
    "                 [prev_origin[1][0], new_origin[1][0]], \n",
    "                 '-ko',linewidth=link_lw)\n",
    "        \n",
    "        plt.plot([new_origin[0][0], new_x[0][0]], [new_origin[1][0], new_x[1][0]], '-r', linewidth=ax_lw)\n",
    "        plt.plot([new_origin[0][0], new_y[0][0]], [new_origin[1][0], new_y[1][0]], '-g', linewidth=ax_lw)\n",
    "\n",
    "\n",
    "#         ax.annotate('{'+str(k+1)+'}', xy=new_origin[0:2][0], xytext=new_origin[0:2][0])\n",
    "\n",
    "        # lastly update the current_origin to the new_origin\n",
    "        prev_origin = new_origin\n",
    "\n",
    "    # lastly set the axes to be equal and appropriate\n",
    "    ax.set_aspect('equal')\n",
    "    ax.set_xlabel('x')\n",
    "    ax.set_ylabel('y')    "
   ]
  },
  {
   "cell_type": "code",
   "execution_count": 8,
   "metadata": {},
   "outputs": [
    {
     "data": {
      "text/plain": [
       "<Figure size 1600x1600 with 1 Axes>"
      ]
     },
     "execution_count": 8,
     "metadata": {},
     "output_type": "execute_result"
    }
   ],
   "source": [
    "theta0 = 20 * np.pi/180 \n",
    "theta1 = 110 * np.pi/180\n",
    "theta2 = -90 * np.pi/180\n",
    "link1 = 5\n",
    "link2 = 8\n",
    "link3 = 3\n",
    "\n",
    "# T_01_real = T_np(theta0, 0, 0)\n",
    "# T_12_real = T_np(theta1, link1, 0)\n",
    "# T_23_real = T_np(theta2, link2, 0)\n",
    "# T_34_real = T_np(0, link3, 0)\n",
    "\n",
    "# # 'subs' substitutes in the numeric value for the variable, evalf evaluates the expression \n",
    "T_01_real = sym_to_np(T_01.subs([(theta0_sym, theta0)]))\n",
    "T_12_real = sym_to_np(T_12.subs([(theta1_sym, theta1), (link1_sym, link1)]))\n",
    "T_23_real = sym_to_np(T_23.subs([(theta2_sym, theta2), (link2_sym, link2)]))\n",
    "T_34_real = sym_to_np(T(0, link3, 0))\n",
    "\n",
    "plt.figure(figsize = (8,8))\n",
    "draw_robot([T_01_real, T_12_real, T_23_real, T_34_real])\n",
    "\n",
    "# sc = 25\n",
    "# plt.axis([-sc,sc, -sc, sc])\n",
    "\n",
    "plt.gcf()\n"
   ]
  },
  {
   "cell_type": "markdown",
   "metadata": {},
   "source": [
    "Let's make an animation"
   ]
  },
  {
   "cell_type": "code",
   "execution_count": 15,
   "metadata": {},
   "outputs": [],
   "source": [
    "# final joint vals to arrive at\n",
    "theta0 = 50 * np.pi/180 \n",
    "theta1 = 10 * np.pi/180\n",
    "theta2 = 90 * np.pi/180\n",
    "\n",
    "theta0_time = np.linspace(0, theta0, 50)\n",
    "theta1_time = np.linspace(0, theta1, 50)\n",
    "theta2_time = np.linspace(0, theta2, 50)\n",
    "\n",
    "fig = plt.figure(1,figsize = (8,8))\n",
    "\n",
    "for theta0_current, theta1_current, theta2_current in zip(theta0_time, theta1_time, theta2_time):\n",
    "    # make t matrices\n",
    "    T_01_real = sym_to_np(T_01.subs([(theta0_sym, theta0_current)]))\n",
    "    T_12_real = sym_to_np(T_12.subs([(theta1_sym, theta1_current), (link1_sym, link1)]))\n",
    "    T_23_real = sym_to_np(T_23.subs([(theta2_sym, theta2_current), (link2_sym, link2)]))\n",
    "    T_34_real = sym_to_np(T(0, link3, 0))\n",
    "    \n",
    "    draw_robot([T_01_real, T_12_real, T_23_real, T_34_real])\n",
    "    sc = 25\n",
    "    plt.axis([-5,20, -5, 20])\n",
    "    plt.draw()\n",
    "    plt.pause(0.01)\n",
    "\n",
    "    # Update the named display with a new figure\n",
    "#     display.clear_output(wait=True)\n",
    "#     display.display(plt.gcf())\n"
   ]
  },
  {
   "cell_type": "markdown",
   "metadata": {},
   "source": [
    "## Velocity kinematics"
   ]
  },
  {
   "cell_type": "markdown",
   "metadata": {},
   "source": [
    "__OK__, Now we would like to understand what the joint torques required to do this motion.\n",
    "\n",
    "For this we need to dive into the jacobian\n"
   ]
  },
  {
   "cell_type": "code",
   "execution_count": 9,
   "metadata": {},
   "outputs": [
    {
     "data": {
      "text/latex": [
       "$\\displaystyle \\left[\\begin{matrix}\\cos{\\left(\\theta_{0 sym} + \\theta_{1 sym} + \\theta_{2 sym} \\right)} & - \\sin{\\left(\\theta_{0 sym} + \\theta_{1 sym} + \\theta_{2 sym} \\right)} & link_{1 sym} \\cos{\\left(\\theta_{0 sym} \\right)} + link_{2 sym} \\cos{\\left(\\theta_{0 sym} + \\theta_{1 sym} \\right)} + link_{3 sym} \\cos{\\left(\\theta_{0 sym} + \\theta_{1 sym} + \\theta_{2 sym} \\right)}\\\\\\sin{\\left(\\theta_{0 sym} + \\theta_{1 sym} + \\theta_{2 sym} \\right)} & \\cos{\\left(\\theta_{0 sym} + \\theta_{1 sym} + \\theta_{2 sym} \\right)} & link_{1 sym} \\sin{\\left(\\theta_{0 sym} \\right)} + link_{2 sym} \\sin{\\left(\\theta_{0 sym} + \\theta_{1 sym} \\right)} + link_{3 sym} \\sin{\\left(\\theta_{0 sym} + \\theta_{1 sym} + \\theta_{2 sym} \\right)}\\\\0 & 0 & 1\\end{matrix}\\right]$"
      ],
      "text/plain": [
       "Matrix([\n",
       "[cos(theta0_sym + theta1_sym + theta2_sym), -sin(theta0_sym + theta1_sym + theta2_sym), link1_sym*cos(theta0_sym) + link2_sym*cos(theta0_sym + theta1_sym) + link3_sym*cos(theta0_sym + theta1_sym + theta2_sym)],\n",
       "[sin(theta0_sym + theta1_sym + theta2_sym),  cos(theta0_sym + theta1_sym + theta2_sym), link1_sym*sin(theta0_sym) + link2_sym*sin(theta0_sym + theta1_sym) + link3_sym*sin(theta0_sym + theta1_sym + theta2_sym)],\n",
       "[                                        0,                                          0,                                                                                                                        1]])"
      ]
     },
     "execution_count": 9,
     "metadata": {},
     "output_type": "execute_result"
    }
   ],
   "source": [
    "# x,y expressed in terms of the three joints and the three link lengths\n",
    "T_01 = T(theta0_sym, 0, 0)\n",
    "T_12 = T(theta1_sym, link1_sym, 0)\n",
    "T_23 = T(theta2_sym, link2_sym, 0)\n",
    "\n",
    "full_transformation = T_01*T_12*T_23*T(0,link3_sym,0)\n",
    "full_transformation = sympy.simplify(full_transformation)\n",
    "full_transformation"
   ]
  },
  {
   "cell_type": "markdown",
   "metadata": {},
   "source": [
    "The jacobian is defined as \n",
    "\n",
    "$$J = \\begin{bmatrix}\n",
    "\\frac{\\partial f_0}{\\partial x_0} \\dots \\frac{\\partial f_0}{\\partial x_n} \\\\\n",
    "\\vdots \\ddots \\vdots \\\\\n",
    "\\frac{\\partial f_m}{\\partial x_0} \\dots \\frac{\\partial f_m}{\\partial x_n} \\\\\n",
    "\\end{bmatrix}\n",
    "$$\n",
    "\n",
    "and in the context of robot manipulators (and jumpers) it is used to relate the velocities of the joints with the velocity of a point on the robot (often the end-effector). $$ \\dot{\\mathbf{x}} = J \\dot{\\mathbf{q}} $$\n",
    "\n",
    "where $ q = [\\theta_0, \\theta_1, \\dots, \\theta_n]^\\intercal $ is the robot configuration. "
   ]
  },
  {
   "cell_type": "code",
   "execution_count": 10,
   "metadata": {},
   "outputs": [
    {
     "name": "stdout",
     "output_type": "stream",
     "text": [
      "⎡link_1_sym⋅cos(θ_0_sym) + link_2_sym⋅cos(θ_0_sym + θ_1_sym) + link_3_sym⋅cos(θ_0_sym + θ_1_sym + θ_2_sym)⎤\n",
      "⎢                                                                                                         ⎥\n",
      "⎣link_1_sym⋅sin(θ_0_sym) + link_2_sym⋅sin(θ_0_sym + θ_1_sym) + link_3_sym⋅sin(θ_0_sym + θ_1_sym + θ_2_sym)⎦\n",
      "\n",
      "\n",
      " JACOBIAN MATRIX \n",
      "⎡-link_1_sym⋅sin(θ_0_sym) - link_2_sym⋅sin(θ_0_sym + θ_1_sym) - link_3_sym⋅sin(θ_0_sym + θ_1_sym + θ_2_sym)  -link_2_sym⋅sin(θ_0_sym + θ_1_sym) - link_3_sym⋅sin(θ_0_sym + θ_1_sym + θ_2_sym)  -link_3_sym⋅sin(θ_0_sym + θ_1_sym + θ_2_sym)⎤\n",
      "⎢                                                                                                                                                                                                                                          ⎥\n",
      "⎣link_1_sym⋅cos(θ_0_sym) + link_2_sym⋅cos(θ_0_sym + θ_1_sym) + link_3_sym⋅cos(θ_0_sym + θ_1_sym + θ_2_sym)   link_2_sym⋅cos(θ_0_sym + θ_1_sym) + link_3_sym⋅cos(θ_0_sym + θ_1_sym + θ_2_sym)   link_3_sym⋅cos(θ_0_sym + θ_1_sym + θ_2_sym) ⎦\n"
     ]
    }
   ],
   "source": [
    "\n",
    "# first generate the equations for the position of the end mass. Can be by simply multiplying full_transform by [0, 0, 1].T\n",
    "xyz_position = full_transformation @ np.array([[0,0,1]]).T\n",
    "xyz_position = xyz_position[:2,:].simplify() # make simple\n",
    "\n",
    "pprint(xyz_position, wrap_line = False)\n",
    "\n",
    "J = xyz_position.jacobian([theta0_sym, theta1_sym, theta2_sym])\n",
    "\n",
    "# for k in range(2):\n",
    "#     J.append([])\n",
    "#     J[k].append(xyz_position[k].diff(theta0_sym))\n",
    "#     J[k].append(xyz_position[k].diff(theta1_sym))\n",
    "#     J[k].append(xyz_position[k].diff(theta2_sym))\n",
    "\n",
    "# J = Matrix(J)\n",
    "J.simplify()\n",
    "\n",
    "print(\"\\r\\n\\r\\n JACOBIAN MATRIX \")\n",
    "pprint(J, wrap_line = False)"
   ]
  },
  {
   "cell_type": "code",
   "execution_count": 11,
   "metadata": {},
   "outputs": [
    {
     "name": "stdout",
     "output_type": "stream",
     "text": [
      "(2, 3)\n"
     ]
    }
   ],
   "source": [
    "print(J.shape)"
   ]
  },
  {
   "cell_type": "markdown",
   "metadata": {},
   "source": [
    "Note that the Jacobian is $m \\times n$ in size where $n$ is the number of configuration variables and $m$ is the number of position variables we are tracking. The Jacobian transforms the rate of joint velocities into the rate of change of the output position and thus for any planay manipulator the Jacobian will alwyas be $2 \\times n$ where $n$ is the number of joints in the manipulator. "
   ]
  },
  {
   "cell_type": "markdown",
   "metadata": {},
   "source": [
    "### Deriving the joints positions to command over time to jump along a defined straight line\n",
    "\n",
    "First, imagine that link3 was of length 0 and so this was really only a two-link robot with the mass concentrated at the end of link2. In this case the configuration variables would be $q = [\\theta_0,  \\theta_1]$ and the jacobian would be a square matrix representing the relationship \n",
    "\n",
    "$$ [\\dot{x}, \\dot{y}]^T = J [\\dot{\\theta_0}, \\dot{\\theta_1}]^T $$\n",
    "\n",
    "Since the Jacobian was square we could attempt to invert it and solve for the unknown joint velocities if we had a desired velocity, $v_{des}$\n",
    "\n",
    "$$ J^{-1} v_{des} = [\\dot{\\theta_0}, \\dot{\\theta_1}]^T$$\n"
   ]
  },
  {
   "cell_type": "code",
   "execution_count": 12,
   "metadata": {},
   "outputs": [
    {
     "data": {
      "text/latex": [
       "$\\displaystyle \\left[\\begin{matrix}link_{1 sym} \\cos{\\left(\\theta_{0 sym} \\right)} + link_{2 sym} \\cos{\\left(\\theta_{0 sym} + \\theta_{1 sym} \\right)}\\\\link_{1 sym} \\sin{\\left(\\theta_{0 sym} \\right)} + link_{2 sym} \\sin{\\left(\\theta_{0 sym} + \\theta_{1 sym} \\right)}\\\\1\\end{matrix}\\right]$"
      ],
      "text/plain": [
       "Matrix([\n",
       "[link1_sym*cos(theta0_sym) + link2_sym*cos(theta0_sym + theta1_sym)],\n",
       "[link1_sym*sin(theta0_sym) + link2_sym*sin(theta0_sym + theta1_sym)],\n",
       "[                                                                 1]])"
      ]
     },
     "execution_count": 12,
     "metadata": {},
     "output_type": "execute_result"
    }
   ],
   "source": [
    "# make link3 = 0\n",
    "full_transformation_two_link = T_01*T_12*T_23*T(0,0,0)\n",
    "full_transformation_two_link = sympy.simplify(full_transformation_two_link)\n",
    "\n",
    "# get FK\n",
    "xyz_position_two_link = full_transformation_two_link*np.array([[0,0,1]]).T\n",
    "xyz_position_two_link.simplify() # make simple\n",
    "# pprint(xyz_position_two_link)\n",
    "xyz_position_two_link"
   ]
  },
  {
   "cell_type": "markdown",
   "metadata": {},
   "source": [
    "We see above that by making link3 length = 0,  $\\theta_3$ naturally drops out of the forward kinematics"
   ]
  },
  {
   "cell_type": "code",
   "execution_count": 13,
   "metadata": {},
   "outputs": [
    {
     "data": {
      "text/latex": [
       "$\\displaystyle \\left[\\begin{matrix}- link_{1 sym} \\sin{\\left(\\theta_{0 sym} \\right)} - link_{2 sym} \\sin{\\left(\\theta_{0 sym} + \\theta_{1 sym} \\right)} & - link_{2 sym} \\sin{\\left(\\theta_{0 sym} + \\theta_{1 sym} \\right)} & 0\\\\link_{1 sym} \\cos{\\left(\\theta_{0 sym} \\right)} + link_{2 sym} \\cos{\\left(\\theta_{0 sym} + \\theta_{1 sym} \\right)} & link_{2 sym} \\cos{\\left(\\theta_{0 sym} + \\theta_{1 sym} \\right)} & 0\\end{matrix}\\right]$"
      ],
      "text/plain": [
       "Matrix([\n",
       "[-link1_sym*sin(theta0_sym) - link2_sym*sin(theta0_sym + theta1_sym), -link2_sym*sin(theta0_sym + theta1_sym), 0],\n",
       "[ link1_sym*cos(theta0_sym) + link2_sym*cos(theta0_sym + theta1_sym),  link2_sym*cos(theta0_sym + theta1_sym), 0]])"
      ]
     },
     "execution_count": 13,
     "metadata": {},
     "output_type": "execute_result"
    }
   ],
   "source": [
    "J = xyz_position_two_link[:2,:].jacobian([theta0_sym, theta1_sym, theta2_sym])\n",
    "J"
   ]
  },
  {
   "cell_type": "markdown",
   "metadata": {},
   "source": [
    "Note now the last column is 0, which corresponds with our choice not to monitor $\\theta_{3}$ so we can drop this"
   ]
  },
  {
   "cell_type": "code",
   "execution_count": 14,
   "metadata": {},
   "outputs": [
    {
     "name": "stdout",
     "output_type": "stream",
     "text": [
      "(2, 2)\n"
     ]
    },
    {
     "data": {
      "text/latex": [
       "$\\displaystyle \\left[\\begin{matrix}- \\frac{\\cos{\\left(\\theta_{0 sym} + \\theta_{1 sym} \\right)}}{link_{1 sym} \\sin{\\left(\\theta_{0 sym} \\right)} \\cos{\\left(\\theta_{0 sym} + \\theta_{1 sym} \\right)} - link_{1 sym} \\sin{\\left(\\theta_{0 sym} + \\theta_{1 sym} \\right)} \\cos{\\left(\\theta_{0 sym} \\right)}} & - \\frac{\\sin{\\left(\\theta_{0 sym} + \\theta_{1 sym} \\right)}}{link_{1 sym} \\sin{\\left(\\theta_{0 sym} \\right)} \\cos{\\left(\\theta_{0 sym} + \\theta_{1 sym} \\right)} - link_{1 sym} \\sin{\\left(\\theta_{0 sym} + \\theta_{1 sym} \\right)} \\cos{\\left(\\theta_{0 sym} \\right)}}\\\\\\frac{- link_{1 sym} \\cos{\\left(\\theta_{0 sym} \\right)} - link_{2 sym} \\cos{\\left(\\theta_{0 sym} + \\theta_{1 sym} \\right)}}{- link_{1 sym} link_{2 sym} \\sin{\\left(\\theta_{0 sym} \\right)} \\cos{\\left(\\theta_{0 sym} + \\theta_{1 sym} \\right)} + link_{1 sym} link_{2 sym} \\sin{\\left(\\theta_{0 sym} + \\theta_{1 sym} \\right)} \\cos{\\left(\\theta_{0 sym} \\right)}} & \\frac{- link_{1 sym} \\sin{\\left(\\theta_{0 sym} \\right)} - link_{2 sym} \\sin{\\left(\\theta_{0 sym} + \\theta_{1 sym} \\right)}}{- link_{1 sym} link_{2 sym} \\sin{\\left(\\theta_{0 sym} \\right)} \\cos{\\left(\\theta_{0 sym} + \\theta_{1 sym} \\right)} + link_{1 sym} link_{2 sym} \\sin{\\left(\\theta_{0 sym} + \\theta_{1 sym} \\right)} \\cos{\\left(\\theta_{0 sym} \\right)}}\\end{matrix}\\right]$"
      ],
      "text/plain": [
       "Matrix([\n",
       "[                                                             -cos(theta0_sym + theta1_sym)/(link1_sym*sin(theta0_sym)*cos(theta0_sym + theta1_sym) - link1_sym*sin(theta0_sym + theta1_sym)*cos(theta0_sym)),                                                              -sin(theta0_sym + theta1_sym)/(link1_sym*sin(theta0_sym)*cos(theta0_sym + theta1_sym) - link1_sym*sin(theta0_sym + theta1_sym)*cos(theta0_sym))],\n",
       "[(-link1_sym*cos(theta0_sym) - link2_sym*cos(theta0_sym + theta1_sym))/(-link1_sym*link2_sym*sin(theta0_sym)*cos(theta0_sym + theta1_sym) + link1_sym*link2_sym*sin(theta0_sym + theta1_sym)*cos(theta0_sym)), (-link1_sym*sin(theta0_sym) - link2_sym*sin(theta0_sym + theta1_sym))/(-link1_sym*link2_sym*sin(theta0_sym)*cos(theta0_sym + theta1_sym) + link1_sym*link2_sym*sin(theta0_sym + theta1_sym)*cos(theta0_sym))]])"
      ]
     },
     "execution_count": 14,
     "metadata": {},
     "output_type": "execute_result"
    }
   ],
   "source": [
    "J = J[:,0:2]\n",
    "pprint(J.shape)\n",
    "\n",
    "J_inv = J.inv()\n",
    "J_inv.simplify()\n",
    "J_inv"
   ]
  },
  {
   "cell_type": "markdown",
   "metadata": {},
   "source": [
    "Now we can attempt to use the Jacobian to specify the joint velocities for a specified reference we want to track"
   ]
  },
  {
   "cell_type": "code",
   "execution_count": 15,
   "metadata": {},
   "outputs": [
    {
     "ename": "KeyboardInterrupt",
     "evalue": "",
     "output_type": "error",
     "traceback": [
      "\u001b[0;31m---------------------------------------------------------------------------\u001b[0m",
      "\u001b[0;31mKeyboardInterrupt\u001b[0m                         Traceback (most recent call last)",
      "\u001b[0;32m/var/folders/nc/b0_2tb_16m9dl1ptpx6wl5w00000gn/T/ipykernel_3356/3732689403.py\u001b[0m in \u001b[0;36m<module>\u001b[0;34m\u001b[0m\n\u001b[1;32m     36\u001b[0m \u001b[0;34m\u001b[0m\u001b[0m\n\u001b[1;32m     37\u001b[0m     \u001b[0mplt\u001b[0m\u001b[0;34m.\u001b[0m\u001b[0mdraw\u001b[0m\u001b[0;34m(\u001b[0m\u001b[0;34m)\u001b[0m\u001b[0;34m\u001b[0m\u001b[0;34m\u001b[0m\u001b[0m\n\u001b[0;32m---> 38\u001b[0;31m     \u001b[0mplt\u001b[0m\u001b[0;34m.\u001b[0m\u001b[0mpause\u001b[0m\u001b[0;34m(\u001b[0m\u001b[0;36m0.01\u001b[0m\u001b[0;34m)\u001b[0m\u001b[0;34m\u001b[0m\u001b[0;34m\u001b[0m\u001b[0m\n\u001b[0m\u001b[1;32m     39\u001b[0m \u001b[0;34m\u001b[0m\u001b[0m\n\u001b[1;32m     40\u001b[0m     \u001b[0;31m# update\u001b[0m\u001b[0;34m\u001b[0m\u001b[0;34m\u001b[0m\u001b[0;34m\u001b[0m\u001b[0m\n",
      "\u001b[0;32m~/opt/anaconda3/lib/python3.8/site-packages/matplotlib/pyplot.py\u001b[0m in \u001b[0;36mpause\u001b[0;34m(interval)\u001b[0m\n\u001b[1;32m    555\u001b[0m             \u001b[0mcanvas\u001b[0m\u001b[0;34m.\u001b[0m\u001b[0mdraw_idle\u001b[0m\u001b[0;34m(\u001b[0m\u001b[0;34m)\u001b[0m\u001b[0;34m\u001b[0m\u001b[0;34m\u001b[0m\u001b[0m\n\u001b[1;32m    556\u001b[0m         \u001b[0mshow\u001b[0m\u001b[0;34m(\u001b[0m\u001b[0mblock\u001b[0m\u001b[0;34m=\u001b[0m\u001b[0;32mFalse\u001b[0m\u001b[0;34m)\u001b[0m\u001b[0;34m\u001b[0m\u001b[0;34m\u001b[0m\u001b[0m\n\u001b[0;32m--> 557\u001b[0;31m         \u001b[0mcanvas\u001b[0m\u001b[0;34m.\u001b[0m\u001b[0mstart_event_loop\u001b[0m\u001b[0;34m(\u001b[0m\u001b[0minterval\u001b[0m\u001b[0;34m)\u001b[0m\u001b[0;34m\u001b[0m\u001b[0;34m\u001b[0m\u001b[0m\n\u001b[0m\u001b[1;32m    558\u001b[0m     \u001b[0;32melse\u001b[0m\u001b[0;34m:\u001b[0m\u001b[0;34m\u001b[0m\u001b[0;34m\u001b[0m\u001b[0m\n\u001b[1;32m    559\u001b[0m         \u001b[0mtime\u001b[0m\u001b[0;34m.\u001b[0m\u001b[0msleep\u001b[0m\u001b[0;34m(\u001b[0m\u001b[0minterval\u001b[0m\u001b[0;34m)\u001b[0m\u001b[0;34m\u001b[0m\u001b[0;34m\u001b[0m\u001b[0m\n",
      "\u001b[0;32m~/opt/anaconda3/lib/python3.8/site-packages/matplotlib/backends/backend_qt.py\u001b[0m in \u001b[0;36mstart_event_loop\u001b[0;34m(self, timeout)\u001b[0m\n\u001b[1;32m    406\u001b[0m \u001b[0;34m\u001b[0m\u001b[0m\n\u001b[1;32m    407\u001b[0m         \u001b[0;32mwith\u001b[0m \u001b[0m_maybe_allow_interrupt\u001b[0m\u001b[0;34m(\u001b[0m\u001b[0mevent_loop\u001b[0m\u001b[0;34m)\u001b[0m\u001b[0;34m:\u001b[0m\u001b[0;34m\u001b[0m\u001b[0;34m\u001b[0m\u001b[0m\n\u001b[0;32m--> 408\u001b[0;31m             \u001b[0mqt_compat\u001b[0m\u001b[0;34m.\u001b[0m\u001b[0m_exec\u001b[0m\u001b[0;34m(\u001b[0m\u001b[0mevent_loop\u001b[0m\u001b[0;34m)\u001b[0m\u001b[0;34m\u001b[0m\u001b[0;34m\u001b[0m\u001b[0m\n\u001b[0m\u001b[1;32m    409\u001b[0m \u001b[0;34m\u001b[0m\u001b[0m\n\u001b[1;32m    410\u001b[0m     \u001b[0;32mdef\u001b[0m \u001b[0mstop_event_loop\u001b[0m\u001b[0;34m(\u001b[0m\u001b[0mself\u001b[0m\u001b[0;34m,\u001b[0m \u001b[0mevent\u001b[0m\u001b[0;34m=\u001b[0m\u001b[0;32mNone\u001b[0m\u001b[0;34m)\u001b[0m\u001b[0;34m:\u001b[0m\u001b[0;34m\u001b[0m\u001b[0;34m\u001b[0m\u001b[0m\n",
      "\u001b[0;32m~/opt/anaconda3/lib/python3.8/contextlib.py\u001b[0m in \u001b[0;36m__exit__\u001b[0;34m(self, type, value, traceback)\u001b[0m\n\u001b[1;32m    118\u001b[0m         \u001b[0;32mif\u001b[0m \u001b[0mtype\u001b[0m \u001b[0;32mis\u001b[0m \u001b[0;32mNone\u001b[0m\u001b[0;34m:\u001b[0m\u001b[0;34m\u001b[0m\u001b[0;34m\u001b[0m\u001b[0m\n\u001b[1;32m    119\u001b[0m             \u001b[0;32mtry\u001b[0m\u001b[0;34m:\u001b[0m\u001b[0;34m\u001b[0m\u001b[0;34m\u001b[0m\u001b[0m\n\u001b[0;32m--> 120\u001b[0;31m                 \u001b[0mnext\u001b[0m\u001b[0;34m(\u001b[0m\u001b[0mself\u001b[0m\u001b[0;34m.\u001b[0m\u001b[0mgen\u001b[0m\u001b[0;34m)\u001b[0m\u001b[0;34m\u001b[0m\u001b[0;34m\u001b[0m\u001b[0m\n\u001b[0m\u001b[1;32m    121\u001b[0m             \u001b[0;32mexcept\u001b[0m \u001b[0mStopIteration\u001b[0m\u001b[0;34m:\u001b[0m\u001b[0;34m\u001b[0m\u001b[0;34m\u001b[0m\u001b[0m\n\u001b[1;32m    122\u001b[0m                 \u001b[0;32mreturn\u001b[0m \u001b[0;32mFalse\u001b[0m\u001b[0;34m\u001b[0m\u001b[0;34m\u001b[0m\u001b[0m\n",
      "\u001b[0;32m~/opt/anaconda3/lib/python3.8/site-packages/matplotlib/backends/qt_compat.py\u001b[0m in \u001b[0;36m_maybe_allow_interrupt\u001b[0;34m(qapp)\u001b[0m\n\u001b[1;32m    267\u001b[0m             \u001b[0msignal\u001b[0m\u001b[0;34m.\u001b[0m\u001b[0msignal\u001b[0m\u001b[0;34m(\u001b[0m\u001b[0msignal\u001b[0m\u001b[0;34m.\u001b[0m\u001b[0mSIGINT\u001b[0m\u001b[0;34m,\u001b[0m \u001b[0mold_sigint_handler\u001b[0m\u001b[0;34m)\u001b[0m\u001b[0;34m\u001b[0m\u001b[0;34m\u001b[0m\u001b[0m\n\u001b[1;32m    268\u001b[0m             \u001b[0;32mif\u001b[0m \u001b[0mhandler_args\u001b[0m \u001b[0;32mis\u001b[0m \u001b[0;32mnot\u001b[0m \u001b[0;32mNone\u001b[0m\u001b[0;34m:\u001b[0m\u001b[0;34m\u001b[0m\u001b[0;34m\u001b[0m\u001b[0m\n\u001b[0;32m--> 269\u001b[0;31m                 \u001b[0mold_sigint_handler\u001b[0m\u001b[0;34m(\u001b[0m\u001b[0;34m*\u001b[0m\u001b[0mhandler_args\u001b[0m\u001b[0;34m)\u001b[0m\u001b[0;34m\u001b[0m\u001b[0;34m\u001b[0m\u001b[0m\n\u001b[0m\u001b[1;32m    270\u001b[0m \u001b[0;34m\u001b[0m\u001b[0m\n\u001b[1;32m    271\u001b[0m \u001b[0;34m\u001b[0m\u001b[0m\n",
      "\u001b[0;31mKeyboardInterrupt\u001b[0m: "
     ]
    }
   ],
   "source": [
    "\n",
    "J_links = J.subs([(link1_sym, link1), (link2_sym, link2), (link3_sym, link3)]).evalf()\n",
    "J_inv = J_links.inv()\n",
    "\n",
    "v_desired = np.array([[6, 3]]).T #45 degree motion\n",
    "\n",
    "# start in crouched position \n",
    "theta0_current = 40*np.pi/180\n",
    "theta1_current = 150*np.pi/180\n",
    "theta2_current = 270*np.pi/180\n",
    "\n",
    "# 'subs' substitutes in the numeric value for the variable, evalf evaluates the expression \n",
    "T_01_real = sym_to_np(T_01.subs([(theta0_sym, theta0_current)]))\n",
    "T_12_real = sym_to_np(T_12.subs([(theta1_sym, theta1_current), (link1_sym, link1)]))\n",
    "T_23_real = sym_to_np(T_23.subs([(theta2_sym, theta2_current), (link2_sym, link2)]))\n",
    "\n",
    "plt.figure(0,figsize = (8,8))\n",
    "draw_robot([T_01_real, T_12_real, T_23_real])\n",
    "\n",
    "start_xy = sym_to_np(T_01_real @ T_12_real @ T_23_real @ np.array([[0,0,1]]).T)\n",
    "\n",
    "# step size\n",
    "eps = 0.05\n",
    "for k in range(500):\n",
    "        \n",
    "    # for drawing\n",
    "    T_01_real = sym_to_np(T_01.subs([(theta0_sym, theta0_current)]))\n",
    "    T_12_real = sym_to_np(T_12.subs([(theta1_sym, theta1_current), (link1_sym, link1)]))\n",
    "    T_23_real = sym_to_np(T_23.subs([(theta2_sym, theta2_current), (link2_sym, link2)]))\n",
    "\n",
    "\n",
    "    draw_robot([T_01_real, T_12_real, T_23_real])\n",
    "    sc = 25\n",
    "    plt.axis([-sc,sc, -1, sc])\n",
    "    plt.plot([start_xy[0][0], start_xy[0][0]+v_desired[0][0]*100], \n",
    "             [start_xy[1][0], start_xy[1][0]+v_desired[1][0]*100], '--')\n",
    "\n",
    "    plt.draw()\n",
    "    plt.pause(0.01)\n",
    "    \n",
    "    # update\n",
    "    J_inv_current = J_inv.subs([(theta0_sym, theta0_current),(theta1_sym, theta1_current)])\n",
    "    \n",
    "    # compute next motion\n",
    "    delta_q = J_inv_current * v_desired\n",
    "    \n",
    "    theta0_current = theta0_current + delta_q[0]*eps\n",
    "    theta1_current = theta1_current + delta_q[1]*eps\n",
    "    \n"
   ]
  },
  {
   "cell_type": "markdown",
   "metadata": {},
   "source": [
    "## Inverse kinematics through root-find\n",
    "\n",
    "The fsolve command can solve for the roots of a system of nonlinear equations. Our inverse kinematics problem is exactly this. We have a set of equations such that \n",
    "$$\n",
    "\\left[\\begin{array}{c}{ x \\\\ y }\\end{array}\\right] = f(q)\n",
    "$$\n",
    "which can be turned into the following nonlinear system of equations\n",
    "$$\n",
    "\\left[\\begin{array}{c}{ x - f_x(q)\\\\ y - f_y(q)}\\end{array}\\right] = \\left[\\begin{array}{c}{ 0,0}\\end{array}\\right]\n",
    "$$"
   ]
  },
  {
   "cell_type": "code",
   "execution_count": 24,
   "metadata": {},
   "outputs": [
    {
     "name": "stdout",
     "output_type": "stream",
     "text": [
      "[-4.74395913  1.41012639]\n",
      "[9.223217745102374e-10, 1.6484325016108414e-10]\n"
     ]
    }
   ],
   "source": [
    "from scipy.optimize import fsolve \n",
    "\n",
    "### Re-initialize\n",
    "theta0 = 20 * np.pi/180 \n",
    "theta1 = 110 * np.pi/180\n",
    "theta2 = -90 * np.pi/180\n",
    "\n",
    "# # 'subs' substitutes in the numeric value for the variable, evalf evaluates the expression \n",
    "T_01_real = sym_to_np(T_01.subs([(theta0_sym, theta0)]))\n",
    "T_12_real = sym_to_np(T_12.subs([(theta1_sym, theta1), (link1_sym, link1)]))\n",
    "T_23_real = sym_to_np(T_23.subs([(theta2_sym, 0), (link2_sym, link2)]))\n",
    "\n",
    "plt.figure(1, figsize = (8,8))\n",
    "plt.clf()\n",
    "draw_robot([T_01_real, T_12_real, T_23_real])\n",
    "plt.axis([-15,15,-15,15])\n",
    "plt.pause(0.01);\n",
    "\n",
    "\n",
    "location = plt.ginput(1)\n",
    "location = location[0]\n",
    "location = np.array([location]).T\n",
    "plt.plot(location[0], location[1], 'ro')\n",
    "plt.pause(0.01);\n",
    "\n",
    "### Create a constraint equation to solve using fsolve\n",
    "FK_func = lambdify((theta0_sym, theta1_sym, theta2_sym, link1_sym, link2_sym, link3_sym), FK)\n",
    "\n",
    "def constraint_eqn(joint_angles, desired_xy_points, link1, link2, link3):\n",
    "    theta0 = joint_angles[0]\n",
    "    theta1 = joint_angles[1]\n",
    "    \n",
    "    err = desired_xy_points - FK_func(theta0, theta1, 0, link1, link2, 0)\n",
    "    \n",
    "    return [err[0][0], err[1][0]]\n",
    "\n",
    "out = fsolve(lambda x: constraint_eqn(x, location, link1, link2, link3), (0, 0))\n",
    "\n",
    "\n",
    "\n",
    "plt.figure(1, figsize = (8,8))\n",
    "plt.clf()\n",
    "T_01_real = sym_to_np(T_01.subs([(theta0_sym, out[0])]))\n",
    "T_12_real = sym_to_np(T_12.subs([(theta1_sym, out[1]), (link1_sym, link1)]))\n",
    "T_23_real = sym_to_np(T_23.subs([(theta2_sym, 0), (link2_sym, link2)]))\n",
    "\n",
    "draw_robot([T_01_real, T_12_real, T_23_real])\n",
    "plt.plot(location[0], location[1], 'ro')\n",
    "plt.axis([-15,15,-15,15])\n",
    "plt.pause(0.01);\n",
    "\n",
    "pprint(out)\n",
    "pprint(constraint_eqn(out, location, link1, link2, link3))"
   ]
  },
  {
   "cell_type": "markdown",
   "metadata": {
    "tags": []
   },
   "source": [
    "## Inverse kinematics using Jacobian and stepping\n",
    "\n",
    "This code uses the inverse (pseudo-inverse) Jacobian to \"drag\" the desired robot location to the desired point in space. Effectively we just incrementally move a small amount each step by updating the joint angles, and then recomupte the Jacobian, its inverse, and move another step. "
   ]
  },
  {
   "cell_type": "code",
   "execution_count": 20,
   "metadata": {},
   "outputs": [],
   "source": [
    "from sympy.utilities.lambdify import lambdify"
   ]
  },
  {
   "cell_type": "code",
   "execution_count": 22,
   "metadata": {},
   "outputs": [],
   "source": [
    "T_01 = T(theta0_sym, 0, 0)\n",
    "T_12 = T(theta1_sym, link1_sym, 0)\n",
    "T_23 = T(theta2_sym, link2_sym, 0)\n",
    "T_34 = T(0, link3_sym, 0)\n",
    "\n",
    "FK = T_01@T_12@T_23@T_34@np.array([[0,0,1]]).T\n",
    "FK = FK[0:2,:]\n",
    "FK.simplify()\n",
    "\n",
    "J = FK.jacobian([theta0_sym, theta1_sym, theta2_sym])\n"
   ]
  },
  {
   "cell_type": "code",
   "execution_count": 23,
   "metadata": {},
   "outputs": [
    {
     "name": "stdout",
     "output_type": "stream",
     "text": [
      "[(-5.0649350649350655, 7.8409090909090935)]\n"
     ]
    }
   ],
   "source": [
    "theta0 = 20 * np.pi/180 \n",
    "theta1 = 110 * np.pi/180\n",
    "theta2 = -90 * np.pi/180\n",
    "\n",
    "# # 'subs' substitutes in the numeric value for the variable, evalf evaluates the expression \n",
    "T_01_real = sym_to_np(T_01.subs([(theta0_sym, theta0)]))\n",
    "T_12_real = sym_to_np(T_12.subs([(theta1_sym, theta1), (link1_sym, link1)]))\n",
    "T_23_real = sym_to_np(T_23.subs([(theta2_sym, theta2), (link2_sym, link2)]))\n",
    "T_34_real = sym_to_np(T(0, link3, 0))\n",
    "\n",
    "plt.figure(1, figsize = (8,8))\n",
    "plt.clf()\n",
    "draw_robot([T_01_real, T_12_real, T_23_real, T_34_real])\n",
    "plt.axis([-15,15,-15,15])\n",
    "plt.pause(0.01);\n",
    "\n",
    "### select desired target\n",
    "location = plt.ginput(1)\n",
    "pprint(location)\n",
    "location = location[0]\n",
    "location = np.array([location]).T\n",
    "# location = np.array([[10, 5]]).T\n",
    "plt.plot(location[0], location[1], 'ro')\n",
    "\n",
    "### Define some helper functions\n",
    "FK_func = lambdify((theta0_sym, theta1_sym, theta2_sym, link1_sym, link2_sym, link3_sym), FK)\n",
    "J_func =  lambdify((theta0_sym, theta1_sym, theta2_sym, link1_sym, link2_sym, link3_sym), J)\n",
    "\n",
    "### Compute current FK error\n",
    "err = np.linalg.norm(FK_func(theta0, theta1, theta2, link1, link2, link3) - location)\n",
    "\n",
    "### Initiate angle stepping\n",
    "theta0_current = theta0\n",
    "theta1_current = theta1\n",
    "theta2_current = theta2\n",
    "\n",
    "eps = 0.15\n",
    "\n",
    "while err > 1e-2:\n",
    "    \n",
    "    #### For drawing\n",
    "    T_01_real = sym_to_np(T_01.subs([(theta0_sym, theta0_current)]))\n",
    "    T_12_real = sym_to_np(T_12.subs([(theta1_sym, theta1_current), (link1_sym, link1)]))\n",
    "    T_23_real = sym_to_np(T_23.subs([(theta2_sym, theta2_current), (link2_sym, link2)]))\n",
    "    T_34_real = sym_to_np(T(0, link3, 0))\n",
    "\n",
    "    plt.clf()\n",
    "    draw_robot([T_01_real, T_12_real, T_23_real, T_34_real])\n",
    "    plt.plot(location[0], location[1], 'ro')\n",
    "    plt.axis([-15,15,-15,15])\n",
    "    \n",
    "    plt.draw()\n",
    "    plt.pause(0.01)\n",
    "             \n",
    "    #### Compute next step\n",
    "\n",
    "    J_inv = np.linalg.pinv(J_func(theta0_current, theta1_current, theta2_current, \n",
    "                                  link1, link2, link3))\n",
    "\n",
    "    current_xy = FK_func(theta0_current, theta1_current, theta2_current, \n",
    "                         link1, link2, link3)\n",
    "    \n",
    "    # compute next motion\n",
    "    delta_q = J_inv @ (location - current_xy)\n",
    "    \n",
    "    theta0_current = theta0_current + delta_q[0][0]*eps\n",
    "    theta1_current = theta1_current + delta_q[1][0]*eps\n",
    "    theta2_current = theta2_current + delta_q[2][0]*eps\n",
    "             \n",
    "        \n",
    "    err = np.linalg.norm(FK_func(theta0_current, theta1_current, theta2_current, \n",
    "                                 link1, link2, link3) - location)"
   ]
  },
  {
   "cell_type": "markdown",
   "metadata": {},
   "source": [
    "## IK using minimization for overconstrained systems (more joints than DOF)"
   ]
  },
  {
   "cell_type": "code",
   "execution_count": 14,
   "metadata": {},
   "outputs": [
    {
     "name": "stdout",
     "output_type": "stream",
     "text": [
      "     fun: -0.4569874392653712\n",
      "     jac: array([1.  , 0.1 , 0.01])\n",
      " message: 'Optimization terminated successfully'\n",
      "    nfev: 49\n",
      "     nit: 12\n",
      "    njev: 12\n",
      "  status: 0\n",
      " success: True\n",
      "       x: array([-0.64495595,  1.87557084,  0.0411428 ])\n",
      "[3.5402489828584294e-09, 7.93442112012599e-09]\n"
     ]
    }
   ],
   "source": [
    "from scipy.optimize import minimize\n",
    "    \n",
    "### Re-initialize\n",
    "theta0 = 20 * np.pi/180 \n",
    "theta1 = 110 * np.pi/180\n",
    "theta2 = -90 * np.pi/180\n",
    "\n",
    "# # 'subs' substitutes in the numeric value for the variable, evalf evaluates the expression \n",
    "T_01_real = sym_to_np(T_01.subs([(theta0_sym, theta0)]))\n",
    "T_12_real = sym_to_np(T_12.subs([(theta1_sym, theta1), (link1_sym, link1)]))\n",
    "T_23_real = sym_to_np(T_23.subs([(theta2_sym, 0), (link2_sym, link2)]))\n",
    "T_34_real = sym_to_np(T(0, link3, 0))\n",
    "\n",
    "plt.figure(1, figsize = (8,8))\n",
    "plt.clf()\n",
    "draw_robot([T_01_real, T_12_real, T_23_real, T_34_real])\n",
    "plt.axis([-15,15,-15,15])\n",
    "plt.pause(0.01);\n",
    "\n",
    "### Select our point\n",
    "location = plt.ginput(1)\n",
    "location = location[0]\n",
    "location = np.array([location]).T\n",
    "plt.plot(location[0], location[1], 'ro')\n",
    "plt.pause(0.01);\n",
    "\n",
    "### Create a constraint equation to solve using fsolve\n",
    "FK_func = lambdify((theta0_sym, theta1_sym, theta2_sym, link1_sym, link2_sym, link3_sym), FK)\n",
    "\n",
    "def constraint_eqn(joint_angles, desired_xy_points, link1, link2, link3):\n",
    "    theta0 = joint_angles[0]\n",
    "    theta1 = joint_angles[1]\n",
    "    theta2 = joint_angles[2]    \n",
    "    err = desired_xy_points - FK_func(theta0, theta1, theta2, link1, link2, link3)\n",
    "    \n",
    "    return [err[0][0], err[1][0]]\n",
    "\n",
    "\n",
    "### Define a cost function to optimize\n",
    "def arm_cost(joint_angles):\n",
    "    # return np.sum(np.abs(joint_angles))\n",
    "    # return np.linalg.norm(joint_angles)\n",
    "    return np.sum(joint_angles[0] + joint_angles[1]*0.1 + joint_angles[2]*0.01)\n",
    "\n",
    "res = minimize(arm_cost, (1, 2, 3), method=\"SLSQP\", \n",
    "               constraints= ({\"type\": \"eq\", \"fun\": lambda x: constraint_eqn(x, location, link1, link2, link3)}))\n",
    "\n",
    "\n",
    "out = res.x\n",
    "\n",
    "plt.figure(1, figsize = (8,8))\n",
    "plt.clf()\n",
    "T_01_real = sym_to_np(T_01.subs([(theta0_sym, out[0])]))\n",
    "T_12_real = sym_to_np(T_12.subs([(theta1_sym, out[1]), (link1_sym, link1)]))\n",
    "T_23_real = sym_to_np(T_23.subs([(theta2_sym, 0), (link2_sym, link2)]))\n",
    "T_34_real = sym_to_np(T(0, link3, 0))\n",
    "\n",
    "draw_robot([T_01_real, T_12_real, T_23_real, T_34_real])\n",
    "plt.plot(location[0], location[1], 'ro')\n",
    "plt.axis([-15,15,-15,15])\n",
    "plt.pause(0.01);\n",
    "\n",
    "print(res)\n",
    "pprint(constraint_eqn(out, location, link1, link2, link3))"
   ]
  },
  {
   "cell_type": "markdown",
   "metadata": {},
   "source": [
    "## Let's compare different cost functions"
   ]
  },
  {
   "cell_type": "code",
   "execution_count": 19,
   "metadata": {},
   "outputs": [],
   "source": [
    "### Re-initialize\n",
    "theta0 = 20 * np.pi/180 \n",
    "theta1 = 110 * np.pi/180\n",
    "theta2 = -90 * np.pi/180\n",
    "\n",
    "# # 'subs' substitutes in the numeric value for the variable, evalf evaluates the expression \n",
    "T_01_real = sym_to_np(T_01.subs([(theta0_sym, theta0)]))\n",
    "T_12_real = sym_to_np(T_12.subs([(theta1_sym, theta1), (link1_sym, link1)]))\n",
    "T_23_real = sym_to_np(T_23.subs([(theta2_sym, 0), (link2_sym, link2)]))\n",
    "T_34_real = sym_to_np(T(0, link3, 0))\n",
    "\n",
    "plt.figure(1, figsize = (8,8))\n",
    "plt.clf()\n",
    "draw_robot([T_01_real, T_12_real, T_23_real, T_34_real])\n",
    "plt.axis([-15,15,-15,15])\n",
    "plt.pause(0.01);\n",
    "\n",
    "### Select our point\n",
    "location = plt.ginput(1)\n",
    "location = location[0]\n",
    "location = np.array([location]).T\n",
    "plt.plot(location[0], location[1], 'ro')\n",
    "plt.pause(0.01);\n",
    "\n",
    "\n",
    "### Define a cost function to optimize\n",
    "def arm_cost1(joint_angles):\n",
    "    return np.sum(np.abs(joint_angles))\n",
    "\n",
    "def arm_cost2(joint_angles):\n",
    "    return np.linalg.norm(joint_angles)\n",
    "\n",
    "def arm_cost3(joint_angles):\n",
    "    return np.sum(joint_angles[0]*.01 + joint_angles[1]*0.1 + joint_angles[2])\n",
    "\n",
    "\n",
    "res1 = minimize(arm_cost1, (1, 2, 3), method=\"SLSQP\", \n",
    "               constraints= ({\"type\": \"eq\", \"fun\": lambda x: constraint_eqn(x, location, link1, link2, link3)}))\n",
    "\n",
    "res2 = minimize(arm_cost2, (1, 2, 3), method=\"SLSQP\", \n",
    "               constraints= ({\"type\": \"eq\", \"fun\": lambda x: constraint_eqn(x, location, link1, link2, link3)}))\n",
    "\n",
    "res3 = minimize(arm_cost3, (1, 2, 3), method=\"SLSQP\", \n",
    "               constraints= ({\"type\": \"eq\", \"fun\": lambda x: constraint_eqn(x, location, link1, link2, link3)}))\n",
    "\n",
    "\n",
    "plt.figure(1, figsize = (8,8))\n",
    "plt.clf()\n",
    "\n",
    "plt.subplot(1,3,1)\n",
    "out1 = res1.x\n",
    "T_01_real = sym_to_np(T_01.subs([(theta0_sym, out1[0])]))\n",
    "T_12_real = sym_to_np(T_12.subs([(theta1_sym, out1[1]), (link1_sym, link1)]))\n",
    "T_23_real = sym_to_np(T_23.subs([(theta2_sym, out1[2]), (link2_sym, link2)]))\n",
    "T_34_real = sym_to_np(T(0, link3, 0))\n",
    "\n",
    "draw_robot([T_01_real, T_12_real, T_23_real, T_34_real])\n",
    "plt.plot(location[0], location[1], 'ro')\n",
    "plt.axis([-15,15,-15,15])\n",
    "plt.pause(0.01);\n",
    "\n",
    "plt.subplot(1,3,2)\n",
    "out2 = res2.x\n",
    "T_01_real = sym_to_np(T_01.subs([(theta0_sym, out2[0])]))\n",
    "T_12_real = sym_to_np(T_12.subs([(theta1_sym, out2[1]), (link1_sym, link1)]))\n",
    "T_23_real = sym_to_np(T_23.subs([(theta2_sym, out2[2]), (link2_sym, link2)]))\n",
    "T_34_real = sym_to_np(T(0, link3, 0))\n",
    "\n",
    "draw_robot([T_01_real, T_12_real, T_23_real, T_34_real])\n",
    "plt.plot(location[0], location[1], 'ro')\n",
    "plt.axis([-15,15,-15,15])\n",
    "plt.pause(0.01);\n",
    "\n",
    "plt.subplot(1,3,3)\n",
    "out3 = res3.x\n",
    "T_01_real = sym_to_np(T_01.subs([(theta0_sym, out3[0])]))\n",
    "T_12_real = sym_to_np(T_12.subs([(theta1_sym, out3[1]), (link1_sym, link1)]))\n",
    "T_23_real = sym_to_np(T_23.subs([(theta2_sym, out3[2]), (link2_sym, link2)]))\n",
    "T_34_real = sym_to_np(T(0, link3, 0))\n",
    "\n",
    "draw_robot([T_01_real, T_12_real, T_23_real, T_34_real])\n",
    "plt.plot(location[0], location[1], 'ro')\n",
    "plt.axis([-15,15,-15,15])\n",
    "plt.pause(0.01);"
   ]
  },
  {
   "cell_type": "code",
   "execution_count": null,
   "metadata": {},
   "outputs": [],
   "source": []
  }
 ],
 "metadata": {
  "kernelspec": {
   "display_name": "Python 3 (ipykernel)",
   "language": "python",
   "name": "python3"
  },
  "language_info": {
   "codemirror_mode": {
    "name": "ipython",
    "version": 3
   },
   "file_extension": ".py",
   "mimetype": "text/x-python",
   "name": "python",
   "nbconvert_exporter": "python",
   "pygments_lexer": "ipython3",
   "version": "3.8.15"
  }
 },
 "nbformat": 4,
 "nbformat_minor": 4
}
