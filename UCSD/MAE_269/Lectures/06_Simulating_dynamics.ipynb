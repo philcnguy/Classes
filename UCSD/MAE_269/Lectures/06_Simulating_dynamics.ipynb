{
 "cells": [
  {
   "cell_type": "markdown",
   "metadata": {
    "tags": []
   },
   "source": [
    "# Simulating a pendulum\n",
    "\n",
    "In this notebook we will learn how to simulate a pendulum"
   ]
  },
  {
   "cell_type": "code",
   "execution_count": 1,
   "metadata": {
    "tags": []
   },
   "outputs": [],
   "source": [
    "import numpy as np\n",
    "from scipy.integrate import solve_ivp\n",
    "\n",
    "import matplotlib as mpl\n",
    "mpl.use('Qt5Agg')\n",
    "\n",
    "import matplotlib.pyplot as plt\n",
    "plt.ion()\n",
    "\n",
    "\n",
    "import warnings\n",
    "warnings.filterwarnings('ignore')"
   ]
  },
  {
   "cell_type": "markdown",
   "metadata": {},
   "source": [
    "Let's define a helper function to convert between rad->deg"
   ]
  },
  {
   "cell_type": "code",
   "execution_count": 2,
   "metadata": {
    "tags": []
   },
   "outputs": [],
   "source": [
    "def deg2rad(deg):\n",
    "    return deg*np.pi/180"
   ]
  },
  {
   "cell_type": "markdown",
   "metadata": {},
   "source": [
    "## Define the equations of motions\n"
   ]
  },
  {
   "cell_type": "code",
   "execution_count": 3,
   "metadata": {
    "tags": []
   },
   "outputs": [],
   "source": [
    "# General inverted pendulum simulator\n",
    "def pendulum(t, state, l):\n",
    "    theta, omega = state\n",
    "    dydt = [omega, -(gravity/l)*(np.sin(theta))]\n",
    "    return dydt"
   ]
  },
  {
   "cell_type": "markdown",
   "metadata": {},
   "source": [
    "## Define the initial conditions\n"
   ]
  },
  {
   "cell_type": "code",
   "execution_count": 4,
   "metadata": {
    "tags": []
   },
   "outputs": [],
   "source": [
    "# System constants\n",
    "L = 1 \n",
    "gravity = 9.8\n",
    "\n",
    "# Initial condition\n",
    "theta = deg2rad(0)\n",
    "dtheta_dt = .1\n",
    "\n",
    "dt = 0.001\n",
    "time = np.linspace(0,10,int(10/dt))"
   ]
  },
  {
   "cell_type": "markdown",
   "metadata": {},
   "source": [
    "Solve dynamics for the initial conditions and plot"
   ]
  },
  {
   "cell_type": "code",
   "execution_count": 5,
   "metadata": {
    "tags": []
   },
   "outputs": [
    {
     "data": {
      "text/plain": [
       "<Figure size 640x480 with 1 Axes>"
      ]
     },
     "execution_count": 5,
     "metadata": {},
     "output_type": "execute_result"
    }
   ],
   "source": [
    "sol = solve_ivp(lambda t, y: pendulum(t, y, L), \n",
    "                [0,10], [theta, dtheta_dt], \n",
    "                t_eval = time, \n",
    "                rtol=1e-8, atol = 1e-8)\n",
    "plt.figure(1)\n",
    "plt.clf()\n",
    "plt.plot(sol.t, sol.y[0,:])\n",
    "plt.ylabel('$\\\\theta$')\n",
    "plt.xlabel('time')\n",
    "plt.gcf()"
   ]
  },
  {
   "cell_type": "markdown",
   "metadata": {},
   "source": [
    "## Plot the phase space and a solution in phase-space"
   ]
  },
  {
   "cell_type": "code",
   "execution_count": 11,
   "metadata": {},
   "outputs": [
    {
     "data": {
      "text/plain": [
       "(-9.42477796076938, 9.42477796076938, -9.42477796076938, 9.42477796076938)"
      ]
     },
     "execution_count": 11,
     "metadata": {},
     "output_type": "execute_result"
    }
   ],
   "source": [
    "numpoints = 50\n",
    "rng = 3*np.pi\n",
    "\n",
    "[x1_vf, x2_vf] = np.meshgrid(np.linspace(-rng,rng,numpoints), \n",
    "                             np.linspace(-rng,rng,numpoints)) \n",
    "\n",
    "dynamics = pendulum(0, [x1_vf, x2_vf], L)\n",
    "norm = dynamics[0]**2 + dynamics[1]**2\n",
    "\n",
    "plt.figure(2)\n",
    "plt.clf()\n",
    "plt.quiver(x1_vf, x2_vf, dynamics[0], dynamics[1], norm)\n",
    "\n",
    "plt.plot(sol.y[0,:], sol.y[1,:])\n",
    "\n",
    "plt.xlabel(r'$\\theta$')\n",
    "plt.ylabel(r'$\\dot{\\theta}$')\n",
    "plt.axis([-rng, rng, -rng, rng])\n"
   ]
  },
  {
   "cell_type": "markdown",
   "metadata": {},
   "source": [
    "## Plot a bunch of solutions"
   ]
  },
  {
   "cell_type": "code",
   "execution_count": 12,
   "metadata": {},
   "outputs": [
    {
     "ename": "ValueError",
     "evalue": "Values in `t_eval` are not within `t_span`.",
     "output_type": "error",
     "traceback": [
      "\u001b[1;31m---------------------------------------------------------------------------\u001b[0m",
      "\u001b[1;31mValueError\u001b[0m                                Traceback (most recent call last)",
      "\u001b[1;32m~\\AppData\\Local\\Temp\\ipykernel_23236\\2585907575.py\u001b[0m in \u001b[0;36m<module>\u001b[1;34m\u001b[0m\n\u001b[0;32m     21\u001b[0m \u001b[1;32mfor\u001b[0m \u001b[0minit\u001b[0m \u001b[1;32min\u001b[0m \u001b[0mzip\u001b[0m\u001b[1;33m(\u001b[0m\u001b[0mtheta_start\u001b[0m\u001b[1;33m.\u001b[0m\u001b[0mreshape\u001b[0m\u001b[1;33m(\u001b[0m\u001b[1;36m1\u001b[0m\u001b[1;33m,\u001b[0m\u001b[1;36m50\u001b[0m\u001b[1;33m)\u001b[0m\u001b[1;33m[\u001b[0m\u001b[1;36m0\u001b[0m\u001b[1;33m]\u001b[0m\u001b[1;33m,\u001b[0m \u001b[0mdtheta_start\u001b[0m\u001b[1;33m.\u001b[0m\u001b[0mreshape\u001b[0m\u001b[1;33m(\u001b[0m\u001b[1;36m1\u001b[0m\u001b[1;33m,\u001b[0m\u001b[1;36m50\u001b[0m\u001b[1;33m)\u001b[0m\u001b[1;33m[\u001b[0m\u001b[1;36m0\u001b[0m\u001b[1;33m]\u001b[0m\u001b[1;33m)\u001b[0m\u001b[1;33m:\u001b[0m\u001b[1;33m\u001b[0m\u001b[1;33m\u001b[0m\u001b[0m\n\u001b[0;32m     22\u001b[0m     \u001b[1;31m# print(init)\u001b[0m\u001b[1;33m\u001b[0m\u001b[1;33m\u001b[0m\u001b[0m\n\u001b[1;32m---> 23\u001b[1;33m     sol = solve_ivp(lambda t, y: pendulum(t, y, L), \n\u001b[0m\u001b[0;32m     24\u001b[0m                     \u001b[1;33m[\u001b[0m\u001b[1;36m0\u001b[0m\u001b[1;33m,\u001b[0m\u001b[1;36m10\u001b[0m\u001b[1;33m]\u001b[0m\u001b[1;33m,\u001b[0m \u001b[0minit\u001b[0m\u001b[1;33m,\u001b[0m\u001b[1;33m\u001b[0m\u001b[1;33m\u001b[0m\u001b[0m\n\u001b[0;32m     25\u001b[0m                     \u001b[0mt_eval\u001b[0m \u001b[1;33m=\u001b[0m \u001b[0mtime\u001b[0m\u001b[1;33m,\u001b[0m\u001b[1;33m\u001b[0m\u001b[1;33m\u001b[0m\u001b[0m\n",
      "\u001b[1;32m~\\anaconda3\\lib\\site-packages\\scipy\\integrate\\_ivp\\ivp.py\u001b[0m in \u001b[0;36msolve_ivp\u001b[1;34m(fun, t_span, y0, method, t_eval, dense_output, events, vectorized, args, **options)\u001b[0m\n\u001b[0;32m    536\u001b[0m \u001b[1;33m\u001b[0m\u001b[0m\n\u001b[0;32m    537\u001b[0m         \u001b[1;32mif\u001b[0m \u001b[0mnp\u001b[0m\u001b[1;33m.\u001b[0m\u001b[0many\u001b[0m\u001b[1;33m(\u001b[0m\u001b[0mt_eval\u001b[0m \u001b[1;33m<\u001b[0m \u001b[0mmin\u001b[0m\u001b[1;33m(\u001b[0m\u001b[0mt0\u001b[0m\u001b[1;33m,\u001b[0m \u001b[0mtf\u001b[0m\u001b[1;33m)\u001b[0m\u001b[1;33m)\u001b[0m \u001b[1;32mor\u001b[0m \u001b[0mnp\u001b[0m\u001b[1;33m.\u001b[0m\u001b[0many\u001b[0m\u001b[1;33m(\u001b[0m\u001b[0mt_eval\u001b[0m \u001b[1;33m>\u001b[0m \u001b[0mmax\u001b[0m\u001b[1;33m(\u001b[0m\u001b[0mt0\u001b[0m\u001b[1;33m,\u001b[0m \u001b[0mtf\u001b[0m\u001b[1;33m)\u001b[0m\u001b[1;33m)\u001b[0m\u001b[1;33m:\u001b[0m\u001b[1;33m\u001b[0m\u001b[1;33m\u001b[0m\u001b[0m\n\u001b[1;32m--> 538\u001b[1;33m             \u001b[1;32mraise\u001b[0m \u001b[0mValueError\u001b[0m\u001b[1;33m(\u001b[0m\u001b[1;34m\"Values in `t_eval` are not within `t_span`.\"\u001b[0m\u001b[1;33m)\u001b[0m\u001b[1;33m\u001b[0m\u001b[1;33m\u001b[0m\u001b[0m\n\u001b[0m\u001b[0;32m    539\u001b[0m \u001b[1;33m\u001b[0m\u001b[0m\n\u001b[0;32m    540\u001b[0m         \u001b[0md\u001b[0m \u001b[1;33m=\u001b[0m \u001b[0mnp\u001b[0m\u001b[1;33m.\u001b[0m\u001b[0mdiff\u001b[0m\u001b[1;33m(\u001b[0m\u001b[0mt_eval\u001b[0m\u001b[1;33m)\u001b[0m\u001b[1;33m\u001b[0m\u001b[1;33m\u001b[0m\u001b[0m\n",
      "\u001b[1;31mValueError\u001b[0m: Values in `t_eval` are not within `t_span`."
     ]
    }
   ],
   "source": [
    "theta = np.linspace(-10, 10, 5)\n",
    "dtheta_dt = np.linspace(-6.5, 6.5, 10)\n",
    "[theta_start, dtheta_start] = np.meshgrid(theta, \n",
    "                                          dtheta_dt) \n",
    "\n",
    "#### Plot vector field\n",
    "plt.figure(1)\n",
    "plt.clf()\n",
    "\n",
    "numpoints = 50\n",
    "rng = 3*np.pi\n",
    "\n",
    "[x1_vf, x2_vf] = np.meshgrid(np.linspace(-rng,rng,numpoints), \n",
    "                             np.linspace(-rng,rng,numpoints)) \n",
    "\n",
    "dynamics = pendulum(0, [x1_vf, x2_vf], L)\n",
    "norm = dynamics[0]**2 + dynamics[1]**2\n",
    "plt.quiver(x1_vf, x2_vf, dynamics[0], dynamics[1], norm)\n",
    "\n",
    "\n",
    "for init in zip(theta_start.reshape(1,50)[0], dtheta_start.reshape(1,50)[0]):\n",
    "    # print(init)\n",
    "    sol = solve_ivp(lambda t, y: pendulum(t, y, L), \n",
    "                    [0,10], init, \n",
    "                    t_eval = time, \n",
    "                    rtol=1e-8, atol = 1e-8)\n",
    "    plt.plot(sol.y[0,:], sol.y[1,:])\n",
    "\n",
    "plt.axis([-10, 10, -7.5, 7.5])    "
   ]
  },
  {
   "cell_type": "markdown",
   "metadata": {},
   "source": [
    "# Simulating the Van der Pol system"
   ]
  },
  {
   "cell_type": "code",
   "execution_count": 8,
   "metadata": {},
   "outputs": [],
   "source": [
    "# General inverted pendulum simulator\n",
    "def vdp(t, state, epsilon):\n",
    "    x, v = state\n",
    "    dydt = [v, -x + epsilon*(1 - x**2)*v]\n",
    "    return dydt"
   ]
  },
  {
   "cell_type": "code",
   "execution_count": 9,
   "metadata": {},
   "outputs": [
    {
     "data": {
      "text/plain": [
       "<Figure size 640x480 with 1 Axes>"
      ]
     },
     "execution_count": 9,
     "metadata": {},
     "output_type": "execute_result"
    }
   ],
   "source": [
    "# System constants\n",
    "epsilon = .2\n",
    "\n",
    "# Initial condition\n",
    "x_0 = 0.01\n",
    "v_0 = 0.01\n",
    "\n",
    "dt = 0.001\n",
    "t_end = 100\n",
    "time = np.linspace(0,t_end,int(t_end/dt))\n",
    "\n",
    "sol = solve_ivp(lambda t, y: vdp(t, y, epsilon), \n",
    "                [0,t_end], [x_0, v_0], \n",
    "                t_eval = time, \n",
    "                rtol=1e-8, atol = 1e-8)\n",
    "plt.figure(1)\n",
    "plt.clf()\n",
    "plt.plot(sol.t, sol.y[0,:])\n",
    "plt.ylabel('$\\\\theta$')\n",
    "plt.xlabel('time')\n",
    "plt.gcf()"
   ]
  },
  {
   "cell_type": "code",
   "execution_count": 10,
   "metadata": {},
   "outputs": [
    {
     "data": {
      "text/plain": [
       "(-5.0, 5.0, -5.0, 5.0)"
      ]
     },
     "execution_count": 10,
     "metadata": {},
     "output_type": "execute_result"
    }
   ],
   "source": [
    "numpoints = 50\n",
    "rng = 5\n",
    "\n",
    "[x1_vf, x2_vf] = np.meshgrid(np.linspace(-rng,rng,numpoints), \n",
    "                             np.linspace(-rng,rng,numpoints)) \n",
    "\n",
    "dynamics = vdp(0, [x1_vf, x2_vf], epsilon)\n",
    "norm = dynamics[0]**2 + dynamics[1]**2\n",
    "\n",
    "plt.figure(2)\n",
    "plt.clf()\n",
    "plt.quiver(x1_vf, x2_vf, dynamics[0], dynamics[1], norm)\n",
    "\n",
    "plt.plot(sol.y[0,:], sol.y[1,:])\n",
    "\n",
    "plt.xlabel(r'$\\theta$')\n",
    "plt.ylabel(r'$\\dot{\\theta}$')\n",
    "plt.axis([-rng, rng, -rng, rng])\n"
   ]
  },
  {
   "cell_type": "code",
   "execution_count": null,
   "metadata": {},
   "outputs": [],
   "source": []
  }
 ],
 "metadata": {
  "kernelspec": {
   "display_name": "Python 3 (ipykernel)",
   "language": "python",
   "name": "python3"
  },
  "language_info": {
   "codemirror_mode": {
    "name": "ipython",
    "version": 3
   },
   "file_extension": ".py",
   "mimetype": "text/x-python",
   "name": "python",
   "nbconvert_exporter": "python",
   "pygments_lexer": "ipython3",
   "version": "3.9.13"
  }
 },
 "nbformat": 4,
 "nbformat_minor": 4
}
