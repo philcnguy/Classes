{
 "cells": [
  {
   "cell_type": "markdown",
   "metadata": {},
   "source": [
    "# Hopper study"
   ]
  },
  {
   "cell_type": "markdown",
   "metadata": {},
   "source": [
    "## Return map"
   ]
  },
  {
   "cell_type": "markdown",
   "metadata": {},
   "source": [
    "assume a 1-D hopping robot that has rest leg length $l_0$, spring constant, $k$, and mass $m$. When the robot is in the air the leg is pre-compressed by an amount $\n",
    "\\Delta L$. When the foot collides with the ground a small amount of center-of-mass velocity is lost $y^+ = \\epsilon y^-$ such that the superscript $+$ denotes immediately after the collision event and $-$ immediately before. The coefficient of restitution is bounded by $0 < \\epsilon < 1$.\n",
    "\n",
    "* Derive the apex return map for a hopping robot with leg pre-compression as discussed in class. The apex is the peak height of the hopping robot, thus when $\\dot{y} = 0$ in the flight phase. This can be derived by composing the following maps \n",
    "\\begin{align}\n",
    "    \\mathcal{R} = \\mathcal{F}_a \\circ \\mathcal{S} \\circ \\mathcal{C} \\circ \\mathcal{F}_d\n",
    "\\end{align}\n",
    "where $\\mathcal{F}_d$ is the descent map from apex to beginning of stance, $\\mathcal{C}$ is the instantaneous ground collision map, $\\mathcal{S}$ is the stance map from beginning of stance to end, and $\\mathcal{F}_a$ is the ascent map from end of stance to apex. The $\\circ$ symbol indicates function composition (i.e. $\\mathcal{D} = g \\circ h = g(h(x))$. Remember, a map is just a function that returns the end state for a given initial state. \n",
    "\n",
    "* Compute the steady-state hopping height of the robot as a function of system parameters. \n"
   ]
  },
  {
   "cell_type": "markdown",
   "metadata": {},
   "source": [
    "## Derivation\n",
    "\n",
    "To derive the apex map we write out the input/output relationships for each of the regimes as follows: \n",
    "\n",
    "* The ascent map: $\\mathcal{F_a}$\n",
    "\n",
    "$$ m g y_f = \\frac{1}{2} m \\dot{y}_0^2$$ \n",
    "\n",
    "* The stance map: $\\mathcal{S_a}$\n",
    "\n",
    "$$ \\frac{1}{2} m \\dot{y}_f^2 = \\frac{1}{2} m \\dot{y}_0^2 + \\frac{1}{2} k \\Delta l^2 - mg \\Delta l  $$\n",
    "\n",
    "* The contact map: $\\mathcal{C}$\n",
    "\n",
    "$$ \\dot{y}_f = \\epsilon \\dot{y}_0 \\longrightarrow \\frac{1}{2} m \\dot{y}_f^2 = \\epsilon^2 \\frac{1}{2} m \\dot{y}_0^2$$\n",
    "\n",
    "* The descent map: $\\mathcal{d}$\n",
    "\n",
    "$$ \\frac{1}{2} m \\dot{y}_f^2 - mg \\Delta l = mg y_0 \\longrightarrow \\frac{1}{2} m \\dot{y}_f^2 = mg (y_0 + \\Delta l) $$\n",
    "\n",
    "Plugging these functions in in the order described above and simplifying we get\n",
    "\n",
    "$$y_{n+1} = \\epsilon^2 y_{n} + \\Delta l (\\epsilon^2 - 1) + \\frac{k}{2 m g} \\Delta l^2$$"
   ]
  },
  {
   "cell_type": "markdown",
   "metadata": {},
   "source": [
    "## Fiexed point"
   ]
  },
  {
   "cell_type": "markdown",
   "metadata": {},
   "source": [
    "Substituting in the fixed point $y_n = y_{n+1} = y^*$ we get \n",
    "\n",
    "$$y^*(1 - \\epsilon^2) =  \\Delta l (\\epsilon^2 - 1) + \\frac{k}{2 m g} \\Delta l^2$$\n",
    "\n",
    "which yields \n",
    "\n",
    "\\begin{align}\n",
    "y^* &=  \\Delta l \\frac{(\\epsilon^2 - 1)}{(1 - \\epsilon^2)} + \\frac{k}{2 m g} \\frac{\\Delta l^2}{(1 - \\epsilon^2)} \\\\\n",
    " &= \\frac{k}{2 m g} \\frac{\\Delta l^2}{(1 - \\epsilon^2)} - \\Delta l\n",
    "\\end{align}\n",
    "\n"
   ]
  },
  {
   "cell_type": "markdown",
   "metadata": {},
   "source": [
    "## Part 3"
   ]
  },
  {
   "cell_type": "code",
   "execution_count": 7,
   "metadata": {},
   "outputs": [],
   "source": [
    "import numpy as np\n",
    "from scipy.integrate import solve_ivp\n",
    "\n",
    "import matplotlib as mpl\n",
    "mpl.use('Qt5Agg')\n",
    "\n",
    "import matplotlib.pyplot as plt\n",
    "plt.ion()\n",
    "\n",
    "\n",
    "import warnings\n",
    "warnings.filterwarnings('ignore')"
   ]
  },
  {
   "cell_type": "markdown",
   "metadata": {},
   "source": [
    "## Continuous simulation of the hopper"
   ]
  },
  {
   "cell_type": "markdown",
   "metadata": {},
   "source": [
    "The equations of motion are as follows: \n",
    "1. In the flight phase \n",
    "\\begin{align}\n",
    "\\begin{bmatrix}\n",
    "\\dot{y_1} \\\\\n",
    "\\dot{y_2}\n",
    "\\end{bmatrix} = \n",
    "\\begin{bmatrix}\n",
    "y_2 \\\\\n",
    "-g\n",
    "\\end{bmatrix}\n",
    "\\end{align}\n",
    "\n",
    "2. In the stance phase \n",
    "\\begin{align}\n",
    "\\begin{bmatrix}\n",
    "\\dot{y_1} \\\\\n",
    "\\dot{y_2}\n",
    "\\end{bmatrix} = \n",
    "\\begin{bmatrix}\n",
    "y_2 \\\\\n",
    "-\\frac{k}{m} (y_1 - l_0) - g\n",
    "\\end{bmatrix}\n",
    "\\end{align}"
   ]
  },
  {
   "cell_type": "code",
   "execution_count": 8,
   "metadata": {},
   "outputs": [],
   "source": [
    "g = 9.8\n",
    "\n",
    "def stance(t, state, k, l_0, m, b):\n",
    "    y1, y2 = state\n",
    "    next_state = [y2, \n",
    "                 -(k/m)*(y1 - l_0) - g - (b/m)*y2]\n",
    "    return next_state\n",
    "\n",
    "def end_stance_event(t, state, l_0):\n",
    "    y1, y2 = state\n",
    "    return y1 - l_0\n",
    "end_stance_event.terminal = True\n",
    "\n",
    "def flight(t, state):\n",
    "    y1, y2 = state\n",
    "    next_state = [y2, \n",
    "                  -g]\n",
    "    return next_state\n",
    "\n",
    "def apex_flight_event(t, state):\n",
    "    y, ydot = state\n",
    "    return ydot\n",
    "apex_flight_event.terminal = True\n",
    "\n",
    "def end_flight_event(t, state, l_0, delta_l):\n",
    "    y1, y2 = state\n",
    "    return y1 - (l_0 - delta_l) # this handles the pre-compression\n",
    "end_flight_event.terminal = True\n",
    "\n",
    "def collision(t, state, epsilon):\n",
    "    y1, y2 = state\n",
    "    next_state = [y1, \n",
    "                  epsilon*y2]\n",
    "    return next_state\n"
   ]
  },
  {
   "cell_type": "markdown",
   "metadata": {},
   "source": [
    "To simulate a hopping motion we need to compose together these sequences in a single function. **Important, we will make the assumption that the hopper starts at the apex of the flight phase**"
   ]
  },
  {
   "cell_type": "markdown",
   "metadata": {},
   "source": [
    "## Make a function that composes the hybrid dynamics"
   ]
  },
  {
   "cell_type": "code",
   "execution_count": 9,
   "metadata": {},
   "outputs": [],
   "source": [
    "def simulate_hop(t, state, delta_l, k, m, l_0, epsilon, t0, b):\n",
    "    ## This is a reasonably long time so that each phase finishes before integration stops\n",
    "    long_time = 100\n",
    "    time_outs = np.linspace(0, long_time, int(long_time/0.001))\n",
    "\n",
    "    ##### Solve the flight descent phase    \n",
    "    end_flight_lambda = lambda t, state: end_flight_event(t, state, l_0, delta_l)\n",
    "    end_flight_lambda.terminal = True\n",
    "\n",
    "    sol = solve_ivp(lambda t, state: flight(t, state), \n",
    "                [t0, t0 + long_time], state, \n",
    "                events = end_flight_lambda, \n",
    "                t_eval= t0 + time_outs,\n",
    "                rtol=1e-10, atol = 1e-10, \n",
    "                dense_output = True, \n",
    "                method = 'RK45', \n",
    "                max_step = 1)\n",
    "    land_state = sol.y[:,-1]\n",
    "    \n",
    "    ##### Grab the solutions trajectory\n",
    "    out_state = sol.y\n",
    "    time = sol.t\n",
    "    t0 = sol.t[-1]\n",
    "    \n",
    "    ##### Map landing state to beginning of stance state\n",
    "    stance_state = collision(0, land_state, epsilon)\n",
    "    \n",
    "    ##### Integrate the stance state\n",
    "    end_stance_lambda = lambda t, state: end_stance_event(t, state, l_0)\n",
    "    end_stance_lambda.terminal = True\n",
    "    \n",
    "    sol = solve_ivp(lambda t, state: stance(t, state, k, l_0, m, b), \n",
    "            [t0, t0 + long_time], stance_state, \n",
    "            events = end_stance_lambda, \n",
    "            t_eval= t0 + time_outs,\n",
    "            rtol=1e-10, atol = 1e-10, \n",
    "            dense_output = True, \n",
    "            method = 'RK45', \n",
    "            max_step = 1)\n",
    "\n",
    "    ##### Grab the solutions trajectory\n",
    "    out_state = np.hstack((out_state, sol.y))\n",
    "    time = np.hstack((time, sol.t))   \n",
    "    ascent_state = sol.y[:,-1]\n",
    "    t0 = sol.t[-1]\n",
    "    \n",
    "    ##### Solve the flight ascent phase    \n",
    "    end_flight_lambda = lambda t, state: apex_flight_event(t, state)\n",
    "    end_flight_lambda.terminal = True\n",
    "\n",
    "    sol = solve_ivp(lambda t, state: flight(t, state), \n",
    "                [t0, t0 + long_time], ascent_state, \n",
    "                events = end_flight_lambda, \n",
    "                t_eval= t0 + time_outs,\n",
    "                rtol=1e-10, atol = 1e-10, \n",
    "                dense_output = True, \n",
    "                method = 'RK45', \n",
    "                max_step = 1)\n",
    "\n",
    "    out_state = np.hstack((out_state, sol.y))\n",
    "    time = np.hstack((time, sol.t))   \n",
    "    apex_state = sol.y[0,-1]\n",
    "    \n",
    "    return time, out_state, apex_state\n",
    "    "
   ]
  },
  {
   "cell_type": "markdown",
   "metadata": {},
   "source": [
    "Let's run one simulation starting from an apex height of 10"
   ]
  },
  {
   "cell_type": "code",
   "execution_count": 10,
   "metadata": {},
   "outputs": [
    {
     "data": {
      "text/plain": [
       "Text(0, 0.5, 'Vertical velocity')"
      ]
     },
     "execution_count": 10,
     "metadata": {},
     "output_type": "execute_result"
    }
   ],
   "source": [
    "k = 50\n",
    "m = 5\n",
    "l_0 = 5\n",
    "delta_l = 1\n",
    "epsilon = 0.9\n",
    "b = 0\n",
    "initial_state = [l_0 + 1, 0]\n",
    "\n",
    "time, out_state, apex_state = simulate_hop(0, initial_state, delta_l, k, m, l_0, epsilon, 0, b)\n",
    "\n",
    "plt.figure(figsize = (10, 8))\n",
    "plt.clf()\n",
    "plt.subplot(2,1,1)\n",
    "plt.plot(time, out_state[0,:])\n",
    "plt.xlabel('Time (s)')\n",
    "plt.ylabel('Height')\n",
    "\n",
    "plt.subplot(2,1,2)\n",
    "plt.plot(out_state[0,:], out_state[1,:])\n",
    "# plt.gca().set_aspect('equal', 'box')\n",
    "plt.xlabel('Vertical location')\n",
    "plt.ylabel('Vertical velocity')"
   ]
  },
  {
   "cell_type": "markdown",
   "metadata": {},
   "source": [
    "Let's simulate a number of hops now!"
   ]
  },
  {
   "cell_type": "markdown",
   "metadata": {},
   "source": [
    "### Calculate numerical return map"
   ]
  },
  {
   "cell_type": "code",
   "execution_count": 17,
   "metadata": {},
   "outputs": [
    {
     "name": "stdout",
     "output_type": "stream",
     "text": [
      "0\n",
      "1\n",
      "2\n",
      "3\n",
      "4\n",
      "5\n",
      "6\n",
      "7\n",
      "8\n",
      "9\n"
     ]
    }
   ],
   "source": [
    "k = 50\n",
    "m = 5\n",
    "l_0 = 5\n",
    "delta_l = 1\n",
    "epsilon = .9\n",
    "b = 0\n",
    "initial_state = [l_0+1, 0]\n",
    "t0 = 0\n",
    "\n",
    "time, out_state, apex_state = simulate_hop(0, initial_state, delta_l, k, m, l_0, epsilon, 0, b)\n",
    "initial_state = out_state[:, -1]\n",
    "t0 = time[-1]\n",
    "\n",
    "for kk in range(10):\n",
    "    \n",
    "    t, st, at = simulate_hop(0, initial_state, delta_l, k, m, l_0, epsilon, t0, b)\n",
    "        \n",
    "    time = np.hstack((time, t))\n",
    "    out_state = np.hstack((out_state, st))\n",
    "    apex_state = np.hstack((apex_state, at))\n",
    "    \n",
    "    initial_state = out_state[:, -1]\n",
    "    t0 = time[-1]\n",
    "    print(kk)"
   ]
  },
  {
   "cell_type": "markdown",
   "metadata": {},
   "source": [
    "### Hand derived return map"
   ]
  },
  {
   "cell_type": "code",
   "execution_count": 18,
   "metadata": {},
   "outputs": [],
   "source": [
    "def analytical_return_map(y_in, epsilon, delta_l, k, m, l_0):\n",
    "    g = 9.8\n",
    "    return epsilon**2*y_in + delta_l*(epsilon**2 - 1) + (k/m)/(2*g)*delta_l**2\n",
    "\n",
    "y_in = np.linspace(0,8,100)\n",
    "y_out = analytical_return_map(y_in, epsilon, delta_l, k, m, l_0)"
   ]
  },
  {
   "cell_type": "code",
   "execution_count": 19,
   "metadata": {},
   "outputs": [
    {
     "data": {
      "text/plain": [
       "Text(0, 0.5, 'Vertical velocity')"
      ]
     },
     "execution_count": 19,
     "metadata": {},
     "output_type": "execute_result"
    }
   ],
   "source": [
    "    \n",
    "plt.figure(figsize = (14, 6))\n",
    "plt.clf()\n",
    "plt.subplot(2,2,1)\n",
    "plt.plot(time, out_state[0,:])\n",
    "plt.xlabel('Time')\n",
    "plt.ylabel('Height')\n",
    "\n",
    "plt.subplot(2,2,2)\n",
    "plt.plot(apex_state[:-2] - l_0, apex_state[1:-1] - l_0, 'o')\n",
    "plt.plot(y_in, y_out)\n",
    "\n",
    "plt.plot([0,10],[0,10], '-')\n",
    "plt.xlabel('$y_{n} - l_0$')\n",
    "plt.ylabel('$y_{n+1} - l_0$')\n",
    "plt.title('Numerical (points) and analytical (orange line) return map')\n",
    "\n",
    "plt.subplot(2,2,(3,4))\n",
    "plt.plot(out_state[0,:], out_state[1,:])\n",
    "plt.xlabel('Vertical location')\n",
    "plt.ylabel('Vertical velocity')"
   ]
  }
 ],
 "metadata": {
  "kernelspec": {
   "display_name": "Python 3 (ipykernel)",
   "language": "python",
   "name": "python3"
  },
  "language_info": {
   "codemirror_mode": {
    "name": "ipython",
    "version": 3
   },
   "file_extension": ".py",
   "mimetype": "text/x-python",
   "name": "python",
   "nbconvert_exporter": "python",
   "pygments_lexer": "ipython3",
   "version": "3.8.15"
  },
  "vscode": {
   "interpreter": {
    "hash": "4eceb489042e58828059f49438c6ef416d94ef4a130d5adaa22271e4bef201d5"
   }
  }
 },
 "nbformat": 4,
 "nbformat_minor": 4
}
