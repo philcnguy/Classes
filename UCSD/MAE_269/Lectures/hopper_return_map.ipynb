{
 "cells": [
  {
   "cell_type": "code",
   "execution_count": 3,
   "metadata": {},
   "outputs": [],
   "source": [
    "import numpy as np\n",
    "from scipy.integrate import solve_ivp\n",
    "\n",
    "import matplotlib as mpl\n",
    "mpl.use('macosx')\n",
    "\n",
    "import matplotlib.pyplot as plt\n",
    "plt.ion()\n",
    "\n",
    "import warnings\n",
    "warnings.filterwarnings('ignore')"
   ]
  },
  {
   "cell_type": "markdown",
   "metadata": {},
   "source": [
    "## Let's plot the return map\n",
    "\n",
    "In lecture we derive the return map for the 1-D hopper as\n",
    "\n",
    "\\begin{align}\n",
    "\\dot{y}_{n+1} = \\sqrt{(\\epsilon \\dot{y_n})^2 + (\\omega \\Delta l)^2}\n",
    "\\end{align}"
   ]
  },
  {
   "cell_type": "code",
   "execution_count": 4,
   "metadata": {},
   "outputs": [],
   "source": [
    "def return_map(yn, epsilon, omega, delta_l):\n",
    "    y_n1 = np.sqrt((epsilon*yn)**2 + (omega*delta_l)**2)\n",
    "    return y_n1"
   ]
  },
  {
   "cell_type": "code",
   "execution_count": 7,
   "metadata": {},
   "outputs": [
    {
     "data": {
      "text/plain": [
       "Text(0, 0.5, '$y_{n+1}$')"
      ]
     },
     "execution_count": 7,
     "metadata": {},
     "output_type": "execute_result"
    }
   ],
   "source": [
    "epsilon = 0.9\n",
    "omega = 10\n",
    "delta_l = .1\n",
    "\n",
    "yn = np.linspace(0, 10, 100)\n",
    "\n",
    "\n",
    "plt.clf()\n",
    "plt.plot(yn, return_map(yn, epsilon, omega, delta_l))\n",
    "plt.plot([0, 10], [0, 10])\n",
    "plt.xlabel('$y_n$')\n",
    "plt.ylabel('$y_{n+1}$')\n"
   ]
  },
  {
   "cell_type": "markdown",
   "metadata": {},
   "source": [
    "Now let's plot for increasing omega"
   ]
  },
  {
   "cell_type": "code",
   "execution_count": 8,
   "metadata": {},
   "outputs": [],
   "source": [
    "epsilon = 0.9\n",
    "delta_l = .1\n",
    "\n",
    "yn = np.linspace(0, 10, 1000)\n",
    "\n",
    "plt.clf()\n",
    "\n",
    "for omega in np.arange(2, 50, 10):\n",
    "    plt.plot(yn, return_map(yn, epsilon, omega, delta_l))\n",
    "    plt.plot([0, 10], [0, 10])\n",
    "    plt.xlabel('$y_n$')\n",
    "    plt.ylabel('$y_{n+1}$')\n"
   ]
  },
  {
   "cell_type": "markdown",
   "metadata": {},
   "source": [
    "# Now let's numerically solve for the touchdown velocity as a function of $\\Delta L$, $\\omega$, $\\epsilon$"
   ]
  },
  {
   "cell_type": "code",
   "execution_count": 9,
   "metadata": {},
   "outputs": [],
   "source": [
    "from scipy.optimize import fsolve"
   ]
  },
  {
   "cell_type": "markdown",
   "metadata": {},
   "source": [
    "The fixed point of the return map occurs when \n",
    "\n",
    "\\begin{align}\n",
    "\\dot{y}_n = \\sqrt{(\\epsilon \\dot{y}_n)^2 + (\\omega \\Delta l)^2 }\n",
    "\\end{align}\n",
    "\n",
    "and thus we want to find the solution to this constraint equation\n",
    "\n",
    "\n",
    "\\begin{align}\n",
    "0 = \\sqrt{(\\epsilon \\dot{y}_n)^2 + (\\omega \\Delta l)^2 } - \\dot{y}_n\n",
    "\\end{align}\n",
    "\n",
    "Now this equation is trivial and we can solve it by hand and so we should be able to compare, the solution is \n",
    "\n",
    "\\begin{align}\n",
    "\\dot{y}^* = \\frac{\\omega \\Delta L}{\\sqrt{1 - \\epsilon^2}}\n",
    "\\end{align}"
   ]
  },
  {
   "cell_type": "code",
   "execution_count": 16,
   "metadata": {},
   "outputs": [
    {
     "data": {
      "text/plain": [
       "Text(0, 0.5, '$y_{n+1}$')"
      ]
     },
     "execution_count": 16,
     "metadata": {},
     "output_type": "execute_result"
    }
   ],
   "source": [
    "epsilon = 0.9\n",
    "omega = 20\n",
    "delta_l = .1\n",
    "\n",
    "ydot_td = fsolve(lambda yn: return_map(yn, epsilon, omega, delta_l) - yn, \n",
    "                [0])\n",
    "\n",
    "yn = np.linspace(0, 10, 100)\n",
    "\n",
    "\n",
    "plt.clf()\n",
    "plt.plot(yn, return_map(yn, epsilon, omega, delta_l))\n",
    "plt.plot([0, 10], [0, 10])\n",
    "plt.plot(ydot_td, ydot_td, 'o')\n",
    "plt.xlabel('$y_n$')\n",
    "plt.ylabel('$y_{n+1}$')"
   ]
  },
  {
   "cell_type": "code",
   "execution_count": 15,
   "metadata": {},
   "outputs": [
    {
     "data": {
      "text/plain": [
       "Text(0, 0.5, '$\\\\dot{y}_{td}$')"
      ]
     },
     "execution_count": 15,
     "metadata": {},
     "output_type": "execute_result"
    }
   ],
   "source": [
    "epsilon = 0.9\n",
    "delta_l = .1\n",
    "\n",
    "yn = np.linspace(0, 10, 100)\n",
    "\n",
    "plt.clf()\n",
    "ydot_td = []\n",
    "ww = []\n",
    "\n",
    "for omega in np.arange(1, 50):\n",
    "    ydot_td.append(fsolve(lambda yn: return_map(yn, epsilon, omega, delta_l) - yn, \n",
    "                    [0]))\n",
    "    ww.append(omega)\n",
    "    \n",
    "\n",
    "plt.plot(ww, ydot_td, 'o')    \n",
    "plt.plot(ww, (np.array(ww)*delta_l)/(np.sqrt(1 - epsilon**2)))\n",
    "\n",
    "plt.xlabel('$\\omega$')\n",
    "plt.ylabel('$\\dot{y}_{td}$')\n",
    "\n",
    "    \n",
    "    "
   ]
  },
  {
   "cell_type": "code",
   "execution_count": null,
   "metadata": {},
   "outputs": [],
   "source": []
  }
 ],
 "metadata": {
  "kernelspec": {
   "display_name": "Python 3 (ipykernel)",
   "language": "python",
   "name": "python3"
  },
  "language_info": {
   "codemirror_mode": {
    "name": "ipython",
    "version": 3
   },
   "file_extension": ".py",
   "mimetype": "text/x-python",
   "name": "python",
   "nbconvert_exporter": "python",
   "pygments_lexer": "ipython3",
   "version": "3.8.15"
  }
 },
 "nbformat": 4,
 "nbformat_minor": 4
}
