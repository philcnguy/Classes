{
 "cells": [
  {
   "cell_type": "markdown",
   "id": "ae09a4a2-5d86-4dcf-924a-5d8a42133aec",
   "metadata": {},
   "source": [
    "# Lecture 12"
   ]
  },
  {
   "cell_type": "code",
   "execution_count": 1,
   "id": "31f6c1a9-1285-4fcf-a447-28aea5165e98",
   "metadata": {
    "tags": []
   },
   "outputs": [],
   "source": [
    "# symbolic computation tools\n",
    "import sympy as sp\n",
    "from sympy import symbols, pprint\n",
    "from sympy import sin, cos, asin, acos, pi\n",
    "from sympy import Matrix, simplify, Function, diff, Derivative, nsimplify\n",
    "\n",
    "import numpy as np\n",
    "\n",
    "from IPython import display # for the animation\n",
    "import matplotlib as mpl\n",
    "mpl.use('Qt5Agg')\n",
    "\n",
    "import matplotlib.pyplot as plt\n",
    "plt.ion()\n",
    "\n",
    "\n",
    "# styling for plots\n",
    "mpl.rcParams['axes.titlesize'] = 24\n",
    "mpl.rcParams['axes.labelsize'] = 20\n",
    "mpl.rcParams['lines.linewidth'] = 3\n",
    "mpl.rcParams['lines.markersize'] = 10\n",
    "mpl.rcParams['xtick.labelsize'] = 16\n",
    "mpl.rcParams['ytick.labelsize'] = 16\n",
    "    \n"
   ]
  },
  {
   "cell_type": "markdown",
   "id": "cf814492-9cbc-4b8e-a6d9-0e06a8204ea7",
   "metadata": {},
   "source": [
    "Define our symbolic variables that define our robot configuration"
   ]
  },
  {
   "cell_type": "code",
   "execution_count": 2,
   "id": "5e5a465b-59cd-4037-8270-ac143d2473a5",
   "metadata": {
    "tags": []
   },
   "outputs": [],
   "source": [
    "# We wrap in parentheses here so we can write it on multiple lines. Similar\n",
    "# with the triple quotes on the string. Usually we don't need to use these things.\n",
    "(t, \n",
    " theta_1, \n",
    " theta_2, \n",
    " theta_3, \n",
    " l_1, \n",
    " l_2, \n",
    " l_3) = symbols(\"\"\"t, \n",
    "                         theta_1 \n",
    "                         theta_2 \n",
    "                         theta_3 \n",
    "                         l_1 \n",
    "                         l_2 \n",
    "                         l_3 \"\"\" , real = True)\n",
    "\n",
    "\n",
    "theta_1 = Function('theta_1', real=True)(t)\n",
    "theta_2 = Function('theta_2', real=True)(t)\n",
    "theta_3 = Function('theta_3', real=True)(t)"
   ]
  },
  {
   "cell_type": "markdown",
   "id": "9576ba38-c0ae-4adc-88d7-e74ba61db50d",
   "metadata": {},
   "source": [
    "Let's define our homogeneous transformation matrix that applies a rotation and a translation to vectors and matrices"
   ]
  },
  {
   "cell_type": "code",
   "execution_count": 3,
   "id": "0c951934-962f-4749-8817-2645be1bcc17",
   "metadata": {
    "tags": []
   },
   "outputs": [],
   "source": [
    "def T(theta, x, y):\n",
    "    \"\"\"\n",
    "    Function to return an arbitrary transformation matrix \n",
    "    This is for sympy symbolic calculation\n",
    "    \"\"\"\n",
    "    return Matrix([[cos(theta), -sin(theta), x], \n",
    "                   [sin(theta), cos(theta), y],\n",
    "                   [0, 0, 1]])\n",
    "\n",
    "def sym_to_np(T):\n",
    "    return np.array(T).astype(np.float64)"
   ]
  },
  {
   "cell_type": "code",
   "execution_count": 4,
   "id": "3e3b1297-b2ff-4581-aa03-557943e82220",
   "metadata": {
    "tags": []
   },
   "outputs": [],
   "source": [
    "def draw_robot(ordered_list_of_transformations):\n",
    "    \"\"\"\n",
    "    Draw the configuration of the three-link jumper.\n",
    "    \"\"\"\n",
    "    ax_lw = 3\n",
    "    link_lw = 1\n",
    "\n",
    "    # homogeneous unit vectors \n",
    "    x = np.array([[1, 0, 1]]).T \n",
    "    y = np.array([[0, 1, 1]]).T\n",
    "    origin = np.array([[0, 0, 1]]).T\n",
    "\n",
    "    prev_origin = np.array([[0, 0, 1]]).T    \n",
    "    current_transformation = np.eye(3)\n",
    "\n",
    "    plt.clf()\n",
    "    ax = plt.gca()  # get current axis\n",
    "\n",
    "    # now we plot\n",
    "    plt.plot([prev_origin[0][0]], [prev_origin[1][0]], '-ko',linewidth=link_lw)\n",
    "    plt.plot([prev_origin[0][0], x[0][0]], [prev_origin[1][0], x[1][0]], '-ro', linewidth=ax_lw)\n",
    "    plt.plot([prev_origin[0][0], y[0][0]], [prev_origin[1][0], y[1][0]], '-go', linewidth=ax_lw)\n",
    "\n",
    "\n",
    "    # loop the transforms in order of T_01, T_12, ... , T_N-1N\n",
    "    for k, transform in enumerate(ordered_list_of_transformations):\n",
    "\n",
    "        # update the transformation\n",
    "        current_transformation = current_transformation @ transform\n",
    "        new_origin = current_transformation @ origin\n",
    "        new_x = current_transformation @ x\n",
    "        new_y = current_transformation @ y\n",
    "\n",
    "        # now we plot\n",
    "        plt.plot([prev_origin[0][0], new_origin[0][0]], \n",
    "                 [prev_origin[1][0], new_origin[1][0]], \n",
    "                 '-ko',linewidth=link_lw)\n",
    "        \n",
    "        plt.plot([new_origin[0][0], new_x[0][0]], [new_origin[1][0], new_x[1][0]], '-r', linewidth=ax_lw)\n",
    "        plt.plot([new_origin[0][0], new_y[0][0]], [new_origin[1][0], new_y[1][0]], '-g', linewidth=ax_lw)\n",
    "\n",
    "\n",
    "#         ax.annotate('{'+str(k+1)+'}', xy=new_origin[0:2][0], xytext=new_origin[0:2][0])\n",
    "\n",
    "        # lastly update the current_origin to the new_origin\n",
    "        prev_origin = new_origin\n",
    "\n",
    "    # lastly set the axes to be equal and appropriate\n",
    "    ax.set_aspect('equal')\n",
    "    ax.set_xlabel('x')\n",
    "    ax.set_ylabel('y')    "
   ]
  },
  {
   "cell_type": "markdown",
   "id": "2dd67a13-0f3b-48f7-9a4c-f164ff1bd939",
   "metadata": {},
   "source": [
    "## Derive mass matrix from Jacobian and compare with E-L derived version\n",
    "\n",
    "We will construct the Jacobians the FK for each point mass at a joint, then the full Jacobian for all point masses, then the mass matrix\n",
    "\n"
   ]
  },
  {
   "cell_type": "markdown",
   "id": "42000e1a-c386-4ff0-b858-e63a5334fe66",
   "metadata": {},
   "source": [
    "Define the coordinate systems\n",
    "\n",
    "![](kinematics.png)"
   ]
  },
  {
   "cell_type": "markdown",
   "id": "4b0bed50-51f2-433a-be64-ea0ec9859ee6",
   "metadata": {},
   "source": [
    "Define helper transforms"
   ]
  },
  {
   "cell_type": "code",
   "execution_count": 5,
   "id": "3c5f3d78-95f8-42ba-a2b0-e026c3b6ff62",
   "metadata": {
    "tags": []
   },
   "outputs": [],
   "source": [
    "T_01 = T(theta_1, 0, 0)\n",
    "T_12 = T(theta_2, l_1, 0)\n",
    "T_23 = T(theta_3, l_2, 0)\n"
   ]
  },
  {
   "cell_type": "markdown",
   "id": "194fbbfa-32e2-45ea-80a1-138e8dceff44",
   "metadata": {},
   "source": [
    "## Let's start with a two-link"
   ]
  },
  {
   "cell_type": "code",
   "execution_count": null,
   "id": "0073d931-362e-4734-90a6-93108e0b4479",
   "metadata": {},
   "outputs": [],
   "source": []
  },
  {
   "cell_type": "code",
   "execution_count": 6,
   "id": "f02c126d-d789-452f-9bd9-bf2256da366b",
   "metadata": {
    "tags": []
   },
   "outputs": [
    {
     "data": {
      "text/latex": [
       "$\\displaystyle \\left[\\begin{matrix}l_{1} \\cos{\\left(\\theta_{1}{\\left(t \\right)} \\right)}\\\\l_{1} \\sin{\\left(\\theta_{1}{\\left(t \\right)} \\right)}\\end{matrix}\\right]$"
      ],
      "text/plain": [
       "Matrix([\n",
       "[l_1*cos(theta_1(t))],\n",
       "[l_1*sin(theta_1(t))]])"
      ]
     },
     "execution_count": 6,
     "metadata": {},
     "output_type": "execute_result"
    }
   ],
   "source": [
    "FK1 = (T_01 * Matrix([[l_1], [0], [1]]))[:-1,0]\n",
    "FK1"
   ]
  },
  {
   "cell_type": "code",
   "execution_count": 7,
   "id": "04ad25fe-ead1-497b-8050-6aced89622a2",
   "metadata": {
    "tags": []
   },
   "outputs": [
    {
     "data": {
      "text/latex": [
       "$\\displaystyle \\left[\\begin{matrix}l_{1} \\cos{\\left(\\theta_{1}{\\left(t \\right)} \\right)} + l_{2} \\cos{\\left(\\theta_{1}{\\left(t \\right)} + \\theta_{2}{\\left(t \\right)} \\right)}\\\\l_{1} \\sin{\\left(\\theta_{1}{\\left(t \\right)} \\right)} + l_{2} \\sin{\\left(\\theta_{1}{\\left(t \\right)} + \\theta_{2}{\\left(t \\right)} \\right)}\\end{matrix}\\right]$"
      ],
      "text/plain": [
       "Matrix([\n",
       "[l_1*cos(theta_1(t)) + l_2*cos(theta_1(t) + theta_2(t))],\n",
       "[l_1*sin(theta_1(t)) + l_2*sin(theta_1(t) + theta_2(t))]])"
      ]
     },
     "execution_count": 7,
     "metadata": {},
     "output_type": "execute_result"
    }
   ],
   "source": [
    "FK2 = simplify((T_01 * T_12 * Matrix([[l_2], [0], [1]]))[:-1,0])\n",
    "FK2"
   ]
  },
  {
   "cell_type": "code",
   "execution_count": 8,
   "id": "537a7eda-dc54-4165-8c71-7f0d408d957f",
   "metadata": {
    "tags": []
   },
   "outputs": [
    {
     "data": {
      "text/latex": [
       "$\\displaystyle \\left[\\begin{matrix}- l_{1} \\sin{\\left(\\theta_{1}{\\left(t \\right)} \\right)} & 0\\\\l_{1} \\cos{\\left(\\theta_{1}{\\left(t \\right)} \\right)} & 0\\end{matrix}\\right]$"
      ],
      "text/plain": [
       "Matrix([\n",
       "[-l_1*sin(theta_1(t)), 0],\n",
       "[ l_1*cos(theta_1(t)), 0]])"
      ]
     },
     "execution_count": 8,
     "metadata": {},
     "output_type": "execute_result"
    }
   ],
   "source": [
    "J1 = FK1.jacobian([theta_1, theta_2])\n",
    "J1"
   ]
  },
  {
   "cell_type": "code",
   "execution_count": 9,
   "id": "07bf1a77-7f60-4e33-bb21-62d2485417e2",
   "metadata": {
    "tags": []
   },
   "outputs": [
    {
     "data": {
      "text/latex": [
       "$\\displaystyle \\left[\\begin{matrix}- l_{1} \\sin{\\left(\\theta_{1}{\\left(t \\right)} \\right)} - l_{2} \\sin{\\left(\\theta_{1}{\\left(t \\right)} + \\theta_{2}{\\left(t \\right)} \\right)} & - l_{2} \\sin{\\left(\\theta_{1}{\\left(t \\right)} + \\theta_{2}{\\left(t \\right)} \\right)}\\\\l_{1} \\cos{\\left(\\theta_{1}{\\left(t \\right)} \\right)} + l_{2} \\cos{\\left(\\theta_{1}{\\left(t \\right)} + \\theta_{2}{\\left(t \\right)} \\right)} & l_{2} \\cos{\\left(\\theta_{1}{\\left(t \\right)} + \\theta_{2}{\\left(t \\right)} \\right)}\\end{matrix}\\right]$"
      ],
      "text/plain": [
       "Matrix([\n",
       "[-l_1*sin(theta_1(t)) - l_2*sin(theta_1(t) + theta_2(t)), -l_2*sin(theta_1(t) + theta_2(t))],\n",
       "[ l_1*cos(theta_1(t)) + l_2*cos(theta_1(t) + theta_2(t)),  l_2*cos(theta_1(t) + theta_2(t))]])"
      ]
     },
     "execution_count": 9,
     "metadata": {},
     "output_type": "execute_result"
    }
   ],
   "source": [
    "J2 = simplify(FK2.jacobian([theta_1, theta_2]))\n",
    "J2"
   ]
  },
  {
   "cell_type": "markdown",
   "id": "6a02dac3-f201-4436-839a-540f0881bbaa",
   "metadata": {},
   "source": [
    "## Make the mass matrix in cartesian coords"
   ]
  },
  {
   "cell_type": "code",
   "execution_count": 10,
   "id": "29438618-9219-448f-9d7d-d9a3bd19ad68",
   "metadata": {
    "tags": []
   },
   "outputs": [
    {
     "data": {
      "text/latex": [
       "$\\displaystyle \\left[\\begin{matrix}m_{1} & 0 & 0 & 0\\\\0 & m_{1} & 0 & 0\\\\0 & 0 & m_{2} & 0\\\\0 & 0 & 0 & m_{2}\\end{matrix}\\right]$"
      ],
      "text/plain": [
       "Matrix([\n",
       "[m_1,   0,   0,   0],\n",
       "[  0, m_1,   0,   0],\n",
       "[  0,   0, m_2,   0],\n",
       "[  0,   0,   0, m_2]])"
      ]
     },
     "execution_count": 10,
     "metadata": {},
     "output_type": "execute_result"
    }
   ],
   "source": [
    "(m_1, \n",
    " m_2, \n",
    " m_3) = symbols(\"\"\"m_1 \n",
    "                   m_2 \n",
    "                   m_3 \n",
    "                   \"\"\" , real = True)\n",
    "\n",
    "\n",
    "mass_xy = Matrix([[m_1, 0, 0, 0],\n",
    "                  [0, m_1, 0, 0],\n",
    "                  [0, 0, m_2, 0],\n",
    "                  [0, 0, 0, m_2 ]])\n",
    "mass_xy"
   ]
  },
  {
   "cell_type": "code",
   "execution_count": 11,
   "id": "eb02a0b2-6aa6-4b09-adb2-2f833631ebd9",
   "metadata": {
    "tags": []
   },
   "outputs": [
    {
     "data": {
      "text/latex": [
       "$\\displaystyle \\left[\\begin{matrix}- l_{1} \\sin{\\left(\\theta_{1}{\\left(t \\right)} \\right)} & 0\\\\l_{1} \\cos{\\left(\\theta_{1}{\\left(t \\right)} \\right)} & 0\\\\- l_{1} \\sin{\\left(\\theta_{1}{\\left(t \\right)} \\right)} - l_{2} \\sin{\\left(\\theta_{1}{\\left(t \\right)} + \\theta_{2}{\\left(t \\right)} \\right)} & - l_{2} \\sin{\\left(\\theta_{1}{\\left(t \\right)} + \\theta_{2}{\\left(t \\right)} \\right)}\\\\l_{1} \\cos{\\left(\\theta_{1}{\\left(t \\right)} \\right)} + l_{2} \\cos{\\left(\\theta_{1}{\\left(t \\right)} + \\theta_{2}{\\left(t \\right)} \\right)} & l_{2} \\cos{\\left(\\theta_{1}{\\left(t \\right)} + \\theta_{2}{\\left(t \\right)} \\right)}\\end{matrix}\\right]$"
      ],
      "text/plain": [
       "Matrix([\n",
       "[                                   -l_1*sin(theta_1(t)),                                 0],\n",
       "[                                    l_1*cos(theta_1(t)),                                 0],\n",
       "[-l_1*sin(theta_1(t)) - l_2*sin(theta_1(t) + theta_2(t)), -l_2*sin(theta_1(t) + theta_2(t))],\n",
       "[ l_1*cos(theta_1(t)) + l_2*cos(theta_1(t) + theta_2(t)),  l_2*cos(theta_1(t) + theta_2(t))]])"
      ]
     },
     "execution_count": 11,
     "metadata": {},
     "output_type": "execute_result"
    }
   ],
   "source": [
    "J = Matrix([[J1], [J2]])\n",
    "J"
   ]
  },
  {
   "cell_type": "code",
   "execution_count": 12,
   "id": "e2ab395d-35c9-45f0-af9c-33ba5b94d81f",
   "metadata": {
    "tags": []
   },
   "outputs": [
    {
     "data": {
      "text/latex": [
       "$\\displaystyle \\left[\\begin{matrix}l_{1}^{2} m_{1} + l_{1}^{2} m_{2} + 2 l_{1} l_{2} m_{2} \\cos{\\left(\\theta_{2}{\\left(t \\right)} \\right)} + l_{2}^{2} m_{2} & l_{2} m_{2} \\left(l_{1} \\cos{\\left(\\theta_{2}{\\left(t \\right)} \\right)} + l_{2}\\right)\\\\l_{2} m_{2} \\left(l_{1} \\cos{\\left(\\theta_{2}{\\left(t \\right)} \\right)} + l_{2}\\right) & l_{2}^{2} m_{2}\\end{matrix}\\right]$"
      ],
      "text/plain": [
       "Matrix([\n",
       "[l_1**2*m_1 + l_1**2*m_2 + 2*l_1*l_2*m_2*cos(theta_2(t)) + l_2**2*m_2, l_2*m_2*(l_1*cos(theta_2(t)) + l_2)],\n",
       "[                                 l_2*m_2*(l_1*cos(theta_2(t)) + l_2),                          l_2**2*m_2]])"
      ]
     },
     "execution_count": 12,
     "metadata": {},
     "output_type": "execute_result"
    }
   ],
   "source": [
    "M_jacobian = simplify(J.T * mass_xy * J)\n",
    "M_jacobian"
   ]
  },
  {
   "cell_type": "markdown",
   "id": "aabfe602-37ca-4626-a870-081a30e46db6",
   "metadata": {},
   "source": [
    "## Use Euler-Lagrange to derive mass matrix"
   ]
  },
  {
   "cell_type": "code",
   "execution_count": 13,
   "id": "3323aa92-e8fd-4a81-bcfb-981fb985be53",
   "metadata": {
    "tags": []
   },
   "outputs": [
    {
     "data": {
      "text/latex": [
       "$\\displaystyle 0.5 m_{1} \\left(l_{1}^{2} \\sin^{2}{\\left(\\theta_{1}{\\left(t \\right)} \\right)} \\left(\\frac{d}{d t} \\theta_{1}{\\left(t \\right)}\\right)^{2} + l_{1}^{2} \\cos^{2}{\\left(\\theta_{1}{\\left(t \\right)} \\right)} \\left(\\frac{d}{d t} \\theta_{1}{\\left(t \\right)}\\right)^{2}\\right)$"
      ],
      "text/plain": [
       "0.5*m_1*(l_1**2*sin(theta_1(t))**2*Derivative(theta_1(t), t)**2 + l_1**2*cos(theta_1(t))**2*Derivative(theta_1(t), t)**2)"
      ]
     },
     "execution_count": 13,
     "metadata": {},
     "output_type": "execute_result"
    }
   ],
   "source": [
    "v1 = diff(FK1,t)\n",
    "KE1 = (1/2)*m_1*(v1.T * v1)[0]\n",
    "KE1"
   ]
  },
  {
   "cell_type": "code",
   "execution_count": 14,
   "id": "2d2c8dc7-901f-4f01-8483-574980624cc0",
   "metadata": {
    "tags": []
   },
   "outputs": [
    {
     "data": {
      "text/latex": [
       "$\\displaystyle 0.5 m_{2} \\left(\\left(- l_{1} \\sin{\\left(\\theta_{1}{\\left(t \\right)} \\right)} \\frac{d}{d t} \\theta_{1}{\\left(t \\right)} - l_{2} \\left(\\frac{d}{d t} \\theta_{1}{\\left(t \\right)} + \\frac{d}{d t} \\theta_{2}{\\left(t \\right)}\\right) \\sin{\\left(\\theta_{1}{\\left(t \\right)} + \\theta_{2}{\\left(t \\right)} \\right)}\\right)^{2} + \\left(l_{1} \\cos{\\left(\\theta_{1}{\\left(t \\right)} \\right)} \\frac{d}{d t} \\theta_{1}{\\left(t \\right)} + l_{2} \\left(\\frac{d}{d t} \\theta_{1}{\\left(t \\right)} + \\frac{d}{d t} \\theta_{2}{\\left(t \\right)}\\right) \\cos{\\left(\\theta_{1}{\\left(t \\right)} + \\theta_{2}{\\left(t \\right)} \\right)}\\right)^{2}\\right)$"
      ],
      "text/plain": [
       "0.5*m_2*((-l_1*sin(theta_1(t))*Derivative(theta_1(t), t) - l_2*(Derivative(theta_1(t), t) + Derivative(theta_2(t), t))*sin(theta_1(t) + theta_2(t)))**2 + (l_1*cos(theta_1(t))*Derivative(theta_1(t), t) + l_2*(Derivative(theta_1(t), t) + Derivative(theta_2(t), t))*cos(theta_1(t) + theta_2(t)))**2)"
      ]
     },
     "execution_count": 14,
     "metadata": {},
     "output_type": "execute_result"
    }
   ],
   "source": [
    "v2 = diff(FK2,t)\n",
    "KE2 = (1/2)*m_2*(v2.T * v2)[0]\n",
    "KE2"
   ]
  },
  {
   "cell_type": "markdown",
   "id": "155c4984-fdeb-4f5f-bfd2-0ccb3a7aa158",
   "metadata": {
    "tags": []
   },
   "source": [
    "# Assemble Lagrangian"
   ]
  },
  {
   "cell_type": "code",
   "execution_count": 15,
   "id": "3bade24e-0dbc-43cc-a40d-6a5aa999075f",
   "metadata": {
    "tags": []
   },
   "outputs": [
    {
     "data": {
      "text/latex": [
       "$\\displaystyle 0.5 l_{1}^{2} m_{1} \\left(\\frac{d}{d t} \\theta_{1}{\\left(t \\right)}\\right)^{2} + 0.5 m_{2} \\left(l_{1}^{2} \\left(\\frac{d}{d t} \\theta_{1}{\\left(t \\right)}\\right)^{2} + 2 l_{1} l_{2} \\cos{\\left(\\theta_{2}{\\left(t \\right)} \\right)} \\left(\\frac{d}{d t} \\theta_{1}{\\left(t \\right)}\\right)^{2} + 2 l_{1} l_{2} \\cos{\\left(\\theta_{2}{\\left(t \\right)} \\right)} \\frac{d}{d t} \\theta_{1}{\\left(t \\right)} \\frac{d}{d t} \\theta_{2}{\\left(t \\right)} + l_{2}^{2} \\left(\\frac{d}{d t} \\theta_{1}{\\left(t \\right)}\\right)^{2} + 2 l_{2}^{2} \\frac{d}{d t} \\theta_{1}{\\left(t \\right)} \\frac{d}{d t} \\theta_{2}{\\left(t \\right)} + l_{2}^{2} \\left(\\frac{d}{d t} \\theta_{2}{\\left(t \\right)}\\right)^{2}\\right)$"
      ],
      "text/plain": [
       "0.5*l_1**2*m_1*Derivative(theta_1(t), t)**2 + 0.5*m_2*(l_1**2*Derivative(theta_1(t), t)**2 + 2*l_1*l_2*cos(theta_2(t))*Derivative(theta_1(t), t)**2 + 2*l_1*l_2*cos(theta_2(t))*Derivative(theta_1(t), t)*Derivative(theta_2(t), t) + l_2**2*Derivative(theta_1(t), t)**2 + 2*l_2**2*Derivative(theta_1(t), t)*Derivative(theta_2(t), t) + l_2**2*Derivative(theta_2(t), t)**2)"
      ]
     },
     "execution_count": 15,
     "metadata": {},
     "output_type": "execute_result"
    }
   ],
   "source": [
    "T = KE1 + KE2\n",
    "V = 0\n",
    "\n",
    "L = T - V\n",
    "L = simplify(L)\n",
    "L"
   ]
  },
  {
   "cell_type": "markdown",
   "id": "0a1fa0d2-ada9-4e9b-8e13-5c31e7e52816",
   "metadata": {
    "tags": []
   },
   "source": [
    "# Derive EOMs from Euler-Lagrange equations"
   ]
  },
  {
   "cell_type": "code",
   "execution_count": 16,
   "id": "230d53d1-09d2-4324-8dc2-7e0361be8885",
   "metadata": {
    "tags": []
   },
   "outputs": [
    {
     "data": {
      "text/latex": [
       "$\\displaystyle l_{1}^{2} m_{1} \\frac{d^{2}}{d t^{2}} \\theta_{1}{\\left(t \\right)} + \\frac{m_{2} \\cdot \\left(2 l_{1}^{2} \\frac{d^{2}}{d t^{2}} \\theta_{1}{\\left(t \\right)} - 4 l_{1} l_{2} \\sin{\\left(\\theta_{2}{\\left(t \\right)} \\right)} \\frac{d}{d t} \\theta_{1}{\\left(t \\right)} \\frac{d}{d t} \\theta_{2}{\\left(t \\right)} - 2 l_{1} l_{2} \\sin{\\left(\\theta_{2}{\\left(t \\right)} \\right)} \\left(\\frac{d}{d t} \\theta_{2}{\\left(t \\right)}\\right)^{2} + 4 l_{1} l_{2} \\cos{\\left(\\theta_{2}{\\left(t \\right)} \\right)} \\frac{d^{2}}{d t^{2}} \\theta_{1}{\\left(t \\right)} + 2 l_{1} l_{2} \\cos{\\left(\\theta_{2}{\\left(t \\right)} \\right)} \\frac{d^{2}}{d t^{2}} \\theta_{2}{\\left(t \\right)} + 2 l_{2}^{2} \\frac{d^{2}}{d t^{2}} \\theta_{1}{\\left(t \\right)} + 2 l_{2}^{2} \\frac{d^{2}}{d t^{2}} \\theta_{2}{\\left(t \\right)}\\right)}{2}$"
      ],
      "text/plain": [
       "l_1**2*m_1*Derivative(theta_1(t), (t, 2)) + m_2*(2*l_1**2*Derivative(theta_1(t), (t, 2)) - 4*l_1*l_2*sin(theta_2(t))*Derivative(theta_1(t), t)*Derivative(theta_2(t), t) - 2*l_1*l_2*sin(theta_2(t))*Derivative(theta_2(t), t)**2 + 4*l_1*l_2*cos(theta_2(t))*Derivative(theta_1(t), (t, 2)) + 2*l_1*l_2*cos(theta_2(t))*Derivative(theta_2(t), (t, 2)) + 2*l_2**2*Derivative(theta_1(t), (t, 2)) + 2*l_2**2*Derivative(theta_2(t), (t, 2)))/2"
      ]
     },
     "execution_count": 16,
     "metadata": {},
     "output_type": "execute_result"
    }
   ],
   "source": [
    "EOM_theta_1 = diff(diff(L, Derivative(theta_1, t)), t) - diff(L, theta_1)\n",
    "EOM_theta_1 = nsimplify(EOM_theta_1)\n",
    "EOM_theta_1"
   ]
  },
  {
   "cell_type": "code",
   "execution_count": 17,
   "id": "faf82a6b-7a46-4253-a03e-4bfc3013e815",
   "metadata": {
    "tags": []
   },
   "outputs": [
    {
     "data": {
      "text/latex": [
       "$\\displaystyle - \\frac{m_{2} \\left(- 2 l_{1} l_{2} \\sin{\\left(\\theta_{2}{\\left(t \\right)} \\right)} \\left(\\frac{d}{d t} \\theta_{1}{\\left(t \\right)}\\right)^{2} - 2 l_{1} l_{2} \\sin{\\left(\\theta_{2}{\\left(t \\right)} \\right)} \\frac{d}{d t} \\theta_{1}{\\left(t \\right)} \\frac{d}{d t} \\theta_{2}{\\left(t \\right)}\\right)}{2} + \\frac{m_{2} \\left(- 2 l_{1} l_{2} \\sin{\\left(\\theta_{2}{\\left(t \\right)} \\right)} \\frac{d}{d t} \\theta_{1}{\\left(t \\right)} \\frac{d}{d t} \\theta_{2}{\\left(t \\right)} + 2 l_{1} l_{2} \\cos{\\left(\\theta_{2}{\\left(t \\right)} \\right)} \\frac{d^{2}}{d t^{2}} \\theta_{1}{\\left(t \\right)} + 2 l_{2}^{2} \\frac{d^{2}}{d t^{2}} \\theta_{1}{\\left(t \\right)} + 2 l_{2}^{2} \\frac{d^{2}}{d t^{2}} \\theta_{2}{\\left(t \\right)}\\right)}{2}$"
      ],
      "text/plain": [
       "-m_2*(-2*l_1*l_2*sin(theta_2(t))*Derivative(theta_1(t), t)**2 - 2*l_1*l_2*sin(theta_2(t))*Derivative(theta_1(t), t)*Derivative(theta_2(t), t))/2 + m_2*(-2*l_1*l_2*sin(theta_2(t))*Derivative(theta_1(t), t)*Derivative(theta_2(t), t) + 2*l_1*l_2*cos(theta_2(t))*Derivative(theta_1(t), (t, 2)) + 2*l_2**2*Derivative(theta_1(t), (t, 2)) + 2*l_2**2*Derivative(theta_2(t), (t, 2)))/2"
      ]
     },
     "execution_count": 17,
     "metadata": {},
     "output_type": "execute_result"
    }
   ],
   "source": [
    "EOM_theta_2 = diff(diff(L, Derivative(theta_2, t)), t) - diff(L, theta_2)\n",
    "EOM_theta_2 = nsimplify(EOM_theta_2)\n",
    "EOM_theta_2"
   ]
  },
  {
   "cell_type": "markdown",
   "id": "89f7839a-330b-4027-be1e-f1668c9b6a33",
   "metadata": {},
   "source": [
    "# Assemble the mass matrix"
   ]
  },
  {
   "cell_type": "code",
   "execution_count": 18,
   "id": "e87dff5f-ecb6-432e-b081-55e8393374cf",
   "metadata": {
    "tags": []
   },
   "outputs": [],
   "source": [
    "mass = sp.symarray('',(2,2))\n",
    "\n",
    "mass[0,0] = EOM_theta_1.expand().coeff(Derivative(theta_1,t,t))\n",
    "\n",
    "mass[0,1] = EOM_theta_1.expand().coeff(Derivative(theta_2,t,t))\n",
    "mass[1,0] = mass[0,1]\n",
    "\n",
    "mass[1,1] = EOM_theta_2.expand().coeff(Derivative(theta_2,t,t))\n",
    "\n",
    "mass = Matrix(mass)"
   ]
  },
  {
   "cell_type": "code",
   "execution_count": 19,
   "id": "387a0cce-4aba-4695-a99b-86afd5aa531f",
   "metadata": {
    "tags": []
   },
   "outputs": [
    {
     "data": {
      "text/latex": [
       "$\\displaystyle \\left[\\begin{matrix}l_{1}^{2} m_{1} + l_{1}^{2} m_{2} + 2 l_{1} l_{2} m_{2} \\cos{\\left(\\theta_{2}{\\left(t \\right)} \\right)} + l_{2}^{2} m_{2} & l_{2} m_{2} \\left(l_{1} \\cos{\\left(\\theta_{2}{\\left(t \\right)} \\right)} + l_{2}\\right)\\\\l_{2} m_{2} \\left(l_{1} \\cos{\\left(\\theta_{2}{\\left(t \\right)} \\right)} + l_{2}\\right) & l_{2}^{2} m_{2}\\end{matrix}\\right]$"
      ],
      "text/plain": [
       "Matrix([\n",
       "[l_1**2*m_1 + l_1**2*m_2 + 2*l_1*l_2*m_2*cos(theta_2(t)) + l_2**2*m_2, l_2*m_2*(l_1*cos(theta_2(t)) + l_2)],\n",
       "[                                 l_2*m_2*(l_1*cos(theta_2(t)) + l_2),                          l_2**2*m_2]])"
      ]
     },
     "execution_count": 19,
     "metadata": {},
     "output_type": "execute_result"
    }
   ],
   "source": [
    "mass = simplify(mass)\n",
    "mass"
   ]
  },
  {
   "cell_type": "code",
   "execution_count": 20,
   "id": "39bbd08c-1f89-442f-a493-7db395b8c1fd",
   "metadata": {
    "tags": []
   },
   "outputs": [
    {
     "data": {
      "text/plain": [
       "True"
      ]
     },
     "execution_count": 20,
     "metadata": {},
     "output_type": "execute_result"
    }
   ],
   "source": [
    "M_jacobian == mass"
   ]
  },
  {
   "cell_type": "markdown",
   "id": "3a15af4a-dcfc-4ee5-bc61-e4ca84602595",
   "metadata": {},
   "source": [
    "## What about the Gravity vector in joint torques?"
   ]
  },
  {
   "cell_type": "code",
   "execution_count": 21,
   "id": "9b3457d0-8771-4a33-ae74-0631c904e024",
   "metadata": {
    "tags": []
   },
   "outputs": [
    {
     "data": {
      "text/latex": [
       "$\\displaystyle \\left[\\begin{matrix}- g l_{1} \\cos{\\left(\\theta_{1}{\\left(t \\right)} \\right)}\\\\0\\end{matrix}\\right]$"
      ],
      "text/plain": [
       "Matrix([\n",
       "[-g*l_1*cos(theta_1(t))],\n",
       "[                     0]])"
      ]
     },
     "execution_count": 21,
     "metadata": {},
     "output_type": "execute_result"
    }
   ],
   "source": [
    "g = symbols(\"g\")\n",
    "\n",
    "FG_1 = J1.T * Matrix([[0], [-g]])\n",
    "FG_1"
   ]
  },
  {
   "cell_type": "code",
   "execution_count": 22,
   "id": "faf8e370-fd8b-41c7-b205-55d3317a9cfd",
   "metadata": {
    "tags": []
   },
   "outputs": [
    {
     "data": {
      "text/latex": [
       "$\\displaystyle \\left[\\begin{matrix}- g \\left(l_{1} \\cos{\\left(\\theta_{1}{\\left(t \\right)} \\right)} + l_{2} \\cos{\\left(\\theta_{1}{\\left(t \\right)} + \\theta_{2}{\\left(t \\right)} \\right)}\\right)\\\\- g l_{2} \\cos{\\left(\\theta_{1}{\\left(t \\right)} + \\theta_{2}{\\left(t \\right)} \\right)}\\end{matrix}\\right]$"
      ],
      "text/plain": [
       "Matrix([\n",
       "[-g*(l_1*cos(theta_1(t)) + l_2*cos(theta_1(t) + theta_2(t)))],\n",
       "[                        -g*l_2*cos(theta_1(t) + theta_2(t))]])"
      ]
     },
     "execution_count": 22,
     "metadata": {},
     "output_type": "execute_result"
    }
   ],
   "source": [
    "FG_2 = J2.T * Matrix([[0], [-g]])\n",
    "FG_2"
   ]
  },
  {
   "cell_type": "code",
   "execution_count": 23,
   "id": "bd455e58-c572-4ed8-8111-d22be3fa8703",
   "metadata": {
    "tags": []
   },
   "outputs": [
    {
     "data": {
      "text/latex": [
       "$\\displaystyle \\left[\\begin{matrix}- g l_{1} \\cos{\\left(\\theta_{1}{\\left(t \\right)} \\right)} - g \\left(l_{1} \\cos{\\left(\\theta_{1}{\\left(t \\right)} \\right)} + l_{2} \\cos{\\left(\\theta_{1}{\\left(t \\right)} + \\theta_{2}{\\left(t \\right)} \\right)}\\right)\\\\- g l_{2} \\cos{\\left(\\theta_{1}{\\left(t \\right)} + \\theta_{2}{\\left(t \\right)} \\right)}\\end{matrix}\\right]$"
      ],
      "text/plain": [
       "Matrix([\n",
       "[-g*l_1*cos(theta_1(t)) - g*(l_1*cos(theta_1(t)) + l_2*cos(theta_1(t) + theta_2(t)))],\n",
       "[                                                -g*l_2*cos(theta_1(t) + theta_2(t))]])"
      ]
     },
     "execution_count": 23,
     "metadata": {},
     "output_type": "execute_result"
    }
   ],
   "source": [
    "G = FG_1 + FG_2\n",
    "G"
   ]
  },
  {
   "cell_type": "code",
   "execution_count": 24,
   "id": "d9d7d27a-f504-4dd9-9d72-0a4bcb7c8de5",
   "metadata": {
    "tags": []
   },
   "outputs": [
    {
     "data": {
      "text/latex": [
       "$\\displaystyle \\left[\\begin{matrix}- l_{1} \\sin{\\left(\\theta_{1}{\\left(t \\right)} \\right)} & l_{1} \\cos{\\left(\\theta_{1}{\\left(t \\right)} \\right)}\\\\0 & 0\\end{matrix}\\right]$"
      ],
      "text/plain": [
       "Matrix([\n",
       "[-l_1*sin(theta_1(t)), l_1*cos(theta_1(t))],\n",
       "[                   0,                   0]])"
      ]
     },
     "execution_count": 24,
     "metadata": {},
     "output_type": "execute_result"
    }
   ],
   "source": [
    "J1.T"
   ]
  },
  {
   "cell_type": "markdown",
   "id": "7644c59c-4d06-4eee-bdd1-02f27a5e38bc",
   "metadata": {
    "tags": []
   },
   "source": [
    "## Try the three link now"
   ]
  },
  {
   "cell_type": "code",
   "execution_count": 25,
   "id": "d037685c-78e5-4064-9c63-075cf2521731",
   "metadata": {
    "tags": []
   },
   "outputs": [
    {
     "data": {
      "text/latex": [
       "$\\displaystyle \\left[\\begin{matrix}- l_{1} \\sin{\\left(\\theta_{1}{\\left(t \\right)} \\right)} & 0 & 0\\\\l_{1} \\cos{\\left(\\theta_{1}{\\left(t \\right)} \\right)} & 0 & 0\\end{matrix}\\right]$"
      ],
      "text/plain": [
       "Matrix([\n",
       "[-l_1*sin(theta_1(t)), 0, 0],\n",
       "[ l_1*cos(theta_1(t)), 0, 0]])"
      ]
     },
     "execution_count": 25,
     "metadata": {},
     "output_type": "execute_result"
    }
   ],
   "source": [
    "J1 = FK1.jacobian([theta_1, theta_2, theta_3])\n",
    "J1"
   ]
  },
  {
   "cell_type": "code",
   "execution_count": 26,
   "id": "263519f5-be5a-40fb-b44d-a3a25bddba69",
   "metadata": {
    "tags": []
   },
   "outputs": [
    {
     "data": {
      "text/latex": [
       "$\\displaystyle \\left[\\begin{matrix}- l_{1} \\sin{\\left(\\theta_{1}{\\left(t \\right)} \\right)} - l_{2} \\sin{\\left(\\theta_{1}{\\left(t \\right)} + \\theta_{2}{\\left(t \\right)} \\right)} & - l_{2} \\sin{\\left(\\theta_{1}{\\left(t \\right)} + \\theta_{2}{\\left(t \\right)} \\right)} & 0\\\\l_{1} \\cos{\\left(\\theta_{1}{\\left(t \\right)} \\right)} + l_{2} \\cos{\\left(\\theta_{1}{\\left(t \\right)} + \\theta_{2}{\\left(t \\right)} \\right)} & l_{2} \\cos{\\left(\\theta_{1}{\\left(t \\right)} + \\theta_{2}{\\left(t \\right)} \\right)} & 0\\end{matrix}\\right]$"
      ],
      "text/plain": [
       "Matrix([\n",
       "[-l_1*sin(theta_1(t)) - l_2*sin(theta_1(t) + theta_2(t)), -l_2*sin(theta_1(t) + theta_2(t)), 0],\n",
       "[ l_1*cos(theta_1(t)) + l_2*cos(theta_1(t) + theta_2(t)),  l_2*cos(theta_1(t) + theta_2(t)), 0]])"
      ]
     },
     "execution_count": 26,
     "metadata": {},
     "output_type": "execute_result"
    }
   ],
   "source": [
    "J2 = simplify(FK2.jacobian([theta_1, theta_2, theta_3]))\n",
    "J2"
   ]
  },
  {
   "cell_type": "code",
   "execution_count": 27,
   "id": "6bac82de-4869-4b5b-bcd0-c9421956546c",
   "metadata": {
    "tags": []
   },
   "outputs": [
    {
     "ename": "NameError",
     "evalue": "name 'FK3' is not defined",
     "output_type": "error",
     "traceback": [
      "\u001b[1;31m---------------------------------------------------------------------------\u001b[0m",
      "\u001b[1;31mNameError\u001b[0m                                 Traceback (most recent call last)",
      "Cell \u001b[1;32mIn[27], line 1\u001b[0m\n\u001b[1;32m----> 1\u001b[0m J3 \u001b[38;5;241m=\u001b[39m simplify(FK3\u001b[38;5;241m.\u001b[39mjacobian([theta_1, theta_2, theta_3]))\n\u001b[0;32m      2\u001b[0m J3\n",
      "\u001b[1;31mNameError\u001b[0m: name 'FK3' is not defined"
     ]
    }
   ],
   "source": [
    "J3 = simplify(FK3.jacobian([theta_1, theta_2, theta_3]))\n",
    "J3"
   ]
  },
  {
   "cell_type": "code",
   "execution_count": null,
   "id": "9f42dff4-0d6c-4c90-a497-b8d1ace13b7c",
   "metadata": {},
   "outputs": [],
   "source": []
  },
  {
   "cell_type": "markdown",
   "id": "f2e8fece-7518-4a5a-b9b4-e98d0c11e9d2",
   "metadata": {
    "tags": []
   },
   "source": [
    "## Make the mass matrix in cartesian coords"
   ]
  },
  {
   "cell_type": "code",
   "execution_count": null,
   "id": "08e5391b-f95e-4434-80e7-04c20d62a774",
   "metadata": {
    "tags": []
   },
   "outputs": [],
   "source": [
    "(m_1, \n",
    " m_2, \n",
    " m_3) = symbols(\"\"\"m_1 \n",
    "                   m_2 \n",
    "                   m_3 \n",
    "                   \"\"\" , real = True)\n",
    "\n",
    "\n",
    "mass_xy = Matrix([[m_1, 0, 0, 0, 0, 0],\n",
    "                  [0, m_1, 0, 0, 0, 0],\n",
    "                  [0, 0, m_2, 0, 0, 0],\n",
    "                  [0, 0, 0, m_2, 0, 0],\n",
    "                  [0, 0, 0, 0, m_3, 0],\n",
    "                  [0, 0, 0, 0, 0, m_3]])\n",
    "mass_xy"
   ]
  },
  {
   "cell_type": "code",
   "execution_count": null,
   "id": "6fcc2241-f81a-44a6-ae8b-3d9b641248b0",
   "metadata": {
    "tags": []
   },
   "outputs": [],
   "source": [
    "J = Matrix([[J1], [J2], [J3]])\n",
    "J"
   ]
  },
  {
   "cell_type": "code",
   "execution_count": null,
   "id": "d7a36ae5-d7b6-4a88-bc7a-c622556c51e1",
   "metadata": {
    "tags": []
   },
   "outputs": [],
   "source": [
    "simplify(J.T * mass_xy * J)"
   ]
  },
  {
   "cell_type": "markdown",
   "id": "837bb9b0-ee82-4cbc-9ea2-c4aa584b86b4",
   "metadata": {},
   "source": []
  },
  {
   "cell_type": "code",
   "execution_count": null,
   "id": "83180eb3-ff22-4ca5-bf28-01c2ff8fb5e6",
   "metadata": {},
   "outputs": [],
   "source": []
  }
 ],
 "metadata": {
  "kernelspec": {
   "display_name": "Python 3 (ipykernel)",
   "language": "python",
   "name": "python3"
  },
  "language_info": {
   "codemirror_mode": {
    "name": "ipython",
    "version": 3
   },
   "file_extension": ".py",
   "mimetype": "text/x-python",
   "name": "python",
   "nbconvert_exporter": "python",
   "pygments_lexer": "ipython3",
   "version": "3.11.5"
  }
 },
 "nbformat": 4,
 "nbformat_minor": 5
}
