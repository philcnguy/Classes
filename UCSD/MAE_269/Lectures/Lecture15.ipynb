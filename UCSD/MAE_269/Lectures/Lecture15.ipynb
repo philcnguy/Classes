{
 "cells": [
  {
   "cell_type": "markdown",
   "id": "40308037-b2f1-4b80-8e90-e9cbe53bffa5",
   "metadata": {},
   "source": [
    "# Lecture 15 \n",
    "\n",
    "Assembling dynamics through the E-L equations"
   ]
  },
  {
   "cell_type": "code",
   "execution_count": 1,
   "id": "f400473d-f45a-46da-95af-a72b7bf2a5ce",
   "metadata": {
    "tags": []
   },
   "outputs": [],
   "source": [
    "# symbolic computation tools\n",
    "import sympy as sp\n",
    "from sympy import symbols, pprint\n",
    "from sympy import sin, cos, asin, acos, pi, lambdify\n",
    "from sympy import Matrix, simplify, Function, diff, Derivative, nsimplify\n",
    "\n",
    "from scipy.integrate import solve_ivp\n",
    "\n",
    "import numpy as np\n",
    "\n",
    "from IPython import display # for the animation\n",
    "import matplotlib as mpl\n",
    "mpl.use('Qt5Agg')\n",
    "\n",
    "import matplotlib.pyplot as plt\n",
    "plt.ion()\n",
    "\n",
    "\n",
    "# styling for plots\n",
    "mpl.rcParams['axes.titlesize'] = 24\n",
    "mpl.rcParams['axes.labelsize'] = 20\n",
    "mpl.rcParams['lines.linewidth'] = 3\n",
    "mpl.rcParams['lines.markersize'] = 10\n",
    "mpl.rcParams['xtick.labelsize'] = 16\n",
    "mpl.rcParams['ytick.labelsize'] = 16\n",
    "    \n"
   ]
  },
  {
   "cell_type": "code",
   "execution_count": 2,
   "id": "34d56f6b-2809-4dd7-ab33-21697241dd5f",
   "metadata": {
    "tags": []
   },
   "outputs": [],
   "source": [
    "# We wrap in parentheses here so we can write it on multiple lines. Similar\n",
    "# with the triple quotes on the string. Usually we don't need to use these things.\n",
    "(t, \n",
    " theta_1, \n",
    " theta_2, \n",
    " theta_3, \n",
    " l_1, \n",
    " l_2, \n",
    " l_3, \n",
    " m_1,\n",
    " m_2,\n",
    " g) = symbols(\"\"\"t, \n",
    "                         theta_1 \n",
    "                         theta_2 \n",
    "                         theta_3 \n",
    "                         l_1 \n",
    "                         l_2 \n",
    "                         l_3\n",
    "                         m_1\n",
    "                         m_2\n",
    "                         g\"\"\" , real = True)\n",
    "\n",
    "\n",
    "theta_1 = Function('theta_1', real=True)(t)\n",
    "theta_2 = Function('theta_2', real=True)(t)\n",
    "theta_3 = Function('theta_3', real=True)(t)"
   ]
  },
  {
   "cell_type": "code",
   "execution_count": 3,
   "id": "0a7d3ac8-3b9d-411e-9137-5f00bc46f85e",
   "metadata": {
    "tags": []
   },
   "outputs": [],
   "source": [
    "def T(theta, x, y):\n",
    "    \"\"\"\n",
    "    Function to return an arbitrary transformation matrix \n",
    "    This is for sympy symbolic calculation\n",
    "    \"\"\"\n",
    "    return Matrix([[cos(theta), -sin(theta), x], \n",
    "                   [sin(theta), cos(theta), y],\n",
    "                   [0, 0, 1]])\n",
    "\n",
    "def sym_to_np(T):\n",
    "    return np.array(T).astype(np.float64)"
   ]
  },
  {
   "cell_type": "code",
   "execution_count": 4,
   "id": "f497fd19-5173-4d0c-afc6-04e188afd323",
   "metadata": {
    "tags": []
   },
   "outputs": [],
   "source": [
    "T_01 = T(theta_1, 0, 0)\n",
    "T_12 = T(theta_2, l_1, 0)\n"
   ]
  },
  {
   "cell_type": "markdown",
   "id": "f9fd4c99-33e2-48a8-9330-7904897ff290",
   "metadata": {},
   "source": [
    "Let's define our homogeneous transformation matrix that applies a rotation and a translation to vectors and matrices"
   ]
  },
  {
   "cell_type": "code",
   "execution_count": 5,
   "id": "ea185b36-06a6-4115-9187-83588ead4609",
   "metadata": {
    "tags": []
   },
   "outputs": [
    {
     "data": {
      "text/latex": [
       "$\\displaystyle \\left[\\begin{matrix}l_{1} \\cos{\\left(\\theta_{1}{\\left(t \\right)} \\right)}\\\\l_{1} \\sin{\\left(\\theta_{1}{\\left(t \\right)} \\right)}\\end{matrix}\\right]$"
      ],
      "text/plain": [
       "Matrix([\n",
       "[l_1*cos(theta_1(t))],\n",
       "[l_1*sin(theta_1(t))]])"
      ]
     },
     "execution_count": 5,
     "metadata": {},
     "output_type": "execute_result"
    }
   ],
   "source": [
    "FK1 = (T_01 * Matrix([[l_1], [0], [1]]))[:-1,0]\n",
    "FK1"
   ]
  },
  {
   "cell_type": "code",
   "execution_count": 6,
   "id": "0779a98e-b0b8-483c-94c7-bea061563dff",
   "metadata": {
    "tags": []
   },
   "outputs": [
    {
     "data": {
      "text/latex": [
       "$\\displaystyle \\left[\\begin{matrix}l_{1} \\cos{\\left(\\theta_{1}{\\left(t \\right)} \\right)} + l_{2} \\cos{\\left(\\theta_{1}{\\left(t \\right)} + \\theta_{2}{\\left(t \\right)} \\right)}\\\\l_{1} \\sin{\\left(\\theta_{1}{\\left(t \\right)} \\right)} + l_{2} \\sin{\\left(\\theta_{1}{\\left(t \\right)} + \\theta_{2}{\\left(t \\right)} \\right)}\\end{matrix}\\right]$"
      ],
      "text/plain": [
       "Matrix([\n",
       "[l_1*cos(theta_1(t)) + l_2*cos(theta_1(t) + theta_2(t))],\n",
       "[l_1*sin(theta_1(t)) + l_2*sin(theta_1(t) + theta_2(t))]])"
      ]
     },
     "execution_count": 6,
     "metadata": {},
     "output_type": "execute_result"
    }
   ],
   "source": [
    "FK2 = simplify((T_01 * T_12 * Matrix([[l_2], [0], [1]]))[:-1,0])\n",
    "FK2"
   ]
  },
  {
   "cell_type": "code",
   "execution_count": 7,
   "id": "45a219cf-78fa-4847-a56d-421543c5aa39",
   "metadata": {
    "tags": []
   },
   "outputs": [
    {
     "data": {
      "text/latex": [
       "$\\displaystyle 0.5 m_{1} \\left(l_{1}^{2} \\sin^{2}{\\left(\\theta_{1}{\\left(t \\right)} \\right)} \\left(\\frac{d}{d t} \\theta_{1}{\\left(t \\right)}\\right)^{2} + l_{1}^{2} \\cos^{2}{\\left(\\theta_{1}{\\left(t \\right)} \\right)} \\left(\\frac{d}{d t} \\theta_{1}{\\left(t \\right)}\\right)^{2}\\right)$"
      ],
      "text/plain": [
       "0.5*m_1*(l_1**2*sin(theta_1(t))**2*Derivative(theta_1(t), t)**2 + l_1**2*cos(theta_1(t))**2*Derivative(theta_1(t), t)**2)"
      ]
     },
     "execution_count": 7,
     "metadata": {},
     "output_type": "execute_result"
    }
   ],
   "source": [
    "v1 = diff(FK1,t)\n",
    "KE1 = (1/2)*m_1*(v1.T * v1)[0]\n",
    "KE1"
   ]
  },
  {
   "cell_type": "code",
   "execution_count": 8,
   "id": "96dc555f-5b73-4c36-91dc-7b3cd0ae7729",
   "metadata": {
    "tags": []
   },
   "outputs": [
    {
     "data": {
      "text/latex": [
       "$\\displaystyle 0.5 m_{2} \\left(\\left(- l_{1} \\sin{\\left(\\theta_{1}{\\left(t \\right)} \\right)} \\frac{d}{d t} \\theta_{1}{\\left(t \\right)} - l_{2} \\left(\\frac{d}{d t} \\theta_{1}{\\left(t \\right)} + \\frac{d}{d t} \\theta_{2}{\\left(t \\right)}\\right) \\sin{\\left(\\theta_{1}{\\left(t \\right)} + \\theta_{2}{\\left(t \\right)} \\right)}\\right)^{2} + \\left(l_{1} \\cos{\\left(\\theta_{1}{\\left(t \\right)} \\right)} \\frac{d}{d t} \\theta_{1}{\\left(t \\right)} + l_{2} \\left(\\frac{d}{d t} \\theta_{1}{\\left(t \\right)} + \\frac{d}{d t} \\theta_{2}{\\left(t \\right)}\\right) \\cos{\\left(\\theta_{1}{\\left(t \\right)} + \\theta_{2}{\\left(t \\right)} \\right)}\\right)^{2}\\right)$"
      ],
      "text/plain": [
       "0.5*m_2*((-l_1*sin(theta_1(t))*Derivative(theta_1(t), t) - l_2*(Derivative(theta_1(t), t) + Derivative(theta_2(t), t))*sin(theta_1(t) + theta_2(t)))**2 + (l_1*cos(theta_1(t))*Derivative(theta_1(t), t) + l_2*(Derivative(theta_1(t), t) + Derivative(theta_2(t), t))*cos(theta_1(t) + theta_2(t)))**2)"
      ]
     },
     "execution_count": 8,
     "metadata": {},
     "output_type": "execute_result"
    }
   ],
   "source": [
    "v2 = diff(FK2,t)\n",
    "KE2 = (1/2)*m_2*(v2.T * v2)[0]\n",
    "KE2"
   ]
  },
  {
   "cell_type": "markdown",
   "id": "a0ce4a70-0eb9-4718-a428-39af3553b5cf",
   "metadata": {
    "tags": []
   },
   "source": [
    "# Assemble Lagrangian"
   ]
  },
  {
   "cell_type": "code",
   "execution_count": 29,
   "id": "41b994a4-600d-42b6-9f80-f2f48345fdb6",
   "metadata": {
    "tags": []
   },
   "outputs": [
    {
     "data": {
      "text/latex": [
       "$\\displaystyle - g l_{1} m_{1} \\sin{\\left(\\theta_{1}{\\left(t \\right)} \\right)} - g m_{2} \\left(l_{1} \\sin{\\left(\\theta_{1}{\\left(t \\right)} \\right)} + l_{2} \\sin{\\left(\\theta_{1}{\\left(t \\right)} + \\theta_{2}{\\left(t \\right)} \\right)}\\right) + 0.5 l_{1}^{2} m_{1} \\left(\\frac{d}{d t} \\theta_{1}{\\left(t \\right)}\\right)^{2} + 0.5 m_{2} \\left(l_{1}^{2} \\left(\\frac{d}{d t} \\theta_{1}{\\left(t \\right)}\\right)^{2} + 2 l_{1} l_{2} \\cos{\\left(\\theta_{2}{\\left(t \\right)} \\right)} \\left(\\frac{d}{d t} \\theta_{1}{\\left(t \\right)}\\right)^{2} + 2 l_{1} l_{2} \\cos{\\left(\\theta_{2}{\\left(t \\right)} \\right)} \\frac{d}{d t} \\theta_{1}{\\left(t \\right)} \\frac{d}{d t} \\theta_{2}{\\left(t \\right)} + l_{2}^{2} \\left(\\frac{d}{d t} \\theta_{1}{\\left(t \\right)}\\right)^{2} + 2 l_{2}^{2} \\frac{d}{d t} \\theta_{1}{\\left(t \\right)} \\frac{d}{d t} \\theta_{2}{\\left(t \\right)} + l_{2}^{2} \\left(\\frac{d}{d t} \\theta_{2}{\\left(t \\right)}\\right)^{2}\\right)$"
      ],
      "text/plain": [
       "-g*l_1*m_1*sin(theta_1(t)) - g*m_2*(l_1*sin(theta_1(t)) + l_2*sin(theta_1(t) + theta_2(t))) + 0.5*l_1**2*m_1*Derivative(theta_1(t), t)**2 + 0.5*m_2*(l_1**2*Derivative(theta_1(t), t)**2 + 2*l_1*l_2*cos(theta_2(t))*Derivative(theta_1(t), t)**2 + 2*l_1*l_2*cos(theta_2(t))*Derivative(theta_1(t), t)*Derivative(theta_2(t), t) + l_2**2*Derivative(theta_1(t), t)**2 + 2*l_2**2*Derivative(theta_1(t), t)*Derivative(theta_2(t), t) + l_2**2*Derivative(theta_2(t), t)**2)"
      ]
     },
     "execution_count": 29,
     "metadata": {},
     "output_type": "execute_result"
    }
   ],
   "source": [
    "T = KE1 + KE2\n",
    "V = m_1*g*FK1[1] + m_2*g*FK2[1]\n",
    "\n",
    "L = T - V\n",
    "L = simplify(L)\n",
    "L"
   ]
  },
  {
   "cell_type": "markdown",
   "id": "f4e0eae6-65eb-43ef-b24a-0e28856c9fe5",
   "metadata": {
    "tags": []
   },
   "source": [
    "# Derive EOMs from Euler-Lagrange equations"
   ]
  },
  {
   "cell_type": "code",
   "execution_count": 10,
   "id": "e43fbaef-85f2-4c1f-b22f-e25309d0f68a",
   "metadata": {
    "tags": []
   },
   "outputs": [
    {
     "data": {
      "text/latex": [
       "$\\displaystyle g l_{1} m_{1} \\cos{\\left(\\theta_{1}{\\left(t \\right)} \\right)} + g m_{2} \\left(l_{1} \\cos{\\left(\\theta_{1}{\\left(t \\right)} \\right)} + l_{2} \\cos{\\left(\\theta_{1}{\\left(t \\right)} + \\theta_{2}{\\left(t \\right)} \\right)}\\right) + l_{1}^{2} m_{1} \\frac{d^{2}}{d t^{2}} \\theta_{1}{\\left(t \\right)} + \\frac{m_{2} \\cdot \\left(2 l_{1}^{2} \\frac{d^{2}}{d t^{2}} \\theta_{1}{\\left(t \\right)} - 4 l_{1} l_{2} \\sin{\\left(\\theta_{2}{\\left(t \\right)} \\right)} \\frac{d}{d t} \\theta_{1}{\\left(t \\right)} \\frac{d}{d t} \\theta_{2}{\\left(t \\right)} - 2 l_{1} l_{2} \\sin{\\left(\\theta_{2}{\\left(t \\right)} \\right)} \\left(\\frac{d}{d t} \\theta_{2}{\\left(t \\right)}\\right)^{2} + 4 l_{1} l_{2} \\cos{\\left(\\theta_{2}{\\left(t \\right)} \\right)} \\frac{d^{2}}{d t^{2}} \\theta_{1}{\\left(t \\right)} + 2 l_{1} l_{2} \\cos{\\left(\\theta_{2}{\\left(t \\right)} \\right)} \\frac{d^{2}}{d t^{2}} \\theta_{2}{\\left(t \\right)} + 2 l_{2}^{2} \\frac{d^{2}}{d t^{2}} \\theta_{1}{\\left(t \\right)} + 2 l_{2}^{2} \\frac{d^{2}}{d t^{2}} \\theta_{2}{\\left(t \\right)}\\right)}{2}$"
      ],
      "text/plain": [
       "g*l_1*m_1*cos(theta_1(t)) + g*m_2*(l_1*cos(theta_1(t)) + l_2*cos(theta_1(t) + theta_2(t))) + l_1**2*m_1*Derivative(theta_1(t), (t, 2)) + m_2*(2*l_1**2*Derivative(theta_1(t), (t, 2)) - 4*l_1*l_2*sin(theta_2(t))*Derivative(theta_1(t), t)*Derivative(theta_2(t), t) - 2*l_1*l_2*sin(theta_2(t))*Derivative(theta_2(t), t)**2 + 4*l_1*l_2*cos(theta_2(t))*Derivative(theta_1(t), (t, 2)) + 2*l_1*l_2*cos(theta_2(t))*Derivative(theta_2(t), (t, 2)) + 2*l_2**2*Derivative(theta_1(t), (t, 2)) + 2*l_2**2*Derivative(theta_2(t), (t, 2)))/2"
      ]
     },
     "execution_count": 10,
     "metadata": {},
     "output_type": "execute_result"
    }
   ],
   "source": [
    "EOM_theta_1 = diff(diff(L, Derivative(theta_1, t)), t) - diff(L, theta_1)\n",
    "EOM_theta_1 = nsimplify(EOM_theta_1)\n",
    "EOM_theta_1"
   ]
  },
  {
   "cell_type": "code",
   "execution_count": 11,
   "id": "2e378394-c362-4d93-82b1-c82435e790f1",
   "metadata": {
    "tags": []
   },
   "outputs": [
    {
     "data": {
      "text/latex": [
       "$\\displaystyle g l_{2} m_{2} \\cos{\\left(\\theta_{1}{\\left(t \\right)} + \\theta_{2}{\\left(t \\right)} \\right)} - \\frac{m_{2} \\left(- 2 l_{1} l_{2} \\sin{\\left(\\theta_{2}{\\left(t \\right)} \\right)} \\left(\\frac{d}{d t} \\theta_{1}{\\left(t \\right)}\\right)^{2} - 2 l_{1} l_{2} \\sin{\\left(\\theta_{2}{\\left(t \\right)} \\right)} \\frac{d}{d t} \\theta_{1}{\\left(t \\right)} \\frac{d}{d t} \\theta_{2}{\\left(t \\right)}\\right)}{2} + \\frac{m_{2} \\left(- 2 l_{1} l_{2} \\sin{\\left(\\theta_{2}{\\left(t \\right)} \\right)} \\frac{d}{d t} \\theta_{1}{\\left(t \\right)} \\frac{d}{d t} \\theta_{2}{\\left(t \\right)} + 2 l_{1} l_{2} \\cos{\\left(\\theta_{2}{\\left(t \\right)} \\right)} \\frac{d^{2}}{d t^{2}} \\theta_{1}{\\left(t \\right)} + 2 l_{2}^{2} \\frac{d^{2}}{d t^{2}} \\theta_{1}{\\left(t \\right)} + 2 l_{2}^{2} \\frac{d^{2}}{d t^{2}} \\theta_{2}{\\left(t \\right)}\\right)}{2}$"
      ],
      "text/plain": [
       "g*l_2*m_2*cos(theta_1(t) + theta_2(t)) - m_2*(-2*l_1*l_2*sin(theta_2(t))*Derivative(theta_1(t), t)**2 - 2*l_1*l_2*sin(theta_2(t))*Derivative(theta_1(t), t)*Derivative(theta_2(t), t))/2 + m_2*(-2*l_1*l_2*sin(theta_2(t))*Derivative(theta_1(t), t)*Derivative(theta_2(t), t) + 2*l_1*l_2*cos(theta_2(t))*Derivative(theta_1(t), (t, 2)) + 2*l_2**2*Derivative(theta_1(t), (t, 2)) + 2*l_2**2*Derivative(theta_2(t), (t, 2)))/2"
      ]
     },
     "execution_count": 11,
     "metadata": {},
     "output_type": "execute_result"
    }
   ],
   "source": [
    "EOM_theta_2 = diff(diff(L, Derivative(theta_2, t)), t) - diff(L, theta_2)\n",
    "EOM_theta_2 = nsimplify(EOM_theta_2)\n",
    "EOM_theta_2"
   ]
  },
  {
   "cell_type": "markdown",
   "id": "e2d152c8-fda6-42fc-8aaa-e40fc077fd64",
   "metadata": {},
   "source": [
    "# Assemble the mass matrix"
   ]
  },
  {
   "cell_type": "code",
   "execution_count": 12,
   "id": "9d94d029-e517-4d82-8e58-9d3bc6e6f5e4",
   "metadata": {
    "tags": []
   },
   "outputs": [],
   "source": [
    "mass = sp.symarray('',(2,2))\n",
    "\n",
    "mass[0,0] = EOM_theta_1.expand().coeff(Derivative(theta_1,t,t))\n",
    "\n",
    "mass[0,1] = EOM_theta_1.expand().coeff(Derivative(theta_2,t,t))\n",
    "mass[1,0] = mass[0,1]\n",
    "\n",
    "mass[1,1] = EOM_theta_2.expand().coeff(Derivative(theta_2,t,t))\n",
    "\n",
    "mass = Matrix(mass)"
   ]
  },
  {
   "cell_type": "code",
   "execution_count": 13,
   "id": "54ac830a-50f8-4985-b11f-451653c2851d",
   "metadata": {
    "tags": []
   },
   "outputs": [
    {
     "data": {
      "text/latex": [
       "$\\displaystyle \\left[\\begin{matrix}l_{1}^{2} m_{1} + l_{1}^{2} m_{2} + 2 l_{1} l_{2} m_{2} \\cos{\\left(\\theta_{2}{\\left(t \\right)} \\right)} + l_{2}^{2} m_{2} & l_{2} m_{2} \\left(l_{1} \\cos{\\left(\\theta_{2}{\\left(t \\right)} \\right)} + l_{2}\\right)\\\\l_{2} m_{2} \\left(l_{1} \\cos{\\left(\\theta_{2}{\\left(t \\right)} \\right)} + l_{2}\\right) & l_{2}^{2} m_{2}\\end{matrix}\\right]$"
      ],
      "text/plain": [
       "Matrix([\n",
       "[l_1**2*m_1 + l_1**2*m_2 + 2*l_1*l_2*m_2*cos(theta_2(t)) + l_2**2*m_2, l_2*m_2*(l_1*cos(theta_2(t)) + l_2)],\n",
       "[                                 l_2*m_2*(l_1*cos(theta_2(t)) + l_2),                          l_2**2*m_2]])"
      ]
     },
     "execution_count": 13,
     "metadata": {},
     "output_type": "execute_result"
    }
   ],
   "source": [
    "mass = simplify(mass)\n",
    "mass"
   ]
  },
  {
   "cell_type": "code",
   "execution_count": 30,
   "id": "e7bc196d-6d8a-437c-97a0-79f6451fa4ad",
   "metadata": {
    "tags": []
   },
   "outputs": [],
   "source": [
    "accel_state_vector = Matrix([[Derivative(theta_1, t, t)], [Derivative(theta_2, t, t)]])\n",
    "\n",
    "EOM1_leftover = simplify(EOM_theta_1.expand() - (mass[0,:]*accel_state_vector)[0])\n",
    "EOM2_leftover = simplify(EOM_theta_2.expand() - (mass[1,:]*accel_state_vector)[0])\n"
   ]
  },
  {
   "cell_type": "code",
   "execution_count": 31,
   "id": "0a4bcb2c-14be-42c4-a1da-17ae49866755",
   "metadata": {
    "tags": []
   },
   "outputs": [
    {
     "data": {
      "text/latex": [
       "$\\displaystyle g l_{1} m_{1} \\cos{\\left(\\theta_{1}{\\left(t \\right)} \\right)} + g l_{1} m_{2} \\cos{\\left(\\theta_{1}{\\left(t \\right)} \\right)} + g l_{2} m_{2} \\cos{\\left(\\theta_{1}{\\left(t \\right)} + \\theta_{2}{\\left(t \\right)} \\right)} - 2 l_{1} l_{2} m_{2} \\sin{\\left(\\theta_{2}{\\left(t \\right)} \\right)} \\frac{d}{d t} \\theta_{1}{\\left(t \\right)} \\frac{d}{d t} \\theta_{2}{\\left(t \\right)} - l_{1} l_{2} m_{2} \\sin{\\left(\\theta_{2}{\\left(t \\right)} \\right)} \\left(\\frac{d}{d t} \\theta_{2}{\\left(t \\right)}\\right)^{2}$"
      ],
      "text/plain": [
       "g*l_1*m_1*cos(theta_1(t)) + g*l_1*m_2*cos(theta_1(t)) + g*l_2*m_2*cos(theta_1(t) + theta_2(t)) - 2*l_1*l_2*m_2*sin(theta_2(t))*Derivative(theta_1(t), t)*Derivative(theta_2(t), t) - l_1*l_2*m_2*sin(theta_2(t))*Derivative(theta_2(t), t)**2"
      ]
     },
     "execution_count": 31,
     "metadata": {},
     "output_type": "execute_result"
    }
   ],
   "source": [
    "EOM1_leftover"
   ]
  },
  {
   "cell_type": "code",
   "execution_count": 16,
   "id": "23055b92-a9dc-46a8-808a-b678a510cf85",
   "metadata": {
    "tags": []
   },
   "outputs": [
    {
     "data": {
      "text/latex": [
       "$\\displaystyle l_{2} m_{2} \\left(g \\cos{\\left(\\theta_{1}{\\left(t \\right)} + \\theta_{2}{\\left(t \\right)} \\right)} + l_{1} \\sin{\\left(\\theta_{2}{\\left(t \\right)} \\right)} \\left(\\frac{d}{d t} \\theta_{1}{\\left(t \\right)}\\right)^{2}\\right)$"
      ],
      "text/plain": [
       "l_2*m_2*(g*cos(theta_1(t) + theta_2(t)) + l_1*sin(theta_2(t))*Derivative(theta_1(t), t)**2)"
      ]
     },
     "execution_count": 16,
     "metadata": {},
     "output_type": "execute_result"
    }
   ],
   "source": [
    "EOM2_leftover"
   ]
  },
  {
   "cell_type": "markdown",
   "id": "bcc19733-948a-4b01-a479-1d162b9d7a8e",
   "metadata": {},
   "source": [
    "Grab just the gravity vectory terms"
   ]
  },
  {
   "cell_type": "code",
   "execution_count": 17,
   "id": "03d529d0-ca06-4258-a526-e358759f32d5",
   "metadata": {
    "tags": []
   },
   "outputs": [
    {
     "data": {
      "text/latex": [
       "$\\displaystyle g l_{1} m_{1} \\cos{\\left(\\theta_{1}{\\left(t \\right)} \\right)} + g l_{1} m_{2} \\cos{\\left(\\theta_{1}{\\left(t \\right)} \\right)} + g l_{2} m_{2} \\cos{\\left(\\theta_{1}{\\left(t \\right)} + \\theta_{2}{\\left(t \\right)} \\right)}$"
      ],
      "text/plain": [
       "g*l_1*m_1*cos(theta_1(t)) + g*l_1*m_2*cos(theta_1(t)) + g*l_2*m_2*cos(theta_1(t) + theta_2(t))"
      ]
     },
     "execution_count": 17,
     "metadata": {},
     "output_type": "execute_result"
    }
   ],
   "source": [
    "G_1 = EOM1_leftover.subs([(Derivative(theta_1, t), 0), (Derivative(theta_2, t), 0)])\n",
    "G_1"
   ]
  },
  {
   "cell_type": "code",
   "execution_count": 18,
   "id": "9d4974c1-ed64-45f0-a7c6-8d13e34ec00c",
   "metadata": {
    "tags": []
   },
   "outputs": [
    {
     "data": {
      "text/latex": [
       "$\\displaystyle g l_{2} m_{2} \\cos{\\left(\\theta_{1}{\\left(t \\right)} + \\theta_{2}{\\left(t \\right)} \\right)}$"
      ],
      "text/plain": [
       "g*l_2*m_2*cos(theta_1(t) + theta_2(t))"
      ]
     },
     "execution_count": 18,
     "metadata": {},
     "output_type": "execute_result"
    }
   ],
   "source": [
    "G_2 = EOM2_leftover.subs([(Derivative(theta_1, t), 0), (Derivative(theta_2, t), 0)])\n",
    "G_2"
   ]
  },
  {
   "cell_type": "markdown",
   "id": "00958230-3cb8-4e70-b0af-3e2bd65d4504",
   "metadata": {},
   "source": [
    "Grab the left over Coriolis terms"
   ]
  },
  {
   "cell_type": "code",
   "execution_count": 34,
   "id": "f1124d7e-8a92-4508-bbb7-7046d017ea25",
   "metadata": {
    "tags": []
   },
   "outputs": [
    {
     "data": {
      "text/latex": [
       "$\\displaystyle - 2 l_{1} l_{2} m_{2} \\sin{\\left(\\theta_{2}{\\left(t \\right)} \\right)} \\frac{d}{d t} \\theta_{1}{\\left(t \\right)} \\frac{d}{d t} \\theta_{2}{\\left(t \\right)} - l_{1} l_{2} m_{2} \\sin{\\left(\\theta_{2}{\\left(t \\right)} \\right)} \\left(\\frac{d}{d t} \\theta_{2}{\\left(t \\right)}\\right)^{2}$"
      ],
      "text/plain": [
       "-2*l_1*l_2*m_2*sin(theta_2(t))*Derivative(theta_1(t), t)*Derivative(theta_2(t), t) - l_1*l_2*m_2*sin(theta_2(t))*Derivative(theta_2(t), t)**2"
      ]
     },
     "execution_count": 34,
     "metadata": {},
     "output_type": "execute_result"
    }
   ],
   "source": [
    "C_1 = EOM1_leftover - G_1\n",
    "C_1"
   ]
  },
  {
   "cell_type": "code",
   "execution_count": 35,
   "id": "60baeef0-f0ae-4080-aeb1-1e45c7add019",
   "metadata": {
    "tags": []
   },
   "outputs": [
    {
     "data": {
      "text/latex": [
       "$\\displaystyle l_{1} l_{2} m_{2} \\sin{\\left(\\theta_{2}{\\left(t \\right)} \\right)} \\left(\\frac{d}{d t} \\theta_{1}{\\left(t \\right)}\\right)^{2}$"
      ],
      "text/plain": [
       "l_1*l_2*m_2*sin(theta_2(t))*Derivative(theta_1(t), t)**2"
      ]
     },
     "execution_count": 35,
     "metadata": {},
     "output_type": "execute_result"
    }
   ],
   "source": [
    "C_2 = simplify(EOM2_leftover - G_2)\n",
    "C_2"
   ]
  },
  {
   "cell_type": "markdown",
   "id": "716b38e9-d09a-4415-8782-63bcd8296390",
   "metadata": {},
   "source": [
    "Check that we got everything right!"
   ]
  },
  {
   "cell_type": "code",
   "execution_count": 36,
   "id": "d31266ba-953f-493a-ab36-8f053943167f",
   "metadata": {
    "tags": []
   },
   "outputs": [
    {
     "data": {
      "text/latex": [
       "$\\displaystyle \\left[\\begin{matrix}0\\\\0\\end{matrix}\\right]$"
      ],
      "text/plain": [
       "Matrix([\n",
       "[0],\n",
       "[0]])"
      ]
     },
     "execution_count": 36,
     "metadata": {},
     "output_type": "execute_result"
    }
   ],
   "source": [
    "simplify(Matrix([[EOM_theta_1], [EOM_theta_2]]) - (mass*accel_state_vector + Matrix([[C_1], [C_2]]) + Matrix([[G_1], [G_2]])))"
   ]
  },
  {
   "cell_type": "markdown",
   "id": "787df222-374c-423a-a3ff-67c7043c110e",
   "metadata": {},
   "source": [
    "## Setup a simulation of the system"
   ]
  },
  {
   "cell_type": "code",
   "execution_count": 22,
   "id": "45cc251d-50e9-490f-851f-6c6674cd4af4",
   "metadata": {
    "tags": []
   },
   "outputs": [],
   "source": [
    "M =   lambdify((theta_1, theta_2, Derivative(theta_1, t), Derivative(theta_2, t), l_1, l_2, m_1, m_2), mass)\n",
    "EOM = lambdify((theta_1, theta_2, Derivative(theta_1, t), Derivative(theta_2, t), l_1, l_2, m_1, m_2), \n",
    "               Matrix([[EOM1_leftover.subs([(g, 9.8)])], [EOM2_leftover.subs([(g, 9.8)])]]))"
   ]
  },
  {
   "cell_type": "code",
   "execution_count": 23,
   "id": "711cdacb-8ca4-4eb9-81b6-2bf609d4abf1",
   "metadata": {
    "tags": []
   },
   "outputs": [
    {
     "data": {
      "text/plain": [
       "array([[5., 2.],\n",
       "       [2., 1.]])"
      ]
     },
     "execution_count": 23,
     "metadata": {},
     "output_type": "execute_result"
    }
   ],
   "source": [
    "M(0,0, 0, 0, 1, 1, 1, 1)"
   ]
  },
  {
   "cell_type": "code",
   "execution_count": 24,
   "id": "39175e98-e501-4212-9702-e9269fc1502a",
   "metadata": {
    "tags": []
   },
   "outputs": [
    {
     "data": {
      "text/plain": [
       "array([[-280.4],\n",
       "       [ 100. ]])"
      ]
     },
     "execution_count": 24,
     "metadata": {},
     "output_type": "execute_result"
    }
   ],
   "source": [
    "EOM(0, np.pi/2, 10, 10, 1, 1, 1, 1)"
   ]
  },
  {
   "cell_type": "code",
   "execution_count": 25,
   "id": "2ddcc6cd-048b-413d-a6d3-f0f21ffa59cf",
   "metadata": {
    "tags": []
   },
   "outputs": [],
   "source": [
    "def dynamics(t, state, l_1, l_2, m_1, m_2):\n",
    "    theta_1, theta_2, dtheta_1, dtheta_2 = state\n",
    "    \n",
    "    dydt = np.linalg.inv(M(theta_1, theta_2, dtheta_1, dtheta_2, l_1, l_2, m_1, m_2))@(-EOM(theta_1, theta_2, dtheta_1, dtheta_2, l_1, l_2, m_1, m_2))\n",
    "\n",
    "    return [dtheta_1, dtheta_2, dydt[0][0], dydt[1][0]]"
   ]
  },
  {
   "cell_type": "code",
   "execution_count": 26,
   "id": "985aee98-cf9e-4d99-bfda-ffbfbfdb958f",
   "metadata": {
    "tags": []
   },
   "outputs": [
    {
     "data": {
      "text/plain": [
       "[10, 10, 190.2, -290.19999999999993]"
      ]
     },
     "execution_count": 26,
     "metadata": {},
     "output_type": "execute_result"
    }
   ],
   "source": [
    "dynamics(t, (0, np.pi/2, 10, 10), 1,1,1,1)"
   ]
  },
  {
   "cell_type": "code",
   "execution_count": 27,
   "id": "743231d8-dc78-41b4-becd-c8c44bfe033b",
   "metadata": {
    "tags": []
   },
   "outputs": [
    {
     "data": {
      "text/plain": [
       "[<matplotlib.lines.Line2D at 0x1788ee879d0>]"
      ]
     },
     "execution_count": 27,
     "metadata": {},
     "output_type": "execute_result"
    }
   ],
   "source": [
    "l1 = 1\n",
    "l2 = 2\n",
    "m1 = 1\n",
    "m2 = 2\n",
    "\n",
    "\n",
    "t_end = 30\n",
    "dt = 0.001\n",
    "time = np.linspace(0,t_end,int(t_end/dt))\n",
    "\n",
    "sol = solve_ivp(lambda t, y: dynamics(t, y, l1, l2, m1, m2),\n",
    "                [0,t_end], [-np.pi/4, 0.0, 0.00, 0.0], \n",
    "                t_eval = time, \n",
    "                rtol=1e-8, atol = 1e-8)\n",
    "\n",
    "\n",
    "plt.clf()\n",
    "plt.plot(sol.t, sol.y[0,:])\n",
    "# plt.ylabel('$x$')\n",
    "# plt.xlabel('time')"
   ]
  },
  {
   "cell_type": "markdown",
   "id": "69d94df3-3d3e-4400-8bbc-45202d37dbb4",
   "metadata": {},
   "source": [
    "Make an animation"
   ]
  },
  {
   "cell_type": "code",
   "execution_count": 28,
   "id": "a9436648-61a6-44cd-8635-d929be4e7ec4",
   "metadata": {
    "tags": []
   },
   "outputs": [
    {
     "ename": "KeyboardInterrupt",
     "evalue": "",
     "output_type": "error",
     "traceback": [
      "\u001b[1;31m---------------------------------------------------------------------------\u001b[0m",
      "\u001b[1;31mKeyboardInterrupt\u001b[0m                         Traceback (most recent call last)",
      "Cell \u001b[1;32mIn[28], line 15\u001b[0m\n\u001b[0;32m     12\u001b[0m plt\u001b[38;5;241m.\u001b[39mplot([l1\u001b[38;5;241m*\u001b[39mnp\u001b[38;5;241m.\u001b[39mcos(q1), l1\u001b[38;5;241m*\u001b[39mnp\u001b[38;5;241m.\u001b[39mcos(q1) \u001b[38;5;241m+\u001b[39m l2\u001b[38;5;241m*\u001b[39mnp\u001b[38;5;241m.\u001b[39mcos(q1 \u001b[38;5;241m+\u001b[39m q2)], [l1\u001b[38;5;241m*\u001b[39mnp\u001b[38;5;241m.\u001b[39msin(q1), l1\u001b[38;5;241m*\u001b[39mnp\u001b[38;5;241m.\u001b[39msin(q1)  \u001b[38;5;241m+\u001b[39m l2\u001b[38;5;241m*\u001b[39mnp\u001b[38;5;241m.\u001b[39msin(q1 \u001b[38;5;241m+\u001b[39m q2)], \u001b[38;5;124m'\u001b[39m\u001b[38;5;124mko-\u001b[39m\u001b[38;5;124m'\u001b[39m)\n\u001b[0;32m     13\u001b[0m plt\u001b[38;5;241m.\u001b[39maxis([\u001b[38;5;241m-\u001b[39m\u001b[38;5;241m4\u001b[39m,\u001b[38;5;241m4\u001b[39m,\u001b[38;5;241m-\u001b[39m\u001b[38;5;241m4\u001b[39m,\u001b[38;5;241m4\u001b[39m])\n\u001b[1;32m---> 15\u001b[0m plt\u001b[38;5;241m.\u001b[39mpause(\u001b[38;5;241m0.00001\u001b[39m)\n",
      "File \u001b[1;32m~\\anaconda3\\Lib\\site-packages\\matplotlib\\pyplot.py:582\u001b[0m, in \u001b[0;36mpause\u001b[1;34m(interval)\u001b[0m\n\u001b[0;32m    580\u001b[0m         canvas\u001b[38;5;241m.\u001b[39mdraw_idle()\n\u001b[0;32m    581\u001b[0m     show(block\u001b[38;5;241m=\u001b[39m\u001b[38;5;28;01mFalse\u001b[39;00m)\n\u001b[1;32m--> 582\u001b[0m     canvas\u001b[38;5;241m.\u001b[39mstart_event_loop(interval)\n\u001b[0;32m    583\u001b[0m \u001b[38;5;28;01melse\u001b[39;00m:\n\u001b[0;32m    584\u001b[0m     time\u001b[38;5;241m.\u001b[39msleep(interval)\n",
      "File \u001b[1;32m~\\anaconda3\\Lib\\site-packages\\matplotlib\\backends\\backend_qt.py:421\u001b[0m, in \u001b[0;36mFigureCanvasQT.start_event_loop\u001b[1;34m(self, timeout)\u001b[0m\n\u001b[0;32m    418\u001b[0m \u001b[38;5;28;01mif\u001b[39;00m timeout \u001b[38;5;241m>\u001b[39m \u001b[38;5;241m0\u001b[39m:\n\u001b[0;32m    419\u001b[0m     _ \u001b[38;5;241m=\u001b[39m QtCore\u001b[38;5;241m.\u001b[39mQTimer\u001b[38;5;241m.\u001b[39msingleShot(\u001b[38;5;28mint\u001b[39m(timeout \u001b[38;5;241m*\u001b[39m \u001b[38;5;241m1000\u001b[39m), event_loop\u001b[38;5;241m.\u001b[39mquit)\n\u001b[1;32m--> 421\u001b[0m \u001b[38;5;28;01mwith\u001b[39;00m _maybe_allow_interrupt(event_loop):\n\u001b[0;32m    422\u001b[0m     qt_compat\u001b[38;5;241m.\u001b[39m_exec(event_loop)\n",
      "File \u001b[1;32m~\\anaconda3\\Lib\\contextlib.py:137\u001b[0m, in \u001b[0;36m_GeneratorContextManager.__enter__\u001b[1;34m(self)\u001b[0m\n\u001b[0;32m    135\u001b[0m \u001b[38;5;28;01mdel\u001b[39;00m \u001b[38;5;28mself\u001b[39m\u001b[38;5;241m.\u001b[39margs, \u001b[38;5;28mself\u001b[39m\u001b[38;5;241m.\u001b[39mkwds, \u001b[38;5;28mself\u001b[39m\u001b[38;5;241m.\u001b[39mfunc\n\u001b[0;32m    136\u001b[0m \u001b[38;5;28;01mtry\u001b[39;00m:\n\u001b[1;32m--> 137\u001b[0m     \u001b[38;5;28;01mreturn\u001b[39;00m \u001b[38;5;28mnext\u001b[39m(\u001b[38;5;28mself\u001b[39m\u001b[38;5;241m.\u001b[39mgen)\n\u001b[0;32m    138\u001b[0m \u001b[38;5;28;01mexcept\u001b[39;00m \u001b[38;5;167;01mStopIteration\u001b[39;00m:\n\u001b[0;32m    139\u001b[0m     \u001b[38;5;28;01mraise\u001b[39;00m \u001b[38;5;167;01mRuntimeError\u001b[39;00m(\u001b[38;5;124m\"\u001b[39m\u001b[38;5;124mgenerator didn\u001b[39m\u001b[38;5;124m'\u001b[39m\u001b[38;5;124mt yield\u001b[39m\u001b[38;5;124m\"\u001b[39m) \u001b[38;5;28;01mfrom\u001b[39;00m \u001b[38;5;28;01mNone\u001b[39;00m\n",
      "File \u001b[1;32m~\\anaconda3\\Lib\\site-packages\\matplotlib\\backends\\qt_compat.py:207\u001b[0m, in \u001b[0;36m_maybe_allow_interrupt\u001b[1;34m(qapp)\u001b[0m\n\u001b[0;32m    205\u001b[0m     skip \u001b[38;5;241m=\u001b[39m \u001b[38;5;28;01mTrue\u001b[39;00m\n\u001b[0;32m    206\u001b[0m \u001b[38;5;28;01melse\u001b[39;00m:\n\u001b[1;32m--> 207\u001b[0m     wsock, rsock \u001b[38;5;241m=\u001b[39m socket\u001b[38;5;241m.\u001b[39msocketpair()\n\u001b[0;32m    208\u001b[0m     wsock\u001b[38;5;241m.\u001b[39msetblocking(\u001b[38;5;28;01mFalse\u001b[39;00m)\n\u001b[0;32m    209\u001b[0m     old_wakeup_fd \u001b[38;5;241m=\u001b[39m signal\u001b[38;5;241m.\u001b[39mset_wakeup_fd(wsock\u001b[38;5;241m.\u001b[39mfileno())\n",
      "File \u001b[1;32m~\\anaconda3\\Lib\\socket.py:644\u001b[0m, in \u001b[0;36msocketpair\u001b[1;34m(family, type, proto)\u001b[0m\n\u001b[0;32m    642\u001b[0m     \u001b[38;5;28;01mexcept\u001b[39;00m (\u001b[38;5;167;01mBlockingIOError\u001b[39;00m, \u001b[38;5;167;01mInterruptedError\u001b[39;00m):\n\u001b[0;32m    643\u001b[0m         \u001b[38;5;28;01mpass\u001b[39;00m\n\u001b[1;32m--> 644\u001b[0m     csock\u001b[38;5;241m.\u001b[39msetblocking(\u001b[38;5;28;01mTrue\u001b[39;00m)\n\u001b[0;32m    645\u001b[0m     ssock, _ \u001b[38;5;241m=\u001b[39m lsock\u001b[38;5;241m.\u001b[39maccept()\n\u001b[0;32m    646\u001b[0m \u001b[38;5;28;01mexcept\u001b[39;00m:\n",
      "\u001b[1;31mKeyboardInterrupt\u001b[0m: "
     ]
    }
   ],
   "source": [
    "skip = 10\n",
    "\n",
    "theta1 = sol.y[0,0:-1:skip]\n",
    "theta2 = sol.y[1,0:-1:skip]\n",
    "\n",
    "for kk, (q1, q2) in enumerate(zip(theta1, theta2)):\n",
    "    plt.cla()\n",
    "    # print(q1)\n",
    "    \n",
    "    plt.plot([0,l1*np.cos(q1)], [0, l1*np.sin(q1)], 'ko-')\n",
    "    \n",
    "    plt.plot([l1*np.cos(q1), l1*np.cos(q1) + l2*np.cos(q1 + q2)], [l1*np.sin(q1), l1*np.sin(q1)  + l2*np.sin(q1 + q2)], 'ko-')\n",
    "    plt.axis([-4,4,-4,4])\n",
    "\n",
    "    plt.pause(0.00001)\n"
   ]
  },
  {
   "cell_type": "code",
   "execution_count": null,
   "id": "a330fa54-69d8-4bd8-9ce2-f13ba9f5a68a",
   "metadata": {},
   "outputs": [],
   "source": []
  }
 ],
 "metadata": {
  "kernelspec": {
   "display_name": "Python 3 (ipykernel)",
   "language": "python",
   "name": "python3"
  },
  "language_info": {
   "codemirror_mode": {
    "name": "ipython",
    "version": 3
   },
   "file_extension": ".py",
   "mimetype": "text/x-python",
   "name": "python",
   "nbconvert_exporter": "python",
   "pygments_lexer": "ipython3",
   "version": "3.11.5"
  }
 },
 "nbformat": 4,
 "nbformat_minor": 5
}
