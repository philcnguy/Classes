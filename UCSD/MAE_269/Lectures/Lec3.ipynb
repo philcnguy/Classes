{
 "cells": [
  {
   "cell_type": "code",
   "execution_count": 2,
   "id": "23ba669c-e7bb-4ee8-bb00-e04709e038d7",
   "metadata": {},
   "outputs": [],
   "source": [
    "import numpy as np\n",
    "\n",
    "import sympy\n",
    "from sympy import simplify, Function\n",
    "from sympy import symbols, pprint\n",
    "from sympy import sin, cos, asin, acos, pi\n",
    "from sympy import Matrix, diff\n"
   ]
  },
  {
   "cell_type": "markdown",
   "id": "3cf22d1a-117b-4609-ba58-ffa8c18a4012",
   "metadata": {},
   "source": [
    "# Define rotations angles"
   ]
  },
  {
   "cell_type": "code",
   "execution_count": 4,
   "id": "21b950d5-9a67-4296-8684-a7d8a00299d6",
   "metadata": {},
   "outputs": [],
   "source": [
    "# We wrap in parentheses here so we can write it on multiple lines. Similar\n",
    "# with the triple quotes on the string. Usually we don't need to use these things.\n",
    "(t, \n",
    " alpha, \n",
    " gamma, \n",
    " beta) = symbols(\"\"\"t, \n",
    "                    alpha,\n",
    "                    gamma,\n",
    "                    beta\"\"\" , real = True)"
   ]
  },
  {
   "cell_type": "markdown",
   "id": "4e3af0f3-1d1f-4120-9b32-9af2bf5f7e80",
   "metadata": {},
   "source": [
    "# Make rotation angles functions of time so we can take derivatives"
   ]
  },
  {
   "cell_type": "code",
   "execution_count": 5,
   "id": "01809a21-81dc-4ba7-a800-5ccecb59980a",
   "metadata": {},
   "outputs": [],
   "source": [
    "alpha = Function('alpha', real=True)(t)\n",
    "beta = Function('beta', real=True)(t)\n",
    "gamma = Function('gamma', real=True)(t)"
   ]
  },
  {
   "cell_type": "markdown",
   "id": "d7386b9e-3cb9-47e3-bd41-4de4571975dd",
   "metadata": {},
   "source": [
    "# Define rotation matrices"
   ]
  },
  {
   "cell_type": "code",
   "execution_count": 6,
   "id": "481c69a7-ce06-4e6f-90ef-8cb71349c11e",
   "metadata": {},
   "outputs": [],
   "source": [
    "def T_z(theta):\n",
    "    \"\"\"\n",
    "    Function to return an arbitrary transformation matrix \n",
    "    This is for sympy symbolic calculation\n",
    "    \"\"\"\n",
    "    return Matrix([[cos(theta), -sin(theta), 0], \n",
    "                   [sin(theta), cos(theta), 0],\n",
    "                   [0, 0, 1]])\n",
    "\n",
    "\n",
    "def T_y(theta):\n",
    "    \"\"\"\n",
    "    Function to return an arbitrary transformation matrix \n",
    "    This is for sympy symbolic calculation\n",
    "    \"\"\"\n",
    "    return Matrix([[cos(theta),0, sin(theta)], \n",
    "                   [0, 1, 0],\n",
    "                   [-sin(theta), 0, cos(theta)]])\n",
    "\n",
    "def T_x(theta):\n",
    "    \"\"\"\n",
    "    Function to return an arbitrary transformation matrix \n",
    "    This is for sympy symbolic calculation\n",
    "    \"\"\"\n",
    "    return Matrix([[1, 0, 0],\n",
    "                   [0, cos(theta), -sin(theta)], \n",
    "                   [0, sin(theta), cos(theta)]])"
   ]
  },
  {
   "cell_type": "markdown",
   "id": "8cf55160-0467-4369-941e-4336807b373a",
   "metadata": {},
   "source": [
    "# Define a roll-pitch-yaw in body frame sequence"
   ]
  },
  {
   "cell_type": "code",
   "execution_count": 7,
   "id": "a38583a3-a24f-499a-aa59-7a4fbba381c2",
   "metadata": {},
   "outputs": [],
   "source": [
    "T = simplify(T_y(alpha)@T_x(beta)@T_z(gamma))"
   ]
  },
  {
   "cell_type": "markdown",
   "id": "34d27463-1c51-4d59-8aec-12fb33c22926",
   "metadata": {},
   "source": [
    "# Print T"
   ]
  },
  {
   "cell_type": "code",
   "execution_count": 8,
   "id": "65a19f38-f129-4cb0-b3e6-d50ce368874d",
   "metadata": {},
   "outputs": [
    {
     "data": {
      "text/latex": [
       "$\\displaystyle \\left[\\begin{matrix}\\sin{\\left(\\alpha{\\left(t \\right)} \\right)} \\sin{\\left(\\beta{\\left(t \\right)} \\right)} \\sin{\\left(\\gamma{\\left(t \\right)} \\right)} + \\cos{\\left(\\alpha{\\left(t \\right)} \\right)} \\cos{\\left(\\gamma{\\left(t \\right)} \\right)} & \\sin{\\left(\\alpha{\\left(t \\right)} \\right)} \\sin{\\left(\\beta{\\left(t \\right)} \\right)} \\cos{\\left(\\gamma{\\left(t \\right)} \\right)} - \\sin{\\left(\\gamma{\\left(t \\right)} \\right)} \\cos{\\left(\\alpha{\\left(t \\right)} \\right)} & \\sin{\\left(\\alpha{\\left(t \\right)} \\right)} \\cos{\\left(\\beta{\\left(t \\right)} \\right)}\\\\\\sin{\\left(\\gamma{\\left(t \\right)} \\right)} \\cos{\\left(\\beta{\\left(t \\right)} \\right)} & \\cos{\\left(\\beta{\\left(t \\right)} \\right)} \\cos{\\left(\\gamma{\\left(t \\right)} \\right)} & - \\sin{\\left(\\beta{\\left(t \\right)} \\right)}\\\\- \\sin{\\left(\\alpha{\\left(t \\right)} \\right)} \\cos{\\left(\\gamma{\\left(t \\right)} \\right)} + \\sin{\\left(\\beta{\\left(t \\right)} \\right)} \\sin{\\left(\\gamma{\\left(t \\right)} \\right)} \\cos{\\left(\\alpha{\\left(t \\right)} \\right)} & \\sin{\\left(\\alpha{\\left(t \\right)} \\right)} \\sin{\\left(\\gamma{\\left(t \\right)} \\right)} + \\sin{\\left(\\beta{\\left(t \\right)} \\right)} \\cos{\\left(\\alpha{\\left(t \\right)} \\right)} \\cos{\\left(\\gamma{\\left(t \\right)} \\right)} & \\cos{\\left(\\alpha{\\left(t \\right)} \\right)} \\cos{\\left(\\beta{\\left(t \\right)} \\right)}\\end{matrix}\\right]$"
      ],
      "text/plain": [
       "Matrix([\n",
       "[ sin(alpha(t))*sin(beta(t))*sin(gamma(t)) + cos(alpha(t))*cos(gamma(t)), sin(alpha(t))*sin(beta(t))*cos(gamma(t)) - sin(gamma(t))*cos(alpha(t)), sin(alpha(t))*cos(beta(t))],\n",
       "[                                             sin(gamma(t))*cos(beta(t)),                                             cos(beta(t))*cos(gamma(t)),              -sin(beta(t))],\n",
       "[-sin(alpha(t))*cos(gamma(t)) + sin(beta(t))*sin(gamma(t))*cos(alpha(t)), sin(alpha(t))*sin(gamma(t)) + sin(beta(t))*cos(alpha(t))*cos(gamma(t)), cos(alpha(t))*cos(beta(t))]])"
      ]
     },
     "execution_count": 8,
     "metadata": {},
     "output_type": "execute_result"
    }
   ],
   "source": [
    "T"
   ]
  },
  {
   "cell_type": "code",
   "execution_count": 10,
   "id": "fd06a3a3-9eea-41df-8153-1da79000e298",
   "metadata": {},
   "outputs": [
    {
     "data": {
      "text/latex": [
       "$\\displaystyle \\left[\\begin{matrix}\\sin{\\left(\\alpha{\\left(t \\right)} \\right)} \\sin{\\left(\\beta{\\left(t \\right)} \\right)} \\cos{\\left(\\gamma{\\left(t \\right)} \\right)} \\frac{d}{d t} \\gamma{\\left(t \\right)} + \\sin{\\left(\\alpha{\\left(t \\right)} \\right)} \\sin{\\left(\\gamma{\\left(t \\right)} \\right)} \\cos{\\left(\\beta{\\left(t \\right)} \\right)} \\frac{d}{d t} \\beta{\\left(t \\right)} - \\sin{\\left(\\alpha{\\left(t \\right)} \\right)} \\cos{\\left(\\gamma{\\left(t \\right)} \\right)} \\frac{d}{d t} \\alpha{\\left(t \\right)} + \\sin{\\left(\\beta{\\left(t \\right)} \\right)} \\sin{\\left(\\gamma{\\left(t \\right)} \\right)} \\cos{\\left(\\alpha{\\left(t \\right)} \\right)} \\frac{d}{d t} \\alpha{\\left(t \\right)} - \\sin{\\left(\\gamma{\\left(t \\right)} \\right)} \\cos{\\left(\\alpha{\\left(t \\right)} \\right)} \\frac{d}{d t} \\gamma{\\left(t \\right)} & - \\sin{\\left(\\alpha{\\left(t \\right)} \\right)} \\sin{\\left(\\beta{\\left(t \\right)} \\right)} \\sin{\\left(\\gamma{\\left(t \\right)} \\right)} \\frac{d}{d t} \\gamma{\\left(t \\right)} + \\sin{\\left(\\alpha{\\left(t \\right)} \\right)} \\sin{\\left(\\gamma{\\left(t \\right)} \\right)} \\frac{d}{d t} \\alpha{\\left(t \\right)} + \\sin{\\left(\\alpha{\\left(t \\right)} \\right)} \\cos{\\left(\\beta{\\left(t \\right)} \\right)} \\cos{\\left(\\gamma{\\left(t \\right)} \\right)} \\frac{d}{d t} \\beta{\\left(t \\right)} + \\sin{\\left(\\beta{\\left(t \\right)} \\right)} \\cos{\\left(\\alpha{\\left(t \\right)} \\right)} \\cos{\\left(\\gamma{\\left(t \\right)} \\right)} \\frac{d}{d t} \\alpha{\\left(t \\right)} - \\cos{\\left(\\alpha{\\left(t \\right)} \\right)} \\cos{\\left(\\gamma{\\left(t \\right)} \\right)} \\frac{d}{d t} \\gamma{\\left(t \\right)} & - \\sin{\\left(\\alpha{\\left(t \\right)} \\right)} \\sin{\\left(\\beta{\\left(t \\right)} \\right)} \\frac{d}{d t} \\beta{\\left(t \\right)} + \\cos{\\left(\\alpha{\\left(t \\right)} \\right)} \\cos{\\left(\\beta{\\left(t \\right)} \\right)} \\frac{d}{d t} \\alpha{\\left(t \\right)}\\\\- \\sin{\\left(\\beta{\\left(t \\right)} \\right)} \\sin{\\left(\\gamma{\\left(t \\right)} \\right)} \\frac{d}{d t} \\beta{\\left(t \\right)} + \\cos{\\left(\\beta{\\left(t \\right)} \\right)} \\cos{\\left(\\gamma{\\left(t \\right)} \\right)} \\frac{d}{d t} \\gamma{\\left(t \\right)} & - \\sin{\\left(\\beta{\\left(t \\right)} \\right)} \\cos{\\left(\\gamma{\\left(t \\right)} \\right)} \\frac{d}{d t} \\beta{\\left(t \\right)} - \\sin{\\left(\\gamma{\\left(t \\right)} \\right)} \\cos{\\left(\\beta{\\left(t \\right)} \\right)} \\frac{d}{d t} \\gamma{\\left(t \\right)} & - \\cos{\\left(\\beta{\\left(t \\right)} \\right)} \\frac{d}{d t} \\beta{\\left(t \\right)}\\\\- \\sin{\\left(\\alpha{\\left(t \\right)} \\right)} \\sin{\\left(\\beta{\\left(t \\right)} \\right)} \\sin{\\left(\\gamma{\\left(t \\right)} \\right)} \\frac{d}{d t} \\alpha{\\left(t \\right)} + \\sin{\\left(\\alpha{\\left(t \\right)} \\right)} \\sin{\\left(\\gamma{\\left(t \\right)} \\right)} \\frac{d}{d t} \\gamma{\\left(t \\right)} + \\sin{\\left(\\beta{\\left(t \\right)} \\right)} \\cos{\\left(\\alpha{\\left(t \\right)} \\right)} \\cos{\\left(\\gamma{\\left(t \\right)} \\right)} \\frac{d}{d t} \\gamma{\\left(t \\right)} + \\sin{\\left(\\gamma{\\left(t \\right)} \\right)} \\cos{\\left(\\alpha{\\left(t \\right)} \\right)} \\cos{\\left(\\beta{\\left(t \\right)} \\right)} \\frac{d}{d t} \\beta{\\left(t \\right)} - \\cos{\\left(\\alpha{\\left(t \\right)} \\right)} \\cos{\\left(\\gamma{\\left(t \\right)} \\right)} \\frac{d}{d t} \\alpha{\\left(t \\right)} & - \\sin{\\left(\\alpha{\\left(t \\right)} \\right)} \\sin{\\left(\\beta{\\left(t \\right)} \\right)} \\cos{\\left(\\gamma{\\left(t \\right)} \\right)} \\frac{d}{d t} \\alpha{\\left(t \\right)} + \\sin{\\left(\\alpha{\\left(t \\right)} \\right)} \\cos{\\left(\\gamma{\\left(t \\right)} \\right)} \\frac{d}{d t} \\gamma{\\left(t \\right)} - \\sin{\\left(\\beta{\\left(t \\right)} \\right)} \\sin{\\left(\\gamma{\\left(t \\right)} \\right)} \\cos{\\left(\\alpha{\\left(t \\right)} \\right)} \\frac{d}{d t} \\gamma{\\left(t \\right)} + \\sin{\\left(\\gamma{\\left(t \\right)} \\right)} \\cos{\\left(\\alpha{\\left(t \\right)} \\right)} \\frac{d}{d t} \\alpha{\\left(t \\right)} + \\cos{\\left(\\alpha{\\left(t \\right)} \\right)} \\cos{\\left(\\beta{\\left(t \\right)} \\right)} \\cos{\\left(\\gamma{\\left(t \\right)} \\right)} \\frac{d}{d t} \\beta{\\left(t \\right)} & - \\sin{\\left(\\alpha{\\left(t \\right)} \\right)} \\cos{\\left(\\beta{\\left(t \\right)} \\right)} \\frac{d}{d t} \\alpha{\\left(t \\right)} - \\sin{\\left(\\beta{\\left(t \\right)} \\right)} \\cos{\\left(\\alpha{\\left(t \\right)} \\right)} \\frac{d}{d t} \\beta{\\left(t \\right)}\\end{matrix}\\right]$"
      ],
      "text/plain": [
       "Matrix([\n",
       "[ sin(alpha(t))*sin(beta(t))*cos(gamma(t))*Derivative(gamma(t), t) + sin(alpha(t))*sin(gamma(t))*cos(beta(t))*Derivative(beta(t), t) - sin(alpha(t))*cos(gamma(t))*Derivative(alpha(t), t) + sin(beta(t))*sin(gamma(t))*cos(alpha(t))*Derivative(alpha(t), t) - sin(gamma(t))*cos(alpha(t))*Derivative(gamma(t), t), -sin(alpha(t))*sin(beta(t))*sin(gamma(t))*Derivative(gamma(t), t) + sin(alpha(t))*sin(gamma(t))*Derivative(alpha(t), t) + sin(alpha(t))*cos(beta(t))*cos(gamma(t))*Derivative(beta(t), t) + sin(beta(t))*cos(alpha(t))*cos(gamma(t))*Derivative(alpha(t), t) - cos(alpha(t))*cos(gamma(t))*Derivative(gamma(t), t), -sin(alpha(t))*sin(beta(t))*Derivative(beta(t), t) + cos(alpha(t))*cos(beta(t))*Derivative(alpha(t), t)],\n",
       "[                                                                                                                                                                                                           -sin(beta(t))*sin(gamma(t))*Derivative(beta(t), t) + cos(beta(t))*cos(gamma(t))*Derivative(gamma(t), t),                                                                                                                                                                                                            -sin(beta(t))*cos(gamma(t))*Derivative(beta(t), t) - sin(gamma(t))*cos(beta(t))*Derivative(gamma(t), t),                                                                    -cos(beta(t))*Derivative(beta(t), t)],\n",
       "[-sin(alpha(t))*sin(beta(t))*sin(gamma(t))*Derivative(alpha(t), t) + sin(alpha(t))*sin(gamma(t))*Derivative(gamma(t), t) + sin(beta(t))*cos(alpha(t))*cos(gamma(t))*Derivative(gamma(t), t) + sin(gamma(t))*cos(alpha(t))*cos(beta(t))*Derivative(beta(t), t) - cos(alpha(t))*cos(gamma(t))*Derivative(alpha(t), t), -sin(alpha(t))*sin(beta(t))*cos(gamma(t))*Derivative(alpha(t), t) + sin(alpha(t))*cos(gamma(t))*Derivative(gamma(t), t) - sin(beta(t))*sin(gamma(t))*cos(alpha(t))*Derivative(gamma(t), t) + sin(gamma(t))*cos(alpha(t))*Derivative(alpha(t), t) + cos(alpha(t))*cos(beta(t))*cos(gamma(t))*Derivative(beta(t), t), -sin(alpha(t))*cos(beta(t))*Derivative(alpha(t), t) - sin(beta(t))*cos(alpha(t))*Derivative(beta(t), t)]])"
      ]
     },
     "execution_count": 10,
     "metadata": {},
     "output_type": "execute_result"
    }
   ],
   "source": [
    "R_dot = diff(T, t)\n",
    "R_dot\n"
   ]
  },
  {
   "cell_type": "code",
   "execution_count": 11,
   "id": "64147c6c-d2b8-4098-a195-ce16076762c5",
   "metadata": {},
   "outputs": [
    {
     "data": {
      "text/latex": [
       "$\\displaystyle \\left[\\begin{matrix}0 & \\sin{\\left(\\alpha{\\left(t \\right)} \\right)} \\frac{d}{d t} \\beta{\\left(t \\right)} - \\cos{\\left(\\alpha{\\left(t \\right)} \\right)} \\cos{\\left(\\beta{\\left(t \\right)} \\right)} \\frac{d}{d t} \\gamma{\\left(t \\right)} & - \\sin{\\left(\\beta{\\left(t \\right)} \\right)} \\frac{d}{d t} \\gamma{\\left(t \\right)} + \\frac{d}{d t} \\alpha{\\left(t \\right)}\\\\- \\sin{\\left(\\alpha{\\left(t \\right)} \\right)} \\frac{d}{d t} \\beta{\\left(t \\right)} + \\cos{\\left(\\alpha{\\left(t \\right)} \\right)} \\cos{\\left(\\beta{\\left(t \\right)} \\right)} \\frac{d}{d t} \\gamma{\\left(t \\right)} & 0 & - \\sin{\\left(\\alpha{\\left(t \\right)} \\right)} \\cos{\\left(\\beta{\\left(t \\right)} \\right)} \\frac{d}{d t} \\gamma{\\left(t \\right)} - \\cos{\\left(\\alpha{\\left(t \\right)} \\right)} \\frac{d}{d t} \\beta{\\left(t \\right)}\\\\\\sin{\\left(\\beta{\\left(t \\right)} \\right)} \\frac{d}{d t} \\gamma{\\left(t \\right)} - \\frac{d}{d t} \\alpha{\\left(t \\right)} & \\sin{\\left(\\alpha{\\left(t \\right)} \\right)} \\cos{\\left(\\beta{\\left(t \\right)} \\right)} \\frac{d}{d t} \\gamma{\\left(t \\right)} + \\cos{\\left(\\alpha{\\left(t \\right)} \\right)} \\frac{d}{d t} \\beta{\\left(t \\right)} & 0\\end{matrix}\\right]$"
      ],
      "text/plain": [
       "Matrix([\n",
       "[                                                                                         0, sin(alpha(t))*Derivative(beta(t), t) - cos(alpha(t))*cos(beta(t))*Derivative(gamma(t), t),                            -sin(beta(t))*Derivative(gamma(t), t) + Derivative(alpha(t), t)],\n",
       "[-sin(alpha(t))*Derivative(beta(t), t) + cos(alpha(t))*cos(beta(t))*Derivative(gamma(t), t),                                                                                         0, -sin(alpha(t))*cos(beta(t))*Derivative(gamma(t), t) - cos(alpha(t))*Derivative(beta(t), t)],\n",
       "[                            sin(beta(t))*Derivative(gamma(t), t) - Derivative(alpha(t), t), sin(alpha(t))*cos(beta(t))*Derivative(gamma(t), t) + cos(alpha(t))*Derivative(beta(t), t),                                                                                          0]])"
      ]
     },
     "execution_count": 11,
     "metadata": {},
     "output_type": "execute_result"
    }
   ],
   "source": [
    "R_dot = diff(T, t)\n",
    "R = T\n",
    "\n",
    "ww = simplify(R_dot @ R.T)\n",
    "ww"
   ]
  },
  {
   "cell_type": "code",
   "execution_count": 12,
   "id": "17c4a7d6-7922-43e5-914e-37efd91b721b",
   "metadata": {},
   "outputs": [],
   "source": [
    "omega_x = ww[2,1]\n",
    "omega_y = ww[0,2]\n",
    "omega_z = -ww[0,1]"
   ]
  },
  {
   "cell_type": "code",
   "execution_count": 13,
   "id": "9d3b72df-2821-404d-949d-4c5683a44c92",
   "metadata": {},
   "outputs": [
    {
     "data": {
      "text/latex": [
       "$\\displaystyle \\sin{\\left(\\alpha{\\left(t \\right)} \\right)} \\cos{\\left(\\beta{\\left(t \\right)} \\right)} \\frac{d}{d t} \\gamma{\\left(t \\right)} + \\cos{\\left(\\alpha{\\left(t \\right)} \\right)} \\frac{d}{d t} \\beta{\\left(t \\right)}$"
      ],
      "text/plain": [
       "sin(alpha(t))*cos(beta(t))*Derivative(gamma(t), t) + cos(alpha(t))*Derivative(beta(t), t)"
      ]
     },
     "execution_count": 13,
     "metadata": {},
     "output_type": "execute_result"
    }
   ],
   "source": [
    "omega_x"
   ]
  },
  {
   "cell_type": "code",
   "execution_count": 14,
   "id": "e1682714-0f8e-48f7-8b4c-1e44d49f6c8f",
   "metadata": {},
   "outputs": [
    {
     "data": {
      "text/latex": [
       "$\\displaystyle - \\sin{\\left(\\beta{\\left(t \\right)} \\right)} \\frac{d}{d t} \\gamma{\\left(t \\right)} + \\frac{d}{d t} \\alpha{\\left(t \\right)}$"
      ],
      "text/plain": [
       "-sin(beta(t))*Derivative(gamma(t), t) + Derivative(alpha(t), t)"
      ]
     },
     "execution_count": 14,
     "metadata": {},
     "output_type": "execute_result"
    }
   ],
   "source": [
    "omega_y"
   ]
  },
  {
   "cell_type": "code",
   "execution_count": 15,
   "id": "15dd4332-b2de-47b1-a4ff-e61e0d1167a2",
   "metadata": {},
   "outputs": [
    {
     "data": {
      "text/latex": [
       "$\\displaystyle - \\sin{\\left(\\alpha{\\left(t \\right)} \\right)} \\frac{d}{d t} \\beta{\\left(t \\right)} + \\cos{\\left(\\alpha{\\left(t \\right)} \\right)} \\cos{\\left(\\beta{\\left(t \\right)} \\right)} \\frac{d}{d t} \\gamma{\\left(t \\right)}$"
      ],
      "text/plain": [
       "-sin(alpha(t))*Derivative(beta(t), t) + cos(alpha(t))*cos(beta(t))*Derivative(gamma(t), t)"
      ]
     },
     "execution_count": 15,
     "metadata": {},
     "output_type": "execute_result"
    }
   ],
   "source": [
    "omega_z"
   ]
  },
  {
   "cell_type": "code",
   "execution_count": null,
   "id": "abda5796-5972-4c3d-a88c-06e0da89034c",
   "metadata": {},
   "outputs": [],
   "source": []
  }
 ],
 "metadata": {
  "kernelspec": {
   "display_name": "Python 3 (ipykernel)",
   "language": "python",
   "name": "python3"
  },
  "language_info": {
   "codemirror_mode": {
    "name": "ipython",
    "version": 3
   },
   "file_extension": ".py",
   "mimetype": "text/x-python",
   "name": "python",
   "nbconvert_exporter": "python",
   "pygments_lexer": "ipython3",
   "version": "3.11.5"
  }
 },
 "nbformat": 4,
 "nbformat_minor": 5
}
