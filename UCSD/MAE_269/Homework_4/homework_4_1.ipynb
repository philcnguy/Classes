{
 "cells": [
  {
   "cell_type": "markdown",
   "id": "77ca125a-051c-4099-b8ad-abc00273181f",
   "metadata": {},
   "source": [
    "# Homework 4"
   ]
  },
  {
   "cell_type": "code",
   "execution_count": 1,
   "id": "e3478808-593b-4a40-ba7a-3985afaf7c4b",
   "metadata": {
    "tags": []
   },
   "outputs": [
    {
     "data": {
      "text/plain": [
       "<matplotlib.pyplot._IonContext at 0x20cc0d2c970>"
      ]
     },
     "execution_count": 1,
     "metadata": {},
     "output_type": "execute_result"
    }
   ],
   "source": [
    "import numpy as np\n",
    "\n",
    "import sympy\n",
    "from sympy import simplify, Function\n",
    "from sympy import symbols, pprint\n",
    "from sympy import sin, cos, asin, acos, pi, Abs\n",
    "from sympy import Matrix, diff\n",
    "from sympy import lambdify\n",
    "from sympy import solve\n",
    "from sympy import re, im\n",
    "from sympy import Eq\n",
    "from sympy import solveset\n",
    "from sympy import det\n",
    "\n",
    "from scipy.integrate import solve_ivp\n",
    "\n",
    "import matplotlib.pyplot as plt\n",
    "plt.ion()"
   ]
  },
  {
   "cell_type": "markdown",
   "id": "4835a2f0-57d0-4895-812e-db2730150fd1",
   "metadata": {},
   "source": [
    "## Question 1.1"
   ]
  },
  {
   "cell_type": "code",
   "execution_count": 2,
   "id": "5442f06c-bb7e-4400-8f12-45ba93f53519",
   "metadata": {
    "tags": []
   },
   "outputs": [],
   "source": [
    "(t,\n",
    " x_1, \n",
    " x_2,\n",
    " x_3,\n",
    " x_4,\n",
    " I,\n",
    " Gamma,\n",
    " k,\n",
    " T,\n",
    " r_3,\n",
    " kappa,\n",
    " mu) = symbols(\"\"\"t,\n",
    "                x_1, \n",
    "                x_2,\n",
    "                x_3,\n",
    "                x_4,\n",
    "                I,\n",
    "                Gamma,\n",
    "                k,\n",
    "                T,\n",
    "                r_3,\n",
    "                kappa,\n",
    "                mu\"\"\" , real = True)"
   ]
  },
  {
   "cell_type": "code",
   "execution_count": 3,
   "id": "682d64ef-969f-47f7-b59c-549063b46d21",
   "metadata": {},
   "outputs": [],
   "source": [
    "x_1 = Function('x_1', real=True)(t)\n",
    "x_2 = Function('x_2', real=True)(t)\n",
    "x_3 = Function('x_3', real=True)(t)\n",
    "x_4 = Function('x_4', real=True)(t)"
   ]
  },
  {
   "cell_type": "code",
   "execution_count": 4,
   "id": "be5b426b-5591-407a-a2b4-faf5014b2101",
   "metadata": {},
   "outputs": [
    {
     "data": {
      "text/latex": [
       "$\\displaystyle \\left[\\begin{matrix}\\operatorname{x_{1}}{\\left(t \\right)}\\\\\\operatorname{x_{2}}{\\left(t \\right)}\\\\\\operatorname{x_{3}}{\\left(t \\right)}\\\\\\operatorname{x_{4}}{\\left(t \\right)}\\end{matrix}\\right]$"
      ],
      "text/plain": [
       "Matrix([\n",
       "[x_1(t)],\n",
       "[x_2(t)],\n",
       "[x_3(t)],\n",
       "[x_4(t)]])"
      ]
     },
     "metadata": {},
     "output_type": "display_data"
    }
   ],
   "source": [
    "state = Matrix([[x_1, x_2, x_3, x_4]]).T\n",
    "display(state)"
   ]
  },
  {
   "cell_type": "code",
   "execution_count": 5,
   "id": "7695f8c2-0291-4b26-a382-a18aa848e074",
   "metadata": {},
   "outputs": [
    {
     "data": {
      "text/latex": [
       "$\\displaystyle \\left[\\begin{matrix}\\operatorname{x_{2}}{\\left(t \\right)}\\\\\\frac{- \\Gamma T^{2} \\operatorname{x_{2}}^{2}{\\left(t \\right)} + T \\operatorname{x_{3}}{\\left(t \\right)} + k \\operatorname{x_{1}}{\\left(t \\right)}}{I T^{2}}\\\\\\operatorname{x_{4}}{\\left(t \\right)}\\\\r_{3} \\left(- \\kappa \\mu r_{3} \\operatorname{x_{2}}{\\left(t \\right)} - \\kappa r_{3} \\operatorname{x_{3}}{\\left(t \\right)} - \\left(\\kappa + 1\\right) \\operatorname{x_{4}}{\\left(t \\right)}\\right)\\end{matrix}\\right]$"
      ],
      "text/plain": [
       "Matrix([\n",
       "[                                                            x_2(t)],\n",
       "[            (-Gamma*T**2*x_2(t)**2 + T*x_3(t) + k*x_1(t))/(I*T**2)],\n",
       "[                                                            x_4(t)],\n",
       "[r_3*(-kappa*mu*r_3*x_2(t) - kappa*r_3*x_3(t) - (kappa + 1)*x_4(t))]])"
      ]
     },
     "metadata": {},
     "output_type": "display_data"
    }
   ],
   "source": [
    "g = simplify(Matrix([[x_2, 1 / I * (x_3 / T - Gamma * x_2 ** 2 + k * x_1 / T ** 2), x_4, -r_3 * (1 + kappa) * x_4 - kappa * r_3 ** 2 * x_3 - mu * kappa * r_3 ** 2 * x_2]]).T)\n",
    "display(g)"
   ]
  },
  {
   "cell_type": "markdown",
   "id": "f2c670b8-81d8-4264-b484-4312d9dd82f7",
   "metadata": {},
   "source": [
    "## Question 1.2"
   ]
  },
  {
   "cell_type": "code",
   "execution_count": 6,
   "id": "a32897cf-a9b3-4fd7-afd3-5566974b572a",
   "metadata": {},
   "outputs": [
    {
     "data": {
      "text/plain": [
       "[(0, 0, 0, 0)]"
      ]
     },
     "metadata": {},
     "output_type": "display_data"
    }
   ],
   "source": [
    "fixed_points = solve(g, state)\n",
    "display(fixed_points)"
   ]
  },
  {
   "cell_type": "markdown",
   "id": "b3ca6fc7-d058-450e-bef7-4bb20d2ae6ea",
   "metadata": {},
   "source": [
    "## Question 1.3"
   ]
  },
  {
   "cell_type": "code",
   "execution_count": 7,
   "id": "5c3a87b6-2dae-4fcb-b0b2-a085572e17b9",
   "metadata": {},
   "outputs": [
    {
     "data": {
      "text/latex": [
       "$\\displaystyle \\left[\\begin{matrix}0 & 1 & 0 & 0\\\\\\frac{k}{I T^{2}} & - \\frac{2 \\Gamma \\operatorname{x_{2}}{\\left(t \\right)}}{I} & \\frac{1}{I T} & 0\\\\0 & 0 & 0 & 1\\\\0 & - \\kappa \\mu r_{3}^{2} & - \\kappa r_{3}^{2} & r_{3} \\left(- \\kappa - 1\\right)\\end{matrix}\\right]$"
      ],
      "text/plain": [
       "Matrix([\n",
       "[         0,                 1,             0,                0],\n",
       "[k/(I*T**2), -2*Gamma*x_2(t)/I,       1/(I*T),                0],\n",
       "[         0,                 0,             0,                1],\n",
       "[         0,  -kappa*mu*r_3**2, -kappa*r_3**2, r_3*(-kappa - 1)]])"
      ]
     },
     "metadata": {},
     "output_type": "display_data"
    }
   ],
   "source": [
    "jacobian = g.jacobian(state)\n",
    "display(jacobian)"
   ]
  },
  {
   "cell_type": "code",
   "execution_count": 8,
   "id": "95d6314e-b3d2-42f6-b135-5088d8aee2e6",
   "metadata": {},
   "outputs": [
    {
     "data": {
      "text/latex": [
       "$\\displaystyle \\left[\\begin{matrix}0 & 1 & 0 & 0\\\\\\frac{k}{I T^{2}} & 0 & \\frac{1}{I T} & 0\\\\0 & 0 & 0 & 1\\\\0 & - \\kappa \\mu r_{3}^{2} & - \\kappa r_{3}^{2} & r_{3} \\left(- \\kappa - 1\\right)\\end{matrix}\\right]$"
      ],
      "text/plain": [
       "Matrix([\n",
       "[         0,                1,             0,                0],\n",
       "[k/(I*T**2),                0,       1/(I*T),                0],\n",
       "[         0,                0,             0,                1],\n",
       "[         0, -kappa*mu*r_3**2, -kappa*r_3**2, r_3*(-kappa - 1)]])"
      ]
     },
     "metadata": {},
     "output_type": "display_data"
    },
    {
     "data": {
      "text/latex": [
       "$\\displaystyle \\left[\\begin{matrix}\\operatorname{x_{2}}{\\left(t \\right)}\\\\\\frac{T \\operatorname{x_{3}}{\\left(t \\right)} + k \\operatorname{x_{1}}{\\left(t \\right)}}{I T^{2}}\\\\\\operatorname{x_{4}}{\\left(t \\right)}\\\\r_{3} \\left(- \\kappa \\mu r_{3} \\operatorname{x_{2}}{\\left(t \\right)} - \\kappa r_{3} \\operatorname{x_{3}}{\\left(t \\right)} - \\left(\\kappa + 1\\right) \\operatorname{x_{4}}{\\left(t \\right)}\\right)\\end{matrix}\\right]$"
      ],
      "text/plain": [
       "Matrix([\n",
       "[                                                            x_2(t)],\n",
       "[                                    (T*x_3(t) + k*x_1(t))/(I*T**2)],\n",
       "[                                                            x_4(t)],\n",
       "[r_3*(-kappa*mu*r_3*x_2(t) - kappa*r_3*x_3(t) - (kappa + 1)*x_4(t))]])"
      ]
     },
     "metadata": {},
     "output_type": "display_data"
    }
   ],
   "source": [
    "A = jacobian.subs([(x_1, 0), (x_2, 0), (x_3, 0), (x_4, 0)])\n",
    "display(A)\n",
    "display(simplify(A @ state))"
   ]
  },
  {
   "cell_type": "markdown",
   "id": "ed5215a0-eac1-44fb-98a4-8ad6f9e974c9",
   "metadata": {},
   "source": [
    "## Question 1.4"
   ]
  },
  {
   "cell_type": "code",
   "execution_count": 9,
   "id": "2010fd52-07d0-4ef5-9ed9-ff638496dc12",
   "metadata": {},
   "outputs": [
    {
     "data": {
      "text/latex": [
       "$\\displaystyle \\lambda^{4} + \\lambda^{3} \\left(\\kappa r_{3} + r_{3}\\right) - \\frac{k \\kappa r_{3}^{2}}{I T^{2}} + \\frac{\\lambda^{2} \\left(I T^{2} \\kappa r_{3}^{2} - k\\right)}{I T^{2}} + \\frac{\\lambda \\left(T \\kappa \\mu r_{3}^{2} - k \\kappa r_{3} - k r_{3}\\right)}{I T^{2}}$"
      ],
      "text/plain": [
       "lambda**4 + lambda**3*(kappa*r_3 + r_3) - k*kappa*r_3**2/(I*T**2) + lambda**2*(I*T**2*kappa*r_3**2 - k)/(I*T**2) + lambda*(T*kappa*mu*r_3**2 - k*kappa*r_3 - k*r_3)/(I*T**2)"
      ]
     },
     "metadata": {},
     "output_type": "display_data"
    }
   ],
   "source": [
    "char_eq = A.charpoly().as_expr()\n",
    "display(char_eq)"
   ]
  },
  {
   "cell_type": "markdown",
   "id": "7028f4ce-37f7-42a8-866a-8b8339ccda1a",
   "metadata": {},
   "source": [
    "## Question 1.5"
   ]
  },
  {
   "cell_type": "code",
   "execution_count": 10,
   "id": "8d3d04a7-488a-45ca-ae6a-2059dc08e6bd",
   "metadata": {},
   "outputs": [],
   "source": [
    "(omega) = symbols(\"\"\"omega\"\"\" , real = True)"
   ]
  },
  {
   "cell_type": "code",
   "execution_count": 11,
   "id": "93878c53-a8d7-4d19-a34d-27ea7ee8a5c7",
   "metadata": {},
   "outputs": [
    {
     "data": {
      "text/latex": [
       "$\\displaystyle \\omega^{4} - i \\omega^{3} \\left(\\kappa r_{3} + r_{3}\\right) - \\frac{k \\kappa r_{3}^{2}}{I T^{2}} - \\frac{\\omega^{2} \\left(I T^{2} \\kappa r_{3}^{2} - k\\right)}{I T^{2}} + \\frac{i \\omega \\left(T \\kappa \\mu r_{3}^{2} - k \\kappa r_{3} - k r_{3}\\right)}{I T^{2}}$"
      ],
      "text/plain": [
       "omega**4 - I*omega**3*(kappa*r_3 + r_3) - k*kappa*r_3**2/(I*T**2) - omega**2*(I*T**2*kappa*r_3**2 - k)/(I*T**2) + I*omega*(T*kappa*mu*r_3**2 - k*kappa*r_3 - k*r_3)/(I*T**2)"
      ]
     },
     "execution_count": 11,
     "metadata": {},
     "output_type": "execute_result"
    }
   ],
   "source": [
    "char_eq.subs([('lambda', sympy.I * omega)])"
   ]
  },
  {
   "cell_type": "code",
   "execution_count": 12,
   "id": "3246e647-bd6c-42e5-9328-a23d17caa1a9",
   "metadata": {},
   "outputs": [
    {
     "data": {
      "text/latex": [
       "$\\displaystyle \\omega^{4} - \\frac{k \\kappa r_{3}^{2}}{I T^{2}} - \\frac{\\omega^{2} \\left(I T^{2} \\kappa r_{3}^{2} - k\\right)}{I T^{2}}$"
      ],
      "text/plain": [
       "omega**4 - k*kappa*r_3**2/(I*T**2) - omega**2*(I*T**2*kappa*r_3**2 - k)/(I*T**2)"
      ]
     },
     "metadata": {},
     "output_type": "display_data"
    },
    {
     "data": {
      "text/latex": [
       "$\\displaystyle - \\omega^{3} \\left(\\kappa r_{3} + r_{3}\\right) + \\frac{\\omega \\left(T \\kappa \\mu r_{3}^{2} - k \\kappa r_{3} - k r_{3}\\right)}{I T^{2}}$"
      ],
      "text/plain": [
       "-omega**3*(kappa*r_3 + r_3) + omega*(T*kappa*mu*r_3**2 - k*kappa*r_3 - k*r_3)/(I*T**2)"
      ]
     },
     "metadata": {},
     "output_type": "display_data"
    }
   ],
   "source": [
    "real_eq = re(char_eq.subs([('lambda', sympy.I * omega)]))\n",
    "im_eq = im(char_eq.subs([('lambda', sympy.I * omega)]))\n",
    "\n",
    "display(real_eq)\n",
    "display(im_eq)"
   ]
  },
  {
   "cell_type": "markdown",
   "id": "059fb542-a5ba-4a24-90d2-02280fc08306",
   "metadata": {},
   "source": [
    "## Question 1.6"
   ]
  },
  {
   "cell_type": "code",
   "execution_count": 13,
   "id": "d1631f17-cc5c-4b78-894a-80d39582e4e9",
   "metadata": {},
   "outputs": [],
   "source": [
    "def mu_function(r_3):\n",
    "    omega = 1\n",
    "    kappa = 1\n",
    "    k = 1\n",
    "    I = 1\n",
    "    T = 1\n",
    "    return (omega**2 * I * T**2 * (kappa*r_3 + r_3) + k*kappa*r_3 + r_3) / (T * kappa * r_3**2)\n",
    "\n",
    "def r3_function(r_3):\n",
    "    omega = 1\n",
    "    kappa = 1\n",
    "    k = 1\n",
    "    I = 1\n",
    "    T = 1\n",
    "    return np.sqrt((omega**4 * I * T ** 2 + omega**2 * k) / (k * kappa + omega**2 * I * T**2 * k)) * r_3 / r_3"
   ]
  },
  {
   "cell_type": "code",
   "execution_count": 14,
   "id": "48f7a258-8e53-4fff-9f0b-19345d64887f",
   "metadata": {},
   "outputs": [],
   "source": [
    "r3_values_1 = np.linspace(0.1, 10, 100)\n",
    "mu_values = mu_function(r3_values_1)\n",
    "r3_values_2 = r3_function(r3_values_1)"
   ]
  },
  {
   "cell_type": "code",
   "execution_count": 15,
   "id": "9815ee11-0edf-4cbd-81f9-a47634faf8ad",
   "metadata": {},
   "outputs": [
    {
     "data": {
      "image/png": "[encoded data removed]",
      "text/plain": [
       "<Figure size 640x480 with 1 Axes>"
      ]
     },
     "metadata": {},
     "output_type": "display_data"
    }
   ],
   "source": [
    "plt.figure(1)\n",
    "plt.plot(r3_values_1, mu_values)\n",
    "plt.plot(r3_values_1, r3_values_2)\n",
    "plt.xlabel('$r_3$')\n",
    "plt.ylabel('$\\mu$')\n",
    "plt.title('Parameter Space')\n",
    "plt.grid(True)\n",
    "plt.show()"
   ]
  },
  {
   "cell_type": "markdown",
   "id": "ed2eebe7-86e7-4707-afa7-44c8e3d789fc",
   "metadata": {},
   "source": [
    "## Question 1.7"
   ]
  },
  {
   "cell_type": "markdown",
   "id": "530f1e73-9646-41ef-819d-3f29746958c7",
   "metadata": {},
   "source": [
    "Take sample points (4,10), (1,2), (1,0.5), (10,0.9)."
   ]
  },
  {
   "cell_type": "code",
   "execution_count": 16,
   "id": "23733479-7b86-454b-91ae-13c3f331619c",
   "metadata": {},
   "outputs": [
    {
     "data": {
      "text/latex": [
       "$\\displaystyle \\left[\\begin{matrix}0 & 1 & 0 & 0\\\\1 & 0 & 1 & 0\\\\0 & 0 & 0 & 1\\\\0 & -160 & -16 & -8\\end{matrix}\\right]$"
      ],
      "text/plain": [
       "Matrix([\n",
       "[0,    1,   0,  0],\n",
       "[1,    0,   1,  0],\n",
       "[0,    0,   0,  1],\n",
       "[0, -160, -16, -8]])"
      ]
     },
     "metadata": {},
     "output_type": "display_data"
    }
   ],
   "source": [
    "jacobian_subs = A.subs([(k, 1), (I, 1), (T, 1), (kappa, 1), (r_3, 4), (mu, 10)])\n",
    "display(jacobian_subs)"
   ]
  },
  {
   "cell_type": "code",
   "execution_count": 17,
   "id": "370986e0-c2a9-42df-a5eb-08105eabf168",
   "metadata": {},
   "outputs": [
    {
     "data": {
      "text/latex": [
       "$\\displaystyle \\lambda^{4} + 8 \\lambda^{3} + 15 \\lambda^{2} + 152 \\lambda - 16$"
      ],
      "text/plain": [
       "lambda**4 + 8*lambda**3 + 15*lambda**2 + 152*lambda - 16"
      ]
     },
     "execution_count": 17,
     "metadata": {},
     "output_type": "execute_result"
    }
   ],
   "source": [
    "char_eq.subs([(k, 1), (I, 1), (T, 1), (kappa, 1), (r_3, 4), (mu, 10)])"
   ]
  },
  {
   "cell_type": "markdown",
   "id": "6b915dd8-1980-43bf-b28d-064970adb5ee",
   "metadata": {},
   "source": [
    "(4,10) has an eigenvalue with a positive real part."
   ]
  },
  {
   "cell_type": "code",
   "execution_count": 18,
   "id": "4e87a229-7ea7-4461-89bf-a8172f945d79",
   "metadata": {},
   "outputs": [
    {
     "data": {
      "text/latex": [
       "$\\displaystyle \\left[\\begin{matrix}0 & 1 & 0 & 0\\\\1 & 0 & 1 & 0\\\\0 & 0 & 0 & 1\\\\0 & -2 & -1 & -2\\end{matrix}\\right]$"
      ],
      "text/plain": [
       "Matrix([\n",
       "[0,  1,  0,  0],\n",
       "[1,  0,  1,  0],\n",
       "[0,  0,  0,  1],\n",
       "[0, -2, -1, -2]])"
      ]
     },
     "metadata": {},
     "output_type": "display_data"
    }
   ],
   "source": [
    "jacobian_subs = A.subs([(k, 1), (I, 1), (T, 1), (kappa, 1), (r_3, 1), (mu, 2)])\n",
    "display(jacobian_subs)"
   ]
  },
  {
   "cell_type": "code",
   "execution_count": 19,
   "id": "6718ecbe-73e6-4210-af15-1f87cc4c1578",
   "metadata": {},
   "outputs": [
    {
     "data": {
      "text/latex": [
       "$\\displaystyle \\lambda^{4} + 2 \\lambda^{3} - 1$"
      ],
      "text/plain": [
       "lambda**4 + 2*lambda**3 - 1"
      ]
     },
     "execution_count": 19,
     "metadata": {},
     "output_type": "execute_result"
    }
   ],
   "source": [
    "char_eq.subs([(k, 1), (I, 1), (T, 1), (kappa, 1), (r_3, 1), (mu, 2)])"
   ]
  },
  {
   "cell_type": "markdown",
   "id": "e0851329-c5c8-4ea5-9fe6-2a5ed38a796a",
   "metadata": {},
   "source": [
    "(1,2) has an eigenvalue with a positive real part."
   ]
  },
  {
   "cell_type": "code",
   "execution_count": 20,
   "id": "22c1f8d9-35ff-4a37-979e-965372816277",
   "metadata": {},
   "outputs": [
    {
     "data": {
      "text/latex": [
       "$\\displaystyle \\left[\\begin{matrix}0 & 1 & 0 & 0\\\\1 & 0 & 1 & 0\\\\0 & 0 & 0 & 1\\\\0 & -0.5 & -1 & -2\\end{matrix}\\right]$"
      ],
      "text/plain": [
       "Matrix([\n",
       "[0,    1,  0,  0],\n",
       "[1,    0,  1,  0],\n",
       "[0,    0,  0,  1],\n",
       "[0, -0.5, -1, -2]])"
      ]
     },
     "metadata": {},
     "output_type": "display_data"
    }
   ],
   "source": [
    "jacobian_subs = A.subs([(k, 1), (I, 1), (T, 1), (kappa, 1), (r_3, 1), (mu, 0.5)])\n",
    "display(jacobian_subs)"
   ]
  },
  {
   "cell_type": "code",
   "execution_count": 21,
   "id": "449ea6ab-6cb3-493c-9ce2-22c6d6e86b2b",
   "metadata": {},
   "outputs": [
    {
     "data": {
      "text/latex": [
       "$\\displaystyle \\lambda^{4} + 2 \\lambda^{3} - 1.5 \\lambda - 1$"
      ],
      "text/plain": [
       "lambda**4 + 2*lambda**3 - 1.5*lambda - 1"
      ]
     },
     "execution_count": 21,
     "metadata": {},
     "output_type": "execute_result"
    }
   ],
   "source": [
    "char_eq.subs([(k, 1), (I, 1), (T, 1), (kappa, 1), (r_3, 1), (mu, 0.5)])"
   ]
  },
  {
   "cell_type": "markdown",
   "id": "aa45b0fb-bd51-4196-aeb2-546a217037cf",
   "metadata": {},
   "source": [
    "(1,0.5) has an eigenvalue with a positive real part."
   ]
  },
  {
   "cell_type": "code",
   "execution_count": 22,
   "id": "46a9194b-ac9d-48db-8903-97cbdecccad4",
   "metadata": {},
   "outputs": [
    {
     "data": {
      "text/latex": [
       "$\\displaystyle \\left[\\begin{matrix}0 & 1 & 0 & 0\\\\1 & 0 & 1 & 0\\\\0 & 0 & 0 & 1\\\\0 & -90.0 & -100 & -20\\end{matrix}\\right]$"
      ],
      "text/plain": [
       "Matrix([\n",
       "[0,     1,    0,   0],\n",
       "[1,     0,    1,   0],\n",
       "[0,     0,    0,   1],\n",
       "[0, -90.0, -100, -20]])"
      ]
     },
     "metadata": {},
     "output_type": "display_data"
    }
   ],
   "source": [
    "jacobian_subs = A.subs([(k, 1), (I, 1), (T, 1), (kappa, 1), (r_3, 10), (mu, 0.9)])\n",
    "display(jacobian_subs)"
   ]
  },
  {
   "cell_type": "code",
   "execution_count": 23,
   "id": "563f16a9-e10c-4a95-bc1e-d9a212c20f53",
   "metadata": {},
   "outputs": [
    {
     "data": {
      "text/latex": [
       "$\\displaystyle \\lambda^{4} + 20 \\lambda^{3} + 99 \\lambda^{2} + 70.0 \\lambda - 100$"
      ],
      "text/plain": [
       "lambda**4 + 20*lambda**3 + 99*lambda**2 + 70.0*lambda - 100"
      ]
     },
     "execution_count": 23,
     "metadata": {},
     "output_type": "execute_result"
    }
   ],
   "source": [
    "char_eq.subs([(k, 1), (I, 1), (T, 1), (kappa, 1), (r_3, 10), (mu, 0.9)])"
   ]
  },
  {
   "cell_type": "markdown",
   "id": "01bd4025-cf03-4e01-a924-e7dbdbee5252",
   "metadata": {},
   "source": [
    "(10,0.9) has an eigenvalue with a positive real part."
   ]
  },
  {
   "cell_type": "code",
   "execution_count": 27,
   "id": "c0c148c7-4d69-4ddc-adda-3c6e64eccc0a",
   "metadata": {},
   "outputs": [
    {
     "data": {
      "image/png": "[encoded data removed]",
      "text/plain": [
       "<Figure size 640x480 with 1 Axes>"
      ]
     },
     "metadata": {},
     "output_type": "display_data"
    }
   ],
   "source": [
    "fig = plt.figure(2)\n",
    "ax = plt.axes()\n",
    "ax.set_facecolor(\"red\")\n",
    "plt.plot(r3_values_1, mu_values)\n",
    "plt.plot(r3_values_1, r3_values_2)\n",
    "plt.xlabel('$r_3$')\n",
    "plt.ylabel('$\\mu$')\n",
    "plt.title('Parameter Space')\n",
    "plt.grid(True)\n",
    "plt.show()"
   ]
  }
 ],
 "metadata": {
  "kernelspec": {
   "display_name": "Python 3 (ipykernel)",
   "language": "python",
   "name": "python3"
  },
  "language_info": {
   "codemirror_mode": {
    "name": "ipython",
    "version": 3
   },
   "file_extension": ".py",
   "mimetype": "text/x-python",
   "name": "python",
   "nbconvert_exporter": "python",
   "pygments_lexer": "ipython3",
   "version": "3.9.18"
  }
 },
 "nbformat": 4,
 "nbformat_minor": 5
}
