{
 "cells": [
  {
   "cell_type": "markdown",
   "id": "77ca125a-051c-4099-b8ad-abc00273181f",
   "metadata": {},
   "source": [
    "# Homework 4"
   ]
  },
  {
   "cell_type": "code",
   "execution_count": 1,
   "id": "e3478808-593b-4a40-ba7a-3985afaf7c4b",
   "metadata": {
    "tags": []
   },
   "outputs": [
    {
     "data": {
      "text/plain": [
       "<contextlib.ExitStack at 0x23c1c1edc90>"
      ]
     },
     "execution_count": 1,
     "metadata": {},
     "output_type": "execute_result"
    }
   ],
   "source": [
    "import numpy as np\n",
    "\n",
    "import sympy\n",
    "from sympy import simplify, Function\n",
    "from sympy import symbols, pprint\n",
    "from sympy import sin, cos, asin, acos, pi, Abs\n",
    "from sympy import Matrix, diff\n",
    "from sympy import lambdify\n",
    "\n",
    "from scipy.integrate import solve_ivp\n",
    "\n",
    "import matplotlib.pyplot as plt\n",
    "plt.ion()\n"
   ]
  },
  {
   "cell_type": "markdown",
   "id": "4835a2f0-57d0-4895-812e-db2730150fd1",
   "metadata": {},
   "source": [
    "## Question 1.1"
   ]
  },
  {
   "cell_type": "code",
   "execution_count": 12,
   "id": "5442f06c-bb7e-4400-8f12-45ba93f53519",
   "metadata": {
    "tags": []
   },
   "outputs": [],
   "source": [
    "(t,\n",
    " x_1, \n",
    " x_2,\n",
    " x_3,\n",
    " x_4) = symbols(\"\"\"t,\n",
    "                x_1, \n",
    "                x_2,\n",
    "                x_3,\n",
    "                x_4\"\"\" , real = True)"
   ]
  },
  {
   "cell_type": "code",
   "execution_count": 13,
   "id": "a343033c-4116-435f-bef2-72cae3d07603",
   "metadata": {
    "tags": []
   },
   "outputs": [],
   "source": [
    "state_vector = Matrix([x_1])"
   ]
  },
  {
   "cell_type": "code",
   "execution_count": 14,
   "id": "931c3cca-d8d6-43e4-be02-560901785f13",
   "metadata": {
    "tags": []
   },
   "outputs": [
    {
     "data": {
      "text/latex": [
       "$\\displaystyle \\left[\\begin{matrix}x_{1}\\end{matrix}\\right]$"
      ],
      "text/plain": [
       "Matrix([[x_1]])"
      ]
     },
     "execution_count": 14,
     "metadata": {},
     "output_type": "execute_result"
    }
   ],
   "source": [
    "state_vector"
   ]
  },
  {
   "cell_type": "code",
   "execution_count": 7,
   "id": "2dc8ca7b-0777-473a-93ac-08c74d0894bb",
   "metadata": {
    "tags": []
   },
   "outputs": [
    {
     "data": {
      "text/latex": [
       "$\\displaystyle \\phi{\\left(t \\right)}$"
      ],
      "text/plain": [
       "phi(t)"
      ]
     },
     "execution_count": 7,
     "metadata": {},
     "output_type": "execute_result"
    }
   ],
   "source": [
    "phi"
   ]
  },
  {
   "cell_type": "code",
   "execution_count": 8,
   "id": "4ae0355a-686f-4133-808b-cbda449bb987",
   "metadata": {
    "tags": []
   },
   "outputs": [],
   "source": [
    "(x_1) = symbols(\"\"\"x_1\"\"\", real = True)"
   ]
  },
  {
   "cell_type": "code",
   "execution_count": 10,
   "id": "eff81dbc-709c-4302-8bf1-7e93f97112fc",
   "metadata": {
    "tags": []
   },
   "outputs": [],
   "source": [
    "x_1 = phi"
   ]
  },
  {
   "cell_type": "code",
   "execution_count": 11,
   "id": "ae939849-f0da-44e0-9a1a-d1fbfece6666",
   "metadata": {
    "tags": []
   },
   "outputs": [
    {
     "data": {
      "text/latex": [
       "$\\displaystyle \\phi{\\left(t \\right)}$"
      ],
      "text/plain": [
       "phi(t)"
      ]
     },
     "execution_count": 11,
     "metadata": {},
     "output_type": "execute_result"
    }
   ],
   "source": [
    "x_1"
   ]
  },
  {
   "cell_type": "code",
   "execution_count": null,
   "id": "6c57b4f9-8b87-4c28-8174-445145b8730c",
   "metadata": {},
   "outputs": [],
   "source": []
  }
 ],
 "metadata": {
  "kernelspec": {
   "display_name": "Python 3 (ipykernel)",
   "language": "python",
   "name": "python3"
  },
  "language_info": {
   "codemirror_mode": {
    "name": "ipython",
    "version": 3
   },
   "file_extension": ".py",
   "mimetype": "text/x-python",
   "name": "python",
   "nbconvert_exporter": "python",
   "pygments_lexer": "ipython3",
   "version": "3.11.5"
  }
 },
 "nbformat": 4,
 "nbformat_minor": 5
}
