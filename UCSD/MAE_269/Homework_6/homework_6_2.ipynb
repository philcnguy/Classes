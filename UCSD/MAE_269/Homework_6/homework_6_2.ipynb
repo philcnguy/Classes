{
 "cells": [
  {
   "cell_type": "markdown",
   "id": "0ca017dd-d39c-4aa3-b132-eac45288b3c4",
   "metadata": {},
   "source": [
    "# Question 2"
   ]
  },
  {
   "cell_type": "markdown",
   "id": "fda5501b-8015-439f-87d7-65700e9ffdb3",
   "metadata": {},
   "source": [
    "## Question 2.1"
   ]
  },
  {
   "cell_type": "code",
   "execution_count": 1,
   "id": "de9f2adf-0bd9-4947-9f0d-0f897049ccda",
   "metadata": {
    "tags": []
   },
   "outputs": [],
   "source": [
    "# symbolic computation tools\n",
    "import sympy as sp\n",
    "from sympy import symbols, pprint\n",
    "from sympy import sin, cos, asin, acos, pi\n",
    "from sympy import Matrix, simplify, Function, diff, Derivative, nsimplify\n",
    "\n",
    "import numpy as np\n",
    "\n",
    "from IPython import display # for the animation\n",
    "import matplotlib as mpl\n",
    "mpl.use('Qt5Agg')\n",
    "\n",
    "import matplotlib.pyplot as plt\n",
    "plt.ion()\n",
    "\n",
    "import mpmath\n",
    "\n",
    "\n",
    "# styling for plots\n",
    "mpl.rcParams['axes.titlesize'] = 24\n",
    "mpl.rcParams['axes.labelsize'] = 20\n",
    "mpl.rcParams['lines.linewidth'] = 3\n",
    "mpl.rcParams['lines.markersize'] = 10\n",
    "mpl.rcParams['xtick.labelsize'] = 16\n",
    "mpl.rcParams['ytick.labelsize'] = 16\n",
    "    \n"
   ]
  },
  {
   "cell_type": "code",
   "execution_count": 2,
   "id": "254d55ee-196e-4a88-b68b-f76be027911a",
   "metadata": {
    "tags": []
   },
   "outputs": [],
   "source": [
    "# We wrap in parentheses here so we can write it on multiple lines. Similar\n",
    "# with the triple quotes on the string. Usually we don't need to use these things.\n",
    "(theta_1, \n",
    " theta_2, \n",
    " theta_3, \n",
    " l_1, \n",
    " l_2, \n",
    " l_3) = symbols(\"\"\"theta_1 \n",
    "                         theta_2 \n",
    "                         theta_3 \n",
    "                         l_1 \n",
    "                         l_2 \n",
    "                         l_3 \"\"\" , real = True)"
   ]
  },
  {
   "cell_type": "code",
   "execution_count": 3,
   "id": "2c2bdd54-8636-4c24-9029-e25feb56e56a",
   "metadata": {
    "tags": []
   },
   "outputs": [],
   "source": [
    "def T(theta, x, y):\n",
    "    \"\"\"\n",
    "    Function to return an arbitrary transformation matrix \n",
    "    This is for sympy symbolic calculation\n",
    "    \"\"\"\n",
    "    return Matrix([[cos(theta), -sin(theta), x], \n",
    "                   [sin(theta), cos(theta), y],\n",
    "                   [0, 0, 1]])\n",
    "\n",
    "def sym_to_np(T):\n",
    "    return np.array(T).astype(np.float64)"
   ]
  },
  {
   "cell_type": "code",
   "execution_count": 4,
   "id": "0d76de74-1431-47e3-9c55-8213eb0c2dcc",
   "metadata": {
    "tags": []
   },
   "outputs": [],
   "source": [
    "def draw_robot(ordered_list_of_transformations):\n",
    "    \"\"\"\n",
    "    Draw the configuration of the three-link jumper.\n",
    "    \"\"\"\n",
    "    ax_lw = 3\n",
    "    link_lw = 1\n",
    "\n",
    "    # homogeneous unit vectors \n",
    "    x = np.array([[1, 0, 1]]).T \n",
    "    y = np.array([[0, 1, 1]]).T\n",
    "    origin = np.array([[0, 0, 1]]).T\n",
    "\n",
    "    prev_origin = np.array([[0, 0, 1]]).T    \n",
    "    current_transformation = np.eye(3)\n",
    "\n",
    "    plt.clf()\n",
    "    ax = plt.gca()  # get current axis\n",
    "\n",
    "    # now we plot\n",
    "    plt.plot([prev_origin[0][0]], [prev_origin[1][0]], '-ko',linewidth=link_lw)\n",
    "    plt.plot([prev_origin[0][0], x[0][0]], [prev_origin[1][0], x[1][0]], '-ro', linewidth=ax_lw)\n",
    "    plt.plot([prev_origin[0][0], y[0][0]], [prev_origin[1][0], y[1][0]], '-go', linewidth=ax_lw)\n",
    "\n",
    "\n",
    "    # loop the transforms in order of T_01, T_12, ... , T_N-1N\n",
    "    for k, transform in enumerate(ordered_list_of_transformations):\n",
    "\n",
    "        # update the transformation\n",
    "        current_transformation = current_transformation @ transform\n",
    "        new_origin = current_transformation @ origin\n",
    "        new_x = current_transformation @ x\n",
    "        new_y = current_transformation @ y\n",
    "\n",
    "        # now we plot\n",
    "        plt.plot([prev_origin[0][0], new_origin[0][0]], \n",
    "                 [prev_origin[1][0], new_origin[1][0]], \n",
    "                 '-ko',linewidth=link_lw)\n",
    "        \n",
    "        plt.plot([new_origin[0][0], new_x[0][0]], [new_origin[1][0], new_x[1][0]], '-r', linewidth=ax_lw)\n",
    "        plt.plot([new_origin[0][0], new_y[0][0]], [new_origin[1][0], new_y[1][0]], '-g', linewidth=ax_lw)\n",
    "\n",
    "\n",
    "#         ax.annotate('{'+str(k+1)+'}', xy=new_origin[0:2][0], xytext=new_origin[0:2][0])\n",
    "\n",
    "        # lastly update the current_origin to the new_origin\n",
    "        prev_origin = new_origin\n",
    "\n",
    "    # lastly set the axes to be equal and appropriate\n",
    "    ax.set_aspect('equal')\n",
    "    ax.set_xlabel('x')\n",
    "    ax.set_ylabel('y')    "
   ]
  },
  {
   "cell_type": "code",
   "execution_count": 5,
   "id": "7242bceb-7c0c-4be1-9135-575a42a26449",
   "metadata": {
    "tags": []
   },
   "outputs": [],
   "source": [
    "T_01 = T(theta_1, 0, 0)\n",
    "T_12 = T(theta_2, l_1, 0)\n",
    "T_23 = T(theta_3, l_2, 0)"
   ]
  },
  {
   "cell_type": "code",
   "execution_count": 6,
   "id": "d997225a-0828-40c2-9c69-2f993c5531cc",
   "metadata": {
    "tags": []
   },
   "outputs": [
    {
     "data": {
      "text/latex": [
       "$\\displaystyle \\left[\\begin{matrix}l_{1} \\cos{\\left(\\theta_{1} \\right)}\\\\l_{1} \\sin{\\left(\\theta_{1} \\right)}\\end{matrix}\\right]$"
      ],
      "text/plain": [
       "Matrix([\n",
       "[l_1*cos(theta_1)],\n",
       "[l_1*sin(theta_1)]])"
      ]
     },
     "execution_count": 6,
     "metadata": {},
     "output_type": "execute_result"
    }
   ],
   "source": [
    "FK1 = (T_01 * Matrix([[l_1], [0], [1]]))[:-1,0]\n",
    "FK1"
   ]
  },
  {
   "cell_type": "code",
   "execution_count": 7,
   "id": "070476af-f0c0-4bde-957e-37f3ba405782",
   "metadata": {
    "tags": []
   },
   "outputs": [
    {
     "data": {
      "text/latex": [
       "$\\displaystyle \\left[\\begin{matrix}l_{1} \\cos{\\left(\\theta_{1} \\right)} + l_{2} \\cos{\\left(\\theta_{1} + \\theta_{2} \\right)}\\\\l_{1} \\sin{\\left(\\theta_{1} \\right)} + l_{2} \\sin{\\left(\\theta_{1} + \\theta_{2} \\right)}\\end{matrix}\\right]$"
      ],
      "text/plain": [
       "Matrix([\n",
       "[l_1*cos(theta_1) + l_2*cos(theta_1 + theta_2)],\n",
       "[l_1*sin(theta_1) + l_2*sin(theta_1 + theta_2)]])"
      ]
     },
     "execution_count": 7,
     "metadata": {},
     "output_type": "execute_result"
    }
   ],
   "source": [
    "FK2 = simplify((T_01 * T_12 * Matrix([[l_2], [0], [1]]))[:-1,0])\n",
    "FK2"
   ]
  },
  {
   "cell_type": "code",
   "execution_count": 8,
   "id": "9c94063f-4ce8-4a73-807b-ff2236867f7e",
   "metadata": {
    "tags": []
   },
   "outputs": [
    {
     "data": {
      "text/latex": [
       "$\\displaystyle \\left[\\begin{matrix}l_{1} \\cos{\\left(\\theta_{1} \\right)} + l_{2} \\cos{\\left(\\theta_{1} + \\theta_{2} \\right)} + l_{3} \\cos{\\left(\\theta_{1} + \\theta_{2} + \\theta_{3} \\right)}\\\\l_{1} \\sin{\\left(\\theta_{1} \\right)} + l_{2} \\sin{\\left(\\theta_{1} + \\theta_{2} \\right)} + l_{3} \\sin{\\left(\\theta_{1} + \\theta_{2} + \\theta_{3} \\right)}\\end{matrix}\\right]$"
      ],
      "text/plain": [
       "Matrix([\n",
       "[l_1*cos(theta_1) + l_2*cos(theta_1 + theta_2) + l_3*cos(theta_1 + theta_2 + theta_3)],\n",
       "[l_1*sin(theta_1) + l_2*sin(theta_1 + theta_2) + l_3*sin(theta_1 + theta_2 + theta_3)]])"
      ]
     },
     "execution_count": 8,
     "metadata": {},
     "output_type": "execute_result"
    }
   ],
   "source": [
    "FK3 = simplify((T_01 * T_12 * T_23 * Matrix([[l_3], [0], [1]]))[:-1,0])\n",
    "FK3"
   ]
  },
  {
   "cell_type": "markdown",
   "id": "42d733ed-2d2d-40be-81ec-988ac3cada18",
   "metadata": {},
   "source": [
    "## Question 2.2"
   ]
  },
  {
   "cell_type": "code",
   "execution_count": 9,
   "id": "9ade02a7-05af-4332-969e-38b96558ac8f",
   "metadata": {
    "tags": []
   },
   "outputs": [
    {
     "data": {
      "text/latex": [
       "$\\displaystyle \\left[\\begin{matrix}- l_{1} \\sin{\\left(\\theta_{1} \\right)} & 0 & 0\\\\l_{1} \\cos{\\left(\\theta_{1} \\right)} & 0 & 0\\end{matrix}\\right]$"
      ],
      "text/plain": [
       "Matrix([\n",
       "[-l_1*sin(theta_1), 0, 0],\n",
       "[ l_1*cos(theta_1), 0, 0]])"
      ]
     },
     "execution_count": 9,
     "metadata": {},
     "output_type": "execute_result"
    }
   ],
   "source": [
    "J1 = FK1.jacobian([theta_1, theta_2, theta_3])\n",
    "J1"
   ]
  },
  {
   "cell_type": "code",
   "execution_count": 10,
   "id": "f5cd5b68-8b9a-4c99-b5e6-20f0adeb60c5",
   "metadata": {
    "tags": []
   },
   "outputs": [
    {
     "data": {
      "text/latex": [
       "$\\displaystyle \\left[\\begin{matrix}- l_{1} \\sin{\\left(\\theta_{1} \\right)} - l_{2} \\sin{\\left(\\theta_{1} + \\theta_{2} \\right)} & - l_{2} \\sin{\\left(\\theta_{1} + \\theta_{2} \\right)} & 0\\\\l_{1} \\cos{\\left(\\theta_{1} \\right)} + l_{2} \\cos{\\left(\\theta_{1} + \\theta_{2} \\right)} & l_{2} \\cos{\\left(\\theta_{1} + \\theta_{2} \\right)} & 0\\end{matrix}\\right]$"
      ],
      "text/plain": [
       "Matrix([\n",
       "[-l_1*sin(theta_1) - l_2*sin(theta_1 + theta_2), -l_2*sin(theta_1 + theta_2), 0],\n",
       "[ l_1*cos(theta_1) + l_2*cos(theta_1 + theta_2),  l_2*cos(theta_1 + theta_2), 0]])"
      ]
     },
     "execution_count": 10,
     "metadata": {},
     "output_type": "execute_result"
    }
   ],
   "source": [
    "J2 = simplify(FK2.jacobian([theta_1, theta_2, theta_3]))\n",
    "J2"
   ]
  },
  {
   "cell_type": "code",
   "execution_count": 11,
   "id": "a5555afc-8914-40b1-84fa-c09ad322b27a",
   "metadata": {
    "tags": []
   },
   "outputs": [
    {
     "data": {
      "text/latex": [
       "$\\displaystyle \\left[\\begin{matrix}- l_{1} \\sin{\\left(\\theta_{1} \\right)} - l_{2} \\sin{\\left(\\theta_{1} + \\theta_{2} \\right)} - l_{3} \\sin{\\left(\\theta_{1} + \\theta_{2} + \\theta_{3} \\right)} & - l_{2} \\sin{\\left(\\theta_{1} + \\theta_{2} \\right)} - l_{3} \\sin{\\left(\\theta_{1} + \\theta_{2} + \\theta_{3} \\right)} & - l_{3} \\sin{\\left(\\theta_{1} + \\theta_{2} + \\theta_{3} \\right)}\\\\l_{1} \\cos{\\left(\\theta_{1} \\right)} + l_{2} \\cos{\\left(\\theta_{1} + \\theta_{2} \\right)} + l_{3} \\cos{\\left(\\theta_{1} + \\theta_{2} + \\theta_{3} \\right)} & l_{2} \\cos{\\left(\\theta_{1} + \\theta_{2} \\right)} + l_{3} \\cos{\\left(\\theta_{1} + \\theta_{2} + \\theta_{3} \\right)} & l_{3} \\cos{\\left(\\theta_{1} + \\theta_{2} + \\theta_{3} \\right)}\\end{matrix}\\right]$"
      ],
      "text/plain": [
       "Matrix([\n",
       "[-l_1*sin(theta_1) - l_2*sin(theta_1 + theta_2) - l_3*sin(theta_1 + theta_2 + theta_3), -l_2*sin(theta_1 + theta_2) - l_3*sin(theta_1 + theta_2 + theta_3), -l_3*sin(theta_1 + theta_2 + theta_3)],\n",
       "[ l_1*cos(theta_1) + l_2*cos(theta_1 + theta_2) + l_3*cos(theta_1 + theta_2 + theta_3),  l_2*cos(theta_1 + theta_2) + l_3*cos(theta_1 + theta_2 + theta_3),  l_3*cos(theta_1 + theta_2 + theta_3)]])"
      ]
     },
     "execution_count": 11,
     "metadata": {},
     "output_type": "execute_result"
    }
   ],
   "source": [
    "J3 = simplify(FK3.jacobian([theta_1, theta_2, theta_3]))\n",
    "J3"
   ]
  },
  {
   "cell_type": "markdown",
   "id": "252d9b10-70ab-45db-8fab-a0cb5f701fa9",
   "metadata": {},
   "source": [
    "## Question 2.3"
   ]
  },
  {
   "cell_type": "code",
   "execution_count": 12,
   "id": "f14ce878-225a-4636-ad91-013cf875dd61",
   "metadata": {
    "tags": []
   },
   "outputs": [
    {
     "data": {
      "text/latex": [
       "$\\displaystyle \\left[\\begin{matrix}- l_{1} \\sin{\\left(\\theta_{1} \\right)} & 0 & 0\\\\l_{1} \\cos{\\left(\\theta_{1} \\right)} & 0 & 0\\\\- l_{1} \\sin{\\left(\\theta_{1} \\right)} - l_{2} \\sin{\\left(\\theta_{1} + \\theta_{2} \\right)} & - l_{2} \\sin{\\left(\\theta_{1} + \\theta_{2} \\right)} & 0\\\\l_{1} \\cos{\\left(\\theta_{1} \\right)} + l_{2} \\cos{\\left(\\theta_{1} + \\theta_{2} \\right)} & l_{2} \\cos{\\left(\\theta_{1} + \\theta_{2} \\right)} & 0\\\\- l_{1} \\sin{\\left(\\theta_{1} \\right)} - l_{2} \\sin{\\left(\\theta_{1} + \\theta_{2} \\right)} - l_{3} \\sin{\\left(\\theta_{1} + \\theta_{2} + \\theta_{3} \\right)} & - l_{2} \\sin{\\left(\\theta_{1} + \\theta_{2} \\right)} - l_{3} \\sin{\\left(\\theta_{1} + \\theta_{2} + \\theta_{3} \\right)} & - l_{3} \\sin{\\left(\\theta_{1} + \\theta_{2} + \\theta_{3} \\right)}\\\\l_{1} \\cos{\\left(\\theta_{1} \\right)} + l_{2} \\cos{\\left(\\theta_{1} + \\theta_{2} \\right)} + l_{3} \\cos{\\left(\\theta_{1} + \\theta_{2} + \\theta_{3} \\right)} & l_{2} \\cos{\\left(\\theta_{1} + \\theta_{2} \\right)} + l_{3} \\cos{\\left(\\theta_{1} + \\theta_{2} + \\theta_{3} \\right)} & l_{3} \\cos{\\left(\\theta_{1} + \\theta_{2} + \\theta_{3} \\right)}\\end{matrix}\\right]$"
      ],
      "text/plain": [
       "Matrix([\n",
       "[                                                                    -l_1*sin(theta_1),                                                                  0,                                     0],\n",
       "[                                                                     l_1*cos(theta_1),                                                                  0,                                     0],\n",
       "[                                       -l_1*sin(theta_1) - l_2*sin(theta_1 + theta_2),                                        -l_2*sin(theta_1 + theta_2),                                     0],\n",
       "[                                        l_1*cos(theta_1) + l_2*cos(theta_1 + theta_2),                                         l_2*cos(theta_1 + theta_2),                                     0],\n",
       "[-l_1*sin(theta_1) - l_2*sin(theta_1 + theta_2) - l_3*sin(theta_1 + theta_2 + theta_3), -l_2*sin(theta_1 + theta_2) - l_3*sin(theta_1 + theta_2 + theta_3), -l_3*sin(theta_1 + theta_2 + theta_3)],\n",
       "[ l_1*cos(theta_1) + l_2*cos(theta_1 + theta_2) + l_3*cos(theta_1 + theta_2 + theta_3),  l_2*cos(theta_1 + theta_2) + l_3*cos(theta_1 + theta_2 + theta_3),  l_3*cos(theta_1 + theta_2 + theta_3)]])"
      ]
     },
     "execution_count": 12,
     "metadata": {},
     "output_type": "execute_result"
    }
   ],
   "source": [
    "J = Matrix([J1, J2, J3])\n",
    "J"
   ]
  },
  {
   "cell_type": "markdown",
   "id": "978ab462-72bb-455b-adff-856c0bbdbf85",
   "metadata": {},
   "source": [
    "## Question 2.4"
   ]
  },
  {
   "cell_type": "code",
   "execution_count": 13,
   "id": "65873d8a-3ecf-455e-be1b-9b195bab3c75",
   "metadata": {
    "tags": []
   },
   "outputs": [
    {
     "data": {
      "text/latex": [
       "$\\displaystyle \\left[\\begin{matrix}m_{1} & 0 & 0 & 0 & 0 & 0\\\\0 & m_{1} & 0 & 0 & 0 & 0\\\\0 & 0 & m_{2} & 0 & 0 & 0\\\\0 & 0 & 0 & m_{2} & 0 & 0\\\\0 & 0 & 0 & 0 & m_{3} & 0\\\\0 & 0 & 0 & 0 & 0 & m_{3}\\end{matrix}\\right]$"
      ],
      "text/plain": [
       "Matrix([\n",
       "[m_1,   0,   0,   0,   0,   0],\n",
       "[  0, m_1,   0,   0,   0,   0],\n",
       "[  0,   0, m_2,   0,   0,   0],\n",
       "[  0,   0,   0, m_2,   0,   0],\n",
       "[  0,   0,   0,   0, m_3,   0],\n",
       "[  0,   0,   0,   0,   0, m_3]])"
      ]
     },
     "execution_count": 13,
     "metadata": {},
     "output_type": "execute_result"
    }
   ],
   "source": [
    "(m_1, \n",
    " m_2, \n",
    " m_3) = symbols(\"\"\"m_1 \n",
    "                   m_2 \n",
    "                   m_3 \n",
    "                   \"\"\" , real = True)\n",
    "\n",
    "\n",
    "mass_xy = Matrix([[m_1, 0, 0, 0, 0, 0],\n",
    "                  [0, m_1, 0, 0, 0, 0],\n",
    "                  [0, 0, m_2, 0, 0, 0],\n",
    "                  [0, 0, 0, m_2, 0, 0],\n",
    "                  [0, 0, 0, 0, m_3, 0],\n",
    "                  [0, 0, 0, 0, 0, m_3]])\n",
    "mass_xy"
   ]
  },
  {
   "cell_type": "code",
   "execution_count": 14,
   "id": "739968b2-c18f-42fb-a304-d97da7ba035f",
   "metadata": {
    "tags": []
   },
   "outputs": [
    {
     "data": {
      "text/latex": [
       "$\\displaystyle \\left[\\begin{matrix}l_{1}^{2} m_{1} + l_{1}^{2} m_{2} + l_{1}^{2} m_{3} + 2 l_{1} l_{2} m_{2} \\cos{\\left(\\theta_{2} \\right)} + 2 l_{1} l_{2} m_{3} \\cos{\\left(\\theta_{2} \\right)} + 2 l_{1} l_{3} m_{3} \\cos{\\left(\\theta_{2} + \\theta_{3} \\right)} + l_{2}^{2} m_{2} + l_{2}^{2} m_{3} + 2 l_{2} l_{3} m_{3} \\cos{\\left(\\theta_{3} \\right)} + l_{3}^{2} m_{3} & l_{1} l_{2} m_{2} \\cos{\\left(\\theta_{2} \\right)} + l_{1} l_{2} m_{3} \\cos{\\left(\\theta_{2} \\right)} + l_{1} l_{3} m_{3} \\cos{\\left(\\theta_{2} + \\theta_{3} \\right)} + l_{2}^{2} m_{2} + l_{2}^{2} m_{3} + 2 l_{2} l_{3} m_{3} \\cos{\\left(\\theta_{3} \\right)} + l_{3}^{2} m_{3} & l_{3} m_{3} \\left(l_{1} \\cos{\\left(\\theta_{2} + \\theta_{3} \\right)} + l_{2} \\cos{\\left(\\theta_{3} \\right)} + l_{3}\\right)\\\\l_{1} l_{2} m_{2} \\cos{\\left(\\theta_{2} \\right)} + l_{1} l_{2} m_{3} \\cos{\\left(\\theta_{2} \\right)} + l_{1} l_{3} m_{3} \\cos{\\left(\\theta_{2} + \\theta_{3} \\right)} + l_{2}^{2} m_{2} + l_{2}^{2} m_{3} + 2 l_{2} l_{3} m_{3} \\cos{\\left(\\theta_{3} \\right)} + l_{3}^{2} m_{3} & l_{2}^{2} m_{2} + l_{2}^{2} m_{3} + 2 l_{2} l_{3} m_{3} \\cos{\\left(\\theta_{3} \\right)} + l_{3}^{2} m_{3} & l_{3} m_{3} \\left(l_{2} \\cos{\\left(\\theta_{3} \\right)} + l_{3}\\right)\\\\l_{3} m_{3} \\left(l_{1} \\cos{\\left(\\theta_{2} + \\theta_{3} \\right)} + l_{2} \\cos{\\left(\\theta_{3} \\right)} + l_{3}\\right) & l_{3} m_{3} \\left(l_{2} \\cos{\\left(\\theta_{3} \\right)} + l_{3}\\right) & l_{3}^{2} m_{3}\\end{matrix}\\right]$"
      ],
      "text/plain": [
       "Matrix([\n",
       "[l_1**2*m_1 + l_1**2*m_2 + l_1**2*m_3 + 2*l_1*l_2*m_2*cos(theta_2) + 2*l_1*l_2*m_3*cos(theta_2) + 2*l_1*l_3*m_3*cos(theta_2 + theta_3) + l_2**2*m_2 + l_2**2*m_3 + 2*l_2*l_3*m_3*cos(theta_3) + l_3**2*m_3, l_1*l_2*m_2*cos(theta_2) + l_1*l_2*m_3*cos(theta_2) + l_1*l_3*m_3*cos(theta_2 + theta_3) + l_2**2*m_2 + l_2**2*m_3 + 2*l_2*l_3*m_3*cos(theta_3) + l_3**2*m_3, l_3*m_3*(l_1*cos(theta_2 + theta_3) + l_2*cos(theta_3) + l_3)],\n",
       "[                                             l_1*l_2*m_2*cos(theta_2) + l_1*l_2*m_3*cos(theta_2) + l_1*l_3*m_3*cos(theta_2 + theta_3) + l_2**2*m_2 + l_2**2*m_3 + 2*l_2*l_3*m_3*cos(theta_3) + l_3**2*m_3,                                                                                            l_2**2*m_2 + l_2**2*m_3 + 2*l_2*l_3*m_3*cos(theta_3) + l_3**2*m_3,                              l_3*m_3*(l_2*cos(theta_3) + l_3)],\n",
       "[                                                                                                                                            l_3*m_3*(l_1*cos(theta_2 + theta_3) + l_2*cos(theta_3) + l_3),                                                                                                                             l_3*m_3*(l_2*cos(theta_3) + l_3),                                                    l_3**2*m_3]])"
      ]
     },
     "execution_count": 14,
     "metadata": {},
     "output_type": "execute_result"
    }
   ],
   "source": [
    "mass_matrix = simplify(J.T * mass_xy * J)\n",
    "mass_matrix"
   ]
  },
  {
   "cell_type": "markdown",
   "id": "4073cda0-7dd3-41fd-8be9-d20f19a3a13a",
   "metadata": {},
   "source": [
    "## Question 2.5"
   ]
  },
  {
   "cell_type": "code",
   "execution_count": 15,
   "id": "d6dea7c6-170f-49b9-84d1-9495d1a95cd8",
   "metadata": {
    "tags": []
   },
   "outputs": [
    {
     "data": {
      "text/latex": [
       "$\\displaystyle \\left[\\begin{matrix}l_{1}^{2} m_{1} + l_{1}^{2} m_{2} + l_{1}^{2} m_{3} + 2 l_{1} l_{2} m_{2} + 2 l_{1} l_{2} m_{3} + 2 l_{1} l_{3} m_{3} + l_{2}^{2} m_{2} + l_{2}^{2} m_{3} + 2 l_{2} l_{3} m_{3} + l_{3}^{2} m_{3} & l_{1} l_{2} m_{2} + l_{1} l_{2} m_{3} + l_{1} l_{3} m_{3} + l_{2}^{2} m_{2} + l_{2}^{2} m_{3} + 2 l_{2} l_{3} m_{3} + l_{3}^{2} m_{3} & l_{3} m_{3} \\left(l_{1} + l_{2} + l_{3}\\right)\\\\l_{1} l_{2} m_{2} + l_{1} l_{2} m_{3} + l_{1} l_{3} m_{3} + l_{2}^{2} m_{2} + l_{2}^{2} m_{3} + 2 l_{2} l_{3} m_{3} + l_{3}^{2} m_{3} & l_{2}^{2} m_{2} + l_{2}^{2} m_{3} + 2 l_{2} l_{3} m_{3} + l_{3}^{2} m_{3} & l_{3} m_{3} \\left(l_{2} + l_{3}\\right)\\\\l_{3} m_{3} \\left(l_{1} + l_{2} + l_{3}\\right) & l_{3} m_{3} \\left(l_{2} + l_{3}\\right) & l_{3}^{2} m_{3}\\end{matrix}\\right]$"
      ],
      "text/plain": [
       "Matrix([\n",
       "[l_1**2*m_1 + l_1**2*m_2 + l_1**2*m_3 + 2*l_1*l_2*m_2 + 2*l_1*l_2*m_3 + 2*l_1*l_3*m_3 + l_2**2*m_2 + l_2**2*m_3 + 2*l_2*l_3*m_3 + l_3**2*m_3, l_1*l_2*m_2 + l_1*l_2*m_3 + l_1*l_3*m_3 + l_2**2*m_2 + l_2**2*m_3 + 2*l_2*l_3*m_3 + l_3**2*m_3, l_3*m_3*(l_1 + l_2 + l_3)],\n",
       "[                                             l_1*l_2*m_2 + l_1*l_2*m_3 + l_1*l_3*m_3 + l_2**2*m_2 + l_2**2*m_3 + 2*l_2*l_3*m_3 + l_3**2*m_3,                                           l_2**2*m_2 + l_2**2*m_3 + 2*l_2*l_3*m_3 + l_3**2*m_3,       l_3*m_3*(l_2 + l_3)],\n",
       "[                                                                                                                  l_3*m_3*(l_1 + l_2 + l_3),                                                                            l_3*m_3*(l_2 + l_3),                l_3**2*m_3]])"
      ]
     },
     "execution_count": 15,
     "metadata": {},
     "output_type": "execute_result"
    }
   ],
   "source": [
    "simplify(mass_matrix.subs([(theta_1,np.pi/2), (theta_2,0), (theta_3,0)]))"
   ]
  },
  {
   "cell_type": "markdown",
   "id": "80224fb8-b0b0-4c67-97dd-99d5af2c1811",
   "metadata": {},
   "source": [
    "## Question 2.6"
   ]
  },
  {
   "cell_type": "code",
   "execution_count": 16,
   "id": "4c3b6f82-9df6-4952-9950-18f153d0f6e1",
   "metadata": {
    "tags": []
   },
   "outputs": [],
   "source": [
    "(g) = symbols(\"\"\"g\"\"\" , real = True)"
   ]
  },
  {
   "cell_type": "code",
   "execution_count": 17,
   "id": "71c9b471-c384-40c5-a551-0d63fdf46c7c",
   "metadata": {
    "tags": []
   },
   "outputs": [
    {
     "data": {
      "text/latex": [
       "$\\displaystyle \\left[\\begin{matrix}- g l_{1} m_{1} \\cos{\\left(\\theta_{1} \\right)}\\\\0\\\\0\\end{matrix}\\right]$"
      ],
      "text/plain": [
       "Matrix([\n",
       "[-g*l_1*m_1*cos(theta_1)],\n",
       "[                      0],\n",
       "[                      0]])"
      ]
     },
     "execution_count": 17,
     "metadata": {},
     "output_type": "execute_result"
    }
   ],
   "source": [
    "G_1 = J1.T * Matrix([[0], [-m_1 * g]])\n",
    "G_1"
   ]
  },
  {
   "cell_type": "code",
   "execution_count": 18,
   "id": "68dc1a24-ae1f-4b30-9694-a6b430d249fc",
   "metadata": {
    "tags": []
   },
   "outputs": [
    {
     "data": {
      "text/latex": [
       "$\\displaystyle \\left[\\begin{matrix}- g m_{2} \\left(l_{1} \\cos{\\left(\\theta_{1} \\right)} + l_{2} \\cos{\\left(\\theta_{1} + \\theta_{2} \\right)}\\right)\\\\- g l_{2} m_{2} \\cos{\\left(\\theta_{1} + \\theta_{2} \\right)}\\\\0\\end{matrix}\\right]$"
      ],
      "text/plain": [
       "Matrix([\n",
       "[-g*m_2*(l_1*cos(theta_1) + l_2*cos(theta_1 + theta_2))],\n",
       "[                     -g*l_2*m_2*cos(theta_1 + theta_2)],\n",
       "[                                                     0]])"
      ]
     },
     "execution_count": 18,
     "metadata": {},
     "output_type": "execute_result"
    }
   ],
   "source": [
    "G_2 = J2.T * Matrix([[0], [-m_2 * g]])\n",
    "G_2"
   ]
  },
  {
   "cell_type": "code",
   "execution_count": 19,
   "id": "599c5d63-a930-4aaf-b484-3c1812a7c626",
   "metadata": {
    "tags": []
   },
   "outputs": [
    {
     "data": {
      "text/latex": [
       "$\\displaystyle \\left[\\begin{matrix}- g m_{3} \\left(l_{1} \\cos{\\left(\\theta_{1} \\right)} + l_{2} \\cos{\\left(\\theta_{1} + \\theta_{2} \\right)} + l_{3} \\cos{\\left(\\theta_{1} + \\theta_{2} + \\theta_{3} \\right)}\\right)\\\\- g m_{3} \\left(l_{2} \\cos{\\left(\\theta_{1} + \\theta_{2} \\right)} + l_{3} \\cos{\\left(\\theta_{1} + \\theta_{2} + \\theta_{3} \\right)}\\right)\\\\- g l_{3} m_{3} \\cos{\\left(\\theta_{1} + \\theta_{2} + \\theta_{3} \\right)}\\end{matrix}\\right]$"
      ],
      "text/plain": [
       "Matrix([\n",
       "[-g*m_3*(l_1*cos(theta_1) + l_2*cos(theta_1 + theta_2) + l_3*cos(theta_1 + theta_2 + theta_3))],\n",
       "[                   -g*m_3*(l_2*cos(theta_1 + theta_2) + l_3*cos(theta_1 + theta_2 + theta_3))],\n",
       "[                                                  -g*l_3*m_3*cos(theta_1 + theta_2 + theta_3)]])"
      ]
     },
     "execution_count": 19,
     "metadata": {},
     "output_type": "execute_result"
    }
   ],
   "source": [
    "G_3 = J3.T * Matrix([[0], [-m_3 * g]])\n",
    "G_3"
   ]
  },
  {
   "cell_type": "code",
   "execution_count": 20,
   "id": "7a501e4a-c6bb-485d-9461-19463ab0a72a",
   "metadata": {
    "tags": []
   },
   "outputs": [
    {
     "data": {
      "text/latex": [
       "$\\displaystyle \\left[\\begin{matrix}- g \\left(l_{1} m_{1} \\cos{\\left(\\theta_{1} \\right)} + l_{1} m_{2} \\cos{\\left(\\theta_{1} \\right)} + l_{1} m_{3} \\cos{\\left(\\theta_{1} \\right)} + l_{2} m_{2} \\cos{\\left(\\theta_{1} + \\theta_{2} \\right)} + l_{2} m_{3} \\cos{\\left(\\theta_{1} + \\theta_{2} \\right)} + l_{3} m_{3} \\cos{\\left(\\theta_{1} + \\theta_{2} + \\theta_{3} \\right)}\\right)\\\\- g \\left(l_{2} m_{2} \\cos{\\left(\\theta_{1} + \\theta_{2} \\right)} + l_{2} m_{3} \\cos{\\left(\\theta_{1} + \\theta_{2} \\right)} + l_{3} m_{3} \\cos{\\left(\\theta_{1} + \\theta_{2} + \\theta_{3} \\right)}\\right)\\\\- g l_{3} m_{3} \\cos{\\left(\\theta_{1} + \\theta_{2} + \\theta_{3} \\right)}\\end{matrix}\\right]$"
      ],
      "text/plain": [
       "Matrix([\n",
       "[-g*(l_1*m_1*cos(theta_1) + l_1*m_2*cos(theta_1) + l_1*m_3*cos(theta_1) + l_2*m_2*cos(theta_1 + theta_2) + l_2*m_3*cos(theta_1 + theta_2) + l_3*m_3*cos(theta_1 + theta_2 + theta_3))],\n",
       "[                                                                     -g*(l_2*m_2*cos(theta_1 + theta_2) + l_2*m_3*cos(theta_1 + theta_2) + l_3*m_3*cos(theta_1 + theta_2 + theta_3))],\n",
       "[                                                                                                                                         -g*l_3*m_3*cos(theta_1 + theta_2 + theta_3)]])"
      ]
     },
     "execution_count": 20,
     "metadata": {},
     "output_type": "execute_result"
    }
   ],
   "source": [
    "G = simplify(G_1 + G_2 + G_3)\n",
    "G"
   ]
  },
  {
   "cell_type": "markdown",
   "id": "f7fa8d34-3c9e-4a08-909c-9a4140396520",
   "metadata": {},
   "source": [
    "## Question 2.7"
   ]
  },
  {
   "cell_type": "code",
   "execution_count": 21,
   "id": "a5a39516-4ff9-463b-8ebc-8fe0aa406330",
   "metadata": {
    "tags": []
   },
   "outputs": [
    {
     "data": {
      "text/latex": [
       "$\\displaystyle \\left[\\begin{matrix}- 6.12323399573677 \\cdot 10^{-17} g \\left(l_{1} m_{1} + l_{1} m_{2} + l_{1} m_{3} + l_{2} m_{2} + l_{2} m_{3} + l_{3} m_{3}\\right)\\\\- 6.12323399573677 \\cdot 10^{-17} g \\left(l_{2} m_{2} + l_{2} m_{3} + l_{3} m_{3}\\right)\\\\- 6.12323399573677 \\cdot 10^{-17} g l_{3} m_{3}\\end{matrix}\\right]$"
      ],
      "text/plain": [
       "Matrix([\n",
       "[-6.12323399573677e-17*g*(l_1*m_1 + l_1*m_2 + l_1*m_3 + l_2*m_2 + l_2*m_3 + l_3*m_3)],\n",
       "[                              -6.12323399573677e-17*g*(l_2*m_2 + l_2*m_3 + l_3*m_3)],\n",
       "[                                                    -6.12323399573677e-17*g*l_3*m_3]])"
      ]
     },
     "execution_count": 21,
     "metadata": {},
     "output_type": "execute_result"
    }
   ],
   "source": [
    "simplify(G.subs([(theta_1,np.pi/2), (theta_2,0), (theta_3,0)]))"
   ]
  },
  {
   "cell_type": "markdown",
   "id": "8ad2bafa-dd76-4e29-b2a8-d389573dc7f4",
   "metadata": {},
   "source": [
    "The calculated torques have some rounding error. The torques from gravity in the standing position are zero."
   ]
  }
 ],
 "metadata": {
  "kernelspec": {
   "display_name": "Python 3 (ipykernel)",
   "language": "python",
   "name": "python3"
  },
  "language_info": {
   "codemirror_mode": {
    "name": "ipython",
    "version": 3
   },
   "file_extension": ".py",
   "mimetype": "text/x-python",
   "name": "python",
   "nbconvert_exporter": "python",
   "pygments_lexer": "ipython3",
   "version": "3.11.5"
  }
 },
 "nbformat": 4,
 "nbformat_minor": 5
}
