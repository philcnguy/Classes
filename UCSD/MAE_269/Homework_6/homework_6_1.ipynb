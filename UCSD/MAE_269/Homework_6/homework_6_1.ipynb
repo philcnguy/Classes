{
 "cells": [
  {
   "cell_type": "markdown",
   "id": "b7481ea0-9561-48fa-a221-243740812354",
   "metadata": {},
   "source": [
    "# Question 1"
   ]
  },
  {
   "cell_type": "markdown",
   "id": "e565de2d-e693-46ec-acfc-071233cf9795",
   "metadata": {},
   "source": [
    "## Question 1.1"
   ]
  },
  {
   "cell_type": "code",
   "execution_count": 1,
   "id": "9eca6086-dadd-42aa-aa86-dac9683e8c89",
   "metadata": {
    "tags": []
   },
   "outputs": [],
   "source": [
    "# symbolic computation tools\n",
    "import sympy as sp\n",
    "from sympy import symbols, pprint\n",
    "from sympy import sin, cos, asin, acos, pi\n",
    "from sympy import Matrix, simplify, Function, diff, Derivative, nsimplify\n",
    "\n",
    "from matplotlib.lines import Line2D\n",
    "\n",
    "import numpy as np\n",
    "\n",
    "# from IPython import display # for the animation\n",
    "import matplotlib as mpl\n",
    "mpl.use('Qt5Agg')\n",
    "\n",
    "import matplotlib.pyplot as plt\n",
    "#plt.ion()\n",
    "\n",
    "\n",
    "# styling for plots\n",
    "mpl.rcParams['axes.titlesize'] = 24\n",
    "mpl.rcParams['axes.labelsize'] = 20\n",
    "mpl.rcParams['lines.linewidth'] = 3\n",
    "mpl.rcParams['lines.markersize'] = 10\n",
    "mpl.rcParams['xtick.labelsize'] = 16\n",
    "mpl.rcParams['ytick.labelsize'] = 16"
   ]
  },
  {
   "cell_type": "code",
   "execution_count": 2,
   "id": "b0336092-f2a4-43d5-af32-f7deba13443c",
   "metadata": {
    "tags": []
   },
   "outputs": [],
   "source": [
    "# We wrap in parentheses here so we can write it on multiple lines. Similar\n",
    "# with the triple quotes on the string. Usually we don't need to use these things.\n",
    "(t, \n",
    " theta_1, \n",
    " theta_2, \n",
    " theta_3, \n",
    " l_1, \n",
    " l_2, \n",
    " l_3, \n",
    " s) = symbols(\"\"\"t, \n",
    "                 theta_1 \n",
    "                 theta_2 \n",
    "                 theta_3 \n",
    "                 l_1 \n",
    "                 l_2 \n",
    "                 l_3\n",
    "                 s\"\"\" , real = True)\n",
    "\n",
    "\n",
    "theta_1 = Function('theta_1', real=True)(t)\n",
    "theta_2 = Function('theta_2', real=True)(t)\n",
    "theta_3 = Function('theta_3', real=True)(t)"
   ]
  },
  {
   "cell_type": "code",
   "execution_count": 3,
   "id": "b7f0d5a0-f36a-41ad-8227-f16de421cbb7",
   "metadata": {
    "tags": []
   },
   "outputs": [],
   "source": [
    "def T(theta, x, y):\n",
    "    \"\"\"\n",
    "    Function to return an arbitrary transformation matrix \n",
    "    This is for sympy symbolic calculation\n",
    "    \"\"\"\n",
    "    return Matrix([[cos(theta), -sin(theta), x], \n",
    "                   [sin(theta), cos(theta), y],\n",
    "                   [0, 0, 1]])\n",
    "\n",
    "def sym_to_np(T):\n",
    "    return np.array(T).astype(np.float64)"
   ]
  },
  {
   "cell_type": "code",
   "execution_count": 4,
   "id": "5e2ce012-11d9-4069-8a22-c0d726af0793",
   "metadata": {
    "tags": []
   },
   "outputs": [],
   "source": [
    "def draw_robot(ordered_list_of_transformations):\n",
    "    \"\"\"\n",
    "    Draw the configuration of the three-link jumper.\n",
    "    \"\"\"\n",
    "    ax_lw = 3\n",
    "    link_lw = 1\n",
    "\n",
    "    # homogeneous unit vectors \n",
    "    x = np.array([[1, 0, 1]]).T \n",
    "    y = np.array([[0, 1, 1]]).T\n",
    "    origin = np.array([[0, 0, 1]]).T\n",
    "\n",
    "    prev_origin = np.array([[0, 0, 1]]).T    \n",
    "    current_transformation = np.eye(3)\n",
    "\n",
    "    plt.clf()\n",
    "    ax = plt.gca()  # get current axis\n",
    "\n",
    "    # now we plot\n",
    "    plt.plot([prev_origin[0][0]], [prev_origin[1][0]], '-ko',linewidth=link_lw)\n",
    "    plt.plot([prev_origin[0][0], x[0][0]], [prev_origin[1][0], x[1][0]], '-ro', linewidth=ax_lw)\n",
    "    plt.plot([prev_origin[0][0], y[0][0]], [prev_origin[1][0], y[1][0]], '-go', linewidth=ax_lw)\n",
    "\n",
    "\n",
    "    # loop the transforms in order of T_01, T_12, ... , T_N-1N\n",
    "    for k, transform in enumerate(ordered_list_of_transformations):\n",
    "\n",
    "        # update the transformation\n",
    "        current_transformation = current_transformation @ transform\n",
    "        new_origin = current_transformation @ origin\n",
    "        new_x = current_transformation @ x\n",
    "        new_y = current_transformation @ y\n",
    "\n",
    "        # now we plot\n",
    "        plt.plot([prev_origin[0][0], new_origin[0][0]], \n",
    "                 [prev_origin[1][0], new_origin[1][0]], \n",
    "                 '-ko',linewidth=link_lw)\n",
    "        \n",
    "        plt.plot([new_origin[0][0], new_x[0][0]], [new_origin[1][0], new_x[1][0]], '-r', linewidth=ax_lw)\n",
    "        plt.plot([new_origin[0][0], new_y[0][0]], [new_origin[1][0], new_y[1][0]], '-g', linewidth=ax_lw)\n",
    "\n",
    "\n",
    "#         ax.annotate('{'+str(k+1)+'}', xy=new_origin[0:2][0], xytext=new_origin[0:2][0])\n",
    "\n",
    "        # lastly update the current_origin to the new_origin\n",
    "        prev_origin = new_origin\n",
    "\n",
    "    # lastly set the axes to be equal and appropriate\n",
    "    ax.set_aspect('equal')\n",
    "    ax.set_xlabel('x')\n",
    "    ax.set_ylabel('y')    "
   ]
  },
  {
   "cell_type": "code",
   "execution_count": 5,
   "id": "22001864-20f0-4d07-9cd6-748e5c5b27bb",
   "metadata": {
    "tags": []
   },
   "outputs": [],
   "source": [
    "T_01 = T(theta_1, 0, 0)\n",
    "T_12 = T(theta_2, l_1, 0)\n",
    "T_23 = T(theta_3, l_2, 0)\n"
   ]
  },
  {
   "cell_type": "code",
   "execution_count": 6,
   "id": "68bfe717-4737-4f88-8789-4e4f1ac2d459",
   "metadata": {
    "tags": []
   },
   "outputs": [],
   "source": [
    "theta1 = 0 * np.pi/180 \n",
    "theta2 = 0 * np.pi/180\n",
    "theta3 = 0 * np.pi/180\n",
    "link1 = 1\n",
    "link2 = 1\n",
    "link3 = 1\n",
    "\n",
    "# T_01_real = T_np(theta0, 0, 0)\n",
    "# T_12_real = T_np(theta1, link1, 0)\n",
    "# T_23_real = T_np(theta2, link2, 0)\n",
    "# T_34_real = T_np(0, link3, 0)\n",
    "\n",
    "# # 'subs' substitutes in the numeric value for the variable, evalf evaluates the expression \n",
    "T_01_real = sym_to_np(T_01.subs([(theta_1, theta1)]))\n",
    "T_12_real = sym_to_np(T_12.subs([(theta_2, theta2), (l_1, link1)]))\n",
    "T_23_real = sym_to_np(T_23.subs([(theta_3, theta3), (l_2, link2)]))\n",
    "T_34_real = sym_to_np(T(0, link3, 0))\n",
    "\n",
    "plt.figure(figsize = (8,8))\n",
    "draw_robot([T_01_real, T_12_real, T_23_real, T_34_real])\n",
    "\n",
    "# sc = 25\n",
    "# plt.axis([-sc,sc, -sc, sc])\n"
   ]
  },
  {
   "cell_type": "code",
   "execution_count": 7,
   "id": "ae7266d3-3bf8-42bc-9790-2d4ddd5b0b98",
   "metadata": {
    "tags": []
   },
   "outputs": [
    {
     "data": {
      "text/latex": [
       "$\\displaystyle \\left[\\begin{matrix}s \\cos{\\left(\\theta_{1}{\\left(t \\right)} \\right)}\\\\s \\sin{\\left(\\theta_{1}{\\left(t \\right)} \\right)}\\end{matrix}\\right]$"
      ],
      "text/plain": [
       "Matrix([\n",
       "[s*cos(theta_1(t))],\n",
       "[s*sin(theta_1(t))]])"
      ]
     },
     "execution_count": 7,
     "metadata": {},
     "output_type": "execute_result"
    }
   ],
   "source": [
    "FK1 = (T_01 * Matrix([[s], [0], [1]]))[:-1,0]\n",
    "FK1"
   ]
  },
  {
   "cell_type": "code",
   "execution_count": 8,
   "id": "eb8953fe-d17e-4418-ac8f-18b6dd1f580e",
   "metadata": {
    "tags": []
   },
   "outputs": [
    {
     "data": {
      "text/latex": [
       "$\\displaystyle \\left[\\begin{matrix}l_{1} \\cos{\\left(\\theta_{1}{\\left(t \\right)} \\right)} + s \\cos{\\left(\\theta_{1}{\\left(t \\right)} + \\theta_{2}{\\left(t \\right)} \\right)}\\\\l_{1} \\sin{\\left(\\theta_{1}{\\left(t \\right)} \\right)} + s \\sin{\\left(\\theta_{1}{\\left(t \\right)} + \\theta_{2}{\\left(t \\right)} \\right)}\\end{matrix}\\right]$"
      ],
      "text/plain": [
       "Matrix([\n",
       "[l_1*cos(theta_1(t)) + s*cos(theta_1(t) + theta_2(t))],\n",
       "[l_1*sin(theta_1(t)) + s*sin(theta_1(t) + theta_2(t))]])"
      ]
     },
     "execution_count": 8,
     "metadata": {},
     "output_type": "execute_result"
    }
   ],
   "source": [
    "FK2 = simplify((T_01 * T_12 * Matrix([[s], [0], [1]]))[:-1,0])\n",
    "FK2"
   ]
  },
  {
   "cell_type": "code",
   "execution_count": 9,
   "id": "068a3ca2-3138-40d4-a0e2-6e3bbbba68df",
   "metadata": {
    "tags": []
   },
   "outputs": [
    {
     "data": {
      "text/latex": [
       "$\\displaystyle \\left[\\begin{matrix}l_{1} \\cos{\\left(\\theta_{1}{\\left(t \\right)} \\right)} + l_{2} \\cos{\\left(\\theta_{1}{\\left(t \\right)} + \\theta_{2}{\\left(t \\right)} \\right)} + s \\cos{\\left(\\theta_{1}{\\left(t \\right)} + \\theta_{2}{\\left(t \\right)} + \\theta_{3}{\\left(t \\right)} \\right)}\\\\l_{1} \\sin{\\left(\\theta_{1}{\\left(t \\right)} \\right)} + l_{2} \\sin{\\left(\\theta_{1}{\\left(t \\right)} + \\theta_{2}{\\left(t \\right)} \\right)} + s \\sin{\\left(\\theta_{1}{\\left(t \\right)} + \\theta_{2}{\\left(t \\right)} + \\theta_{3}{\\left(t \\right)} \\right)}\\end{matrix}\\right]$"
      ],
      "text/plain": [
       "Matrix([\n",
       "[l_1*cos(theta_1(t)) + l_2*cos(theta_1(t) + theta_2(t)) + s*cos(theta_1(t) + theta_2(t) + theta_3(t))],\n",
       "[l_1*sin(theta_1(t)) + l_2*sin(theta_1(t) + theta_2(t)) + s*sin(theta_1(t) + theta_2(t) + theta_3(t))]])"
      ]
     },
     "execution_count": 9,
     "metadata": {},
     "output_type": "execute_result"
    }
   ],
   "source": [
    "FK3 = simplify((T_01 * T_12 * T_23 * Matrix([[s], [0], [1]]))[:-1,0])\n",
    "FK3"
   ]
  },
  {
   "cell_type": "code",
   "execution_count": 10,
   "id": "25fe49ef-fcc2-4fb4-a9e9-fc778bcc5dad",
   "metadata": {
    "tags": []
   },
   "outputs": [
    {
     "data": {
      "text/latex": [
       "$\\displaystyle \\left[\\begin{matrix}- s \\sin{\\left(\\theta_{1}{\\left(t \\right)} \\right)} & 0 & 0\\\\s \\cos{\\left(\\theta_{1}{\\left(t \\right)} \\right)} & 0 & 0\\end{matrix}\\right]$"
      ],
      "text/plain": [
       "Matrix([\n",
       "[-s*sin(theta_1(t)), 0, 0],\n",
       "[ s*cos(theta_1(t)), 0, 0]])"
      ]
     },
     "execution_count": 10,
     "metadata": {},
     "output_type": "execute_result"
    }
   ],
   "source": [
    "J1 = FK1.jacobian([theta_1, theta_2, theta_3])\n",
    "J1"
   ]
  },
  {
   "cell_type": "code",
   "execution_count": 11,
   "id": "cedd5bbe-b4b6-47ba-b0f3-0c14f8b2d370",
   "metadata": {
    "tags": []
   },
   "outputs": [
    {
     "data": {
      "text/latex": [
       "$\\displaystyle \\left[\\begin{matrix}- l_{1} \\sin{\\left(\\theta_{1}{\\left(t \\right)} \\right)} - s \\sin{\\left(\\theta_{1}{\\left(t \\right)} + \\theta_{2}{\\left(t \\right)} \\right)} & - s \\sin{\\left(\\theta_{1}{\\left(t \\right)} + \\theta_{2}{\\left(t \\right)} \\right)} & 0\\\\l_{1} \\cos{\\left(\\theta_{1}{\\left(t \\right)} \\right)} + s \\cos{\\left(\\theta_{1}{\\left(t \\right)} + \\theta_{2}{\\left(t \\right)} \\right)} & s \\cos{\\left(\\theta_{1}{\\left(t \\right)} + \\theta_{2}{\\left(t \\right)} \\right)} & 0\\end{matrix}\\right]$"
      ],
      "text/plain": [
       "Matrix([\n",
       "[-l_1*sin(theta_1(t)) - s*sin(theta_1(t) + theta_2(t)), -s*sin(theta_1(t) + theta_2(t)), 0],\n",
       "[ l_1*cos(theta_1(t)) + s*cos(theta_1(t) + theta_2(t)),  s*cos(theta_1(t) + theta_2(t)), 0]])"
      ]
     },
     "execution_count": 11,
     "metadata": {},
     "output_type": "execute_result"
    }
   ],
   "source": [
    "J2 = simplify(FK2.jacobian([theta_1, theta_2, theta_3]))\n",
    "J2"
   ]
  },
  {
   "cell_type": "code",
   "execution_count": 12,
   "id": "cac5da22-f86d-4b47-8172-1c260cb1534c",
   "metadata": {
    "tags": []
   },
   "outputs": [
    {
     "data": {
      "text/latex": [
       "$\\displaystyle \\left[\\begin{matrix}- l_{1} \\sin{\\left(\\theta_{1}{\\left(t \\right)} \\right)} - l_{2} \\sin{\\left(\\theta_{1}{\\left(t \\right)} + \\theta_{2}{\\left(t \\right)} \\right)} - s \\sin{\\left(\\theta_{1}{\\left(t \\right)} + \\theta_{2}{\\left(t \\right)} + \\theta_{3}{\\left(t \\right)} \\right)} & - l_{2} \\sin{\\left(\\theta_{1}{\\left(t \\right)} + \\theta_{2}{\\left(t \\right)} \\right)} - s \\sin{\\left(\\theta_{1}{\\left(t \\right)} + \\theta_{2}{\\left(t \\right)} + \\theta_{3}{\\left(t \\right)} \\right)} & - s \\sin{\\left(\\theta_{1}{\\left(t \\right)} + \\theta_{2}{\\left(t \\right)} + \\theta_{3}{\\left(t \\right)} \\right)}\\\\l_{1} \\cos{\\left(\\theta_{1}{\\left(t \\right)} \\right)} + l_{2} \\cos{\\left(\\theta_{1}{\\left(t \\right)} + \\theta_{2}{\\left(t \\right)} \\right)} + s \\cos{\\left(\\theta_{1}{\\left(t \\right)} + \\theta_{2}{\\left(t \\right)} + \\theta_{3}{\\left(t \\right)} \\right)} & l_{2} \\cos{\\left(\\theta_{1}{\\left(t \\right)} + \\theta_{2}{\\left(t \\right)} \\right)} + s \\cos{\\left(\\theta_{1}{\\left(t \\right)} + \\theta_{2}{\\left(t \\right)} + \\theta_{3}{\\left(t \\right)} \\right)} & s \\cos{\\left(\\theta_{1}{\\left(t \\right)} + \\theta_{2}{\\left(t \\right)} + \\theta_{3}{\\left(t \\right)} \\right)}\\end{matrix}\\right]$"
      ],
      "text/plain": [
       "Matrix([\n",
       "[-l_1*sin(theta_1(t)) - l_2*sin(theta_1(t) + theta_2(t)) - s*sin(theta_1(t) + theta_2(t) + theta_3(t)), -l_2*sin(theta_1(t) + theta_2(t)) - s*sin(theta_1(t) + theta_2(t) + theta_3(t)), -s*sin(theta_1(t) + theta_2(t) + theta_3(t))],\n",
       "[ l_1*cos(theta_1(t)) + l_2*cos(theta_1(t) + theta_2(t)) + s*cos(theta_1(t) + theta_2(t) + theta_3(t)),  l_2*cos(theta_1(t) + theta_2(t)) + s*cos(theta_1(t) + theta_2(t) + theta_3(t)),  s*cos(theta_1(t) + theta_2(t) + theta_3(t))]])"
      ]
     },
     "execution_count": 12,
     "metadata": {},
     "output_type": "execute_result"
    }
   ],
   "source": [
    "J3 = simplify(FK3.jacobian([theta_1, theta_2, theta_3]))\n",
    "J3"
   ]
  },
  {
   "cell_type": "markdown",
   "id": "5a7c87a9-3454-409d-b27f-91f27b91af0a",
   "metadata": {},
   "source": [
    "## Question 1.2"
   ]
  },
  {
   "cell_type": "code",
   "execution_count": 13,
   "id": "77be4388-fd8a-44b0-a2bf-0c359e500198",
   "metadata": {
    "tags": []
   },
   "outputs": [],
   "source": [
    "# final joint vals to arrive at\n",
    "theta1 = 90 * np.pi/180 \n",
    "theta2 = 60 * np.pi/180\n",
    "theta3 = 30 * np.pi/180\n",
    "\n",
    "time = np.linspace(0, 4 * theta1, 50)\n",
    "\n",
    "theta1_time = np.pi / 2 * np.sin(time)\n",
    "theta2_time = - np.pi / 3 * np.sin(2 * time)\n",
    "theta3_time = - np.pi / 6 * np.sin(4 * time)\n",
    "\n",
    "dtheta1_time = np.gradient(theta1_time)\n",
    "dtheta2_time = np.gradient(theta2_time)\n",
    "dtheta3_time = np.gradient(theta3_time)\n",
    "\n",
    "fig1 = plt.figure(1,figsize = (8,8))"
   ]
  },
  {
   "cell_type": "code",
   "execution_count": 14,
   "id": "252461b6-294c-4a0b-be36-5fe72f8d0fb1",
   "metadata": {
    "tags": []
   },
   "outputs": [],
   "source": [
    "for theta1_current, theta2_current, theta3_current, v1, v2, v3 in zip(theta1_time, theta2_time, theta3_time, dtheta1_time, dtheta2_time, dtheta3_time):\n",
    "    # make t matrices\n",
    "    T_01_real = sym_to_np(T_01.subs([(theta_1, theta1_current)]))\n",
    "    T_12_real = sym_to_np(T_12.subs([(theta_2, theta2_current), (l_1, link1)]))\n",
    "    T_23_real = sym_to_np(T_23.subs([(theta_3, theta3_current), (l_2, link2)]))\n",
    "    T_34_real = sym_to_np(T(0, link3, 0))\n",
    "    \n",
    "    draw_robot([T_01_real, T_12_real, T_23_real, T_34_real])\n",
    "    \n",
    "    for ss in np.linspace(0.1, 1, 10):\n",
    "        \n",
    "        vel1 = J1.subs([(s, ss*link1), \n",
    "                       (l_1, link1), \n",
    "                       (l_2, link2), \n",
    "                       (l_3, link3), \n",
    "                       (theta_1, theta1_current),\n",
    "                       (theta_2, theta2_current),\n",
    "                       (theta_3, theta3_current)])*Matrix([[v1], [v2], [v3]])\n",
    "        pos1 = FK1.subs([(s, ss*link1), \n",
    "                       (l_1, link1), \n",
    "                       (l_2, link2), \n",
    "                       (l_3, link3), \n",
    "                       (theta_1, theta1_current),\n",
    "                       (theta_2, theta2_current),\n",
    "                       (theta_3, theta3_current)])\n",
    "\n",
    "        # print(pos1)\n",
    "        plt.quiver(float(pos1[0]), float(pos1[1]), float(vel1[0]), float(vel1[1]))\n",
    "        \n",
    "        vel2 = J2.subs([(s, ss*link2), \n",
    "                       (l_1, link1), \n",
    "                       (l_2, link2), \n",
    "                       (l_3, link3), \n",
    "                       (theta_1, theta1_current),\n",
    "                       (theta_2, theta2_current),\n",
    "                       (theta_3, theta3_current)])*Matrix([[v1], [v2], [v3]])\n",
    "        pos2 = FK2.subs([(s, ss*link2), \n",
    "                       (l_1, link1), \n",
    "                       (l_2, link2), \n",
    "                       (l_3, link3), \n",
    "                       (theta_1, theta1_current),\n",
    "                       (theta_2, theta2_current),\n",
    "                       (theta_3, theta3_current)])\n",
    "        \n",
    "        # print(pos1)\n",
    "        plt.quiver(float(pos2[0]), float(pos2[1]), float(vel2[0]), float(vel2[1]))\n",
    "        \n",
    "        vel3 = J3.subs([(s, ss*link3), \n",
    "               (l_1, link1), \n",
    "               (l_2, link2), \n",
    "               (l_3, link3), \n",
    "               (theta_1, theta1_current),\n",
    "               (theta_2, theta2_current),\n",
    "               (theta_3, theta3_current)])*Matrix([[v1], [v2], [v3]])\n",
    "        pos3 = FK3.subs([(s, ss*link3), \n",
    "                       (l_1, link1), \n",
    "                       (l_2, link2), \n",
    "                       (l_3, link3), \n",
    "                       (theta_1, theta1_current),\n",
    "                       (theta_2, theta2_current),\n",
    "                       (theta_3, theta3_current)])\n",
    "        \n",
    "        # print(pos1)\n",
    "        plt.quiver(float(pos3[0]), float(pos3[1]), float(vel3[0]), float(vel3[1]))\n",
    "    \n",
    "    sc = 25\n",
    "    plt.axis([-5, 5, -5, 5])\n",
    "    plt.draw()\n",
    "    plt.pause(0.01)"
   ]
  },
  {
   "cell_type": "markdown",
   "id": "613fedae-36bc-4ed9-8bcf-eed0a1b07ba3",
   "metadata": {
    "tags": []
   },
   "source": [
    "## Question 1.3"
   ]
  },
  {
   "cell_type": "code",
   "execution_count": 15,
   "id": "8e41223e-4c0d-45a2-a074-825488d0db46",
   "metadata": {
    "tags": []
   },
   "outputs": [],
   "source": [
    "fig2 = plt.figure(2,figsize = (8,8))\n",
    "\n",
    "for theta1_current, theta2_current, theta3_current, v1, v2, v3 in zip(theta1_time, theta2_time, theta3_time, dtheta1_time, dtheta2_time, dtheta3_time):\n",
    "    # make t matrices\n",
    "    T_01_real = sym_to_np(T_01.subs([(theta_1, theta1_current)]))\n",
    "    T_12_real = sym_to_np(T_12.subs([(theta_2, theta2_current), (l_1, link1)]))\n",
    "    T_23_real = sym_to_np(T_23.subs([(theta_3, theta3_current), (l_2, link2)]))\n",
    "    T_34_real = sym_to_np(T(0, link3, 0))\n",
    "    \n",
    "#    draw_robot([T_01_real, T_12_real, T_23_real, T_34_real])\n",
    "    \n",
    "    viscous_forces_x = 0\n",
    "    viscous_forces_y = 0\n",
    "    \n",
    "    for ss in np.linspace(0.1, 1, 10):\n",
    "        \n",
    "        vel1 = J1.subs([(s, ss*link1), \n",
    "                       (l_1, link1), \n",
    "                       (l_2, link2), \n",
    "                       (l_3, link3), \n",
    "                       (theta_1, theta1_current),\n",
    "                       (theta_2, theta2_current),\n",
    "                       (theta_3, theta3_current)])*Matrix([[v1], [v2], [v3]])\n",
    "        pos1 = FK1.subs([(s, ss*link1), \n",
    "                       (l_1, link1), \n",
    "                       (l_2, link2), \n",
    "                       (l_3, link3), \n",
    "                       (theta_1, theta1_current),\n",
    "                       (theta_2, theta2_current),\n",
    "                       (theta_3, theta3_current)])\n",
    "        \n",
    "        # print(pos1)\n",
    "        #plt.quiver(float(pos1[0]), float(pos1[1]), float(vel1[0]), float(vel1[1]))\n",
    "        \n",
    "        vel2 = J2.subs([(s, ss*link2), \n",
    "                       (l_1, link1), \n",
    "                       (l_2, link2), \n",
    "                       (l_3, link3), \n",
    "                       (theta_1, theta1_current),\n",
    "                       (theta_2, theta2_current),\n",
    "                       (theta_3, theta3_current)])*Matrix([[v1], [v2], [v3]])\n",
    "        pos2 = FK2.subs([(s, ss*link2), \n",
    "                       (l_1, link1), \n",
    "                       (l_2, link2), \n",
    "                       (l_3, link3), \n",
    "                       (theta_1, theta1_current),\n",
    "                       (theta_2, theta2_current),\n",
    "                       (theta_3, theta3_current)])\n",
    "        \n",
    "        # print(pos1)\n",
    "        #plt.quiver(float(pos2[0]), float(pos2[1]), float(vel2[0]), float(vel2[1]))\n",
    "        \n",
    "        vel3 = J3.subs([(s, ss*link3), \n",
    "               (l_1, link1), \n",
    "               (l_2, link2), \n",
    "               (l_3, link3), \n",
    "               (theta_1, theta1_current),\n",
    "               (theta_2, theta2_current),\n",
    "               (theta_3, theta3_current)])*Matrix([[v1], [v2], [v3]])\n",
    "        pos3 = FK3.subs([(s, ss*link3), \n",
    "                       (l_1, link1), \n",
    "                       (l_2, link2), \n",
    "                       (l_3, link3), \n",
    "                       (theta_1, theta1_current),\n",
    "                       (theta_2, theta2_current),\n",
    "                       (theta_3, theta3_current)])\n",
    "        \n",
    "        # print(pos1)\n",
    "        #plt.quiver(float(pos3[0]), float(pos3[1]), float(vel3[0]), float(vel3[1]))\n",
    "        \n",
    "        viscous_forces_x =  viscous_forces_x - (vel1[0] + vel2[0] + vel3[0])\n",
    "        viscous_forces_y =  viscous_forces_y - (vel1[1] + vel2[1] + vel3[1])\n",
    "        \n",
    "    plt.plot(viscous_forces_x, viscous_forces_y, 'ro')\n",
    "#    print(viscous_forces_y)\n",
    "    \n",
    "    sc = 25\n",
    "    plt.axis([-20, 20, -20, 20])\n",
    "#    plt.draw()\n",
    "    plt.pause(0.01)"
   ]
  },
  {
   "cell_type": "markdown",
   "id": "fdb33aa0-d1b2-40f1-ac0b-ccb12bef046d",
   "metadata": {},
   "source": [
    "## Question 1.4"
   ]
  },
  {
   "cell_type": "raw",
   "id": "52d7384a-5e7d-44b1-8989-4e66fbae9d6a",
   "metadata": {
    "tags": []
   },
   "source": [
    "tau = transpose(J3 when s = 1) * F, tau is 3x1 which is tau1, tau2, tau3, F is 2x1 of the x & y forces from part 3"
   ]
  },
  {
   "cell_type": "code",
   "execution_count": 16,
   "id": "25b68b45-83a4-4ac7-8c88-4417a57da6a5",
   "metadata": {},
   "outputs": [
    {
     "data": {
      "text/plain": [
       "<matplotlib.legend.Legend at 0x24dec607cd0>"
      ]
     },
     "execution_count": 16,
     "metadata": {},
     "output_type": "execute_result"
    }
   ],
   "source": [
    "fig3 = plt.figure(3,figsize = (8,8))\n",
    "\n",
    "count = 0\n",
    "\n",
    "for theta1_current, theta2_current, theta3_current, v1, v2, v3 in zip(theta1_time, theta2_time, theta3_time, dtheta1_time, dtheta2_time, dtheta3_time):\n",
    "    # make t matrices\n",
    "    T_01_real = sym_to_np(T_01.subs([(theta_1, theta1_current)]))\n",
    "    T_12_real = sym_to_np(T_12.subs([(theta_2, theta2_current), (l_1, link1)]))\n",
    "    T_23_real = sym_to_np(T_23.subs([(theta_3, theta3_current), (l_2, link2)]))\n",
    "    T_34_real = sym_to_np(T(0, link3, 0))\n",
    "    \n",
    "#    draw_robot([T_01_real, T_12_real, T_23_real, T_34_real])\n",
    "    \n",
    "    viscous_forces_x = 0\n",
    "    viscous_forces_y = 0\n",
    "    \n",
    "    for ss in np.linspace(0.1, 1, 10):\n",
    "        \n",
    "        vel1 = J1.subs([(s, ss*link1), \n",
    "                       (l_1, link1), \n",
    "                       (l_2, link2), \n",
    "                       (l_3, link3), \n",
    "                       (theta_1, theta1_current),\n",
    "                       (theta_2, theta2_current),\n",
    "                       (theta_3, theta3_current)])*Matrix([[v1], [v2], [v3]])\n",
    "        pos1 = FK1.subs([(s, ss*link1), \n",
    "                       (l_1, link1), \n",
    "                       (l_2, link2), \n",
    "                       (l_3, link3), \n",
    "                       (theta_1, theta1_current),\n",
    "                       (theta_2, theta2_current),\n",
    "                       (theta_3, theta3_current)])\n",
    "        \n",
    "        # print(pos1)\n",
    "        #plt.quiver(float(pos1[0]), float(pos1[1]), float(vel1[0]), float(vel1[1]))\n",
    "        \n",
    "        vel2 = J2.subs([(s, ss*link2), \n",
    "                       (l_1, link1), \n",
    "                       (l_2, link2), \n",
    "                       (l_3, link3), \n",
    "                       (theta_1, theta1_current),\n",
    "                       (theta_2, theta2_current),\n",
    "                       (theta_3, theta3_current)])*Matrix([[v1], [v2], [v3]])\n",
    "        pos2 = FK2.subs([(s, ss*link2), \n",
    "                       (l_1, link1), \n",
    "                       (l_2, link2), \n",
    "                       (l_3, link3), \n",
    "                       (theta_1, theta1_current),\n",
    "                       (theta_2, theta2_current),\n",
    "                       (theta_3, theta3_current)])\n",
    "        \n",
    "        # print(pos1)\n",
    "        #plt.quiver(float(pos2[0]), float(pos2[1]), float(vel2[0]), float(vel2[1]))\n",
    "        \n",
    "        vel3 = J3.subs([(s, ss*link3), \n",
    "               (l_1, link1), \n",
    "               (l_2, link2), \n",
    "               (l_3, link3), \n",
    "               (theta_1, theta1_current),\n",
    "               (theta_2, theta2_current),\n",
    "               (theta_3, theta3_current)])*Matrix([[v1], [v2], [v3]])\n",
    "        pos3 = FK3.subs([(s, ss*link3), \n",
    "                       (l_1, link1), \n",
    "                       (l_2, link2), \n",
    "                       (l_3, link3), \n",
    "                       (theta_1, theta1_current),\n",
    "                       (theta_2, theta2_current),\n",
    "                       (theta_3, theta3_current)])\n",
    "        \n",
    "        # print(pos1)\n",
    "        #plt.quiver(float(pos3[0]), float(pos3[1]), float(vel3[0]), float(vel3[1]))\n",
    "        \n",
    "        viscous_forces_x =  viscous_forces_x - (vel1[0] + vel2[0] + vel3[0])\n",
    "        viscous_forces_y =  viscous_forces_y - (vel1[1] + vel2[1] + vel3[1])\n",
    "        \n",
    "    torques = J3.T.subs([(s, 1), \n",
    "                       (l_1, link1), \n",
    "                       (l_2, link2), \n",
    "                       (l_3, link3), \n",
    "                       (theta_1, theta1_current),\n",
    "                       (theta_2, theta2_current),\n",
    "                       (theta_3, theta3_current)]) @ Matrix([viscous_forces_x, viscous_forces_y])\n",
    "    \n",
    "#    print(torques)\n",
    "    \n",
    "#    print(time[count])\n",
    "    plt.plot(time[count], torques[0], 'ro')\n",
    "    plt.plot(time[count], torques[1], 'bo')\n",
    "    plt.plot(time[count], torques[2], 'go')\n",
    "        \n",
    "#    plt.plot(viscous_forces_x, viscous_forces_y, 'ro')\n",
    "#    print(viscous_forces_y)\n",
    "    \n",
    "    sc = 25\n",
    "    plt.axis([0, 4 * theta1, -50, 50])\n",
    "#    plt.draw()\n",
    "    plt.pause(0.01)\n",
    "    \n",
    "    count += 1\n",
    "    \n",
    "legend_elements = [Line2D([0], [0], marker='o', color='w', label='tau1',\n",
    "                          markerfacecolor='r', markersize=15),\n",
    "                   Line2D([0], [0], marker='o', color='w', label='tau2',\n",
    "                          markerfacecolor='b', markersize=15),\n",
    "                   Line2D([0], [0], marker='o', color='w', label='tau3',\n",
    "                          markerfacecolor='g', markersize=15)]\n",
    "\n",
    "    \n",
    "fig3.legend(handles = legend_elements, loc=\"lower right\")"
   ]
  },
  {
   "cell_type": "markdown",
   "id": "7b09b5c5-2cbe-4a15-baf8-dcf8dbe02381",
   "metadata": {},
   "source": [
    "## Question 1.5"
   ]
  },
  {
   "cell_type": "code",
   "execution_count": 17,
   "id": "5615f554-76d9-409a-8c3c-57024f6ab3b7",
   "metadata": {
    "tags": []
   },
   "outputs": [],
   "source": [
    "fig4 = plt.figure(4,figsize = (8,8))\n",
    "fig5 = plt.figure(5,figsize = (8,8))\n",
    "plt.title(\"Viscous Force vs. Time\")\n",
    "fig6 = plt.figure(5,figsize = (8,8))\n",
    "plt.title(\"Net Force vs. Time\")\n",
    "\n",
    "count = 0\n",
    "\n",
    "net_viscous_forces_x = 0\n",
    "net_viscous_forces_y = 0\n",
    "\n",
    "for theta1_current, theta2_current, theta3_current, v1, v2, v3 in zip(theta1_time, theta2_time, theta3_time, dtheta1_time, dtheta2_time, dtheta3_time):\n",
    "    # make t matrices\n",
    "    T_01_real = sym_to_np(T_01.subs([(theta_1, theta1_current)]))\n",
    "    T_12_real = sym_to_np(T(0, link1, 0))\n",
    "#    T_12_real = sym_to_np(T_12.subs([(theta_2, theta2_current), (l_1, link1)]))\n",
    "#    T_23_real = sym_to_np(T_23.subs([(theta_3, theta3_current), (l_2, link2)]))\n",
    "#    T_34_real = sym_to_np(T(0, link3, 0))\n",
    "    \n",
    "    draw_robot([T_01_real])\n",
    "    \n",
    "    viscous_forces_x = 0\n",
    "    viscous_forces_y = 0\n",
    "    \n",
    "    for ss in np.linspace(0.1, 1, 10):\n",
    "        \n",
    "        vel1 = J1.subs([(s, ss*link1), \n",
    "                       (l_1, link1), \n",
    "                       (l_2, 0), \n",
    "                       (l_3, 0), \n",
    "                       (theta_1, theta1_current),\n",
    "                       (theta_2, 0),\n",
    "                       (theta_3, 0)])*Matrix([[v1], [0], [0]])\n",
    "        pos1 = FK1.subs([(s, ss*link1), \n",
    "                       (l_1, link1), \n",
    "                       (l_2, 0), \n",
    "                       (l_3, 0), \n",
    "                       (theta_1, theta1_current),\n",
    "                       (theta_2, 0),\n",
    "                       (theta_3, 0)])\n",
    "\n",
    "        # print(pos1)\n",
    "        plt.figure(4)\n",
    "        plt.quiver(float(pos1[0]), float(pos1[1]), float(vel1[0]), float(vel1[1]))\n",
    "\n",
    "        viscous_forces_x =  viscous_forces_x - vel1[0]\n",
    "        viscous_forces_y =  viscous_forces_y - vel1[1]\n",
    "        net_viscous_forces_x =  net_viscous_forces_x - vel1[0]\n",
    "        net_viscous_forces_y =  net_viscous_forces_y - vel1[1]\n",
    "#        print(net_viscous_forces_x)\n",
    "#        print(net_viscous_forces_y)\n",
    "        \n",
    "    plt.figure(5)\n",
    "    plt.plot(time[count], viscous_forces_x, 'ro')\n",
    "    plt.plot(time[count], viscous_forces_y, 'bo')\n",
    "    plt.axis([-0, 8, -4, 4])\n",
    "    plt.draw()\n",
    "    \n",
    "    plt.figure(6)\n",
    "    plt.plot(time[count], net_viscous_forces_x, 'ro')\n",
    "    plt.plot(time[count], net_viscous_forces_y, 'bo')\n",
    "    plt.axis([0, 12, -6, 6])\n",
    "    plt.draw()\n",
    "    \n",
    "    plt.figure(4)\n",
    "    sc = 25\n",
    "    plt.axis([-2, 2, -2, 2])\n",
    "    plt.draw()\n",
    "    plt.pause(0.01)\n",
    "    \n",
    "    count += 1"
   ]
  },
  {
   "cell_type": "markdown",
   "id": "9c1b2f0a-7410-4e15-9846-a2f76f620b6e",
   "metadata": {},
   "source": [
    "As seen from the net force graph, the net force is zero when the link is at its initial position."
   ]
  }
 ],
 "metadata": {
  "kernelspec": {
   "display_name": "Python 3 (ipykernel)",
   "language": "python",
   "name": "python3"
  },
  "language_info": {
   "codemirror_mode": {
    "name": "ipython",
    "version": 3
   },
   "file_extension": ".py",
   "mimetype": "text/x-python",
   "name": "python",
   "nbconvert_exporter": "python",
   "pygments_lexer": "ipython3",
   "version": "3.11.5"
  }
 },
 "nbformat": 4,
 "nbformat_minor": 5
}
