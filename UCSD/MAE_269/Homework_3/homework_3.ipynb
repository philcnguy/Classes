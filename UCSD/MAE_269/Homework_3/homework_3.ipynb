{
 "cells": [
  {
   "cell_type": "markdown",
   "id": "87e1a7e3-cb59-4ffb-a3a8-b4766d40919d",
   "metadata": {
    "tags": []
   },
   "source": [
    "# Question 2"
   ]
  },
  {
   "cell_type": "code",
   "execution_count": 1,
   "id": "d9c18408-c7c1-4b82-9569-40555172644b",
   "metadata": {},
   "outputs": [],
   "source": [
    "import numpy as np\n",
    "\n",
    "import sympy\n",
    "from sympy import simplify, Function\n",
    "from sympy import sin, cos, asin, acos, pi, Abs\n",
    "from sympy import symbols, pprint\n",
    "from sympy import Matrix, diff\n",
    "from sympy import solve\n",
    "from sympy import solveset\n",
    "from sympy import Eq\n",
    "from sympy import det"
   ]
  },
  {
   "cell_type": "markdown",
   "id": "bba7a949-3005-44d4-9130-4a45a8f9813c",
   "metadata": {},
   "source": [
    "## Question 2.1"
   ]
  },
  {
   "cell_type": "code",
   "execution_count": 2,
   "id": "c849b5c4-5845-4be5-99b1-cd2c0c3d7eb7",
   "metadata": {},
   "outputs": [],
   "source": [
    "(t,\n",
    " omega_x, \n",
    " omega_y,\n",
    " omega_z) = symbols(\"\"\"t,\n",
    "                    omega_x, \n",
    "                    omega_y,\n",
    "                    omega_z\"\"\" , real = True)"
   ]
  },
  {
   "cell_type": "code",
   "execution_count": 3,
   "id": "920c2df9-cd1d-4219-9389-e9c708ae9224",
   "metadata": {
    "tags": []
   },
   "outputs": [],
   "source": [
    "omega_x = Function('omega_x', real=True)(t)\n",
    "omega_y = Function('omega_y', real=True)(t)\n",
    "omega_z = Function('omega_z', real=True)(t)"
   ]
  },
  {
   "cell_type": "code",
   "execution_count": 4,
   "id": "c7f335fc-ce0c-4ebb-bbaa-d9c997a9a6ee",
   "metadata": {},
   "outputs": [],
   "source": [
    "omega_B = Matrix([[omega_x, omega_y, omega_z]]).T"
   ]
  },
  {
   "cell_type": "code",
   "execution_count": 5,
   "id": "1b8775ad-71d0-40e3-8bef-198ef7c92ba9",
   "metadata": {},
   "outputs": [
    {
     "data": {
      "text/latex": [
       "$\\displaystyle \\left[\\begin{matrix}\\omega_{x}{\\left(t \\right)}\\\\\\omega_{y}{\\left(t \\right)}\\\\\\omega_{z}{\\left(t \\right)}\\end{matrix}\\right]$"
      ],
      "text/plain": [
       "Matrix([\n",
       "[omega_x(t)],\n",
       "[omega_y(t)],\n",
       "[omega_z(t)]])"
      ]
     },
     "execution_count": 5,
     "metadata": {},
     "output_type": "execute_result"
    }
   ],
   "source": [
    "omega_B"
   ]
  },
  {
   "cell_type": "code",
   "execution_count": 6,
   "id": "2fde47a6-2b73-426a-a77f-46a628ccbd19",
   "metadata": {},
   "outputs": [],
   "source": [
    "omega_B_skew = Matrix([[0, -omega_B[2], omega_B[1]],\n",
    "                      [omega_B[2], 0, -omega_B[0]],\n",
    "                      [-omega_B[1], omega_B[0], 0]])"
   ]
  },
  {
   "cell_type": "code",
   "execution_count": 7,
   "id": "95a08930-e2a1-48a8-b360-2e0b10b1e7df",
   "metadata": {},
   "outputs": [
    {
     "data": {
      "text/latex": [
       "$\\displaystyle \\left[\\begin{matrix}0 & - \\omega_{z}{\\left(t \\right)} & \\omega_{y}{\\left(t \\right)}\\\\\\omega_{z}{\\left(t \\right)} & 0 & - \\omega_{x}{\\left(t \\right)}\\\\- \\omega_{y}{\\left(t \\right)} & \\omega_{x}{\\left(t \\right)} & 0\\end{matrix}\\right]$"
      ],
      "text/plain": [
       "Matrix([\n",
       "[          0, -omega_z(t),  omega_y(t)],\n",
       "[ omega_z(t),           0, -omega_x(t)],\n",
       "[-omega_y(t),  omega_x(t),           0]])"
      ]
     },
     "execution_count": 7,
     "metadata": {},
     "output_type": "execute_result"
    }
   ],
   "source": [
    "omega_B_skew"
   ]
  },
  {
   "cell_type": "code",
   "execution_count": 8,
   "id": "4fc52381-a6ff-4b78-ac72-4779122a5948",
   "metadata": {},
   "outputs": [],
   "source": [
    "(lambda_x, \n",
    " lambda_y,\n",
    " lambda_z) = symbols(\"\"\"lambda_x, \n",
    "                    lambda_y,\n",
    "                    lambda_z\"\"\" , real = True)"
   ]
  },
  {
   "cell_type": "markdown",
   "id": "7f4ca06f-23cc-4aaf-a5fd-07fc4b006a1f",
   "metadata": {},
   "source": [
    "## Question 2.2"
   ]
  },
  {
   "cell_type": "code",
   "execution_count": 9,
   "id": "75ca8fc2-80f2-4ff1-8405-b5dbf1a23290",
   "metadata": {},
   "outputs": [],
   "source": [
    "I_B = Matrix([[lambda_x, 0, 0],\n",
    "             [0, lambda_y, 0],\n",
    "             [0, 0, lambda_z]])"
   ]
  },
  {
   "cell_type": "code",
   "execution_count": 10,
   "id": "39bda6d8-ce7b-4620-b7e7-63a524f871cb",
   "metadata": {},
   "outputs": [
    {
     "data": {
      "text/latex": [
       "$\\displaystyle \\left[\\begin{matrix}\\lambda_{x} & 0 & 0\\\\0 & \\lambda_{y} & 0\\\\0 & 0 & \\lambda_{z}\\end{matrix}\\right]$"
      ],
      "text/plain": [
       "Matrix([\n",
       "[lambda_x,        0,        0],\n",
       "[       0, lambda_y,        0],\n",
       "[       0,        0, lambda_z]])"
      ]
     },
     "execution_count": 10,
     "metadata": {},
     "output_type": "execute_result"
    }
   ],
   "source": [
    "I_B"
   ]
  },
  {
   "cell_type": "markdown",
   "id": "e01931b4-db92-4456-89c6-4bc0e9ffcb15",
   "metadata": {
    "tags": []
   },
   "source": [
    "## Question 2.3"
   ]
  },
  {
   "cell_type": "code",
   "execution_count": 11,
   "id": "75f94bd5-8a72-4e9f-9090-c39448904ad1",
   "metadata": {},
   "outputs": [],
   "source": [
    "omega_B_dot = simplify(-I_B.inv() @ (omega_B_skew @ I_B @ omega_B))"
   ]
  },
  {
   "cell_type": "code",
   "execution_count": 12,
   "id": "de6b2506-3ca3-44c0-b92b-6f5c2ca09449",
   "metadata": {},
   "outputs": [
    {
     "data": {
      "text/latex": [
       "$\\displaystyle \\left[\\begin{matrix}\\frac{\\left(\\lambda_{y} - \\lambda_{z}\\right) \\omega_{y}{\\left(t \\right)} \\omega_{z}{\\left(t \\right)}}{\\lambda_{x}}\\\\\\frac{\\left(- \\lambda_{x} + \\lambda_{z}\\right) \\omega_{x}{\\left(t \\right)} \\omega_{z}{\\left(t \\right)}}{\\lambda_{y}}\\\\\\frac{\\left(\\lambda_{x} - \\lambda_{y}\\right) \\omega_{x}{\\left(t \\right)} \\omega_{y}{\\left(t \\right)}}{\\lambda_{z}}\\end{matrix}\\right]$"
      ],
      "text/plain": [
       "Matrix([\n",
       "[ (lambda_y - lambda_z)*omega_y(t)*omega_z(t)/lambda_x],\n",
       "[(-lambda_x + lambda_z)*omega_x(t)*omega_z(t)/lambda_y],\n",
       "[ (lambda_x - lambda_y)*omega_x(t)*omega_y(t)/lambda_z]])"
      ]
     },
     "execution_count": 12,
     "metadata": {},
     "output_type": "execute_result"
    }
   ],
   "source": [
    "omega_B_dot"
   ]
  },
  {
   "cell_type": "markdown",
   "id": "2f41a65f-8c39-4340-a585-9bc4aa3f4347",
   "metadata": {
    "tags": []
   },
   "source": [
    "## Question 2.4"
   ]
  },
  {
   "cell_type": "code",
   "execution_count": 13,
   "id": "ebff9b31-0895-43cf-b88e-f4922dad0e5f",
   "metadata": {},
   "outputs": [
    {
     "data": {
      "text/latex": [
       "$\\displaystyle \\left[\\begin{matrix}0\\\\0\\\\0\\end{matrix}\\right]$"
      ],
      "text/plain": [
       "Matrix([\n",
       "[0],\n",
       "[0],\n",
       "[0]])"
      ]
     },
     "execution_count": 13,
     "metadata": {},
     "output_type": "execute_result"
    }
   ],
   "source": [
    "omega_B_dot.subs([(omega_x, 1), (omega_y, 0), (omega_z, 0)])"
   ]
  },
  {
   "cell_type": "code",
   "execution_count": 14,
   "id": "e38a6a75-f2d1-4c44-bfa3-dd0b6bf1bf5e",
   "metadata": {},
   "outputs": [
    {
     "data": {
      "text/latex": [
       "$\\displaystyle \\left[\\begin{matrix}0\\\\0\\\\0\\end{matrix}\\right]$"
      ],
      "text/plain": [
       "Matrix([\n",
       "[0],\n",
       "[0],\n",
       "[0]])"
      ]
     },
     "execution_count": 14,
     "metadata": {},
     "output_type": "execute_result"
    }
   ],
   "source": [
    "omega_B_dot.subs([(omega_x, 0), (omega_y, 1), (omega_z, 0)])"
   ]
  },
  {
   "cell_type": "code",
   "execution_count": 15,
   "id": "6b7124f8-30b1-438b-9a95-85cdc56872b2",
   "metadata": {},
   "outputs": [
    {
     "data": {
      "text/latex": [
       "$\\displaystyle \\left[\\begin{matrix}0\\\\0\\\\0\\end{matrix}\\right]$"
      ],
      "text/plain": [
       "Matrix([\n",
       "[0],\n",
       "[0],\n",
       "[0]])"
      ]
     },
     "execution_count": 15,
     "metadata": {},
     "output_type": "execute_result"
    }
   ],
   "source": [
    "omega_B_dot.subs([(omega_x, 0), (omega_y, 0), (omega_z, 1)])"
   ]
  },
  {
   "cell_type": "markdown",
   "id": "2ee30e95-b88a-4975-b61e-df79f1f3f0c0",
   "metadata": {},
   "source": [
    "## Question 2.5"
   ]
  },
  {
   "cell_type": "code",
   "execution_count": 16,
   "id": "dd00a0ed-67af-474d-9656-0580047884a8",
   "metadata": {},
   "outputs": [
    {
     "data": {
      "text/latex": [
       "$\\displaystyle \\left[\\begin{matrix}0 & \\frac{\\left(\\lambda_{y} - \\lambda_{z}\\right) \\omega_{z}{\\left(t \\right)}}{\\lambda_{x}} & \\frac{\\left(\\lambda_{y} - \\lambda_{z}\\right) \\omega_{y}{\\left(t \\right)}}{\\lambda_{x}}\\\\\\frac{\\left(- \\lambda_{x} + \\lambda_{z}\\right) \\omega_{z}{\\left(t \\right)}}{\\lambda_{y}} & 0 & \\frac{\\left(- \\lambda_{x} + \\lambda_{z}\\right) \\omega_{x}{\\left(t \\right)}}{\\lambda_{y}}\\\\\\frac{\\left(\\lambda_{x} - \\lambda_{y}\\right) \\omega_{y}{\\left(t \\right)}}{\\lambda_{z}} & \\frac{\\left(\\lambda_{x} - \\lambda_{y}\\right) \\omega_{x}{\\left(t \\right)}}{\\lambda_{z}} & 0\\end{matrix}\\right]$"
      ],
      "text/plain": [
       "Matrix([\n",
       "[                                         0, (lambda_y - lambda_z)*omega_z(t)/lambda_x,  (lambda_y - lambda_z)*omega_y(t)/lambda_x],\n",
       "[(-lambda_x + lambda_z)*omega_z(t)/lambda_y,                                         0, (-lambda_x + lambda_z)*omega_x(t)/lambda_y],\n",
       "[ (lambda_x - lambda_y)*omega_y(t)/lambda_z, (lambda_x - lambda_y)*omega_x(t)/lambda_z,                                          0]])"
      ]
     },
     "execution_count": 16,
     "metadata": {},
     "output_type": "execute_result"
    }
   ],
   "source": [
    "omega_B_dot.jacobian(omega_B)"
   ]
  },
  {
   "cell_type": "code",
   "execution_count": 17,
   "id": "27dd6014-1874-4027-9675-0d319f22d47b",
   "metadata": {},
   "outputs": [],
   "source": [
    "A_1 = omega_B_dot.jacobian(omega_B).subs([(omega_x, 1), (omega_y, 0), (omega_z, 0)])\n",
    "A_2 = omega_B_dot.jacobian(omega_B).subs([(omega_x, 0), (omega_y, 1), (omega_z, 0)])\n",
    "A_3 = omega_B_dot.jacobian(omega_B).subs([(omega_x, 0), (omega_y, 0), (omega_z, 1)])"
   ]
  },
  {
   "cell_type": "code",
   "execution_count": 18,
   "id": "991c3508-14ba-4fe2-ad2c-eefa0357a579",
   "metadata": {},
   "outputs": [
    {
     "data": {
      "text/latex": [
       "$\\displaystyle \\left[\\begin{matrix}0 & 0 & 0\\\\0 & 0 & \\frac{- \\lambda_{x} + \\lambda_{z}}{\\lambda_{y}}\\\\0 & \\frac{\\lambda_{x} - \\lambda_{y}}{\\lambda_{z}} & 0\\end{matrix}\\right]$"
      ],
      "text/plain": [
       "Matrix([\n",
       "[0,                              0,                               0],\n",
       "[0,                              0, (-lambda_x + lambda_z)/lambda_y],\n",
       "[0, (lambda_x - lambda_y)/lambda_z,                               0]])"
      ]
     },
     "execution_count": 18,
     "metadata": {},
     "output_type": "execute_result"
    }
   ],
   "source": [
    "A_1"
   ]
  },
  {
   "cell_type": "code",
   "execution_count": 19,
   "id": "4036ad52-e71e-4aa7-9342-7641bea31c77",
   "metadata": {},
   "outputs": [
    {
     "data": {
      "text/latex": [
       "$\\displaystyle \\left[\\begin{matrix}0 & 0 & \\frac{\\lambda_{y} - \\lambda_{z}}{\\lambda_{x}}\\\\0 & 0 & 0\\\\\\frac{\\lambda_{x} - \\lambda_{y}}{\\lambda_{z}} & 0 & 0\\end{matrix}\\right]$"
      ],
      "text/plain": [
       "Matrix([\n",
       "[                             0, 0, (lambda_y - lambda_z)/lambda_x],\n",
       "[                             0, 0,                              0],\n",
       "[(lambda_x - lambda_y)/lambda_z, 0,                              0]])"
      ]
     },
     "execution_count": 19,
     "metadata": {},
     "output_type": "execute_result"
    }
   ],
   "source": [
    "A_2"
   ]
  },
  {
   "cell_type": "code",
   "execution_count": 20,
   "id": "2d65ef62-ccca-4986-baec-a435cea4e82a",
   "metadata": {},
   "outputs": [
    {
     "data": {
      "text/latex": [
       "$\\displaystyle \\left[\\begin{matrix}0 & \\frac{\\lambda_{y} - \\lambda_{z}}{\\lambda_{x}} & 0\\\\\\frac{- \\lambda_{x} + \\lambda_{z}}{\\lambda_{y}} & 0 & 0\\\\0 & 0 & 0\\end{matrix}\\right]$"
      ],
      "text/plain": [
       "Matrix([\n",
       "[                              0, (lambda_y - lambda_z)/lambda_x, 0],\n",
       "[(-lambda_x + lambda_z)/lambda_y,                              0, 0],\n",
       "[                              0,                              0, 0]])"
      ]
     },
     "execution_count": 20,
     "metadata": {},
     "output_type": "execute_result"
    }
   ],
   "source": [
    "A_3"
   ]
  },
  {
   "cell_type": "markdown",
   "id": "7923688a-5aa9-4555-8f98-5bd41f7845dd",
   "metadata": {},
   "source": [
    "## Question 2.6"
   ]
  },
  {
   "cell_type": "code",
   "execution_count": 21,
   "id": "6d0f7283-00d0-49aa-babd-3c7b2f35e0f5",
   "metadata": {},
   "outputs": [],
   "source": [
    "A_1_eigen = simplify(A_1.eigenvals())\n",
    "A_2_eigen = simplify(A_2.eigenvals())\n",
    "A_3_eigen = simplify(A_3.eigenvals())"
   ]
  },
  {
   "cell_type": "code",
   "execution_count": 22,
   "id": "5db18344-05df-43e0-8781-a9e77ea86f1a",
   "metadata": {},
   "outputs": [
    {
     "data": {
      "text/latex": [
       "$\\displaystyle \\left\\{ 0 : 1, \\  - \\sqrt{- \\frac{\\left(\\lambda_{x} - \\lambda_{y}\\right) \\left(\\lambda_{x} - \\lambda_{z}\\right)}{\\lambda_{y} \\lambda_{z}}} : 1, \\  \\sqrt{- \\frac{\\left(\\lambda_{x} - \\lambda_{y}\\right) \\left(\\lambda_{x} - \\lambda_{z}\\right)}{\\lambda_{y} \\lambda_{z}}} : 1\\right\\}$"
      ],
      "text/plain": [
       "{0: 1, -sqrt(-(lambda_x - lambda_y)*(lambda_x - lambda_z)/(lambda_y*lambda_z)): 1, sqrt(-(lambda_x - lambda_y)*(lambda_x - lambda_z)/(lambda_y*lambda_z)): 1}"
      ]
     },
     "execution_count": 22,
     "metadata": {},
     "output_type": "execute_result"
    }
   ],
   "source": [
    "A_1_eigen"
   ]
  },
  {
   "cell_type": "code",
   "execution_count": 23,
   "id": "b2b0dbe9-6b32-440b-b2d4-0ef0e512a3f6",
   "metadata": {},
   "outputs": [
    {
     "data": {
      "text/latex": [
       "$\\displaystyle \\left\\{ 0 : 1, \\  - \\sqrt{\\frac{\\left(\\lambda_{x} - \\lambda_{y}\\right) \\left(\\lambda_{y} - \\lambda_{z}\\right)}{\\lambda_{x} \\lambda_{z}}} : 1, \\  \\sqrt{\\frac{\\left(\\lambda_{x} - \\lambda_{y}\\right) \\left(\\lambda_{y} - \\lambda_{z}\\right)}{\\lambda_{x} \\lambda_{z}}} : 1\\right\\}$"
      ],
      "text/plain": [
       "{0: 1, -sqrt((lambda_x - lambda_y)*(lambda_y - lambda_z)/(lambda_x*lambda_z)): 1, sqrt((lambda_x - lambda_y)*(lambda_y - lambda_z)/(lambda_x*lambda_z)): 1}"
      ]
     },
     "execution_count": 23,
     "metadata": {},
     "output_type": "execute_result"
    }
   ],
   "source": [
    "A_2_eigen"
   ]
  },
  {
   "cell_type": "code",
   "execution_count": 24,
   "id": "5b6d6aa0-b62e-48a7-8342-ed5b6deb88ae",
   "metadata": {},
   "outputs": [
    {
     "data": {
      "text/latex": [
       "$\\displaystyle \\left\\{ 0 : 1, \\  - \\sqrt{- \\frac{\\left(\\lambda_{x} - \\lambda_{z}\\right) \\left(\\lambda_{y} - \\lambda_{z}\\right)}{\\lambda_{x} \\lambda_{y}}} : 1, \\  \\sqrt{- \\frac{\\left(\\lambda_{x} - \\lambda_{z}\\right) \\left(\\lambda_{y} - \\lambda_{z}\\right)}{\\lambda_{x} \\lambda_{y}}} : 1\\right\\}$"
      ],
      "text/plain": [
       "{0: 1, -sqrt(-(lambda_x - lambda_z)*(lambda_y - lambda_z)/(lambda_x*lambda_y)): 1, sqrt(-(lambda_x - lambda_z)*(lambda_y - lambda_z)/(lambda_x*lambda_y)): 1}"
      ]
     },
     "execution_count": 24,
     "metadata": {},
     "output_type": "execute_result"
    }
   ],
   "source": [
    "A_3_eigen"
   ]
  },
  {
   "cell_type": "markdown",
   "id": "7d93159d-e254-4d7a-b816-ca21c9a55a53",
   "metadata": {},
   "source": [
    "## Question 2.7"
   ]
  },
  {
   "cell_type": "markdown",
   "id": "090b58a0-3825-4f85-a9f4-2a6afe19dbfc",
   "metadata": {},
   "source": [
    "Assign dummy variables to $\\lambda_x$, $\\lambda_y$, $\\lambda_z$, where $\\lambda_x >\\lambda_y > \\lambda_z$. Let $\\lambda_x = 3$, $\\lambda_y = 2$, $\\lambda_z = 1$."
   ]
  },
  {
   "cell_type": "code",
   "execution_count": 25,
   "id": "f85cf820-23e5-4704-b7c3-1a05f3f18ea4",
   "metadata": {},
   "outputs": [
    {
     "data": {
      "text/latex": [
       "$\\displaystyle \\left\\{ 0 : 1, \\  - i : 1, \\  i : 1\\right\\}$"
      ],
      "text/plain": [
       "{0: 1, -I: 1, I: 1}"
      ]
     },
     "execution_count": 25,
     "metadata": {},
     "output_type": "execute_result"
    }
   ],
   "source": [
    "A_1_eigen.subs([(lambda_x, 3), (lambda_y, 2), (lambda_z, 1)])"
   ]
  },
  {
   "cell_type": "code",
   "execution_count": 26,
   "id": "b7eb6a97-d10a-4247-a39a-85b72c16e89d",
   "metadata": {},
   "outputs": [
    {
     "data": {
      "text/latex": [
       "$\\displaystyle \\left\\{ 0 : 1, \\  - \\frac{\\sqrt{3}}{3} : 1, \\  \\frac{\\sqrt{3}}{3} : 1\\right\\}$"
      ],
      "text/plain": [
       "{0: 1, -sqrt(3)/3: 1, sqrt(3)/3: 1}"
      ]
     },
     "execution_count": 26,
     "metadata": {},
     "output_type": "execute_result"
    }
   ],
   "source": [
    "A_2_eigen.subs([(lambda_x, 3), (lambda_y, 2), (lambda_z, 1)])"
   ]
  },
  {
   "cell_type": "code",
   "execution_count": 27,
   "id": "64d0bb42-3de9-4f06-8bbf-9ae32799f977",
   "metadata": {},
   "outputs": [
    {
     "data": {
      "text/latex": [
       "$\\displaystyle \\left\\{ 0 : 1, \\  - \\frac{\\sqrt{3} i}{3} : 1, \\  \\frac{\\sqrt{3} i}{3} : 1\\right\\}$"
      ],
      "text/plain": [
       "{0: 1, -sqrt(3)*I/3: 1, sqrt(3)*I/3: 1}"
      ]
     },
     "execution_count": 27,
     "metadata": {},
     "output_type": "execute_result"
    }
   ],
   "source": [
    "A_3_eigen.subs([(lambda_x, 3), (lambda_y, 2), (lambda_z, 1)])"
   ]
  },
  {
   "cell_type": "markdown",
   "id": "83a23b06-f286-428f-bf69-e32916e8e11e",
   "metadata": {},
   "source": [
    "Since the eigenvalues of $A_1$ & $A_3$ are of the form $\\pm i\\omega$, then the fixed points around the x and z are centers. Since the eigenvalues of $A_2$ are of the form $\\pm \\omega$, then the fixed point around the y is a hyperbolic fixed point."
   ]
  },
  {
   "cell_type": "markdown",
   "id": "878d05b1-aff6-4163-906c-deb2ded75c98",
   "metadata": {},
   "source": [
    "## Question 3.1"
   ]
  },
  {
   "cell_type": "code",
   "execution_count": 28,
   "id": "b4c40cb9-4c21-4e11-92b7-a3e40fd2863c",
   "metadata": {},
   "outputs": [],
   "source": [
    "(t,\n",
    " v, \n",
    " theta) = symbols(\"\"\"t,\n",
    "                    v, \n",
    "                    theta\"\"\" , real = True)"
   ]
  },
  {
   "cell_type": "code",
   "execution_count": 29,
   "id": "e1abce14-b674-47dc-b815-0adeb496e2c2",
   "metadata": {},
   "outputs": [],
   "source": [
    "v = Function('v', real=True)(t)\n",
    "theta = Function('theta', real=True)(t)\n",
    "\n",
    "state = Matrix([v, theta])"
   ]
  },
  {
   "cell_type": "code",
   "execution_count": 30,
   "id": "28b79f2b-3942-4d92-95cd-3211b3d4ccde",
   "metadata": {},
   "outputs": [],
   "source": [
    "(u, \n",
    " R) = symbols(\"\"\"u, \n",
    "                 R\"\"\" , real = True)"
   ]
  },
  {
   "cell_type": "code",
   "execution_count": 31,
   "id": "d131c69a-733c-47d7-974a-daa088f3a661",
   "metadata": {},
   "outputs": [],
   "source": [
    "v_dot = -sin(theta) - R*v**2 + u\n",
    "theta_dot = (v**2 - cos(theta))/v\n",
    "\n",
    "state_dot = Matrix([v_dot, theta_dot])"
   ]
  },
  {
   "cell_type": "code",
   "execution_count": 32,
   "id": "2ae2183a-4fd1-4832-a0f6-f9df35ef998b",
   "metadata": {},
   "outputs": [
    {
     "data": {
      "text/latex": [
       "$\\displaystyle - R v^{2}{\\left(t \\right)} + u - \\sin{\\left(\\theta{\\left(t \\right)} \\right)}$"
      ],
      "text/plain": [
       "-R*v(t)**2 + u - sin(theta(t))"
      ]
     },
     "execution_count": 32,
     "metadata": {},
     "output_type": "execute_result"
    }
   ],
   "source": [
    "v_dot"
   ]
  },
  {
   "cell_type": "code",
   "execution_count": 33,
   "id": "94935723-6779-4122-9ae5-663df8bcbc15",
   "metadata": {},
   "outputs": [
    {
     "data": {
      "text/latex": [
       "$\\displaystyle \\frac{v^{2}{\\left(t \\right)} - \\cos{\\left(\\theta{\\left(t \\right)} \\right)}}{v{\\left(t \\right)}}$"
      ],
      "text/plain": [
       "(v(t)**2 - cos(theta(t)))/v(t)"
      ]
     },
     "execution_count": 33,
     "metadata": {},
     "output_type": "execute_result"
    }
   ],
   "source": [
    "theta_dot"
   ]
  },
  {
   "cell_type": "code",
   "execution_count": 34,
   "id": "1bfd92a2-19de-4d44-96d0-e5a676f41e0d",
   "metadata": {},
   "outputs": [],
   "source": [
    "fixed_points = solve([v_dot,theta_dot], (v, theta))"
   ]
  },
  {
   "cell_type": "code",
   "execution_count": 35,
   "id": "251f0517-5ae5-45d4-9a5b-8c2cfd3afbd1",
   "metadata": {},
   "outputs": [
    {
     "data": {
      "text/latex": [
       "$\\displaystyle \\left( - \\sqrt{\\cos{\\left(2 \\operatorname{atan}{\\left(\\frac{\\sqrt{R^{2} - u^{2} + 1} - 1}{R + u} \\right)} \\right)}}, \\  - 2 \\operatorname{atan}{\\left(\\frac{\\sqrt{R^{2} - u^{2} + 1} - 1}{R + u} \\right)}\\right)$"
      ],
      "text/plain": [
       "(-sqrt(cos(2*atan((sqrt(R**2 - u**2 + 1) - 1)/(R + u)))), -2*atan((sqrt(R**2 - u**2 + 1) - 1)/(R + u)))"
      ]
     },
     "execution_count": 35,
     "metadata": {},
     "output_type": "execute_result"
    }
   ],
   "source": [
    "simplify(fixed_points[0])"
   ]
  },
  {
   "cell_type": "code",
   "execution_count": 36,
   "id": "384ee187-45f6-4649-b66a-cd1b4ed72a8c",
   "metadata": {},
   "outputs": [
    {
     "data": {
      "text/latex": [
       "$\\displaystyle \\left( \\sqrt{\\cos{\\left(2 \\operatorname{atan}{\\left(\\frac{\\sqrt{R^{2} - u^{2} + 1} - 1}{R + u} \\right)} \\right)}}, \\  - 2 \\operatorname{atan}{\\left(\\frac{\\sqrt{R^{2} - u^{2} + 1} - 1}{R + u} \\right)}\\right)$"
      ],
      "text/plain": [
       "(sqrt(cos(2*atan((sqrt(R**2 - u**2 + 1) - 1)/(R + u)))), -2*atan((sqrt(R**2 - u**2 + 1) - 1)/(R + u)))"
      ]
     },
     "execution_count": 36,
     "metadata": {},
     "output_type": "execute_result"
    }
   ],
   "source": [
    "simplify(fixed_points[1])"
   ]
  },
  {
   "cell_type": "code",
   "execution_count": 37,
   "id": "4f24e28b-5190-429f-8b7a-91d74571181c",
   "metadata": {},
   "outputs": [
    {
     "data": {
      "text/latex": [
       "$\\displaystyle \\left( - \\sqrt{\\cos{\\left(2 \\operatorname{atan}{\\left(\\frac{\\sqrt{R^{2} - u^{2} + 1} + 1}{R + u} \\right)} \\right)}}, \\  2 \\operatorname{atan}{\\left(\\frac{\\sqrt{R^{2} - u^{2} + 1} + 1}{R + u} \\right)}\\right)$"
      ],
      "text/plain": [
       "(-sqrt(cos(2*atan((sqrt(R**2 - u**2 + 1) + 1)/(R + u)))), 2*atan((sqrt(R**2 - u**2 + 1) + 1)/(R + u)))"
      ]
     },
     "execution_count": 37,
     "metadata": {},
     "output_type": "execute_result"
    }
   ],
   "source": [
    "simplify(fixed_points[2])"
   ]
  },
  {
   "cell_type": "code",
   "execution_count": 38,
   "id": "5b209934-47ed-458b-b49d-99f2f85a21e2",
   "metadata": {},
   "outputs": [
    {
     "data": {
      "text/latex": [
       "$\\displaystyle \\left( \\sqrt{\\cos{\\left(2 \\operatorname{atan}{\\left(\\frac{\\sqrt{R^{2} - u^{2} + 1} + 1}{R + u} \\right)} \\right)}}, \\  2 \\operatorname{atan}{\\left(\\frac{\\sqrt{R^{2} - u^{2} + 1} + 1}{R + u} \\right)}\\right)$"
      ],
      "text/plain": [
       "(sqrt(cos(2*atan((sqrt(R**2 - u**2 + 1) + 1)/(R + u)))), 2*atan((sqrt(R**2 - u**2 + 1) + 1)/(R + u)))"
      ]
     },
     "execution_count": 38,
     "metadata": {},
     "output_type": "execute_result"
    }
   ],
   "source": [
    "simplify(fixed_points[3])"
   ]
  },
  {
   "cell_type": "code",
   "execution_count": 39,
   "id": "33bffa73-0890-4563-9b39-3732625f96ba",
   "metadata": {},
   "outputs": [],
   "source": [
    "Jacobian = state_dot.jacobian(state)"
   ]
  },
  {
   "cell_type": "code",
   "execution_count": 40,
   "id": "23d1677a-51fd-44e8-88e2-860b46b3d4c0",
   "metadata": {},
   "outputs": [
    {
     "data": {
      "text/latex": [
       "$\\displaystyle \\left[\\begin{matrix}- 2 R v{\\left(t \\right)} & - \\cos{\\left(\\theta{\\left(t \\right)} \\right)}\\\\- \\frac{v^{2}{\\left(t \\right)} - \\cos{\\left(\\theta{\\left(t \\right)} \\right)}}{v^{2}{\\left(t \\right)}} + 2 & \\frac{\\sin{\\left(\\theta{\\left(t \\right)} \\right)}}{v{\\left(t \\right)}}\\end{matrix}\\right]$"
      ],
      "text/plain": [
       "Matrix([\n",
       "[                             -2*R*v(t),     -cos(theta(t))],\n",
       "[-(v(t)**2 - cos(theta(t)))/v(t)**2 + 2, sin(theta(t))/v(t)]])"
      ]
     },
     "execution_count": 40,
     "metadata": {},
     "output_type": "execute_result"
    }
   ],
   "source": [
    "Jacobian"
   ]
  },
  {
   "cell_type": "code",
   "execution_count": 41,
   "id": "395e6fe8-adff-48e4-81c1-026433fa9aba",
   "metadata": {
    "tags": []
   },
   "outputs": [],
   "source": [
    "B_1 = simplify(Jacobian.subs([(v, fixed_points[0][0]), (theta, fixed_points[0][1])]))\n",
    "B_2 = simplify(Jacobian.subs([(v, fixed_points[1][0]), (theta, fixed_points[1][1])]))\n",
    "B_3 = simplify(Jacobian.subs([(v, fixed_points[2][0]), (theta, fixed_points[2][1])]))\n",
    "B_4 = simplify(Jacobian.subs([(v, fixed_points[3][0]), (theta, fixed_points[3][1])]))"
   ]
  },
  {
   "cell_type": "code",
   "execution_count": 42,
   "id": "d4177a64-349f-4266-b8d3-837ad1823dc3",
   "metadata": {},
   "outputs": [
    {
     "data": {
      "text/latex": [
       "$\\displaystyle \\left[\\begin{matrix}2 R \\sqrt{\\frac{R u + u^{2} + \\sqrt{R^{2} - u^{2} + 1} - 1}{R^{2} + R u - \\sqrt{R^{2} - u^{2} + 1} + 1}} & - \\cos{\\left(2 \\operatorname{atan}{\\left(\\frac{\\sqrt{R^{2} - u^{2} + 1} - 1}{R + u} \\right)} \\right)}\\\\2 & \\frac{\\sin{\\left(2 \\operatorname{atan}{\\left(\\frac{\\sqrt{R^{2} - u^{2} + 1} - 1}{R + u} \\right)} \\right)}}{\\sqrt{\\cos{\\left(2 \\operatorname{atan}{\\left(\\frac{\\sqrt{R^{2} - u^{2} + 1} - 1}{R + u} \\right)} \\right)}}}\\end{matrix}\\right]$"
      ],
      "text/plain": [
       "Matrix([\n",
       "[2*R*sqrt((R*u + u**2 + sqrt(R**2 - u**2 + 1) - 1)/(R**2 + R*u - sqrt(R**2 - u**2 + 1) + 1)),                                                       -cos(2*atan((sqrt(R**2 - u**2 + 1) - 1)/(R + u)))],\n",
       "[                                                                                          2, sin(2*atan((sqrt(R**2 - u**2 + 1) - 1)/(R + u)))/sqrt(cos(2*atan((sqrt(R**2 - u**2 + 1) - 1)/(R + u))))]])"
      ]
     },
     "execution_count": 42,
     "metadata": {},
     "output_type": "execute_result"
    }
   ],
   "source": [
    "B_1"
   ]
  },
  {
   "cell_type": "code",
   "execution_count": 43,
   "id": "cbe3ab70-5771-4bac-bc6d-b9059d2a858d",
   "metadata": {},
   "outputs": [
    {
     "data": {
      "text/latex": [
       "$\\displaystyle \\left[\\begin{matrix}- 2 R \\sqrt{\\frac{R u + u^{2} + \\sqrt{R^{2} - u^{2} + 1} - 1}{R^{2} + R u - \\sqrt{R^{2} - u^{2} + 1} + 1}} & - \\cos{\\left(2 \\operatorname{atan}{\\left(\\frac{\\sqrt{R^{2} - u^{2} + 1} - 1}{R + u} \\right)} \\right)}\\\\2 & - \\frac{\\sin{\\left(2 \\operatorname{atan}{\\left(\\frac{\\sqrt{R^{2} - u^{2} + 1} - 1}{R + u} \\right)} \\right)}}{\\sqrt{\\cos{\\left(2 \\operatorname{atan}{\\left(\\frac{\\sqrt{R^{2} - u^{2} + 1} - 1}{R + u} \\right)} \\right)}}}\\end{matrix}\\right]$"
      ],
      "text/plain": [
       "Matrix([\n",
       "[-2*R*sqrt((R*u + u**2 + sqrt(R**2 - u**2 + 1) - 1)/(R**2 + R*u - sqrt(R**2 - u**2 + 1) + 1)),                                                        -cos(2*atan((sqrt(R**2 - u**2 + 1) - 1)/(R + u)))],\n",
       "[                                                                                           2, -sin(2*atan((sqrt(R**2 - u**2 + 1) - 1)/(R + u)))/sqrt(cos(2*atan((sqrt(R**2 - u**2 + 1) - 1)/(R + u))))]])"
      ]
     },
     "execution_count": 43,
     "metadata": {},
     "output_type": "execute_result"
    }
   ],
   "source": [
    "B_2"
   ]
  },
  {
   "cell_type": "code",
   "execution_count": 44,
   "id": "e70a9900-6b8b-4b54-9280-4ced2e6c9a06",
   "metadata": {},
   "outputs": [
    {
     "data": {
      "text/latex": [
       "$\\displaystyle \\left[\\begin{matrix}2 R \\sqrt{\\frac{R u + u^{2} - \\sqrt{R^{2} - u^{2} + 1} - 1}{R^{2} + R u + \\sqrt{R^{2} - u^{2} + 1} + 1}} & - \\cos{\\left(2 \\operatorname{atan}{\\left(\\frac{\\sqrt{R^{2} - u^{2} + 1} + 1}{R + u} \\right)} \\right)}\\\\2 & - \\frac{\\sin{\\left(2 \\operatorname{atan}{\\left(\\frac{\\sqrt{R^{2} - u^{2} + 1} + 1}{R + u} \\right)} \\right)}}{\\sqrt{\\cos{\\left(2 \\operatorname{atan}{\\left(\\frac{\\sqrt{R^{2} - u^{2} + 1} + 1}{R + u} \\right)} \\right)}}}\\end{matrix}\\right]$"
      ],
      "text/plain": [
       "Matrix([\n",
       "[2*R*sqrt((R*u + u**2 - sqrt(R**2 - u**2 + 1) - 1)/(R**2 + R*u + sqrt(R**2 - u**2 + 1) + 1)),                                                        -cos(2*atan((sqrt(R**2 - u**2 + 1) + 1)/(R + u)))],\n",
       "[                                                                                          2, -sin(2*atan((sqrt(R**2 - u**2 + 1) + 1)/(R + u)))/sqrt(cos(2*atan((sqrt(R**2 - u**2 + 1) + 1)/(R + u))))]])"
      ]
     },
     "execution_count": 44,
     "metadata": {},
     "output_type": "execute_result"
    }
   ],
   "source": [
    "B_3"
   ]
  },
  {
   "cell_type": "code",
   "execution_count": 45,
   "id": "52eb319c-e14a-4390-808c-99c962b94e81",
   "metadata": {},
   "outputs": [
    {
     "data": {
      "text/latex": [
       "$\\displaystyle \\left[\\begin{matrix}- 2 R \\sqrt{\\frac{R u + u^{2} - \\sqrt{R^{2} - u^{2} + 1} - 1}{R^{2} + R u + \\sqrt{R^{2} - u^{2} + 1} + 1}} & - \\cos{\\left(2 \\operatorname{atan}{\\left(\\frac{\\sqrt{R^{2} - u^{2} + 1} + 1}{R + u} \\right)} \\right)}\\\\2 & \\frac{\\sin{\\left(2 \\operatorname{atan}{\\left(\\frac{\\sqrt{R^{2} - u^{2} + 1} + 1}{R + u} \\right)} \\right)}}{\\sqrt{\\cos{\\left(2 \\operatorname{atan}{\\left(\\frac{\\sqrt{R^{2} - u^{2} + 1} + 1}{R + u} \\right)} \\right)}}}\\end{matrix}\\right]$"
      ],
      "text/plain": [
       "Matrix([\n",
       "[-2*R*sqrt((R*u + u**2 - sqrt(R**2 - u**2 + 1) - 1)/(R**2 + R*u + sqrt(R**2 - u**2 + 1) + 1)),                                                       -cos(2*atan((sqrt(R**2 - u**2 + 1) + 1)/(R + u)))],\n",
       "[                                                                                           2, sin(2*atan((sqrt(R**2 - u**2 + 1) + 1)/(R + u)))/sqrt(cos(2*atan((sqrt(R**2 - u**2 + 1) + 1)/(R + u))))]])"
      ]
     },
     "execution_count": 45,
     "metadata": {},
     "output_type": "execute_result"
    }
   ],
   "source": [
    "B_4"
   ]
  },
  {
   "cell_type": "code",
   "execution_count": 46,
   "id": "864bc611-4e2d-4bd2-9f51-130af5df9bc9",
   "metadata": {},
   "outputs": [],
   "source": [
    "B_1_eigen = simplify(B_1.eigenvals())\n",
    "B_2_eigen = simplify(B_2.eigenvals())\n",
    "B_3_eigen = simplify(B_3.eigenvals())\n",
    "B_4_eigen = simplify(B_4.eigenvals())"
   ]
  },
  {
   "cell_type": "code",
   "execution_count": 47,
   "id": "f392eaf1-7641-477a-8f7e-f26853b8a2f3",
   "metadata": {},
   "outputs": [
    {
     "data": {
      "text/latex": [
       "$\\displaystyle \\left\\{ - \\frac{\\sqrt{- 8 \\left(R u + u^{2} + \\sqrt{R^{2} - u^{2} + 1} - 1\\right) \\left(R^{2} \\sqrt{R^{2} - u^{2} + 1} - R^{2} + R u \\sqrt{R^{2} - u^{2} + 1} + u^{2} + \\sqrt{R^{2} - u^{2} + 1} - 1\\right) + \\left(2 R^{2} u + 2 R u^{2} + 3 R \\sqrt{R^{2} - u^{2} + 1} - 3 R + u \\sqrt{R^{2} - u^{2} + 1} - u\\right)^{2}}}{2 \\sqrt{\\frac{R u + u^{2} + \\sqrt{R^{2} - u^{2} + 1} - 1}{R^{2} + R u - \\sqrt{R^{2} - u^{2} + 1} + 1}} \\left(R^{2} + R u - \\sqrt{R^{2} - u^{2} + 1} + 1\\right)} + \\frac{2 R^{2} u + 2 R u^{2} + 3 R \\sqrt{R^{2} - u^{2} + 1} - 3 R + u \\sqrt{R^{2} - u^{2} + 1} - u}{2 \\sqrt{\\frac{R u + u^{2} + \\sqrt{R^{2} - u^{2} + 1} - 1}{R^{2} + R u - \\sqrt{R^{2} - u^{2} + 1} + 1}} \\left(R^{2} + R u - \\sqrt{R^{2} - u^{2} + 1} + 1\\right)} : 1, \\  \\frac{\\sqrt{- 8 \\left(R u + u^{2} + \\sqrt{R^{2} - u^{2} + 1} - 1\\right) \\left(R^{2} \\sqrt{R^{2} - u^{2} + 1} - R^{2} + R u \\sqrt{R^{2} - u^{2} + 1} + u^{2} + \\sqrt{R^{2} - u^{2} + 1} - 1\\right) + \\left(2 R^{2} u + 2 R u^{2} + 3 R \\sqrt{R^{2} - u^{2} + 1} - 3 R + u \\sqrt{R^{2} - u^{2} + 1} - u\\right)^{2}}}{2 \\sqrt{\\frac{R u + u^{2} + \\sqrt{R^{2} - u^{2} + 1} - 1}{R^{2} + R u - \\sqrt{R^{2} - u^{2} + 1} + 1}} \\left(R^{2} + R u - \\sqrt{R^{2} - u^{2} + 1} + 1\\right)} + \\frac{2 R^{2} u + 2 R u^{2} + 3 R \\sqrt{R^{2} - u^{2} + 1} - 3 R + u \\sqrt{R^{2} - u^{2} + 1} - u}{2 \\sqrt{\\frac{R u + u^{2} + \\sqrt{R^{2} - u^{2} + 1} - 1}{R^{2} + R u - \\sqrt{R^{2} - u^{2} + 1} + 1}} \\left(R^{2} + R u - \\sqrt{R^{2} - u^{2} + 1} + 1\\right)} : 1\\right\\}$"
      ],
      "text/plain": [
       "{-sqrt(-8*(R*u + u**2 + sqrt(R**2 - u**2 + 1) - 1)*(R**2*sqrt(R**2 - u**2 + 1) - R**2 + R*u*sqrt(R**2 - u**2 + 1) + u**2 + sqrt(R**2 - u**2 + 1) - 1) + (2*R**2*u + 2*R*u**2 + 3*R*sqrt(R**2 - u**2 + 1) - 3*R + u*sqrt(R**2 - u**2 + 1) - u)**2)/(2*sqrt((R*u + u**2 + sqrt(R**2 - u**2 + 1) - 1)/(R**2 + R*u - sqrt(R**2 - u**2 + 1) + 1))*(R**2 + R*u - sqrt(R**2 - u**2 + 1) + 1)) + (2*R**2*u + 2*R*u**2 + 3*R*sqrt(R**2 - u**2 + 1) - 3*R + u*sqrt(R**2 - u**2 + 1) - u)/(2*sqrt((R*u + u**2 + sqrt(R**2 - u**2 + 1) - 1)/(R**2 + R*u - sqrt(R**2 - u**2 + 1) + 1))*(R**2 + R*u - sqrt(R**2 - u**2 + 1) + 1)): 1, sqrt(-8*(R*u + u**2 + sqrt(R**2 - u**2 + 1) - 1)*(R**2*sqrt(R**2 - u**2 + 1) - R**2 + R*u*sqrt(R**2 - u**2 + 1) + u**2 + sqrt(R**2 - u**2 + 1) - 1) + (2*R**2*u + 2*R*u**2 + 3*R*sqrt(R**2 - u**2 + 1) - 3*R + u*sqrt(R**2 - u**2 + 1) - u)**2)/(2*sqrt((R*u + u**2 + sqrt(R**2 - u**2 + 1) - 1)/(R**2 + R*u - sqrt(R**2 - u**2 + 1) + 1))*(R**2 + R*u - sqrt(R**2 - u**2 + 1) + 1)) + (2*R**2*u + 2*R*u**2 + 3*R*sqrt(R**2 - u**2 + 1) - 3*R + u*sqrt(R**2 - u**2 + 1) - u)/(2*sqrt((R*u + u**2 + sqrt(R**2 - u**2 + 1) - 1)/(R**2 + R*u - sqrt(R**2 - u**2 + 1) + 1))*(R**2 + R*u - sqrt(R**2 - u**2 + 1) + 1)): 1}"
      ]
     },
     "execution_count": 47,
     "metadata": {},
     "output_type": "execute_result"
    }
   ],
   "source": [
    "B_1_eigen"
   ]
  },
  {
   "cell_type": "code",
   "execution_count": 48,
   "id": "78f6b2b7-cc7f-4539-aa2f-e1f2f9c2ca0c",
   "metadata": {},
   "outputs": [
    {
     "data": {
      "text/latex": [
       "$\\displaystyle \\left\\{ - \\frac{\\sqrt{- 8 \\left(R u + u^{2} + \\sqrt{R^{2} - u^{2} + 1} - 1\\right) \\left(R^{2} \\sqrt{R^{2} - u^{2} + 1} - R^{2} + R u \\sqrt{R^{2} - u^{2} + 1} + u^{2} + \\sqrt{R^{2} - u^{2} + 1} - 1\\right) + \\left(2 R^{2} u + 2 R u^{2} + 3 R \\sqrt{R^{2} - u^{2} + 1} - 3 R + u \\sqrt{R^{2} - u^{2} + 1} - u\\right)^{2}}}{2 \\sqrt{\\frac{R u + u^{2} + \\sqrt{R^{2} - u^{2} + 1} - 1}{R^{2} + R u - \\sqrt{R^{2} - u^{2} + 1} + 1}} \\left(R^{2} + R u - \\sqrt{R^{2} - u^{2} + 1} + 1\\right)} + \\frac{- 2 R^{2} u - 2 R u^{2} - 3 R \\sqrt{R^{2} - u^{2} + 1} + 3 R - u \\sqrt{R^{2} - u^{2} + 1} + u}{2 \\sqrt{\\frac{R u + u^{2} + \\sqrt{R^{2} - u^{2} + 1} - 1}{R^{2} + R u - \\sqrt{R^{2} - u^{2} + 1} + 1}} \\left(R^{2} + R u - \\sqrt{R^{2} - u^{2} + 1} + 1\\right)} : 1, \\  \\frac{\\sqrt{- 8 \\left(R u + u^{2} + \\sqrt{R^{2} - u^{2} + 1} - 1\\right) \\left(R^{2} \\sqrt{R^{2} - u^{2} + 1} - R^{2} + R u \\sqrt{R^{2} - u^{2} + 1} + u^{2} + \\sqrt{R^{2} - u^{2} + 1} - 1\\right) + \\left(2 R^{2} u + 2 R u^{2} + 3 R \\sqrt{R^{2} - u^{2} + 1} - 3 R + u \\sqrt{R^{2} - u^{2} + 1} - u\\right)^{2}}}{2 \\sqrt{\\frac{R u + u^{2} + \\sqrt{R^{2} - u^{2} + 1} - 1}{R^{2} + R u - \\sqrt{R^{2} - u^{2} + 1} + 1}} \\left(R^{2} + R u - \\sqrt{R^{2} - u^{2} + 1} + 1\\right)} + \\frac{- 2 R^{2} u - 2 R u^{2} - 3 R \\sqrt{R^{2} - u^{2} + 1} + 3 R - u \\sqrt{R^{2} - u^{2} + 1} + u}{2 \\sqrt{\\frac{R u + u^{2} + \\sqrt{R^{2} - u^{2} + 1} - 1}{R^{2} + R u - \\sqrt{R^{2} - u^{2} + 1} + 1}} \\left(R^{2} + R u - \\sqrt{R^{2} - u^{2} + 1} + 1\\right)} : 1\\right\\}$"
      ],
      "text/plain": [
       "{-sqrt(-8*(R*u + u**2 + sqrt(R**2 - u**2 + 1) - 1)*(R**2*sqrt(R**2 - u**2 + 1) - R**2 + R*u*sqrt(R**2 - u**2 + 1) + u**2 + sqrt(R**2 - u**2 + 1) - 1) + (2*R**2*u + 2*R*u**2 + 3*R*sqrt(R**2 - u**2 + 1) - 3*R + u*sqrt(R**2 - u**2 + 1) - u)**2)/(2*sqrt((R*u + u**2 + sqrt(R**2 - u**2 + 1) - 1)/(R**2 + R*u - sqrt(R**2 - u**2 + 1) + 1))*(R**2 + R*u - sqrt(R**2 - u**2 + 1) + 1)) + (-2*R**2*u - 2*R*u**2 - 3*R*sqrt(R**2 - u**2 + 1) + 3*R - u*sqrt(R**2 - u**2 + 1) + u)/(2*sqrt((R*u + u**2 + sqrt(R**2 - u**2 + 1) - 1)/(R**2 + R*u - sqrt(R**2 - u**2 + 1) + 1))*(R**2 + R*u - sqrt(R**2 - u**2 + 1) + 1)): 1, sqrt(-8*(R*u + u**2 + sqrt(R**2 - u**2 + 1) - 1)*(R**2*sqrt(R**2 - u**2 + 1) - R**2 + R*u*sqrt(R**2 - u**2 + 1) + u**2 + sqrt(R**2 - u**2 + 1) - 1) + (2*R**2*u + 2*R*u**2 + 3*R*sqrt(R**2 - u**2 + 1) - 3*R + u*sqrt(R**2 - u**2 + 1) - u)**2)/(2*sqrt((R*u + u**2 + sqrt(R**2 - u**2 + 1) - 1)/(R**2 + R*u - sqrt(R**2 - u**2 + 1) + 1))*(R**2 + R*u - sqrt(R**2 - u**2 + 1) + 1)) + (-2*R**2*u - 2*R*u**2 - 3*R*sqrt(R**2 - u**2 + 1) + 3*R - u*sqrt(R**2 - u**2 + 1) + u)/(2*sqrt((R*u + u**2 + sqrt(R**2 - u**2 + 1) - 1)/(R**2 + R*u - sqrt(R**2 - u**2 + 1) + 1))*(R**2 + R*u - sqrt(R**2 - u**2 + 1) + 1)): 1}"
      ]
     },
     "execution_count": 48,
     "metadata": {},
     "output_type": "execute_result"
    }
   ],
   "source": [
    "B_2_eigen"
   ]
  },
  {
   "cell_type": "code",
   "execution_count": 49,
   "id": "26e0f952-4c7c-416a-a1e7-e6f89c2baea6",
   "metadata": {},
   "outputs": [
    {
     "data": {
      "text/latex": [
       "$\\displaystyle \\left\\{ - \\frac{\\sqrt{8 \\left(R u + u^{2} - \\sqrt{R^{2} - u^{2} + 1} - 1\\right) \\left(R^{2} \\sqrt{R^{2} - u^{2} + 1} + R^{2} + R u \\sqrt{R^{2} - u^{2} + 1} - u^{2} + \\sqrt{R^{2} - u^{2} + 1} + 1\\right) + \\left(- 2 R^{2} u - 2 R u^{2} + 3 R \\sqrt{R^{2} - u^{2} + 1} + 3 R + u \\sqrt{R^{2} - u^{2} + 1} + u\\right)^{2}}}{2 \\sqrt{\\frac{R u + u^{2} - \\sqrt{R^{2} - u^{2} + 1} - 1}{R^{2} + R u + \\sqrt{R^{2} - u^{2} + 1} + 1}} \\left(R^{2} + R u + \\sqrt{R^{2} - u^{2} + 1} + 1\\right)} + \\frac{2 R^{2} u + 2 R u^{2} - 3 R \\sqrt{R^{2} - u^{2} + 1} - 3 R - u \\sqrt{R^{2} - u^{2} + 1} - u}{2 \\sqrt{\\frac{R u + u^{2} - \\sqrt{R^{2} - u^{2} + 1} - 1}{R^{2} + R u + \\sqrt{R^{2} - u^{2} + 1} + 1}} \\left(R^{2} + R u + \\sqrt{R^{2} - u^{2} + 1} + 1\\right)} : 1, \\  \\frac{\\sqrt{8 \\left(R u + u^{2} - \\sqrt{R^{2} - u^{2} + 1} - 1\\right) \\left(R^{2} \\sqrt{R^{2} - u^{2} + 1} + R^{2} + R u \\sqrt{R^{2} - u^{2} + 1} - u^{2} + \\sqrt{R^{2} - u^{2} + 1} + 1\\right) + \\left(- 2 R^{2} u - 2 R u^{2} + 3 R \\sqrt{R^{2} - u^{2} + 1} + 3 R + u \\sqrt{R^{2} - u^{2} + 1} + u\\right)^{2}}}{2 \\sqrt{\\frac{R u + u^{2} - \\sqrt{R^{2} - u^{2} + 1} - 1}{R^{2} + R u + \\sqrt{R^{2} - u^{2} + 1} + 1}} \\left(R^{2} + R u + \\sqrt{R^{2} - u^{2} + 1} + 1\\right)} + \\frac{2 R^{2} u + 2 R u^{2} - 3 R \\sqrt{R^{2} - u^{2} + 1} - 3 R - u \\sqrt{R^{2} - u^{2} + 1} - u}{2 \\sqrt{\\frac{R u + u^{2} - \\sqrt{R^{2} - u^{2} + 1} - 1}{R^{2} + R u + \\sqrt{R^{2} - u^{2} + 1} + 1}} \\left(R^{2} + R u + \\sqrt{R^{2} - u^{2} + 1} + 1\\right)} : 1\\right\\}$"
      ],
      "text/plain": [
       "{-sqrt(8*(R*u + u**2 - sqrt(R**2 - u**2 + 1) - 1)*(R**2*sqrt(R**2 - u**2 + 1) + R**2 + R*u*sqrt(R**2 - u**2 + 1) - u**2 + sqrt(R**2 - u**2 + 1) + 1) + (-2*R**2*u - 2*R*u**2 + 3*R*sqrt(R**2 - u**2 + 1) + 3*R + u*sqrt(R**2 - u**2 + 1) + u)**2)/(2*sqrt((R*u + u**2 - sqrt(R**2 - u**2 + 1) - 1)/(R**2 + R*u + sqrt(R**2 - u**2 + 1) + 1))*(R**2 + R*u + sqrt(R**2 - u**2 + 1) + 1)) + (2*R**2*u + 2*R*u**2 - 3*R*sqrt(R**2 - u**2 + 1) - 3*R - u*sqrt(R**2 - u**2 + 1) - u)/(2*sqrt((R*u + u**2 - sqrt(R**2 - u**2 + 1) - 1)/(R**2 + R*u + sqrt(R**2 - u**2 + 1) + 1))*(R**2 + R*u + sqrt(R**2 - u**2 + 1) + 1)): 1, sqrt(8*(R*u + u**2 - sqrt(R**2 - u**2 + 1) - 1)*(R**2*sqrt(R**2 - u**2 + 1) + R**2 + R*u*sqrt(R**2 - u**2 + 1) - u**2 + sqrt(R**2 - u**2 + 1) + 1) + (-2*R**2*u - 2*R*u**2 + 3*R*sqrt(R**2 - u**2 + 1) + 3*R + u*sqrt(R**2 - u**2 + 1) + u)**2)/(2*sqrt((R*u + u**2 - sqrt(R**2 - u**2 + 1) - 1)/(R**2 + R*u + sqrt(R**2 - u**2 + 1) + 1))*(R**2 + R*u + sqrt(R**2 - u**2 + 1) + 1)) + (2*R**2*u + 2*R*u**2 - 3*R*sqrt(R**2 - u**2 + 1) - 3*R - u*sqrt(R**2 - u**2 + 1) - u)/(2*sqrt((R*u + u**2 - sqrt(R**2 - u**2 + 1) - 1)/(R**2 + R*u + sqrt(R**2 - u**2 + 1) + 1))*(R**2 + R*u + sqrt(R**2 - u**2 + 1) + 1)): 1}"
      ]
     },
     "execution_count": 49,
     "metadata": {},
     "output_type": "execute_result"
    }
   ],
   "source": [
    "B_3_eigen"
   ]
  },
  {
   "cell_type": "code",
   "execution_count": 50,
   "id": "acee0c74-9acd-42e4-bb62-3ad0a9c1c5ba",
   "metadata": {},
   "outputs": [
    {
     "data": {
      "text/latex": [
       "$\\displaystyle \\left\\{ - \\frac{\\sqrt{8 \\left(R u + u^{2} - \\sqrt{R^{2} - u^{2} + 1} - 1\\right) \\left(R^{2} \\sqrt{R^{2} - u^{2} + 1} + R^{2} + R u \\sqrt{R^{2} - u^{2} + 1} - u^{2} + \\sqrt{R^{2} - u^{2} + 1} + 1\\right) + \\left(- 2 R^{2} u - 2 R u^{2} + 3 R \\sqrt{R^{2} - u^{2} + 1} + 3 R + u \\sqrt{R^{2} - u^{2} + 1} + u\\right)^{2}}}{2 \\sqrt{\\frac{R u + u^{2} - \\sqrt{R^{2} - u^{2} + 1} - 1}{R^{2} + R u + \\sqrt{R^{2} - u^{2} + 1} + 1}} \\left(R^{2} + R u + \\sqrt{R^{2} - u^{2} + 1} + 1\\right)} + \\frac{- 2 R^{2} u - 2 R u^{2} + 3 R \\sqrt{R^{2} - u^{2} + 1} + 3 R + u \\sqrt{R^{2} - u^{2} + 1} + u}{2 \\sqrt{\\frac{R u + u^{2} - \\sqrt{R^{2} - u^{2} + 1} - 1}{R^{2} + R u + \\sqrt{R^{2} - u^{2} + 1} + 1}} \\left(R^{2} + R u + \\sqrt{R^{2} - u^{2} + 1} + 1\\right)} : 1, \\  \\frac{\\sqrt{8 \\left(R u + u^{2} - \\sqrt{R^{2} - u^{2} + 1} - 1\\right) \\left(R^{2} \\sqrt{R^{2} - u^{2} + 1} + R^{2} + R u \\sqrt{R^{2} - u^{2} + 1} - u^{2} + \\sqrt{R^{2} - u^{2} + 1} + 1\\right) + \\left(- 2 R^{2} u - 2 R u^{2} + 3 R \\sqrt{R^{2} - u^{2} + 1} + 3 R + u \\sqrt{R^{2} - u^{2} + 1} + u\\right)^{2}}}{2 \\sqrt{\\frac{R u + u^{2} - \\sqrt{R^{2} - u^{2} + 1} - 1}{R^{2} + R u + \\sqrt{R^{2} - u^{2} + 1} + 1}} \\left(R^{2} + R u + \\sqrt{R^{2} - u^{2} + 1} + 1\\right)} + \\frac{- 2 R^{2} u - 2 R u^{2} + 3 R \\sqrt{R^{2} - u^{2} + 1} + 3 R + u \\sqrt{R^{2} - u^{2} + 1} + u}{2 \\sqrt{\\frac{R u + u^{2} - \\sqrt{R^{2} - u^{2} + 1} - 1}{R^{2} + R u + \\sqrt{R^{2} - u^{2} + 1} + 1}} \\left(R^{2} + R u + \\sqrt{R^{2} - u^{2} + 1} + 1\\right)} : 1\\right\\}$"
      ],
      "text/plain": [
       "{-sqrt(8*(R*u + u**2 - sqrt(R**2 - u**2 + 1) - 1)*(R**2*sqrt(R**2 - u**2 + 1) + R**2 + R*u*sqrt(R**2 - u**2 + 1) - u**2 + sqrt(R**2 - u**2 + 1) + 1) + (-2*R**2*u - 2*R*u**2 + 3*R*sqrt(R**2 - u**2 + 1) + 3*R + u*sqrt(R**2 - u**2 + 1) + u)**2)/(2*sqrt((R*u + u**2 - sqrt(R**2 - u**2 + 1) - 1)/(R**2 + R*u + sqrt(R**2 - u**2 + 1) + 1))*(R**2 + R*u + sqrt(R**2 - u**2 + 1) + 1)) + (-2*R**2*u - 2*R*u**2 + 3*R*sqrt(R**2 - u**2 + 1) + 3*R + u*sqrt(R**2 - u**2 + 1) + u)/(2*sqrt((R*u + u**2 - sqrt(R**2 - u**2 + 1) - 1)/(R**2 + R*u + sqrt(R**2 - u**2 + 1) + 1))*(R**2 + R*u + sqrt(R**2 - u**2 + 1) + 1)): 1, sqrt(8*(R*u + u**2 - sqrt(R**2 - u**2 + 1) - 1)*(R**2*sqrt(R**2 - u**2 + 1) + R**2 + R*u*sqrt(R**2 - u**2 + 1) - u**2 + sqrt(R**2 - u**2 + 1) + 1) + (-2*R**2*u - 2*R*u**2 + 3*R*sqrt(R**2 - u**2 + 1) + 3*R + u*sqrt(R**2 - u**2 + 1) + u)**2)/(2*sqrt((R*u + u**2 - sqrt(R**2 - u**2 + 1) - 1)/(R**2 + R*u + sqrt(R**2 - u**2 + 1) + 1))*(R**2 + R*u + sqrt(R**2 - u**2 + 1) + 1)) + (-2*R**2*u - 2*R*u**2 + 3*R*sqrt(R**2 - u**2 + 1) + 3*R + u*sqrt(R**2 - u**2 + 1) + u)/(2*sqrt((R*u + u**2 - sqrt(R**2 - u**2 + 1) - 1)/(R**2 + R*u + sqrt(R**2 - u**2 + 1) + 1))*(R**2 + R*u + sqrt(R**2 - u**2 + 1) + 1)): 1}"
      ]
     },
     "execution_count": 50,
     "metadata": {},
     "output_type": "execute_result"
    }
   ],
   "source": [
    "B_4_eigen"
   ]
  },
  {
   "cell_type": "code",
   "execution_count": 51,
   "id": "7f54c334-fb06-400a-8326-42e0f723f0ff",
   "metadata": {},
   "outputs": [],
   "source": [
    "stability_1 = solveset(Eq(0, det(Jacobian.subs({v: fixed_points[0][0], theta: fixed_points[0][1]}))), R)\n",
    "stability_2 = solveset(Eq(0, det(Jacobian.subs({v: fixed_points[1][0], theta: fixed_points[1][1]}))), R)\n",
    "stability_3 = solveset(Eq(0, det(Jacobian.subs({v: fixed_points[2][0], theta: fixed_points[2][1]}))), R)\n",
    "stability_4 = solveset(Eq(0, det(Jacobian.subs({v: fixed_points[3][0], theta: fixed_points[3][1]}))), R)"
   ]
  },
  {
   "cell_type": "code",
   "execution_count": 52,
   "id": "209a2e83-dba4-4332-b270-f010c48e5f32",
   "metadata": {},
   "outputs": [
    {
     "data": {
      "text/latex": [
       "$\\displaystyle \\left\\{R\\; \\middle|\\; R \\in \\mathbb{C} \\wedge - 2 R \\sin{\\left(2 \\operatorname{atan}{\\left(\\frac{\\sqrt{R^{2} - u^{2} + 1}}{R + u} - \\frac{1}{R + u} \\right)} \\right)} - 2 \\cos{\\left(2 \\operatorname{atan}{\\left(\\frac{\\sqrt{R^{2} - u^{2} + 1}}{R + u} - \\frac{1}{R + u} \\right)} \\right)} = 0 \\right\\}$"
      ],
      "text/plain": [
       "ConditionSet(R, Eq(-2*R*sin(2*atan(sqrt(R**2 - u**2 + 1)/(R + u) - 1/(R + u))) - 2*cos(2*atan(sqrt(R**2 - u**2 + 1)/(R + u) - 1/(R + u))), 0), Complexes)"
      ]
     },
     "execution_count": 52,
     "metadata": {},
     "output_type": "execute_result"
    }
   ],
   "source": [
    "stability_1"
   ]
  },
  {
   "cell_type": "code",
   "execution_count": 53,
   "id": "4978a511-fea0-4ed8-beec-92538d0765cb",
   "metadata": {},
   "outputs": [
    {
     "data": {
      "text/latex": [
       "$\\displaystyle \\left\\{R\\; \\middle|\\; R \\in \\mathbb{C} \\wedge - 2 R \\sin{\\left(2 \\operatorname{atan}{\\left(\\frac{\\sqrt{R^{2} - u^{2} + 1}}{R + u} - \\frac{1}{R + u} \\right)} \\right)} - 2 \\cos{\\left(2 \\operatorname{atan}{\\left(\\frac{\\sqrt{R^{2} - u^{2} + 1}}{R + u} - \\frac{1}{R + u} \\right)} \\right)} = 0 \\right\\}$"
      ],
      "text/plain": [
       "ConditionSet(R, Eq(-2*R*sin(2*atan(sqrt(R**2 - u**2 + 1)/(R + u) - 1/(R + u))) - 2*cos(2*atan(sqrt(R**2 - u**2 + 1)/(R + u) - 1/(R + u))), 0), Complexes)"
      ]
     },
     "execution_count": 53,
     "metadata": {},
     "output_type": "execute_result"
    }
   ],
   "source": [
    "stability_2"
   ]
  },
  {
   "cell_type": "code",
   "execution_count": 54,
   "id": "4e559770-0a3b-4b60-b137-1d1834256e7e",
   "metadata": {},
   "outputs": [
    {
     "data": {
      "text/latex": [
       "$\\displaystyle \\left\\{R\\; \\middle|\\; R \\in \\mathbb{C} \\wedge 2 R \\sin{\\left(2 \\operatorname{atan}{\\left(\\frac{\\sqrt{R^{2} - u^{2} + 1}}{R + u} + \\frac{1}{R + u} \\right)} \\right)} - 2 \\cos{\\left(2 \\operatorname{atan}{\\left(\\frac{\\sqrt{R^{2} - u^{2} + 1}}{R + u} + \\frac{1}{R + u} \\right)} \\right)} = 0 \\right\\}$"
      ],
      "text/plain": [
       "ConditionSet(R, Eq(2*R*sin(2*atan(sqrt(R**2 - u**2 + 1)/(R + u) + 1/(R + u))) - 2*cos(2*atan(sqrt(R**2 - u**2 + 1)/(R + u) + 1/(R + u))), 0), Complexes)"
      ]
     },
     "execution_count": 54,
     "metadata": {},
     "output_type": "execute_result"
    }
   ],
   "source": [
    "stability_3"
   ]
  },
  {
   "cell_type": "code",
   "execution_count": 55,
   "id": "9b61ea8e-886c-4675-841c-cb5d6ee862c6",
   "metadata": {},
   "outputs": [
    {
     "data": {
      "text/latex": [
       "$\\displaystyle \\left\\{R\\; \\middle|\\; R \\in \\mathbb{C} \\wedge 2 R \\sin{\\left(2 \\operatorname{atan}{\\left(\\frac{\\sqrt{R^{2} - u^{2} + 1}}{R + u} + \\frac{1}{R + u} \\right)} \\right)} - 2 \\cos{\\left(2 \\operatorname{atan}{\\left(\\frac{\\sqrt{R^{2} - u^{2} + 1}}{R + u} + \\frac{1}{R + u} \\right)} \\right)} = 0 \\right\\}$"
      ],
      "text/plain": [
       "ConditionSet(R, Eq(2*R*sin(2*atan(sqrt(R**2 - u**2 + 1)/(R + u) + 1/(R + u))) - 2*cos(2*atan(sqrt(R**2 - u**2 + 1)/(R + u) + 1/(R + u))), 0), Complexes)"
      ]
     },
     "execution_count": 55,
     "metadata": {},
     "output_type": "execute_result"
    }
   ],
   "source": [
    "stability_4"
   ]
  }
 ],
 "metadata": {
  "kernelspec": {
   "display_name": "Python 3 (ipykernel)",
   "language": "python",
   "name": "python3"
  },
  "language_info": {
   "codemirror_mode": {
    "name": "ipython",
    "version": 3
   },
   "file_extension": ".py",
   "mimetype": "text/x-python",
   "name": "python",
   "nbconvert_exporter": "python",
   "pygments_lexer": "ipython3",
   "version": "3.11.5"
  }
 },
 "nbformat": 4,
 "nbformat_minor": 5
}
